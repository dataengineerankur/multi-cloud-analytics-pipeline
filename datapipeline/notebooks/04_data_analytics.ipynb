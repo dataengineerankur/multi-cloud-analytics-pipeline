{
 "cells": [
  {
   "cell_type": "code",
   "execution_count": 0,
   "metadata": {
    "application/vnd.databricks.v1+cell": {
     "cellMetadata": {
      "byteLimit": 2048000,
      "rowLimit": 10000
     },
     "inputWidgets": {},
     "nuid": "38d469af-5bbe-41be-86d0-aa378ffd232b",
     "showTitle": false,
     "tableResultSettingsMap": {},
     "title": ""
    }
   },
   "outputs": [
    {
     "output_type": "stream",
     "name": "stderr",
     "output_type": "stream",
     "text": [
      "INFO:__main__:Spark session initialized with Delta Lake and AWS S3 support\n"
     ]
    }
   ],
   "source": [
    "from pyspark.sql import SparkSession\n",
    "from pyspark.sql.functions import *\n",
    "from pyspark.sql.types import *\n",
    "import logging\n",
    "from datetime import datetime\n",
    "\n",
    "# Build the Spark Session using AWS Keys from Databricks Secrets\n",
    "spark = SparkSession.builder \\\n",
    "    .appName(\"PsychoBunny-DataIngestion\") \\\n",
    "    .config(\"spark.sql.extensions\", \"io.delta.sql.DeltaSparkSessionExtension\") \\\n",
    "    .config(\"spark.sql.catalog.spark_catalog\", \"org.apache.spark.sql.delta.catalog.DeltaCatalog\") \\\n",
    "    .config(\"spark.hadoop.fs.s3a.access.key\", dbutils.secrets.get(scope=\"aws-keys\", key=\"aws-access-key\")) \\\n",
    "    .config(\"spark.hadoop.fs.s3a.secret.key\", dbutils.secrets.get(scope=\"aws-keys\", key=\"aws-secret-key\")) \\\n",
    "    .config(\"spark.hadoop.fs.s3a.impl\", \"org.apache.hadoop.fs.s3a.S3AFileSystem\") \\\n",
    "    .config(\"spark.hadoop.fs.s3a.aws.credentials.provider\", \"org.apache.hadoop.fs.s3a.SimpleAWSCredentialsProvider\") \\\n",
    "    .getOrCreate()\n",
    "\n",
    "# Configure logging\n",
    "logging.basicConfig(level=logging.INFO)\n",
    "logger = logging.getLogger(__name__)\n",
    "\n",
    "logger.info(\"Spark session initialized with Delta Lake and AWS S3 support\")\n"
   ]
  },
  {
   "cell_type": "code",
   "execution_count": 0,
   "metadata": {
    "application/vnd.databricks.v1+cell": {
     "cellMetadata": {
      "byteLimit": 2048000,
      "rowLimit": 10000
     },
     "inputWidgets": {},
     "nuid": "e4745480-cfc7-4f88-9b87-594785788a42",
     "showTitle": false,
     "tableResultSettingsMap": {},
     "title": ""
    }
   },
   "outputs": [],
   "source": [
    "access = dbutils.secrets.get(\"aws-keys\", key=\"aws-access-key\")\n",
    "secret = dbutils.secrets.get(\"aws-keys\", key=\"aws-secret-key\")\n",
    "\n",
    "spark.conf.set(\"fs.s3a.access.key\", access)\n",
    "spark.conf.set(\"fs.s3a.secret.key\", secret)\n",
    "spark.conf.set(\"fs.s3a.impl\",\"org.apache.hadoop.fs.s3a.S3AFileSystem\")    "
   ]
  },
  {
   "cell_type": "code",
   "execution_count": 0,
   "metadata": {
    "application/vnd.databricks.v1+cell": {
     "cellMetadata": {
      "byteLimit": 2048000,
      "rowLimit": 10000
     },
     "inputWidgets": {},
     "nuid": "d20f298a-b65f-4d66-856e-3a5c9261ba90",
     "showTitle": false,
     "tableResultSettingsMap": {},
     "title": ""
    }
   },
   "outputs": [
    {
     "output_type": "stream",
     "name": "stderr",
     "output_type": "stream",
     "text": [
      "INFO:__main__:Analytics Requirements notebook initialized\nINFO:py4j.clientserver:Received command c on object id p0\nINFO:py4j.clientserver:Received command c on object id p0\nINFO:py4j.clientserver:Received command c on object id p0\nINFO:py4j.clientserver:Received command c on object id p0\nINFO:__main__:Loaded data: 2823 transactions, 2000 customers\n"
     ]
    }
   ],
   "source": [
    "# Data paths\n",
    "RAW_DATA_PATH = \"s3://psycho-bunny-data-lake/raw-data/\"\n",
    "PROCESSED_DATA_PATH = \"s3://psycho-bunny-data-lake/processed-data/\"\n",
    "\n",
    "logger.info(\"Analytics Requirements notebook initialized\")\n",
    "\n",
    "# Load processed data from Delta Lake\n",
    "try:\n",
    "    fact_transactions = spark.read.format(\"delta\").load(f\"{PROCESSED_DATA_PATH}fact_transactions\")\n",
    "    dim_customer = spark.read.format(\"delta\").load(f\"{PROCESSED_DATA_PATH}dim_customer\")\n",
    "    dim_product = spark.read.format(\"delta\").load(f\"{PROCESSED_DATA_PATH}dim_product\")\n",
    "    calendar_df = spark.read.format(\"delta\").load(f\"{RAW_DATA_PATH}calendar\")\n",
    "    \n",
    "    logger.info(f\"Loaded data: {fact_transactions.count()} transactions, {dim_customer.count()} customers\")\n",
    "    \n",
    "except Exception as e:\n",
    "    logger.error(f\"Error loading data: {str(e)}\")\n",
    "    raise\n"
   ]
  },
  {
   "cell_type": "code",
   "execution_count": 0,
   "metadata": {
    "application/vnd.databricks.v1+cell": {
     "cellMetadata": {
      "byteLimit": 2048000,
      "rowLimit": 10000
     },
     "inputWidgets": {},
     "nuid": "5b59097e-1b64-4744-a2cd-9b608fee8103",
     "showTitle": false,
     "tableResultSettingsMap": {},
     "title": ""
    }
   },
   "outputs": [
    {
     "output_type": "stream",
     "name": "stdout",
     "output_type": "stream",
     "text": [
      "WEEKLY SALES ANALYSIS\n========================================\n"
     ]
    },
    {
     "output_type": "stream",
     "name": "stderr",
     "output_type": "stream",
     "text": [
      "INFO:py4j.clientserver:Received command c on object id p0\nINFO:__main__:Weekly Sales Analytics: 110 records\nINFO:py4j.clientserver:Received command c on object id p0\nINFO:py4j.clientserver:Received command c on object id p0\n"
     ]
    },
    {
     "output_type": "display_data",
     "data": {
      "text/html": [
       "<style scoped>\n",
       "  .table-result-container {\n",
       "    max-height: 300px;\n",
       "    overflow: auto;\n",
       "  }\n",
       "  table, th, td {\n",
       "    border: 1px solid black;\n",
       "    border-collapse: collapse;\n",
       "  }\n",
       "  th, td {\n",
       "    padding: 5px;\n",
       "  }\n",
       "  th {\n",
       "    text-align: left;\n",
       "  }\n",
       "</style><div class='table-result-container'><table class='table-result'><thead style='background-color: white'><tr><th>year</th><th>week</th><th>total_sales</th><th>total_orders</th><th>avg_order_value</th><th>created_date</th></tr></thead><tbody><tr><td>2004</td><td>45</td><td>58004.0</td><td>62</td><td>935.5483870967741</td><td>2025-06-23T17:06:07.442042Z</td></tr><tr><td>2003</td><td>46</td><td>52174.0</td><td>48</td><td>1086.9583333333333</td><td>2025-06-23T17:06:07.442042Z</td></tr><tr><td>2004</td><td>42</td><td>48348.0</td><td>56</td><td>863.3571428571429</td><td>2025-06-23T17:06:07.442042Z</td></tr><tr><td>2004</td><td>30</td><td>35311.0</td><td>33</td><td>1070.030303030303</td><td>2025-06-23T17:06:07.442042Z</td></tr><tr><td>2003</td><td>45</td><td>33715.0</td><td>34</td><td>991.6176470588235</td><td>2025-06-23T17:06:07.442042Z</td></tr><tr><td>2003</td><td>43</td><td>33209.0</td><td>29</td><td>1145.1379310344828</td><td>2025-06-23T17:06:07.442042Z</td></tr><tr><td>2004</td><td>47</td><td>32605.0</td><td>40</td><td>815.125</td><td>2025-06-23T17:06:07.442042Z</td></tr><tr><td>2003</td><td>48</td><td>32421.0</td><td>28</td><td>1157.892857142857</td><td>2025-06-23T17:06:07.442042Z</td></tr><tr><td>2004</td><td>34</td><td>31049.0</td><td>29</td><td>1070.655172413793</td><td>2025-06-23T17:06:07.442042Z</td></tr><tr><td>2004</td><td>49</td><td>30375.0</td><td>31</td><td>979.8387096774194</td><td>2025-06-23T17:06:07.442042Z</td></tr><tr><td>2004</td><td>8</td><td>28858.0</td><td>28</td><td>1030.642857142857</td><td>2025-06-23T17:06:07.442042Z</td></tr><tr><td>2003</td><td>47</td><td>27481.0</td><td>31</td><td>886.483870967742</td><td>2025-06-23T17:06:07.442042Z</td></tr><tr><td>2004</td><td>50</td><td>26033.0</td><td>26</td><td>1001.2692307692307</td><td>2025-06-23T17:06:07.442042Z</td></tr><tr><td>2004</td><td>37</td><td>25400.0</td><td>22</td><td>1154.5454545454545</td><td>2025-06-23T17:06:07.442042Z</td></tr><tr><td>2004</td><td>3</td><td>24366.0</td><td>23</td><td>1059.391304347826</td><td>2025-06-23T17:06:07.442042Z</td></tr><tr><td>2005</td><td>9</td><td>24329.0</td><td>27</td><td>901.074074074074</td><td>2025-06-23T17:06:07.442042Z</td></tr><tr><td>2004</td><td>48</td><td>24233.0</td><td>29</td><td>835.6206896551724</td><td>2025-06-23T17:06:07.442042Z</td></tr><tr><td>2004</td><td>36</td><td>22028.0</td><td>23</td><td>957.7391304347826</td><td>2025-06-23T17:06:07.442042Z</td></tr><tr><td>2005</td><td>3</td><td>21423.0</td><td>19</td><td>1127.5263157894738</td><td>2025-06-23T17:06:07.442042Z</td></tr><tr><td>2004</td><td>43</td><td>20869.0</td><td>21</td><td>993.7619047619048</td><td>2025-06-23T17:06:07.442042Z</td></tr><tr><td>2005</td><td>7</td><td>20506.0</td><td>18</td><td>1139.2222222222222</td><td>2025-06-23T17:06:07.442042Z</td></tr><tr><td>2004</td><td>19</td><td>20454.0</td><td>22</td><td>929.7272727272727</td><td>2025-06-23T17:06:07.442042Z</td></tr><tr><td>2004</td><td>46</td><td>19552.0</td><td>18</td><td>1086.2222222222222</td><td>2025-06-23T17:06:07.442042Z</td></tr><tr><td>2005</td><td>13</td><td>19438.0</td><td>21</td><td>925.6190476190476</td><td>2025-06-23T17:06:07.442042Z</td></tr><tr><td>2004</td><td>25</td><td>19127.0</td><td>17</td><td>1125.1176470588234</td><td>2025-06-23T17:06:07.442042Z</td></tr><tr><td>2004</td><td>32</td><td>18445.0</td><td>18</td><td>1024.7222222222222</td><td>2025-06-23T17:06:07.442042Z</td></tr><tr><td>2005</td><td>5</td><td>18367.0</td><td>20</td><td>918.35</td><td>2025-06-23T17:06:07.442042Z</td></tr><tr><td>2005</td><td>18</td><td>17591.0</td><td>18</td><td>977.2777777777778</td><td>2025-06-23T17:06:07.442042Z</td></tr><tr><td>2003</td><td>41</td><td>17497.0</td><td>16</td><td>1093.5625</td><td>2025-06-23T17:06:07.442042Z</td></tr><tr><td>2003</td><td>27</td><td>17316.0</td><td>15</td><td>1154.4</td><td>2025-06-23T17:06:07.442042Z</td></tr></tbody></table></div>"
      ]
     },
     "metadata": {
      "application/vnd.databricks.v1+output": {
       "addedWidgets": {},
       "aggData": [],
       "aggError": "",
       "aggOverflow": false,
       "aggSchema": [],
       "aggSeriesLimitReached": false,
       "aggType": "",
       "arguments": {},
       "columnCustomDisplayInfos": {},
       "data": [
        [
         2004,
         45,
         58004.0,
         62,
         935.5483870967741,
         "2025-06-23T17:06:07.442042Z"
        ],
        [
         2003,
         46,
         52174.0,
         48,
         1086.9583333333333,
         "2025-06-23T17:06:07.442042Z"
        ],
        [
         2004,
         42,
         48348.0,
         56,
         863.3571428571429,
         "2025-06-23T17:06:07.442042Z"
        ],
        [
         2004,
         30,
         35311.0,
         33,
         1070.030303030303,
         "2025-06-23T17:06:07.442042Z"
        ],
        [
         2003,
         45,
         33715.0,
         34,
         991.6176470588235,
         "2025-06-23T17:06:07.442042Z"
        ],
        [
         2003,
         43,
         33209.0,
         29,
         1145.1379310344828,
         "2025-06-23T17:06:07.442042Z"
        ],
        [
         2004,
         47,
         32605.0,
         40,
         815.125,
         "2025-06-23T17:06:07.442042Z"
        ],
        [
         2003,
         48,
         32421.0,
         28,
         1157.892857142857,
         "2025-06-23T17:06:07.442042Z"
        ],
        [
         2004,
         34,
         31049.0,
         29,
         1070.655172413793,
         "2025-06-23T17:06:07.442042Z"
        ],
        [
         2004,
         49,
         30375.0,
         31,
         979.8387096774194,
         "2025-06-23T17:06:07.442042Z"
        ],
        [
         2004,
         8,
         28858.0,
         28,
         1030.642857142857,
         "2025-06-23T17:06:07.442042Z"
        ],
        [
         2003,
         47,
         27481.0,
         31,
         886.483870967742,
         "2025-06-23T17:06:07.442042Z"
        ],
        [
         2004,
         50,
         26033.0,
         26,
         1001.2692307692307,
         "2025-06-23T17:06:07.442042Z"
        ],
        [
         2004,
         37,
         25400.0,
         22,
         1154.5454545454545,
         "2025-06-23T17:06:07.442042Z"
        ],
        [
         2004,
         3,
         24366.0,
         23,
         1059.391304347826,
         "2025-06-23T17:06:07.442042Z"
        ],
        [
         2005,
         9,
         24329.0,
         27,
         901.074074074074,
         "2025-06-23T17:06:07.442042Z"
        ],
        [
         2004,
         48,
         24233.0,
         29,
         835.6206896551724,
         "2025-06-23T17:06:07.442042Z"
        ],
        [
         2004,
         36,
         22028.0,
         23,
         957.7391304347826,
         "2025-06-23T17:06:07.442042Z"
        ],
        [
         2005,
         3,
         21423.0,
         19,
         1127.5263157894738,
         "2025-06-23T17:06:07.442042Z"
        ],
        [
         2004,
         43,
         20869.0,
         21,
         993.7619047619048,
         "2025-06-23T17:06:07.442042Z"
        ],
        [
         2005,
         7,
         20506.0,
         18,
         1139.2222222222222,
         "2025-06-23T17:06:07.442042Z"
        ],
        [
         2004,
         19,
         20454.0,
         22,
         929.7272727272727,
         "2025-06-23T17:06:07.442042Z"
        ],
        [
         2004,
         46,
         19552.0,
         18,
         1086.2222222222222,
         "2025-06-23T17:06:07.442042Z"
        ],
        [
         2005,
         13,
         19438.0,
         21,
         925.6190476190476,
         "2025-06-23T17:06:07.442042Z"
        ],
        [
         2004,
         25,
         19127.0,
         17,
         1125.1176470588234,
         "2025-06-23T17:06:07.442042Z"
        ],
        [
         2004,
         32,
         18445.0,
         18,
         1024.7222222222222,
         "2025-06-23T17:06:07.442042Z"
        ],
        [
         2005,
         5,
         18367.0,
         20,
         918.35,
         "2025-06-23T17:06:07.442042Z"
        ],
        [
         2005,
         18,
         17591.0,
         18,
         977.2777777777778,
         "2025-06-23T17:06:07.442042Z"
        ],
        [
         2003,
         41,
         17497.0,
         16,
         1093.5625,
         "2025-06-23T17:06:07.442042Z"
        ],
        [
         2003,
         27,
         17316.0,
         15,
         1154.4,
         "2025-06-23T17:06:07.442042Z"
        ]
       ],
       "datasetInfos": [],
       "dbfsResultPath": null,
       "isJsonSchema": true,
       "metadata": {},
       "overflow": false,
       "plotOptions": {
        "customPlotOptions": {},
        "displayType": "table",
        "pivotAggregation": null,
        "pivotColumns": null,
        "xColumns": null,
        "yColumns": null
       },
       "removedWidgets": [],
       "schema": [
        {
         "metadata": "{}",
         "name": "year",
         "type": "\"integer\""
        },
        {
         "metadata": "{}",
         "name": "week",
         "type": "\"integer\""
        },
        {
         "metadata": "{}",
         "name": "total_sales",
         "type": "\"double\""
        },
        {
         "metadata": "{}",
         "name": "total_orders",
         "type": "\"long\""
        },
        {
         "metadata": "{}",
         "name": "avg_order_value",
         "type": "\"double\""
        },
        {
         "metadata": "{}",
         "name": "created_date",
         "type": "\"timestamp\""
        }
       ],
       "type": "table"
      }
     },
     "output_type": "display_data"
    },
    {
     "output_type": "stream",
     "name": "stdout",
     "output_type": "stream",
     "text": [
      "\nMONTHLY SALES ANALYSIS\n========================================\n"
     ]
    },
    {
     "output_type": "stream",
     "name": "stderr",
     "output_type": "stream",
     "text": [
      "INFO:py4j.clientserver:Received command c on object id p0\nINFO:__main__:Monthly Sales Analytics: 29 records\nINFO:py4j.clientserver:Received command c on object id p0\nINFO:py4j.clientserver:Received command c on object id p0\n"
     ]
    },
    {
     "output_type": "display_data",
     "data": {
      "text/html": [
       "<style scoped>\n",
       "  .table-result-container {\n",
       "    max-height: 300px;\n",
       "    overflow: auto;\n",
       "  }\n",
       "  table, th, td {\n",
       "    border: 1px solid black;\n",
       "    border-collapse: collapse;\n",
       "  }\n",
       "  th, td {\n",
       "    padding: 5px;\n",
       "  }\n",
       "  th {\n",
       "    text-align: left;\n",
       "  }\n",
       "</style><div class='table-result-container'><table class='table-result'><thead style='background-color: white'><tr><th>year</th><th>month</th><th>total_sales</th><th>total_orders</th><th>avg_order_value</th><th>created_date</th></tr></thead><tbody><tr><td>2003</td><td>11</td><td>145791.0</td><td>141</td><td>1033.9787234042553</td><td>2025-06-23T17:06:08.331104Z</td></tr><tr><td>2004</td><td>11</td><td>142661.0</td><td>157</td><td>908.6687898089172</td><td>2025-06-23T17:06:08.331104Z</td></tr><tr><td>2003</td><td>10</td><td>85831.0</td><td>75</td><td>1144.4133333333334</td><td>2025-06-23T17:06:08.331104Z</td></tr><tr><td>2004</td><td>10</td><td>75741.0</td><td>82</td><td>923.670731707317</td><td>2025-06-23T17:06:08.331104Z</td></tr><tr><td>2004</td><td>8</td><td>69025.0</td><td>65</td><td>1061.923076923077</td><td>2025-06-23T17:06:08.331104Z</td></tr><tr><td>2005</td><td>5</td><td>64910.0</td><td>62</td><td>1046.9354838709678</td><td>2025-06-23T17:06:08.331104Z</td></tr><tr><td>2004</td><td>12</td><td>59915.0</td><td>58</td><td>1033.0172413793102</td><td>2025-06-23T17:06:08.331104Z</td></tr><tr><td>2004</td><td>6</td><td>53248.0</td><td>47</td><td>1132.936170212766</td><td>2025-06-23T17:06:08.331104Z</td></tr><tr><td>2005</td><td>1</td><td>53057.0</td><td>48</td><td>1105.3541666666667</td><td>2025-06-23T17:06:08.331104Z</td></tr><tr><td>2005</td><td>3</td><td>49675.0</td><td>56</td><td>887.0535714285714</td><td>2025-06-23T17:06:08.331104Z</td></tr><tr><td>2004</td><td>2</td><td>47420.0</td><td>45</td><td>1053.7777777777778</td><td>2025-06-23T17:06:08.331104Z</td></tr><tr><td>2004</td><td>7</td><td>46640.0</td><td>43</td><td>1084.6511627906978</td><td>2025-06-23T17:06:08.331104Z</td></tr><tr><td>2004</td><td>9</td><td>44570.0</td><td>46</td><td>968.9130434782609</td><td>2025-06-23T17:06:08.331104Z</td></tr><tr><td>2004</td><td>1</td><td>41126.0</td><td>43</td><td>956.4186046511628</td><td>2025-06-23T17:06:08.331104Z</td></tr><tr><td>2005</td><td>2</td><td>40971.0</td><td>42</td><td>975.5</td><td>2025-06-23T17:06:08.331104Z</td></tr><tr><td>2003</td><td>9</td><td>37176.0</td><td>41</td><td>906.7317073170732</td><td>2025-06-23T17:06:08.331104Z</td></tr><tr><td>2003</td><td>5</td><td>34120.0</td><td>27</td><td>1263.7037037037037</td><td>2025-06-23T17:06:08.331104Z</td></tr><tr><td>2004</td><td>5</td><td>33708.0</td><td>36</td><td>936.3333333333334</td><td>2025-06-23T17:06:08.331104Z</td></tr><tr><td>2003</td><td>7</td><td>30785.0</td><td>29</td><td>1061.551724137931</td><td>2025-06-23T17:06:08.331104Z</td></tr><tr><td>2003</td><td>2</td><td>30519.0</td><td>24</td><td>1271.625</td><td>2025-06-23T17:06:08.331104Z</td></tr><tr><td>2003</td><td>8</td><td>29242.0</td><td>30</td><td>974.7333333333333</td><td>2025-06-23T17:06:08.331104Z</td></tr><tr><td>2003</td><td>12</td><td>27087.0</td><td>28</td><td>967.3928571428571</td><td>2025-06-23T17:06:08.331104Z</td></tr><tr><td>2003</td><td>4</td><td>26289.0</td><td>24</td><td>1095.375</td><td>2025-06-23T17:06:08.331104Z</td></tr><tr><td>2003</td><td>3</td><td>23385.0</td><td>22</td><td>1062.9545454545455</td><td>2025-06-23T17:06:08.331104Z</td></tr><tr><td>2004</td><td>3</td><td>22233.0</td><td>25</td><td>889.32</td><td>2025-06-23T17:06:08.331104Z</td></tr><tr><td>2003</td><td>6</td><td>21670.0</td><td>24</td><td>902.9166666666666</td><td>2025-06-23T17:06:08.331104Z</td></tr><tr><td>2005</td><td>4</td><td>21163.0</td><td>21</td><td>1007.7619047619048</td><td>2025-06-23T17:06:08.331104Z</td></tr><tr><td>2004</td><td>4</td><td>19394.0</td><td>25</td><td>775.76</td><td>2025-06-23T17:06:08.331104Z</td></tr><tr><td>2003</td><td>1</td><td>18115.0</td><td>18</td><td>1006.3888888888889</td><td>2025-06-23T17:06:08.331104Z</td></tr></tbody></table></div>"
      ]
     },
     "metadata": {
      "application/vnd.databricks.v1+output": {
       "addedWidgets": {},
       "aggData": [],
       "aggError": "",
       "aggOverflow": false,
       "aggSchema": [],
       "aggSeriesLimitReached": false,
       "aggType": "",
       "arguments": {},
       "columnCustomDisplayInfos": {},
       "data": [
        [
         2003,
         11,
         145791.0,
         141,
         1033.9787234042553,
         "2025-06-23T17:06:08.331104Z"
        ],
        [
         2004,
         11,
         142661.0,
         157,
         908.6687898089172,
         "2025-06-23T17:06:08.331104Z"
        ],
        [
         2003,
         10,
         85831.0,
         75,
         1144.4133333333334,
         "2025-06-23T17:06:08.331104Z"
        ],
        [
         2004,
         10,
         75741.0,
         82,
         923.670731707317,
         "2025-06-23T17:06:08.331104Z"
        ],
        [
         2004,
         8,
         69025.0,
         65,
         1061.923076923077,
         "2025-06-23T17:06:08.331104Z"
        ],
        [
         2005,
         5,
         64910.0,
         62,
         1046.9354838709678,
         "2025-06-23T17:06:08.331104Z"
        ],
        [
         2004,
         12,
         59915.0,
         58,
         1033.0172413793102,
         "2025-06-23T17:06:08.331104Z"
        ],
        [
         2004,
         6,
         53248.0,
         47,
         1132.936170212766,
         "2025-06-23T17:06:08.331104Z"
        ],
        [
         2005,
         1,
         53057.0,
         48,
         1105.3541666666667,
         "2025-06-23T17:06:08.331104Z"
        ],
        [
         2005,
         3,
         49675.0,
         56,
         887.0535714285714,
         "2025-06-23T17:06:08.331104Z"
        ],
        [
         2004,
         2,
         47420.0,
         45,
         1053.7777777777778,
         "2025-06-23T17:06:08.331104Z"
        ],
        [
         2004,
         7,
         46640.0,
         43,
         1084.6511627906978,
         "2025-06-23T17:06:08.331104Z"
        ],
        [
         2004,
         9,
         44570.0,
         46,
         968.9130434782609,
         "2025-06-23T17:06:08.331104Z"
        ],
        [
         2004,
         1,
         41126.0,
         43,
         956.4186046511628,
         "2025-06-23T17:06:08.331104Z"
        ],
        [
         2005,
         2,
         40971.0,
         42,
         975.5,
         "2025-06-23T17:06:08.331104Z"
        ],
        [
         2003,
         9,
         37176.0,
         41,
         906.7317073170732,
         "2025-06-23T17:06:08.331104Z"
        ],
        [
         2003,
         5,
         34120.0,
         27,
         1263.7037037037037,
         "2025-06-23T17:06:08.331104Z"
        ],
        [
         2004,
         5,
         33708.0,
         36,
         936.3333333333334,
         "2025-06-23T17:06:08.331104Z"
        ],
        [
         2003,
         7,
         30785.0,
         29,
         1061.551724137931,
         "2025-06-23T17:06:08.331104Z"
        ],
        [
         2003,
         2,
         30519.0,
         24,
         1271.625,
         "2025-06-23T17:06:08.331104Z"
        ],
        [
         2003,
         8,
         29242.0,
         30,
         974.7333333333333,
         "2025-06-23T17:06:08.331104Z"
        ],
        [
         2003,
         12,
         27087.0,
         28,
         967.3928571428571,
         "2025-06-23T17:06:08.331104Z"
        ],
        [
         2003,
         4,
         26289.0,
         24,
         1095.375,
         "2025-06-23T17:06:08.331104Z"
        ],
        [
         2003,
         3,
         23385.0,
         22,
         1062.9545454545455,
         "2025-06-23T17:06:08.331104Z"
        ],
        [
         2004,
         3,
         22233.0,
         25,
         889.32,
         "2025-06-23T17:06:08.331104Z"
        ],
        [
         2003,
         6,
         21670.0,
         24,
         902.9166666666666,
         "2025-06-23T17:06:08.331104Z"
        ],
        [
         2005,
         4,
         21163.0,
         21,
         1007.7619047619048,
         "2025-06-23T17:06:08.331104Z"
        ],
        [
         2004,
         4,
         19394.0,
         25,
         775.76,
         "2025-06-23T17:06:08.331104Z"
        ],
        [
         2003,
         1,
         18115.0,
         18,
         1006.3888888888889,
         "2025-06-23T17:06:08.331104Z"
        ]
       ],
       "datasetInfos": [],
       "dbfsResultPath": null,
       "isJsonSchema": true,
       "metadata": {},
       "overflow": false,
       "plotOptions": {
        "customPlotOptions": {},
        "displayType": "table",
        "pivotAggregation": null,
        "pivotColumns": null,
        "xColumns": null,
        "yColumns": null
       },
       "removedWidgets": [],
       "schema": [
        {
         "metadata": "{}",
         "name": "year",
         "type": "\"integer\""
        },
        {
         "metadata": "{}",
         "name": "month",
         "type": "\"integer\""
        },
        {
         "metadata": "{}",
         "name": "total_sales",
         "type": "\"double\""
        },
        {
         "metadata": "{}",
         "name": "total_orders",
         "type": "\"long\""
        },
        {
         "metadata": "{}",
         "name": "avg_order_value",
         "type": "\"double\""
        },
        {
         "metadata": "{}",
         "name": "created_date",
         "type": "\"timestamp\""
        }
       ],
       "type": "table"
      }
     },
     "output_type": "display_data"
    },
    {
     "output_type": "stream",
     "name": "stdout",
     "output_type": "stream",
     "text": [
      "\nQUARTERLY SALES ANALYSIS\n========================================\n"
     ]
    },
    {
     "output_type": "stream",
     "name": "stderr",
     "output_type": "stream",
     "text": [
      "INFO:py4j.clientserver:Received command c on object id p0\nINFO:__main__:Quarterly Sales Analytics: 10 records\nINFO:py4j.clientserver:Received command c on object id p0\n"
     ]
    },
    {
     "output_type": "display_data",
     "data": {
      "text/html": [
       "<style scoped>\n",
       "  .table-result-container {\n",
       "    max-height: 300px;\n",
       "    overflow: auto;\n",
       "  }\n",
       "  table, th, td {\n",
       "    border: 1px solid black;\n",
       "    border-collapse: collapse;\n",
       "  }\n",
       "  th, td {\n",
       "    padding: 5px;\n",
       "  }\n",
       "  th {\n",
       "    text-align: left;\n",
       "  }\n",
       "</style><div class='table-result-container'><table class='table-result'><thead style='background-color: white'><tr><th>year</th><th>quarter</th><th>total_sales</th><th>total_orders</th><th>avg_order_value</th><th>created_date</th></tr></thead><tbody><tr><td>2004</td><td>4</td><td>278317.0</td><td>297</td><td>937.0942760942761</td><td>2025-06-23T17:06:09.14562Z</td></tr><tr><td>2003</td><td>4</td><td>258709.0</td><td>244</td><td>1060.282786885246</td><td>2025-06-23T17:06:09.14562Z</td></tr><tr><td>2004</td><td>3</td><td>160235.0</td><td>154</td><td>1040.487012987013</td><td>2025-06-23T17:06:09.14562Z</td></tr><tr><td>2005</td><td>1</td><td>143703.0</td><td>146</td><td>984.2671232876712</td><td>2025-06-23T17:06:09.14562Z</td></tr><tr><td>2004</td><td>1</td><td>110779.0</td><td>113</td><td>980.3451327433628</td><td>2025-06-23T17:06:09.14562Z</td></tr><tr><td>2004</td><td>2</td><td>106350.0</td><td>108</td><td>984.7222222222222</td><td>2025-06-23T17:06:09.14562Z</td></tr><tr><td>2003</td><td>3</td><td>97203.0</td><td>100</td><td>972.03</td><td>2025-06-23T17:06:09.14562Z</td></tr><tr><td>2005</td><td>2</td><td>86073.0</td><td>83</td><td>1037.0240963855422</td><td>2025-06-23T17:06:09.14562Z</td></tr><tr><td>2003</td><td>2</td><td>82079.0</td><td>75</td><td>1094.3866666666668</td><td>2025-06-23T17:06:09.14562Z</td></tr><tr><td>2003</td><td>1</td><td>72019.0</td><td>64</td><td>1125.296875</td><td>2025-06-23T17:06:09.14562Z</td></tr></tbody></table></div>"
      ]
     },
     "metadata": {
      "application/vnd.databricks.v1+output": {
       "addedWidgets": {},
       "aggData": [],
       "aggError": "",
       "aggOverflow": false,
       "aggSchema": [],
       "aggSeriesLimitReached": false,
       "aggType": "",
       "arguments": {},
       "columnCustomDisplayInfos": {},
       "data": [
        [
         2004,
         4,
         278317.0,
         297,
         937.0942760942761,
         "2025-06-23T17:06:09.14562Z"
        ],
        [
         2003,
         4,
         258709.0,
         244,
         1060.282786885246,
         "2025-06-23T17:06:09.14562Z"
        ],
        [
         2004,
         3,
         160235.0,
         154,
         1040.487012987013,
         "2025-06-23T17:06:09.14562Z"
        ],
        [
         2005,
         1,
         143703.0,
         146,
         984.2671232876712,
         "2025-06-23T17:06:09.14562Z"
        ],
        [
         2004,
         1,
         110779.0,
         113,
         980.3451327433628,
         "2025-06-23T17:06:09.14562Z"
        ],
        [
         2004,
         2,
         106350.0,
         108,
         984.7222222222222,
         "2025-06-23T17:06:09.14562Z"
        ],
        [
         2003,
         3,
         97203.0,
         100,
         972.03,
         "2025-06-23T17:06:09.14562Z"
        ],
        [
         2005,
         2,
         86073.0,
         83,
         1037.0240963855422,
         "2025-06-23T17:06:09.14562Z"
        ],
        [
         2003,
         2,
         82079.0,
         75,
         1094.3866666666668,
         "2025-06-23T17:06:09.14562Z"
        ],
        [
         2003,
         1,
         72019.0,
         64,
         1125.296875,
         "2025-06-23T17:06:09.14562Z"
        ]
       ],
       "datasetInfos": [],
       "dbfsResultPath": null,
       "isJsonSchema": true,
       "metadata": {},
       "overflow": false,
       "plotOptions": {
        "customPlotOptions": {},
        "displayType": "table",
        "pivotAggregation": null,
        "pivotColumns": null,
        "xColumns": null,
        "yColumns": null
       },
       "removedWidgets": [],
       "schema": [
        {
         "metadata": "{}",
         "name": "year",
         "type": "\"integer\""
        },
        {
         "metadata": "{}",
         "name": "quarter",
         "type": "\"integer\""
        },
        {
         "metadata": "{}",
         "name": "total_sales",
         "type": "\"double\""
        },
        {
         "metadata": "{}",
         "name": "total_orders",
         "type": "\"long\""
        },
        {
         "metadata": "{}",
         "name": "avg_order_value",
         "type": "\"double\""
        },
        {
         "metadata": "{}",
         "name": "created_date",
         "type": "\"timestamp\""
        }
       ],
       "type": "table"
      }
     },
     "output_type": "display_data"
    }
   ],
   "source": [
    "# 2. WEEKLY SALES ANALYSIS\n",
    "print(\"WEEKLY SALES ANALYSIS\")\n",
    "print(\"=\" * 40)\n",
    "\n",
    "weekly_sales = fact_transactions.filter(col(\"transaction_type\") == \"SALE\") \\\n",
    "    .withColumn(\"week\", weekofyear(col(\"order_date\"))) \\\n",
    "    .withColumn(\"year\", year(col(\"order_date\"))) \\\n",
    "    .groupBy(\"year\", \"week\") \\\n",
    "    .agg(\n",
    "        sum(\"net_amount\").alias(\"total_sales\"),\n",
    "        count(\"order_number\").alias(\"total_orders\"),\n",
    "        avg(\"net_amount\").alias(\"avg_order_value\")\n",
    "    ).withColumn(\"created_date\", current_timestamp())\n",
    "\n",
    "logger.info(f\"Weekly Sales Analytics: {weekly_sales.count()} records\")\n",
    "display(weekly_sales.orderBy(desc(\"total_sales\")).limit(30))\n",
    "\n",
    "print(\"\\nMONTHLY SALES ANALYSIS\")\n",
    "print(\"=\" * 40)\n",
    "\n",
    "monthly_sales = fact_transactions.filter(col(\"transaction_type\") == \"SALE\") \\\n",
    "    .withColumn(\"month\", month(col(\"order_date\"))) \\\n",
    "    .withColumn(\"year\", year(col(\"order_date\"))) \\\n",
    "    .groupBy(\"year\", \"month\") \\\n",
    "    .agg(\n",
    "        sum(\"net_amount\").alias(\"total_sales\"),\n",
    "        count(\"order_number\").alias(\"total_orders\"),\n",
    "        avg(\"net_amount\").alias(\"avg_order_value\")\n",
    "    ).withColumn(\"created_date\", current_timestamp())\n",
    "\n",
    "logger.info(f\"Monthly Sales Analytics: {monthly_sales.count()} records\")\n",
    "display(monthly_sales.orderBy(desc(\"total_sales\")))\n",
    "\n",
    "print(\"\\nQUARTERLY SALES ANALYSIS\")\n",
    "print(\"=\" * 40)\n",
    "\n",
    "quarterly_sales = fact_transactions.filter(col(\"transaction_type\") == \"SALE\") \\\n",
    "    .withColumn(\"quarter\", quarter(col(\"order_date\"))) \\\n",
    "    .withColumn(\"year\", year(col(\"order_date\"))) \\\n",
    "    .groupBy(\"year\", \"quarter\") \\\n",
    "    .agg(\n",
    "        sum(\"net_amount\").alias(\"total_sales\"),\n",
    "        count(\"order_number\").alias(\"total_orders\"),\n",
    "        avg(\"net_amount\").alias(\"avg_order_value\")\n",
    "    ).withColumn(\"created_date\", current_timestamp())\n",
    "\n",
    "logger.info(f\"Quarterly Sales Analytics: {quarterly_sales.count()} records\")\n",
    "display(quarterly_sales.orderBy(desc(\"total_sales\")))\n"
   ]
  },
  {
   "cell_type": "code",
   "execution_count": 0,
   "metadata": {
    "application/vnd.databricks.v1+cell": {
     "cellMetadata": {
      "byteLimit": 2048000,
      "rowLimit": 10000
     },
     "inputWidgets": {},
     "nuid": "2d6ed50a-4d90-49aa-8efd-47b3f37a6cd8",
     "showTitle": false,
     "tableResultSettingsMap": {},
     "title": ""
    }
   },
   "outputs": [
    {
     "output_type": "stream",
     "name": "stderr",
     "output_type": "stream",
     "text": [
      "INFO:py4j.clientserver:Received command c on object id p0\n"
     ]
    },
    {
     "output_type": "stream",
     "name": "stdout",
     "output_type": "stream",
     "text": [
      "WEEKLY REFUNDS ANALYSIS\n========================================\n"
     ]
    },
    {
     "output_type": "stream",
     "name": "stderr",
     "output_type": "stream",
     "text": [
      "INFO:py4j.clientserver:Received command c on object id p0\nINFO:__main__:Weekly Refunds Analytics: 113 records\nINFO:py4j.clientserver:Received command c on object id p0\n"
     ]
    },
    {
     "output_type": "display_data",
     "data": {
      "text/html": [
       "<style scoped>\n",
       "  .table-result-container {\n",
       "    max-height: 300px;\n",
       "    overflow: auto;\n",
       "  }\n",
       "  table, th, td {\n",
       "    border: 1px solid black;\n",
       "    border-collapse: collapse;\n",
       "  }\n",
       "  th, td {\n",
       "    padding: 5px;\n",
       "  }\n",
       "  th {\n",
       "    text-align: left;\n",
       "  }\n",
       "</style><div class='table-result-container'><table class='table-result'><thead style='background-color: white'><tr><th>year</th><th>week</th><th>total_refunds</th><th>total_restocking_fees</th><th>total_refund_orders</th><th>created_date</th></tr></thead><tbody><tr><td>2005</td><td>5</td><td>15950.7</td><td>1772.3</td><td>18</td><td>2025-06-23T17:04:45.255299Z</td></tr><tr><td>2005</td><td>22</td><td>13020.300000000001</td><td>1446.7</td><td>14</td><td>2025-06-23T17:04:45.255299Z</td></tr><tr><td>2005</td><td>19</td><td>10662.300000000001</td><td>1184.7</td><td>15</td><td>2025-06-23T17:04:45.255299Z</td></tr><tr><td>2004</td><td>44</td><td>2725.2</td><td>302.8</td><td>3</td><td>2025-06-23T17:04:45.255299Z</td></tr><tr><td>2003</td><td>50</td><td>6497.099999999999</td><td>721.9</td><td>9</td><td>2025-06-23T17:04:45.255299Z</td></tr><tr><td>2004</td><td>6</td><td>4092.3</td><td>454.70000000000005</td><td>5</td><td>2025-06-23T17:04:45.255299Z</td></tr><tr><td>2003</td><td>32</td><td>12601.799999999997</td><td>1400.2</td><td>17</td><td>2025-06-23T17:04:45.255299Z</td></tr><tr><td>2004</td><td>38</td><td>10630.799999999997</td><td>1181.2000000000003</td><td>14</td><td>2025-06-23T17:04:45.255299Z</td></tr><tr><td>2003</td><td>17</td><td>1200.6</td><td>133.4</td><td>1</td><td>2025-06-23T17:04:45.255299Z</td></tr><tr><td>2005</td><td>10</td><td>3687.3</td><td>409.70000000000005</td><td>4</td><td>2025-06-23T17:04:45.255299Z</td></tr><tr><td>2005</td><td>21</td><td>4146.3</td><td>460.70000000000005</td><td>4</td><td>2025-06-23T17:04:45.255299Z</td></tr><tr><td>2003</td><td>35</td><td>3055.5</td><td>339.5</td><td>6</td><td>2025-06-23T17:04:45.255299Z</td></tr><tr><td>2004</td><td>30</td><td>28367.999999999996</td><td>3152.0</td><td>33</td><td>2025-06-23T17:04:45.255299Z</td></tr><tr><td>2004</td><td>8</td><td>29046.600000000002</td><td>3227.4000000000005</td><td>30</td><td>2025-06-23T17:04:45.255299Z</td></tr><tr><td>2003</td><td>2</td><td>6252.3</td><td>694.7</td><td>5</td><td>2025-06-23T17:04:45.255299Z</td></tr><tr><td>2004</td><td>22</td><td>5595.299999999999</td><td>621.7</td><td>7</td><td>2025-06-23T17:04:45.255299Z</td></tr><tr><td>2003</td><td>46</td><td>43833.600000000006</td><td>4870.399999999999</td><td>50</td><td>2025-06-23T17:04:45.255299Z</td></tr><tr><td>2004</td><td>15</td><td>10135.8</td><td>1126.2</td><td>10</td><td>2025-06-23T17:04:45.255299Z</td></tr><tr><td>2003</td><td>40</td><td>13051.8</td><td>1450.2</td><td>13</td><td>2025-06-23T17:04:45.255299Z</td></tr><tr><td>2004</td><td>49</td><td>33040.8</td><td>3671.2</td><td>32</td><td>2025-06-23T17:04:45.255299Z</td></tr><tr><td>2004</td><td>27</td><td>9232.2</td><td>1025.8</td><td>9</td><td>2025-06-23T17:04:45.255299Z</td></tr><tr><td>2004</td><td>47</td><td>41095.79999999999</td><td>4566.200000000002</td><td>49</td><td>2025-06-23T17:04:45.255299Z</td></tr><tr><td>2005</td><td>17</td><td>4678.2</td><td>519.8</td><td>5</td><td>2025-06-23T17:04:45.255299Z</td></tr><tr><td>2004</td><td>21</td><td>1990.8000000000002</td><td>221.20000000000002</td><td>2</td><td>2025-06-23T17:04:45.255299Z</td></tr><tr><td>2003</td><td>10</td><td>8832.6</td><td>981.4000000000001</td><td>10</td><td>2025-06-23T17:04:45.255299Z</td></tr><tr><td>2004</td><td>10</td><td>8181.0</td><td>909.0</td><td>8</td><td>2025-06-23T17:04:45.255299Z</td></tr><tr><td>2004</td><td>45</td><td>34534.799999999996</td><td>3837.1999999999994</td><td>42</td><td>2025-06-23T17:04:45.255299Z</td></tr><tr><td>2003</td><td>49</td><td>27761.399999999994</td><td>3084.5999999999995</td><td>33</td><td>2025-06-23T17:04:45.255299Z</td></tr><tr><td>2003</td><td>22</td><td>10721.700000000003</td><td>1191.3</td><td>9</td><td>2025-06-23T17:04:45.255299Z</td></tr><tr><td>2005</td><td>6</td><td>15372.0</td><td>1708.0</td><td>17</td><td>2025-06-23T17:04:45.255299Z</td></tr></tbody></table></div>"
      ]
     },
     "metadata": {
      "application/vnd.databricks.v1+output": {
       "addedWidgets": {},
       "aggData": [],
       "aggError": "",
       "aggOverflow": false,
       "aggSchema": [],
       "aggSeriesLimitReached": false,
       "aggType": "",
       "arguments": {},
       "columnCustomDisplayInfos": {},
       "data": [
        [
         2005,
         5,
         15950.7,
         1772.3,
         18,
         "2025-06-23T17:04:45.255299Z"
        ],
        [
         2005,
         22,
         13020.300000000001,
         1446.7,
         14,
         "2025-06-23T17:04:45.255299Z"
        ],
        [
         2005,
         19,
         10662.300000000001,
         1184.7,
         15,
         "2025-06-23T17:04:45.255299Z"
        ],
        [
         2004,
         44,
         2725.2,
         302.8,
         3,
         "2025-06-23T17:04:45.255299Z"
        ],
        [
         2003,
         50,
         6497.099999999999,
         721.9,
         9,
         "2025-06-23T17:04:45.255299Z"
        ],
        [
         2004,
         6,
         4092.3,
         454.70000000000005,
         5,
         "2025-06-23T17:04:45.255299Z"
        ],
        [
         2003,
         32,
         12601.799999999997,
         1400.2,
         17,
         "2025-06-23T17:04:45.255299Z"
        ],
        [
         2004,
         38,
         10630.799999999997,
         1181.2000000000003,
         14,
         "2025-06-23T17:04:45.255299Z"
        ],
        [
         2003,
         17,
         1200.6,
         133.4,
         1,
         "2025-06-23T17:04:45.255299Z"
        ],
        [
         2005,
         10,
         3687.3,
         409.70000000000005,
         4,
         "2025-06-23T17:04:45.255299Z"
        ],
        [
         2005,
         21,
         4146.3,
         460.70000000000005,
         4,
         "2025-06-23T17:04:45.255299Z"
        ],
        [
         2003,
         35,
         3055.5,
         339.5,
         6,
         "2025-06-23T17:04:45.255299Z"
        ],
        [
         2004,
         30,
         28367.999999999996,
         3152.0,
         33,
         "2025-06-23T17:04:45.255299Z"
        ],
        [
         2004,
         8,
         29046.600000000002,
         3227.4000000000005,
         30,
         "2025-06-23T17:04:45.255299Z"
        ],
        [
         2003,
         2,
         6252.3,
         694.7,
         5,
         "2025-06-23T17:04:45.255299Z"
        ],
        [
         2004,
         22,
         5595.299999999999,
         621.7,
         7,
         "2025-06-23T17:04:45.255299Z"
        ],
        [
         2003,
         46,
         43833.600000000006,
         4870.399999999999,
         50,
         "2025-06-23T17:04:45.255299Z"
        ],
        [
         2004,
         15,
         10135.8,
         1126.2,
         10,
         "2025-06-23T17:04:45.255299Z"
        ],
        [
         2003,
         40,
         13051.8,
         1450.2,
         13,
         "2025-06-23T17:04:45.255299Z"
        ],
        [
         2004,
         49,
         33040.8,
         3671.2,
         32,
         "2025-06-23T17:04:45.255299Z"
        ],
        [
         2004,
         27,
         9232.2,
         1025.8,
         9,
         "2025-06-23T17:04:45.255299Z"
        ],
        [
         2004,
         47,
         41095.79999999999,
         4566.200000000002,
         49,
         "2025-06-23T17:04:45.255299Z"
        ],
        [
         2005,
         17,
         4678.2,
         519.8,
         5,
         "2025-06-23T17:04:45.255299Z"
        ],
        [
         2004,
         21,
         1990.8000000000002,
         221.20000000000002,
         2,
         "2025-06-23T17:04:45.255299Z"
        ],
        [
         2003,
         10,
         8832.6,
         981.4000000000001,
         10,
         "2025-06-23T17:04:45.255299Z"
        ],
        [
         2004,
         10,
         8181.0,
         909.0,
         8,
         "2025-06-23T17:04:45.255299Z"
        ],
        [
         2004,
         45,
         34534.799999999996,
         3837.1999999999994,
         42,
         "2025-06-23T17:04:45.255299Z"
        ],
        [
         2003,
         49,
         27761.399999999994,
         3084.5999999999995,
         33,
         "2025-06-23T17:04:45.255299Z"
        ],
        [
         2003,
         22,
         10721.700000000003,
         1191.3,
         9,
         "2025-06-23T17:04:45.255299Z"
        ],
        [
         2005,
         6,
         15372.0,
         1708.0,
         17,
         "2025-06-23T17:04:45.255299Z"
        ]
       ],
       "datasetInfos": [],
       "dbfsResultPath": null,
       "isJsonSchema": true,
       "metadata": {},
       "overflow": false,
       "plotOptions": {
        "customPlotOptions": {},
        "displayType": "table",
        "pivotAggregation": null,
        "pivotColumns": null,
        "xColumns": null,
        "yColumns": null
       },
       "removedWidgets": [],
       "schema": [
        {
         "metadata": "{}",
         "name": "year",
         "type": "\"integer\""
        },
        {
         "metadata": "{}",
         "name": "week",
         "type": "\"integer\""
        },
        {
         "metadata": "{}",
         "name": "total_refunds",
         "type": "\"double\""
        },
        {
         "metadata": "{}",
         "name": "total_restocking_fees",
         "type": "\"double\""
        },
        {
         "metadata": "{}",
         "name": "total_refund_orders",
         "type": "\"long\""
        },
        {
         "metadata": "{}",
         "name": "created_date",
         "type": "\"timestamp\""
        }
       ],
       "type": "table"
      }
     },
     "output_type": "display_data"
    },
    {
     "output_type": "stream",
     "name": "stderr",
     "output_type": "stream",
     "text": [
      "INFO:py4j.clientserver:Received command c on object id p0\n"
     ]
    },
    {
     "output_type": "stream",
     "name": "stdout",
     "output_type": "stream",
     "text": [
      "\nMONTHLY REFUNDS ANALYSIS\n========================================\n"
     ]
    },
    {
     "output_type": "stream",
     "name": "stderr",
     "output_type": "stream",
     "text": [
      "INFO:py4j.clientserver:Received command c on object id p0\nINFO:__main__:Monthly Refunds Analytics: 29 records\nINFO:py4j.clientserver:Received command c on object id p0\n"
     ]
    },
    {
     "output_type": "display_data",
     "data": {
      "text/html": [
       "<style scoped>\n",
       "  .table-result-container {\n",
       "    max-height: 300px;\n",
       "    overflow: auto;\n",
       "  }\n",
       "  table, th, td {\n",
       "    border: 1px solid black;\n",
       "    border-collapse: collapse;\n",
       "  }\n",
       "  th, td {\n",
       "    padding: 5px;\n",
       "  }\n",
       "  th {\n",
       "    text-align: left;\n",
       "  }\n",
       "</style><div class='table-result-container'><table class='table-result'><thead style='background-color: white'><tr><th>year</th><th>month</th><th>total_refunds</th><th>total_restocking_fees</th><th>total_refund_orders</th><th>created_date</th></tr></thead><tbody><tr><td>2005</td><td>5</td><td>49569.3</td><td>5507.700000000001</td><td>58</td><td>2025-06-23T17:04:46.165554Z</td></tr><tr><td>2004</td><td>6</td><td>38100.59999999999</td><td>4233.400000000001</td><td>38</td><td>2025-06-23T17:04:46.165554Z</td></tr><tr><td>2003</td><td>2</td><td>14669.100000000002</td><td>1629.8999999999999</td><td>17</td><td>2025-06-23T17:04:46.165554Z</td></tr><tr><td>2004</td><td>8</td><td>63828.900000000016</td><td>7092.100000000002</td><td>68</td><td>2025-06-23T17:04:46.165554Z</td></tr><tr><td>2003</td><td>10</td><td>77291.99999999999</td><td>8588.000000000002</td><td>83</td><td>2025-06-23T17:04:46.165554Z</td></tr><tr><td>2004</td><td>10</td><td>63161.100000000006</td><td>7017.899999999999</td><td>77</td><td>2025-06-23T17:04:46.165554Z</td></tr><tr><td>2003</td><td>3</td><td>24702.300000000003</td><td>2744.7000000000003</td><td>28</td><td>2025-06-23T17:04:46.165554Z</td></tr><tr><td>2003</td><td>9</td><td>27746.999999999996</td><td>3083.000000000001</td><td>35</td><td>2025-06-23T17:04:46.165554Z</td></tr><tr><td>2003</td><td>12</td><td>34258.5</td><td>3806.5</td><td>42</td><td>2025-06-23T17:04:46.165554Z</td></tr><tr><td>2003</td><td>1</td><td>21039.3</td><td>2337.7</td><td>21</td><td>2025-06-23T17:04:46.165554Z</td></tr><tr><td>2004</td><td>7</td><td>43518.600000000006</td><td>4835.399999999998</td><td>48</td><td>2025-06-23T17:04:46.165554Z</td></tr><tr><td>2004</td><td>4</td><td>37047.6</td><td>4116.400000000001</td><td>39</td><td>2025-06-23T17:04:46.165554Z</td></tr><tr><td>2005</td><td>1</td><td>51821.10000000001</td><td>5757.9000000000015</td><td>51</td><td>2025-06-23T17:04:46.165554Z</td></tr><tr><td>2003</td><td>11</td><td>139755.59999999995</td><td>15528.400000000005</td><td>155</td><td>2025-06-23T17:04:46.165554Z</td></tr><tr><td>2005</td><td>3</td><td>46741.500000000015</td><td>5193.500000000002</td><td>50</td><td>2025-06-23T17:04:46.165554Z</td></tr><tr><td>2004</td><td>2</td><td>38544.29999999999</td><td>4282.7</td><td>41</td><td>2025-06-23T17:04:46.165554Z</td></tr><tr><td>2003</td><td>5</td><td>32364.0</td><td>3596.000000000001</td><td>31</td><td>2025-06-23T17:04:46.165554Z</td></tr><tr><td>2003</td><td>7</td><td>15912.0</td><td>1768.0</td><td>21</td><td>2025-06-23T17:04:46.165554Z</td></tr><tr><td>2004</td><td>9</td><td>43308.90000000002</td><td>4812.099999999999</td><td>49</td><td>2025-06-23T17:04:46.165554Z</td></tr><tr><td>2003</td><td>4</td><td>33385.5</td><td>3709.5</td><td>34</td><td>2025-06-23T17:04:46.165554Z</td></tr><tr><td>2004</td><td>11</td><td>124721.99999999999</td><td>13857.999999999995</td><td>144</td><td>2025-06-23T17:04:46.165554Z</td></tr><tr><td>2004</td><td>12</td><td>47548.80000000002</td><td>5283.200000000001</td><td>52</td><td>2025-06-23T17:04:46.165554Z</td></tr><tr><td>2003</td><td>8</td><td>21941.1</td><td>2437.8999999999996</td><td>28</td><td>2025-06-23T17:04:46.165554Z</td></tr><tr><td>2004</td><td>1</td><td>43482.6</td><td>4831.400000000002</td><td>48</td><td>2025-06-23T17:04:46.165554Z</td></tr><tr><td>2004</td><td>3</td><td>28554.300000000003</td><td>3172.7000000000007</td><td>31</td><td>2025-06-23T17:04:46.165554Z</td></tr><tr><td>2005</td><td>2</td><td>48779.099999999984</td><td>5419.9000000000015</td><td>55</td><td>2025-06-23T17:04:46.165554Z</td></tr><tr><td>2003</td><td>6</td><td>18628.2</td><td>2069.7999999999997</td><td>22</td><td>2025-06-23T17:04:46.165554Z</td></tr><tr><td>2005</td><td>4</td><td>29263.5</td><td>3251.499999999999</td><td>35</td><td>2025-06-23T17:04:46.165554Z</td></tr><tr><td>2004</td><td>5</td><td>30039.30000000001</td><td>3337.7000000000003</td><td>38</td><td>2025-06-23T17:04:46.165554Z</td></tr></tbody></table></div>"
      ]
     },
     "metadata": {
      "application/vnd.databricks.v1+output": {
       "addedWidgets": {},
       "aggData": [],
       "aggError": "",
       "aggOverflow": false,
       "aggSchema": [],
       "aggSeriesLimitReached": false,
       "aggType": "",
       "arguments": {},
       "columnCustomDisplayInfos": {},
       "data": [
        [
         2005,
         5,
         49569.3,
         5507.700000000001,
         58,
         "2025-06-23T17:04:46.165554Z"
        ],
        [
         2004,
         6,
         38100.59999999999,
         4233.400000000001,
         38,
         "2025-06-23T17:04:46.165554Z"
        ],
        [
         2003,
         2,
         14669.100000000002,
         1629.8999999999999,
         17,
         "2025-06-23T17:04:46.165554Z"
        ],
        [
         2004,
         8,
         63828.900000000016,
         7092.100000000002,
         68,
         "2025-06-23T17:04:46.165554Z"
        ],
        [
         2003,
         10,
         77291.99999999999,
         8588.000000000002,
         83,
         "2025-06-23T17:04:46.165554Z"
        ],
        [
         2004,
         10,
         63161.100000000006,
         7017.899999999999,
         77,
         "2025-06-23T17:04:46.165554Z"
        ],
        [
         2003,
         3,
         24702.300000000003,
         2744.7000000000003,
         28,
         "2025-06-23T17:04:46.165554Z"
        ],
        [
         2003,
         9,
         27746.999999999996,
         3083.000000000001,
         35,
         "2025-06-23T17:04:46.165554Z"
        ],
        [
         2003,
         12,
         34258.5,
         3806.5,
         42,
         "2025-06-23T17:04:46.165554Z"
        ],
        [
         2003,
         1,
         21039.3,
         2337.7,
         21,
         "2025-06-23T17:04:46.165554Z"
        ],
        [
         2004,
         7,
         43518.600000000006,
         4835.399999999998,
         48,
         "2025-06-23T17:04:46.165554Z"
        ],
        [
         2004,
         4,
         37047.6,
         4116.400000000001,
         39,
         "2025-06-23T17:04:46.165554Z"
        ],
        [
         2005,
         1,
         51821.10000000001,
         5757.9000000000015,
         51,
         "2025-06-23T17:04:46.165554Z"
        ],
        [
         2003,
         11,
         139755.59999999995,
         15528.400000000005,
         155,
         "2025-06-23T17:04:46.165554Z"
        ],
        [
         2005,
         3,
         46741.500000000015,
         5193.500000000002,
         50,
         "2025-06-23T17:04:46.165554Z"
        ],
        [
         2004,
         2,
         38544.29999999999,
         4282.7,
         41,
         "2025-06-23T17:04:46.165554Z"
        ],
        [
         2003,
         5,
         32364.0,
         3596.000000000001,
         31,
         "2025-06-23T17:04:46.165554Z"
        ],
        [
         2003,
         7,
         15912.0,
         1768.0,
         21,
         "2025-06-23T17:04:46.165554Z"
        ],
        [
         2004,
         9,
         43308.90000000002,
         4812.099999999999,
         49,
         "2025-06-23T17:04:46.165554Z"
        ],
        [
         2003,
         4,
         33385.5,
         3709.5,
         34,
         "2025-06-23T17:04:46.165554Z"
        ],
        [
         2004,
         11,
         124721.99999999999,
         13857.999999999995,
         144,
         "2025-06-23T17:04:46.165554Z"
        ],
        [
         2004,
         12,
         47548.80000000002,
         5283.200000000001,
         52,
         "2025-06-23T17:04:46.165554Z"
        ],
        [
         2003,
         8,
         21941.1,
         2437.8999999999996,
         28,
         "2025-06-23T17:04:46.165554Z"
        ],
        [
         2004,
         1,
         43482.6,
         4831.400000000002,
         48,
         "2025-06-23T17:04:46.165554Z"
        ],
        [
         2004,
         3,
         28554.300000000003,
         3172.7000000000007,
         31,
         "2025-06-23T17:04:46.165554Z"
        ],
        [
         2005,
         2,
         48779.099999999984,
         5419.9000000000015,
         55,
         "2025-06-23T17:04:46.165554Z"
        ],
        [
         2003,
         6,
         18628.2,
         2069.7999999999997,
         22,
         "2025-06-23T17:04:46.165554Z"
        ],
        [
         2005,
         4,
         29263.5,
         3251.499999999999,
         35,
         "2025-06-23T17:04:46.165554Z"
        ],
        [
         2004,
         5,
         30039.30000000001,
         3337.7000000000003,
         38,
         "2025-06-23T17:04:46.165554Z"
        ]
       ],
       "datasetInfos": [],
       "dbfsResultPath": null,
       "isJsonSchema": true,
       "metadata": {},
       "overflow": false,
       "plotOptions": {
        "customPlotOptions": {},
        "displayType": "table",
        "pivotAggregation": null,
        "pivotColumns": null,
        "xColumns": null,
        "yColumns": null
       },
       "removedWidgets": [],
       "schema": [
        {
         "metadata": "{}",
         "name": "year",
         "type": "\"integer\""
        },
        {
         "metadata": "{}",
         "name": "month",
         "type": "\"integer\""
        },
        {
         "metadata": "{}",
         "name": "total_refunds",
         "type": "\"double\""
        },
        {
         "metadata": "{}",
         "name": "total_restocking_fees",
         "type": "\"double\""
        },
        {
         "metadata": "{}",
         "name": "total_refund_orders",
         "type": "\"long\""
        },
        {
         "metadata": "{}",
         "name": "created_date",
         "type": "\"timestamp\""
        }
       ],
       "type": "table"
      }
     },
     "output_type": "display_data"
    },
    {
     "output_type": "stream",
     "name": "stderr",
     "output_type": "stream",
     "text": [
      "INFO:py4j.clientserver:Received command c on object id p0\n"
     ]
    },
    {
     "output_type": "stream",
     "name": "stdout",
     "output_type": "stream",
     "text": [
      "\nQUARTERLY REFUNDS ANALYSIS\n========================================\n"
     ]
    },
    {
     "output_type": "stream",
     "name": "stderr",
     "output_type": "stream",
     "text": [
      "INFO:py4j.clientserver:Received command c on object id p0\nINFO:__main__:Quarterly Refunds Analytics: 10 records\nINFO:py4j.clientserver:Received command c on object id p0\n"
     ]
    },
    {
     "output_type": "display_data",
     "data": {
      "text/html": [
       "<style scoped>\n",
       "  .table-result-container {\n",
       "    max-height: 300px;\n",
       "    overflow: auto;\n",
       "  }\n",
       "  table, th, td {\n",
       "    border: 1px solid black;\n",
       "    border-collapse: collapse;\n",
       "  }\n",
       "  th, td {\n",
       "    padding: 5px;\n",
       "  }\n",
       "  th {\n",
       "    text-align: left;\n",
       "  }\n",
       "</style><div class='table-result-container'><table class='table-result'><thead style='background-color: white'><tr><th>year</th><th>quarter</th><th>total_refunds</th><th>total_restocking_fees</th><th>total_refund_orders</th><th>created_date</th></tr></thead><tbody><tr><td>2003</td><td>2</td><td>84377.69999999998</td><td>9375.300000000001</td><td>87</td><td>2025-06-23T17:04:47.070367Z</td></tr><tr><td>2003</td><td>3</td><td>65600.1</td><td>7288.9</td><td>84</td><td>2025-06-23T17:04:47.070367Z</td></tr><tr><td>2003</td><td>1</td><td>60410.69999999998</td><td>6712.300000000002</td><td>66</td><td>2025-06-23T17:04:47.070367Z</td></tr><tr><td>2004</td><td>4</td><td>235431.9000000001</td><td>26159.100000000002</td><td>273</td><td>2025-06-23T17:04:47.070367Z</td></tr><tr><td>2005</td><td>1</td><td>147341.6999999999</td><td>16371.300000000001</td><td>156</td><td>2025-06-23T17:04:47.070367Z</td></tr><tr><td>2004</td><td>2</td><td>105187.5</td><td>11687.5</td><td>115</td><td>2025-06-23T17:04:47.070367Z</td></tr><tr><td>2003</td><td>4</td><td>251306.09999999977</td><td>27922.900000000005</td><td>280</td><td>2025-06-23T17:04:47.070367Z</td></tr><tr><td>2004</td><td>1</td><td>110581.2</td><td>12286.799999999997</td><td>120</td><td>2025-06-23T17:04:47.070367Z</td></tr><tr><td>2004</td><td>3</td><td>150656.39999999985</td><td>16739.60000000001</td><td>165</td><td>2025-06-23T17:04:47.070367Z</td></tr><tr><td>2005</td><td>2</td><td>78832.8</td><td>8759.200000000003</td><td>93</td><td>2025-06-23T17:04:47.070367Z</td></tr></tbody></table></div>"
      ]
     },
     "metadata": {
      "application/vnd.databricks.v1+output": {
       "addedWidgets": {},
       "aggData": [],
       "aggError": "",
       "aggOverflow": false,
       "aggSchema": [],
       "aggSeriesLimitReached": false,
       "aggType": "",
       "arguments": {},
       "columnCustomDisplayInfos": {},
       "data": [
        [
         2003,
         2,
         84377.69999999998,
         9375.300000000001,
         87,
         "2025-06-23T17:04:47.070367Z"
        ],
        [
         2003,
         3,
         65600.1,
         7288.9,
         84,
         "2025-06-23T17:04:47.070367Z"
        ],
        [
         2003,
         1,
         60410.69999999998,
         6712.300000000002,
         66,
         "2025-06-23T17:04:47.070367Z"
        ],
        [
         2004,
         4,
         235431.9000000001,
         26159.100000000002,
         273,
         "2025-06-23T17:04:47.070367Z"
        ],
        [
         2005,
         1,
         147341.6999999999,
         16371.300000000001,
         156,
         "2025-06-23T17:04:47.070367Z"
        ],
        [
         2004,
         2,
         105187.5,
         11687.5,
         115,
         "2025-06-23T17:04:47.070367Z"
        ],
        [
         2003,
         4,
         251306.09999999977,
         27922.900000000005,
         280,
         "2025-06-23T17:04:47.070367Z"
        ],
        [
         2004,
         1,
         110581.2,
         12286.799999999997,
         120,
         "2025-06-23T17:04:47.070367Z"
        ],
        [
         2004,
         3,
         150656.39999999985,
         16739.60000000001,
         165,
         "2025-06-23T17:04:47.070367Z"
        ],
        [
         2005,
         2,
         78832.8,
         8759.200000000003,
         93,
         "2025-06-23T17:04:47.070367Z"
        ]
       ],
       "datasetInfos": [],
       "dbfsResultPath": null,
       "isJsonSchema": true,
       "metadata": {},
       "overflow": false,
       "plotOptions": {
        "customPlotOptions": {},
        "displayType": "table",
        "pivotAggregation": null,
        "pivotColumns": null,
        "xColumns": null,
        "yColumns": null
       },
       "removedWidgets": [],
       "schema": [
        {
         "metadata": "{}",
         "name": "year",
         "type": "\"integer\""
        },
        {
         "metadata": "{}",
         "name": "quarter",
         "type": "\"integer\""
        },
        {
         "metadata": "{}",
         "name": "total_refunds",
         "type": "\"double\""
        },
        {
         "metadata": "{}",
         "name": "total_restocking_fees",
         "type": "\"double\""
        },
        {
         "metadata": "{}",
         "name": "total_refund_orders",
         "type": "\"long\""
        },
        {
         "metadata": "{}",
         "name": "created_date",
         "type": "\"timestamp\""
        }
       ],
       "type": "table"
      }
     },
     "output_type": "display_data"
    }
   ],
   "source": [
    "# 3. WEEKLY REFUNDS ANALYSIS\n",
    "print(\"WEEKLY REFUNDS ANALYSIS\")\n",
    "print(\"=\" * 40)\n",
    "\n",
    "weekly_refunds = fact_transactions.filter(col(\"transaction_type\") == \"REFUND\") \\\n",
    "    .withColumn(\"week\", weekofyear(col(\"order_date\"))) \\\n",
    "    .withColumn(\"year\", year(col(\"order_date\"))) \\\n",
    "    .groupBy(\"year\", \"week\") \\\n",
    "    .agg(\n",
    "        sum(\"net_amount\").alias(\"total_refunds\"),\n",
    "        sum(\"restocking_fee\").alias(\"total_restocking_fees\"),\n",
    "        count(\"order_number\").alias(\"total_refund_orders\")\n",
    "    ).withColumn(\"created_date\", current_timestamp())\n",
    "\n",
    "logger.info(f\"Weekly Refunds Analytics: {weekly_refunds.count()} records\")\n",
    "display(weekly_refunds.limit(30))\n",
    "\n",
    "print(\"\\nMONTHLY REFUNDS ANALYSIS\")\n",
    "print(\"=\" * 40)\n",
    "\n",
    "# Monthly Refunds\n",
    "monthly_refunds = fact_transactions.filter(col(\"transaction_type\") == \"REFUND\") \\\n",
    "    .withColumn(\"month\", month(col(\"order_date\"))) \\\n",
    "    .withColumn(\"year\", year(col(\"order_date\"))) \\\n",
    "    .groupBy(\"year\", \"month\") \\\n",
    "    .agg(\n",
    "        sum(\"net_amount\").alias(\"total_refunds\"),\n",
    "        sum(\"restocking_fee\").alias(\"total_restocking_fees\"),\n",
    "        count(\"order_number\").alias(\"total_refund_orders\")\n",
    "    ).withColumn(\"created_date\", current_timestamp())\n",
    "\n",
    "logger.info(f\"Monthly Refunds Analytics: {monthly_refunds.count()} records\")\n",
    "display(monthly_refunds)\n",
    "\n",
    "print(\"\\nQUARTERLY REFUNDS ANALYSIS\")\n",
    "print(\"=\" * 40)\n",
    "\n",
    "# Quaterly Refunds\n",
    "quarterly_refunds = fact_transactions.filter(col(\"transaction_type\") == \"REFUND\") \\\n",
    "    .withColumn(\"quarter\", quarter(col(\"order_date\"))) \\\n",
    "    .withColumn(\"year\", year(col(\"order_date\"))) \\\n",
    "    .groupBy(\"year\", \"quarter\") \\\n",
    "    .agg(\n",
    "        sum(\"net_amount\").alias(\"total_refunds\"),\n",
    "        sum(\"restocking_fee\").alias(\"total_restocking_fees\"),\n",
    "        count(\"order_number\").alias(\"total_refund_orders\")\n",
    "    ).withColumn(\"created_date\", current_timestamp())\n",
    "\n",
    "logger.info(f\"Quarterly Refunds Analytics: {quarterly_refunds.count()} records\")\n",
    "display(quarterly_refunds)\n"
   ]
  },
  {
   "cell_type": "code",
   "execution_count": 0,
   "metadata": {
    "application/vnd.databricks.v1+cell": {
     "cellMetadata": {
      "byteLimit": 2048000,
      "rowLimit": 10000
     },
     "inputWidgets": {},
     "nuid": "e6e1b48d-d093-4165-8e45-2ad6c371ade9",
     "showTitle": false,
     "tableResultSettingsMap": {},
     "title": ""
    }
   },
   "outputs": [
    {
     "output_type": "stream",
     "name": "stderr",
     "output_type": "stream",
     "text": [
      "INFO:py4j.clientserver:Received command c on object id p1\nINFO:py4j.clientserver:Received command c on object id p0\nINFO:py4j.clientserver:Received command c on object id p0\nINFO:__main__:Product Family Sales: 8 families\nINFO:py4j.clientserver:Received command c on object id p0\nINFO:py4j.clientserver:Received command c on object id p0\n"
     ]
    },
    {
     "output_type": "display_data",
     "data": {
      "text/html": [
       "<style scoped>\n",
       "  .table-result-container {\n",
       "    max-height: 300px;\n",
       "    overflow: auto;\n",
       "  }\n",
       "  table, th, td {\n",
       "    border: 1px solid black;\n",
       "    border-collapse: collapse;\n",
       "  }\n",
       "  th, td {\n",
       "    padding: 5px;\n",
       "  }\n",
       "  th {\n",
       "    text-align: left;\n",
       "  }\n",
       "</style><div class='table-result-container'><table class='table-result'><thead style='background-color: white'><tr><th>product_family</th><th>total_sales</th><th>total_orders</th><th>avg_order_value</th><th>created_date</th></tr></thead><tbody><tr><td>S18</td><td>486977.0</td><td>481</td><td>1012.4261954261955</td><td>2025-06-23T06:08:45.444208Z</td></tr><tr><td>S24</td><td>364491.0</td><td>361</td><td>1009.6703601108034</td><td>2025-06-23T06:08:45.444208Z</td></tr><tr><td>S700</td><td>150848.0</td><td>152</td><td>992.421052631579</td><td>2025-06-23T06:08:45.444208Z</td></tr><tr><td>S12</td><td>139705.0</td><td>138</td><td>1012.3550724637681</td><td>2025-06-23T06:08:45.444208Z</td></tr><tr><td>S32</td><td>102463.0</td><td>107</td><td>957.5981308411215</td><td>2025-06-23T06:08:45.444208Z</td></tr><tr><td>S10</td><td>72432.0</td><td>70</td><td>1034.7428571428572</td><td>2025-06-23T06:08:45.444208Z</td></tr><tr><td>S50</td><td>46470.0</td><td>48</td><td>968.125</td><td>2025-06-23T06:08:45.444208Z</td></tr><tr><td>S72</td><td>32081.0</td><td>27</td><td>1188.1851851851852</td><td>2025-06-23T06:08:45.444208Z</td></tr></tbody></table></div>"
      ]
     },
     "metadata": {
      "application/vnd.databricks.v1+output": {
       "addedWidgets": {},
       "aggData": [],
       "aggError": "",
       "aggOverflow": false,
       "aggSchema": [],
       "aggSeriesLimitReached": false,
       "aggType": "",
       "arguments": {},
       "columnCustomDisplayInfos": {},
       "data": [
        [
         "S18",
         486977.0,
         481,
         1012.4261954261955,
         "2025-06-23T06:08:45.444208Z"
        ],
        [
         "S24",
         364491.0,
         361,
         1009.6703601108034,
         "2025-06-23T06:08:45.444208Z"
        ],
        [
         "S700",
         150848.0,
         152,
         992.421052631579,
         "2025-06-23T06:08:45.444208Z"
        ],
        [
         "S12",
         139705.0,
         138,
         1012.3550724637681,
         "2025-06-23T06:08:45.444208Z"
        ],
        [
         "S32",
         102463.0,
         107,
         957.5981308411215,
         "2025-06-23T06:08:45.444208Z"
        ],
        [
         "S10",
         72432.0,
         70,
         1034.7428571428572,
         "2025-06-23T06:08:45.444208Z"
        ],
        [
         "S50",
         46470.0,
         48,
         968.125,
         "2025-06-23T06:08:45.444208Z"
        ],
        [
         "S72",
         32081.0,
         27,
         1188.1851851851852,
         "2025-06-23T06:08:45.444208Z"
        ]
       ],
       "datasetInfos": [],
       "dbfsResultPath": null,
       "isJsonSchema": true,
       "metadata": {},
       "overflow": false,
       "plotOptions": {
        "customPlotOptions": {},
        "displayType": "table",
        "pivotAggregation": null,
        "pivotColumns": null,
        "xColumns": null,
        "yColumns": null
       },
       "removedWidgets": [],
       "schema": [
        {
         "metadata": "{}",
         "name": "product_family",
         "type": "\"string\""
        },
        {
         "metadata": "{}",
         "name": "total_sales",
         "type": "\"double\""
        },
        {
         "metadata": "{}",
         "name": "total_orders",
         "type": "\"long\""
        },
        {
         "metadata": "{}",
         "name": "avg_order_value",
         "type": "\"double\""
        },
        {
         "metadata": "{}",
         "name": "created_date",
         "type": "\"timestamp\""
        }
       ],
       "type": "table"
      }
     },
     "output_type": "display_data"
    }
   ],
   "source": [
    "# 3. Product Family Analysis - Extract from product codes\n",
    "def extract_product_family(product_code):\n",
    "    \"\"\"Extract product family from product code\"\"\"\n",
    "    if product_code and \"_\" in product_code:\n",
    "        return product_code.split(\"_\")[0]\n",
    "    return \"UNKNOWN\"\n",
    "\n",
    "extract_family_udf = udf(extract_product_family, StringType())\n",
    "\n",
    "# Product family sales analysis\n",
    "product_family_sales = fact_transactions.filter(col(\"transaction_type\") == \"SALE\") \\\n",
    "    .withColumn(\"product_family\", extract_family_udf(col(\"product_code\"))) \\\n",
    "    .groupBy(\"product_family\") \\\n",
    "    .agg(\n",
    "        sum(\"net_amount\").alias(\"total_sales\"),\n",
    "        count(\"order_number\").alias(\"total_orders\"),\n",
    "        avg(\"net_amount\").alias(\"avg_order_value\")\n",
    "    ).orderBy(desc(\"total_sales\")) \\\n",
    "    .withColumn(\"created_date\", current_timestamp())\n",
    "\n",
    "logger.info(f\"Product Family Sales: {product_family_sales.count()} families\")\n",
    "display(product_family_sales)\n"
   ]
  },
  {
   "cell_type": "code",
   "execution_count": 0,
   "metadata": {
    "application/vnd.databricks.v1+cell": {
     "cellMetadata": {
      "byteLimit": 2048000,
      "rowLimit": 10000
     },
     "inputWidgets": {},
     "nuid": "9e645386-ddf2-42ba-bef0-f7251619260d",
     "showTitle": false,
     "tableResultSettingsMap": {},
     "title": ""
    }
   },
   "outputs": [
    {
     "output_type": "stream",
     "name": "stderr",
     "output_type": "stream",
     "text": [
      "INFO:py4j.clientserver:Received command c on object id p0\nINFO:py4j.clientserver:Received command c on object id p0\nINFO:__main__:Regional Rankings: 8 records\nINFO:py4j.clientserver:Received command c on object id p0\nINFO:py4j.clientserver:Received command c on object id p0\nINFO:py4j.clientserver:Received command c on object id p0\n"
     ]
    },
    {
     "output_type": "display_data",
     "data": {
      "text/html": [
       "<style scoped>\n",
       "  .table-result-container {\n",
       "    max-height: 300px;\n",
       "    overflow: auto;\n",
       "  }\n",
       "  table, th, td {\n",
       "    border: 1px solid black;\n",
       "    border-collapse: collapse;\n",
       "  }\n",
       "  th, td {\n",
       "    padding: 5px;\n",
       "  }\n",
       "  th {\n",
       "    text-align: left;\n",
       "  }\n",
       "</style><div class='table-result-container'><table class='table-result'><thead style='background-color: white'><tr><th>territory</th><th>product_code</th><th>product_family</th><th>total_sales</th><th>total_orders</th><th>rank</th><th>ranking_type</th><th>created_date</th></tr></thead><tbody><tr><td>APAC</td><td>S24_1937</td><td>S24</td><td>4363.0</td><td>5</td><td>1</td><td>Best Selling</td><td>2025-06-23T06:09:06.995353Z</td></tr><tr><td>APAC</td><td>S18_4409</td><td>S18</td><td>4164.0</td><td>3</td><td>2</td><td>Second Best Selling</td><td>2025-06-23T06:09:06.995353Z</td></tr><tr><td>EMEA</td><td>S18_4522</td><td>S18</td><td>15670.0</td><td>12</td><td>1</td><td>Best Selling</td><td>2025-06-23T06:09:06.995353Z</td></tr><tr><td>EMEA</td><td>S18_3232</td><td>S18</td><td>14313.0</td><td>13</td><td>2</td><td>Second Best Selling</td><td>2025-06-23T06:09:06.995353Z</td></tr><tr><td>Japan</td><td>S18_4027</td><td>S18</td><td>4729.0</td><td>3</td><td>1</td><td>Best Selling</td><td>2025-06-23T06:09:06.995353Z</td></tr><tr><td>Japan</td><td>S12_3891</td><td>S12</td><td>4002.0</td><td>3</td><td>2</td><td>Second Best Selling</td><td>2025-06-23T06:09:06.995353Z</td></tr><tr><td>NA</td><td>S12_4473</td><td>S12</td><td>11481.0</td><td>10</td><td>1</td><td>Best Selling</td><td>2025-06-23T06:09:06.995353Z</td></tr><tr><td>NA</td><td>S12_2823</td><td>S12</td><td>10578.0</td><td>11</td><td>2</td><td>Second Best Selling</td><td>2025-06-23T06:09:06.995353Z</td></tr></tbody></table></div>"
      ]
     },
     "metadata": {
      "application/vnd.databricks.v1+output": {
       "addedWidgets": {},
       "aggData": [],
       "aggError": "",
       "aggOverflow": false,
       "aggSchema": [],
       "aggSeriesLimitReached": false,
       "aggType": "",
       "arguments": {},
       "columnCustomDisplayInfos": {},
       "data": [
        [
         "APAC",
         "S24_1937",
         "S24",
         4363.0,
         5,
         1,
         "Best Selling",
         "2025-06-23T06:09:06.995353Z"
        ],
        [
         "APAC",
         "S18_4409",
         "S18",
         4164.0,
         3,
         2,
         "Second Best Selling",
         "2025-06-23T06:09:06.995353Z"
        ],
        [
         "EMEA",
         "S18_4522",
         "S18",
         15670.0,
         12,
         1,
         "Best Selling",
         "2025-06-23T06:09:06.995353Z"
        ],
        [
         "EMEA",
         "S18_3232",
         "S18",
         14313.0,
         13,
         2,
         "Second Best Selling",
         "2025-06-23T06:09:06.995353Z"
        ],
        [
         "Japan",
         "S18_4027",
         "S18",
         4729.0,
         3,
         1,
         "Best Selling",
         "2025-06-23T06:09:06.995353Z"
        ],
        [
         "Japan",
         "S12_3891",
         "S12",
         4002.0,
         3,
         2,
         "Second Best Selling",
         "2025-06-23T06:09:06.995353Z"
        ],
        [
         "NA",
         "S12_4473",
         "S12",
         11481.0,
         10,
         1,
         "Best Selling",
         "2025-06-23T06:09:06.995353Z"
        ],
        [
         "NA",
         "S12_2823",
         "S12",
         10578.0,
         11,
         2,
         "Second Best Selling",
         "2025-06-23T06:09:06.995353Z"
        ]
       ],
       "datasetInfos": [],
       "dbfsResultPath": null,
       "isJsonSchema": true,
       "metadata": {},
       "overflow": false,
       "plotOptions": {
        "customPlotOptions": {},
        "displayType": "table",
        "pivotAggregation": null,
        "pivotColumns": null,
        "xColumns": null,
        "yColumns": null
       },
       "removedWidgets": [],
       "schema": [
        {
         "metadata": "{}",
         "name": "territory",
         "type": "\"string\""
        },
        {
         "metadata": "{}",
         "name": "product_code",
         "type": "\"string\""
        },
        {
         "metadata": "{}",
         "name": "product_family",
         "type": "\"string\""
        },
        {
         "metadata": "{}",
         "name": "total_sales",
         "type": "\"double\""
        },
        {
         "metadata": "{}",
         "name": "total_orders",
         "type": "\"long\""
        },
        {
         "metadata": "{}",
         "name": "rank",
         "type": "\"integer\""
        },
        {
         "metadata": "{}",
         "name": "ranking_type",
         "type": "\"string\""
        },
        {
         "metadata": "{}",
         "name": "created_date",
         "type": "\"timestamp\""
        }
       ],
       "type": "table"
      }
     },
     "output_type": "display_data"
    }
   ],
   "source": [
    "from pyspark.sql.window import Window\n",
    "\n",
    "# 4. Best-selling and Second Best-selling Items by Region\n",
    "regional_product_sales = fact_transactions.filter(col(\"transaction_type\") == \"SALE\") \\\n",
    "    .withColumn(\"product_family\", extract_family_udf(col(\"product_code\"))) \\\n",
    "    .groupBy(\"territory\", \"product_code\", \"product_family\") \\\n",
    "    .agg(\n",
    "        sum(\"net_amount\").alias(\"total_sales\"),\n",
    "        count(\"order_number\").alias(\"total_orders\")\n",
    "    )\n",
    "\n",
    "# Window function to rank products by sales within each territory\n",
    "window_spec = Window.partitionBy(\"territory\").orderBy(desc(\"total_sales\"))\n",
    "\n",
    "regional_rankings = regional_product_sales.withColumn(\n",
    "    \"rank\", row_number().over(window_spec)\n",
    ").filter(col(\"rank\") <= 2) \\\n",
    ".withColumn(\"ranking_type\", \n",
    "    when(col(\"rank\") == 1, \"Best Selling\")\n",
    "    .when(col(\"rank\") == 2, \"Second Best Selling\")\n",
    "    .otherwise(\"Other\")\n",
    ").withColumn(\"created_date\", current_timestamp())\n",
    "\n",
    "logger.info(f\"Regional Rankings: {regional_rankings.count()} records\")\n",
    "display(regional_rankings)\n"
   ]
  },
  {
   "cell_type": "code",
   "execution_count": 0,
   "metadata": {
    "application/vnd.databricks.v1+cell": {
     "cellMetadata": {
      "byteLimit": 2048000,
      "rowLimit": 10000
     },
     "inputWidgets": {},
     "nuid": "9f898d8b-a08d-40d6-a88f-f6c2d2f203dd",
     "showTitle": false,
     "tableResultSettingsMap": {},
     "title": ""
    }
   },
   "outputs": [
    {
     "output_type": "stream",
     "name": "stderr",
     "output_type": "stream",
     "text": [
      "INFO:py4j.clientserver:Received command c on object id p0\nINFO:py4j.clientserver:Received command c on object id p0\nINFO:__main__:Revenue Difference Analysis: 4 territories\nINFO:py4j.clientserver:Received command c on object id p0\nINFO:py4j.clientserver:Received command c on object id p0\n"
     ]
    },
    {
     "output_type": "display_data",
     "data": {
      "text/html": [
       "<style scoped>\n",
       "  .table-result-container {\n",
       "    max-height: 300px;\n",
       "    overflow: auto;\n",
       "  }\n",
       "  table, th, td {\n",
       "    border: 1px solid black;\n",
       "    border-collapse: collapse;\n",
       "  }\n",
       "  th, td {\n",
       "    padding: 5px;\n",
       "  }\n",
       "  th {\n",
       "    text-align: left;\n",
       "  }\n",
       "</style><div class='table-result-container'><table class='table-result'><thead style='background-color: white'><tr><th>territory</th><th>best_selling_revenue</th><th>second_best_revenue</th><th>revenue_difference</th><th>revenue_difference_pct</th><th>created_date</th></tr></thead><tbody><tr><td>APAC</td><td>4363.0</td><td>4164.0</td><td>199.0</td><td>4.56</td><td>2025-06-23T06:09:24.73378Z</td></tr><tr><td>EMEA</td><td>15670.0</td><td>14313.0</td><td>1357.0</td><td>8.66</td><td>2025-06-23T06:09:24.73378Z</td></tr><tr><td>Japan</td><td>4729.0</td><td>4002.0</td><td>727.0</td><td>15.37</td><td>2025-06-23T06:09:24.73378Z</td></tr><tr><td>NA</td><td>11481.0</td><td>10578.0</td><td>903.0</td><td>7.87</td><td>2025-06-23T06:09:24.73378Z</td></tr></tbody></table></div>"
      ]
     },
     "metadata": {
      "application/vnd.databricks.v1+output": {
       "addedWidgets": {},
       "aggData": [],
       "aggError": "",
       "aggOverflow": false,
       "aggSchema": [],
       "aggSeriesLimitReached": false,
       "aggType": "",
       "arguments": {},
       "columnCustomDisplayInfos": {},
       "data": [
        [
         "APAC",
         4363.0,
         4164.0,
         199.0,
         4.56,
         "2025-06-23T06:09:24.73378Z"
        ],
        [
         "EMEA",
         15670.0,
         14313.0,
         1357.0,
         8.66,
         "2025-06-23T06:09:24.73378Z"
        ],
        [
         "Japan",
         4729.0,
         4002.0,
         727.0,
         15.37,
         "2025-06-23T06:09:24.73378Z"
        ],
        [
         "NA",
         11481.0,
         10578.0,
         903.0,
         7.87,
         "2025-06-23T06:09:24.73378Z"
        ]
       ],
       "datasetInfos": [],
       "dbfsResultPath": null,
       "isJsonSchema": true,
       "metadata": {},
       "overflow": false,
       "plotOptions": {
        "customPlotOptions": {},
        "displayType": "table",
        "pivotAggregation": null,
        "pivotColumns": null,
        "xColumns": null,
        "yColumns": null
       },
       "removedWidgets": [],
       "schema": [
        {
         "metadata": "{}",
         "name": "territory",
         "type": "\"string\""
        },
        {
         "metadata": "{}",
         "name": "best_selling_revenue",
         "type": "\"double\""
        },
        {
         "metadata": "{}",
         "name": "second_best_revenue",
         "type": "\"double\""
        },
        {
         "metadata": "{}",
         "name": "revenue_difference",
         "type": "\"double\""
        },
        {
         "metadata": "{}",
         "name": "revenue_difference_pct",
         "type": "\"double\""
        },
        {
         "metadata": "{}",
         "name": "created_date",
         "type": "\"timestamp\""
        }
       ],
       "type": "table"
      }
     },
     "output_type": "display_data"
    }
   ],
   "source": [
    "# 5. Revenue Difference Between Best and Second Best Items per Region\n",
    "revenue_difference = regional_rankings.groupBy(\"territory\") \\\n",
    "    .agg(\n",
    "        max(when(col(\"rank\") == 1, col(\"total_sales\"))).alias(\"best_selling_revenue\"),\n",
    "        max(when(col(\"rank\") == 2, col(\"total_sales\"))).alias(\"second_best_revenue\")\n",
    "    ).withColumn(\n",
    "        \"revenue_difference\", \n",
    "        col(\"best_selling_revenue\") - col(\"second_best_revenue\")\n",
    "    ).withColumn(\n",
    "        \"revenue_difference_pct\",\n",
    "        round((col(\"revenue_difference\") / col(\"best_selling_revenue\")) * 100, 2)\n",
    "    ).withColumn(\"created_date\", current_timestamp())\n",
    "\n",
    "logger.info(f\"Revenue Difference Analysis: {revenue_difference.count()} territories\")\n",
    "display(revenue_difference)\n"
   ]
  },
  {
   "cell_type": "code",
   "execution_count": 0,
   "metadata": {
    "application/vnd.databricks.v1+cell": {
     "cellMetadata": {
      "byteLimit": 2048000,
      "rowLimit": 10000
     },
     "inputWidgets": {},
     "nuid": "29c46d16-3200-487b-8285-d95191cad020",
     "showTitle": false,
     "tableResultSettingsMap": {},
     "title": ""
    }
   },
   "outputs": [
    {
     "output_type": "stream",
     "name": "stderr",
     "output_type": "stream",
     "text": [
      "INFO:py4j.clientserver:Received command c on object id p0\nINFO:py4j.clientserver:Received command c on object id p0\nINFO:py4j.clientserver:Received command c on object id p0\nINFO:py4j.clientserver:Received command c on object id p0\nINFO:py4j.clientserver:Received command c on object id p0\nINFO:py4j.clientserver:Received command c on object id p0\nINFO:py4j.clientserver:Received command c on object id p0\nINFO:__main__:Enhanced Customer Segments: 91 customers\nINFO:__main__:Thresholds: Low: <$9147.00, Medium: $9147.00-$16590.00, High: >$16590.00\nINFO:py4j.clientserver:Received command c on object id p0\nINFO:py4j.clientserver:Received command c on object id p0\nINFO:py4j.clientserver:Received command c on object id p0\n"
     ]
    },
    {
     "output_type": "display_data",
     "data": {
      "text/html": [
       "<style scoped>\n",
       "  .table-result-container {\n",
       "    max-height: 300px;\n",
       "    overflow: auto;\n",
       "  }\n",
       "  table, th, td {\n",
       "    border: 1px solid black;\n",
       "    border-collapse: collapse;\n",
       "  }\n",
       "  th, td {\n",
       "    padding: 5px;\n",
       "  }\n",
       "  th {\n",
       "    text-align: left;\n",
       "  }\n",
       "</style><div class='table-result-container'><table class='table-result'><thead style='background-color: white'><tr><th>customer_segment</th><th>count</th></tr></thead><tbody><tr><td>Medium Value</td><td>30</td></tr><tr><td>High Value</td><td>31</td></tr><tr><td>Low Value</td><td>30</td></tr></tbody></table></div>"
      ]
     },
     "metadata": {
      "application/vnd.databricks.v1+output": {
       "addedWidgets": {},
       "aggData": [],
       "aggError": "",
       "aggOverflow": false,
       "aggSchema": [],
       "aggSeriesLimitReached": false,
       "aggType": "",
       "arguments": {},
       "columnCustomDisplayInfos": {},
       "data": [
        [
         "Medium Value",
         30
        ],
        [
         "High Value",
         31
        ],
        [
         "Low Value",
         30
        ]
       ],
       "datasetInfos": [],
       "dbfsResultPath": null,
       "isJsonSchema": true,
       "metadata": {},
       "overflow": false,
       "plotOptions": {
        "customPlotOptions": {},
        "displayType": "table",
        "pivotAggregation": null,
        "pivotColumns": null,
        "xColumns": null,
        "yColumns": null
       },
       "removedWidgets": [],
       "schema": [
        {
         "metadata": "{}",
         "name": "customer_segment",
         "type": "\"string\""
        },
        {
         "metadata": "{}",
         "name": "count",
         "type": "\"long\""
        }
       ],
       "type": "table"
      }
     },
     "output_type": "display_data"
    }
   ],
   "source": [
    "# 6. Enhanced Customer Segmentation (High, Medium, Low Value)\n",
    "customer_metrics = fact_transactions.filter(col(\"transaction_type\") == \"SALE\") \\\n",
    "    .groupBy(\"customer_name\") \\\n",
    "    .agg(\n",
    "        sum(\"net_amount\").alias(\"total_spent\"),\n",
    "        count(\"order_number\").alias(\"total_orders\"),\n",
    "        avg(\"net_amount\").alias(\"avg_order_value\"),\n",
    "        max(\"order_date\").alias(\"last_order_date\"),\n",
    "        countDistinct(\"product_code\").alias(\"unique_products_purchased\")\n",
    "    )\n",
    "\n",
    "# Calculate percentiles for segmentation\n",
    "percentiles = customer_metrics.select(\n",
    "    expr(\"percentile_approx(total_spent, 0.33)\").alias(\"p33\"),\n",
    "    expr(\"percentile_approx(total_spent, 0.67)\").alias(\"p67\")\n",
    ").collect()[0]\n",
    "\n",
    "p33_threshold = percentiles[\"p33\"]\n",
    "p67_threshold = percentiles[\"p67\"]\n",
    "\n",
    "enhanced_customer_segments = customer_metrics.withColumn(\n",
    "    \"customer_segment\",\n",
    "    when(col(\"total_spent\") >= p67_threshold, \"High Value\")\n",
    "    .when(col(\"total_spent\") >= p33_threshold, \"Medium Value\")\n",
    "    .otherwise(\"Low Value\")\n",
    ").withColumn(\"created_date\", current_timestamp())\n",
    "\n",
    "logger.info(f\"Enhanced Customer Segments: {enhanced_customer_segments.count()} customers\")\n",
    "logger.info(f\"Thresholds: Low: <${p33_threshold:.2f}, Medium: ${p33_threshold:.2f}-${p67_threshold:.2f}, High: >${p67_threshold:.2f}\")\n",
    "display(enhanced_customer_segments.groupBy(\"customer_segment\").count())\n"
   ]
  },
  {
   "cell_type": "code",
   "execution_count": 0,
   "metadata": {
    "application/vnd.databricks.v1+cell": {
     "cellMetadata": {
      "byteLimit": 2048000,
      "rowLimit": 10000
     },
     "inputWidgets": {},
     "nuid": "4fca0bd4-4ff9-4d40-bfca-186fa9a20273",
     "showTitle": false,
     "tableResultSettingsMap": {},
     "title": ""
    }
   },
   "outputs": [
    {
     "output_type": "stream",
     "name": "stderr",
     "output_type": "stream",
     "text": [
      "INFO:py4j.clientserver:Received command c on object id p0\nINFO:py4j.clientserver:Received command c on object id p0\nINFO:py4j.clientserver:Received command c on object id p0\nINFO:__main__:Top 10 Customers by Spending: 10 customers\nINFO:py4j.clientserver:Received command c on object id p0\nINFO:py4j.clientserver:Received command c on object id p0\nINFO:py4j.clientserver:Received command c on object id p0\n"
     ]
    },
    {
     "output_type": "display_data",
     "data": {
      "text/html": [
       "<style scoped>\n",
       "  .table-result-container {\n",
       "    max-height: 300px;\n",
       "    overflow: auto;\n",
       "  }\n",
       "  table, th, td {\n",
       "    border: 1px solid black;\n",
       "    border-collapse: collapse;\n",
       "  }\n",
       "  th, td {\n",
       "    padding: 5px;\n",
       "  }\n",
       "  th {\n",
       "    text-align: left;\n",
       "  }\n",
       "</style><div class='table-result-container'><table class='table-result'><thead style='background-color: white'><tr><th>customer_name</th><th>phone_number</th><th>address</th><th>total_spent</th><th>total_orders</th><th>avg_order_value</th></tr></thead><tbody><tr><td>Diego Freyre</td><td>(91) 555 94 44</td><td>C/ Moralzarzal, 86</td><td>131216.0</td><td>129</td><td>1017.1782945736434</td></tr><tr><td>Valarie Nelson</td><td>4155551450</td><td>5677 Strong St.</td><td>96701.0</td><td>95</td><td>1017.9052631578948</td></tr><tr><td>Adrian Huxley</td><td>#ERROR!</td><td>Monitor Money Building, 815 Pacific Hwy</td><td>31249.0</td><td>27</td><td>1157.3703703703704</td></tr><tr><td>Kwai Yu</td><td>2125557818</td><td>897 Long Airport Avenue</td><td>29965.0</td><td>24</td><td>1248.5416666666667</td></tr><tr><td>Eric Natividad</td><td>#ERROR!</td><td>Bronz Sok., Bronz Apt. 3/6 Tesvikiye</td><td>28614.0</td><td>23</td><td>1244.0869565217392</td></tr><tr><td>Victoria Ashworth</td><td>(171) 555-1555</td><td>Fauntleroy Circus</td><td>26695.0</td><td>27</td><td>988.7037037037037</td></tr><tr><td>Giovanni Rovelli</td><td>035-640555</td><td>Via Ludovico il Moro 22</td><td>25325.0</td><td>25</td><td>1013.0</td></tr><tr><td>Janine Labrune</td><td>40.67.8555</td><td>67, rue des Cinquante Otages</td><td>24459.0</td><td>26</td><td>940.7307692307693</td></tr><tr><td>Peter Ferguson</td><td>03 9520 4555</td><td>636 St Kilda Road</td><td>23679.0</td><td>25</td><td>947.16</td></tr><tr><td>Juri Hirano</td><td>6505556809</td><td>9408 Furth Circle</td><td>23261.0</td><td>20</td><td>1163.05</td></tr></tbody></table></div>"
      ]
     },
     "metadata": {
      "application/vnd.databricks.v1+output": {
       "addedWidgets": {},
       "aggData": [],
       "aggError": "",
       "aggOverflow": false,
       "aggSchema": [],
       "aggSeriesLimitReached": false,
       "aggType": "",
       "arguments": {},
       "columnCustomDisplayInfos": {},
       "data": [
        [
         "Diego Freyre",
         "(91) 555 94 44",
         "C/ Moralzarzal, 86",
         131216.0,
         129,
         1017.1782945736434
        ],
        [
         "Valarie Nelson",
         "4155551450",
         "5677 Strong St.",
         96701.0,
         95,
         1017.9052631578948
        ],
        [
         "Adrian Huxley",
         "#ERROR!",
         "Monitor Money Building, 815 Pacific Hwy",
         31249.0,
         27,
         1157.3703703703704
        ],
        [
         "Kwai Yu",
         "2125557818",
         "897 Long Airport Avenue",
         29965.0,
         24,
         1248.5416666666667
        ],
        [
         "Eric Natividad",
         "#ERROR!",
         "Bronz Sok., Bronz Apt. 3/6 Tesvikiye",
         28614.0,
         23,
         1244.0869565217392
        ],
        [
         "Victoria Ashworth",
         "(171) 555-1555",
         "Fauntleroy Circus",
         26695.0,
         27,
         988.7037037037037
        ],
        [
         "Giovanni Rovelli",
         "035-640555",
         "Via Ludovico il Moro 22",
         25325.0,
         25,
         1013.0
        ],
        [
         "Janine Labrune",
         "40.67.8555",
         "67, rue des Cinquante Otages",
         24459.0,
         26,
         940.7307692307693
        ],
        [
         "Peter Ferguson",
         "03 9520 4555",
         "636 St Kilda Road",
         23679.0,
         25,
         947.16
        ],
        [
         "Juri Hirano",
         "6505556809",
         "9408 Furth Circle",
         23261.0,
         20,
         1163.05
        ]
       ],
       "datasetInfos": [],
       "dbfsResultPath": null,
       "isJsonSchema": true,
       "metadata": {},
       "overflow": false,
       "plotOptions": {
        "customPlotOptions": {},
        "displayType": "table",
        "pivotAggregation": null,
        "pivotColumns": null,
        "xColumns": null,
        "yColumns": null
       },
       "removedWidgets": [],
       "schema": [
        {
         "metadata": "{}",
         "name": "customer_name",
         "type": "\"string\""
        },
        {
         "metadata": "{}",
         "name": "phone_number",
         "type": "\"string\""
        },
        {
         "metadata": "{}",
         "name": "address",
         "type": "\"string\""
        },
        {
         "metadata": "{}",
         "name": "total_spent",
         "type": "\"double\""
        },
        {
         "metadata": "{}",
         "name": "total_orders",
         "type": "\"long\""
        },
        {
         "metadata": "{}",
         "name": "avg_order_value",
         "type": "\"double\""
        }
       ],
       "type": "table"
      }
     },
     "output_type": "display_data"
    },
    {
     "output_type": "stream",
     "name": "stderr",
     "output_type": "stream",
     "text": [
      "INFO:py4j.clientserver:Received command c on object id p0\n"
     ]
    }
   ],
   "source": [
    "# 7. Top 10 Customers by Spending with Contact Details (Using Fact Transactions)\n",
    "top_customers_by_spending = fact_transactions.filter(col(\"transaction_type\") == \"SALE\") \\\n",
    "    .groupBy(\"customer_name\", \"phone_number\",\"address\") \\\n",
    "    .agg(\n",
    "        sum(\"net_amount\").alias(\"total_spent\"),\n",
    "        count(\"order_number\").alias(\"total_orders\"),\n",
    "        avg(\"net_amount\").alias(\"avg_order_value\")\n",
    "    ).join(\n",
    "        dim_customer.select(\"full_name\", \"email\", \"phone\", \"city\", \"state\"),\n",
    "        trim(upper(col(\"customer_name\"))) == trim(upper(col(\"full_name\"))),\n",
    "        \"left\"\n",
    "    ).select(\n",
    "        \"customer_name\", \"phone_number\",\"address\",\n",
    "        \"total_spent\", \"total_orders\", \"avg_order_value\"\n",
    "    ).orderBy(desc(\"total_spent\")).limit(10)\n",
    "\n",
    "logger.info(f\"Top 10 Customers by Spending: {top_customers_by_spending.count()} customers\")\n",
    "display(top_customers_by_spending)"
   ]
  },
  {
   "cell_type": "code",
   "execution_count": 0,
   "metadata": {
    "application/vnd.databricks.v1+cell": {
     "cellMetadata": {
      "byteLimit": 2048000,
      "rowLimit": 10000
     },
     "inputWidgets": {},
     "nuid": "778e9d26-9cc4-45d9-8ac3-760f960e9fa5",
     "showTitle": false,
     "tableResultSettingsMap": {},
     "title": ""
    }
   },
   "outputs": [
    {
     "output_type": "stream",
     "name": "stderr",
     "output_type": "stream",
     "text": [
      "INFO:__main__:Refund UDF with 10% restocking fee implemented\nINFO:py4j.clientserver:Received command c on object id p0\nINFO:py4j.clientserver:Received command c on object id p0\n"
     ]
    },
    {
     "output_type": "display_data",
     "data": {
      "text/html": [
       "<style scoped>\n",
       "  .table-result-container {\n",
       "    max-height: 300px;\n",
       "    overflow: auto;\n",
       "  }\n",
       "  table, th, td {\n",
       "    border: 1px solid black;\n",
       "    border-collapse: collapse;\n",
       "  }\n",
       "  th, td {\n",
       "    padding: 5px;\n",
       "  }\n",
       "  th {\n",
       "    text-align: left;\n",
       "  }\n",
       "</style><div class='table-result-container'><table class='table-result'><thead style='background-color: white'><tr><th>order_number</th><th>customer_name</th><th>product_code</th><th>quantity</th><th>unit_price</th><th>total_amount</th><th>deal_size</th><th>territory</th><th>order_date</th><th>status</th><th>product_line</th><th>created_date</th><th>transaction_type</th><th>restocking_fee</th><th>net_amount</th><th>is_large_order</th><th>address</th><th>phone_number</th><th>is_refund</th><th>refund_calculation</th><th>calculated_final_amount</th><th>calculated_restocking_fee</th></tr></thead><tbody><tr><td>10107</td><td>Kwai Yu</td><td>S10_1678</td><td>30</td><td>66.43333333333334</td><td>-1993.0</td><td>Small</td><td>NA</td><td>2003-02-24</td><td>COMPLETED</td><td>General</td><td>2025-06-23T16:34:20.218611Z</td><td>REFUND</td><td>199.3</td><td>1793.7</td><td>false</td><td>897 Long Airport Avenue</td><td>2125557818</td><td>true</td><td>List(-1793.7, -199.3)</td><td>-1793.7</td><td>-199.3</td></tr><tr><td>10121</td><td>Paul Henriot</td><td>S10_1678</td><td>34</td><td>2.7058823529411766</td><td>-92.0</td><td>Small</td><td>EMEA</td><td>2003-05-07</td><td>COMPLETED</td><td>General</td><td>2025-06-23T16:34:20.218611Z</td><td>REFUND</td><td>9.200000000000001</td><td>82.8</td><td>false</td><td>59 rue de l'Abbaye</td><td>26.47.1555</td><td>true</td><td>List(-82.8, -9.200000000000001)</td><td>-82.8</td><td>-9.200000000000001</td></tr><tr><td>10134</td><td>Daniel Da Cunha</td><td>S10_1678</td><td>41</td><td>14.0</td><td>-574.0</td><td>Medium</td><td>EMEA</td><td>2003-07-01</td><td>COMPLETED</td><td>General</td><td>2025-06-23T16:34:20.218611Z</td><td>REFUND</td><td>57.400000000000006</td><td>516.6</td><td>false</td><td>27 rue du Colonel Pierre Avia</td><td>#ERROR!</td><td>true</td><td>List(-516.6, -57.400000000000006)</td><td>-516.6</td><td>-57.400000000000006</td></tr><tr><td>10145</td><td>Julie Young</td><td>S10_1678</td><td>45</td><td>13.844444444444445</td><td>-623.0</td><td>Medium</td><td>NA</td><td>2003-08-25</td><td>COMPLETED</td><td>General</td><td>2025-06-23T16:34:20.218611Z</td><td>REFUND</td><td>62.300000000000004</td><td>560.7</td><td>false</td><td>78934 Hillside Dr.</td><td>6265557265</td><td>true</td><td>List(-560.7, -62.300000000000004)</td><td>-560.7</td><td>-62.300000000000004</td></tr><tr><td>10159</td><td>Julie Brown</td><td>S10_1678</td><td>49</td><td>9.020408163265307</td><td>-442.0</td><td>Medium</td><td>NA</td><td>2003-10-10</td><td>COMPLETED</td><td>General</td><td>2025-06-23T16:34:20.218611Z</td><td>REFUND</td><td>44.2</td><td>397.8</td><td>false</td><td>7734 Strong St.</td><td>6505551386</td><td>true</td><td>List(-397.8, -44.2)</td><td>-397.8</td><td>-44.2</td></tr><tr><td>10180</td><td>Martine Rance</td><td>S10_1678</td><td>29</td><td>57.55172413793103</td><td>-1669.0</td><td>Small</td><td>EMEA</td><td>2003-11-11</td><td>COMPLETED</td><td>General</td><td>2025-06-23T16:34:20.218611Z</td><td>REFUND</td><td>166.9</td><td>1502.1</td><td>false</td><td>184, chausse de Tournai</td><td>20.16.1555</td><td>true</td><td>List(-1502.1, -166.9)</td><td>-1502.1</td><td>-166.9</td></tr><tr><td>10211</td><td>Dominique Perrier</td><td>S10_1678</td><td>41</td><td>18.073170731707318</td><td>-741.0</td><td>Medium</td><td>EMEA</td><td>2004-01-15</td><td>COMPLETED</td><td>General</td><td>2025-06-23T16:34:20.218611Z</td><td>REFUND</td><td>74.10000000000001</td><td>666.9</td><td>false</td><td>25, rue Lauriston</td><td>(1) 47.55.6555</td><td>true</td><td>List(-666.9, -74.10000000000001)</td><td>-666.9</td><td>-74.10000000000001</td></tr><tr><td>10275</td><td>Janine Labrune</td><td>S10_1678</td><td>45</td><td>4.955555555555556</td><td>-223.0</td><td>Medium</td><td>EMEA</td><td>2004-07-23</td><td>COMPLETED</td><td>General</td><td>2025-06-23T16:34:20.218611Z</td><td>REFUND</td><td>22.3</td><td>200.7</td><td>false</td><td>67, rue des Cinquante Otages</td><td>40.67.8555</td><td>true</td><td>List(-200.7, -22.3)</td><td>-200.7</td><td>-22.3</td></tr><tr><td>10285</td><td>Marta Hernandez</td><td>S10_1678</td><td>36</td><td>18.13888888888889</td><td>-653.0</td><td>Medium</td><td>NA</td><td>2004-08-27</td><td>COMPLETED</td><td>General</td><td>2025-06-23T16:34:20.218611Z</td><td>REFUND</td><td>65.3</td><td>587.7</td><td>false</td><td>39323 Spinnaker Dr.</td><td>6175558555</td><td>true</td><td>List(-587.7, -65.3)</td><td>-587.7</td><td>-65.3</td></tr><tr><td>10299</td><td>Matti Karttunen</td><td>S10_1678</td><td>23</td><td>57.30434782608695</td><td>-1318.0</td><td>Small</td><td>EMEA</td><td>2004-09-30</td><td>COMPLETED</td><td>General</td><td>2025-06-23T16:34:20.218611Z</td><td>REFUND</td><td>131.8</td><td>1186.2</td><td>false</td><td>Keskuskatu 45</td><td>90-224 8555</td><td>true</td><td>List(-1186.2, -131.8)</td><td>-1186.2</td><td>-131.8</td></tr><tr><td>10329</td><td>Kwai Yu</td><td>S10_1678</td><td>42</td><td>14.476190476190476</td><td>-608.0</td><td>Medium</td><td>NA</td><td>2004-11-15</td><td>COMPLETED</td><td>General</td><td>2025-06-23T16:34:20.218611Z</td><td>REFUND</td><td>60.800000000000004</td><td>547.2</td><td>false</td><td>897 Long Airport Avenue</td><td>2125557818</td><td>true</td><td>List(-547.2, -60.800000000000004)</td><td>-547.2</td><td>-60.800000000000004</td></tr><tr><td>10375</td><td>Janine Labrune</td><td>S10_1678</td><td>21</td><td>7.904761904761905</td><td>-166.0</td><td>Small</td><td>EMEA</td><td>2005-02-03</td><td>COMPLETED</td><td>General</td><td>2025-06-23T16:34:20.218611Z</td><td>REFUND</td><td>16.6</td><td>149.4</td><td>false</td><td>67, rue des Cinquante Otages</td><td>40.67.8555</td><td>true</td><td>List(-149.4, -16.6)</td><td>-149.4</td><td>-16.6</td></tr><tr><td>10388</td><td>Violeta Benitez</td><td>S10_1678</td><td>42</td><td>15.166666666666666</td><td>-637.0</td><td>Medium</td><td>NA</td><td>2005-03-03</td><td>COMPLETED</td><td>General</td><td>2025-06-23T16:34:20.218611Z</td><td>REFUND</td><td>63.7</td><td>573.3</td><td>false</td><td>1785 First Street</td><td>5085552555</td><td>true</td><td>List(-573.3, -63.7)</td><td>-573.3</td><td>-63.7</td></tr><tr><td>10417</td><td>Diego Freyre</td><td>S10_1678</td><td>66</td><td>11.090909090909092</td><td>-732.0</td><td>Large</td><td>EMEA</td><td>2005-05-13</td><td>COMPLETED</td><td>General</td><td>2025-06-23T16:34:20.218611Z</td><td>REFUND</td><td>73.2</td><td>658.8</td><td>false</td><td>C/ Moralzarzal, 86</td><td>(91) 555 94 44</td><td>true</td><td>List(-658.8, -73.2)</td><td>-658.8</td><td>-73.2</td></tr><tr><td>10103</td><td>Jonas Bergulfsen</td><td>S10_1949</td><td>26</td><td>50.65384615384615</td><td>-1317.0</td><td>Medium</td><td>EMEA</td><td>2003-01-29</td><td>COMPLETED</td><td>General</td><td>2025-06-23T16:34:20.218611Z</td><td>REFUND</td><td>131.70000000000002</td><td>1185.3</td><td>false</td><td>Erling Skakkes gate 78</td><td>07-98 9555</td><td>true</td><td>List(-1185.3, -131.70000000000002)</td><td>-1185.3</td><td>-131.70000000000002</td></tr><tr><td>10112</td><td>Christina Berglund</td><td>S10_1949</td><td>29</td><td>32.58620689655172</td><td>-945.0</td><td>Large</td><td>EMEA</td><td>2003-03-24</td><td>COMPLETED</td><td>General</td><td>2025-06-23T16:34:20.218611Z</td><td>REFUND</td><td>94.5</td><td>850.5</td><td>false</td><td>BerguvsvÑgen 8</td><td>0921-12 3555</td><td>true</td><td>List(-850.5, -94.5)</td><td>-850.5</td><td>-94.5</td></tr><tr><td>10150</td><td>Eric Natividad</td><td>S10_1949</td><td>45</td><td>23.822222222222223</td><td>-1072.0</td><td>Large</td><td>Japan</td><td>2003-09-19</td><td>COMPLETED</td><td>General</td><td>2025-06-23T16:34:20.218611Z</td><td>REFUND</td><td>107.2</td><td>964.8</td><td>false</td><td>Bronz Sok., Bronz Apt. 3/6 Tesvikiye</td><td>#ERROR!</td><td>true</td><td>List(-964.8, -107.2)</td><td>-964.8</td><td>-107.2</td></tr><tr><td>10174</td><td>Tony Calaghan</td><td>S10_1949</td><td>34</td><td>48.23529411764706</td><td>-1640.0</td><td>Large</td><td>APAC</td><td>2003-11-06</td><td>COMPLETED</td><td>General</td><td>2025-06-23T16:34:20.218611Z</td><td>REFUND</td><td>164.0</td><td>1476.0</td><td>false</td><td>31 Duncan St. West End</td><td>61-7-3844-6555</td><td>true</td><td>List(-1476.0, -164.0)</td><td>-1476.0</td><td>-164.0</td></tr><tr><td>10206</td><td>Yoshi Tannamuri</td><td>S10_1949</td><td>47</td><td>13.574468085106384</td><td>-638.0</td><td>Large</td><td>NA</td><td>2003-12-05</td><td>COMPLETED</td><td>General</td><td>2025-06-23T16:34:20.218611Z</td><td>REFUND</td><td>63.800000000000004</td><td>574.2</td><td>false</td><td>1900 Oak St.</td><td>(604) 555-3392</td><td>true</td><td>List(-574.2, -63.800000000000004)</td><td>-574.2</td><td>-63.800000000000004</td></tr><tr><td>10245</td><td>Leslie Murphy</td><td>S10_1949</td><td>34</td><td>32.05882352941177</td><td>-1090.0</td><td>Medium</td><td>NA</td><td>2004-05-04</td><td>COMPLETED</td><td>General</td><td>2025-06-23T16:34:20.218611Z</td><td>REFUND</td><td>109.0</td><td>981.0</td><td>false</td><td>567 North Pendale Street</td><td>2035559545</td><td>true</td><td>List(-981.0, -109.0)</td><td>-981.0</td><td>-109.0</td></tr><tr><td>10258</td><td>Akiko Shimamura</td><td>S10_1949</td><td>32</td><td>30.65625</td><td>-981.0</td><td>Large</td><td>Japan</td><td>2004-06-15</td><td>COMPLETED</td><td>General</td><td>2025-06-23T16:34:20.218611Z</td><td>REFUND</td><td>98.10000000000001</td><td>882.9</td><td>false</td><td>2-2-8 Roppongi</td><td>#ERROR!</td><td>true</td><td>List(-882.9, -98.10000000000001)</td><td>-882.9</td><td>-98.10000000000001</td></tr><tr><td>10291</td><td>Maria Larsson</td><td>S10_1949</td><td>37</td><td>8.702702702702704</td><td>-322.0</td><td>Large</td><td>EMEA</td><td>2004-09-08</td><td>COMPLETED</td><td>General</td><td>2025-06-23T16:34:20.218611Z</td><td>REFUND</td><td>32.2</td><td>289.8</td><td>false</td><td>?kergatan 24</td><td>0695-34 6555</td><td>true</td><td>List(-289.8, -32.2)</td><td>-289.8</td><td>-32.2</td></tr><tr><td>10304</td><td>Daniel Tonini</td><td>S10_1949</td><td>47</td><td>34.95744680851064</td><td>-1643.0</td><td>Large</td><td>EMEA</td><td>2004-10-11</td><td>COMPLETED</td><td>General</td><td>2025-06-23T16:34:20.218611Z</td><td>REFUND</td><td>164.3</td><td>1478.7</td><td>false</td><td>67, avenue de l'Europe</td><td>30.59.8555</td><td>true</td><td>List(-1478.7, -164.3)</td><td>-1478.7</td><td>-164.3</td></tr><tr><td>10312</td><td>Valarie Nelson</td><td>S10_1949</td><td>48</td><td>7.8125</td><td>-375.0</td><td>Large</td><td>NA</td><td>2004-10-21</td><td>COMPLETED</td><td>General</td><td>2025-06-23T16:34:20.218611Z</td><td>REFUND</td><td>37.5</td><td>337.5</td><td>false</td><td>5677 Strong St.</td><td>4155551450</td><td>true</td><td>List(-337.5, -37.5)</td><td>-337.5</td><td>-37.5</td></tr><tr><td>10333</td><td>Julie Murphy</td><td>S10_1949</td><td>26</td><td>75.73076923076923</td><td>-1969.0</td><td>Medium</td><td>NA</td><td>2004-11-18</td><td>COMPLETED</td><td>General</td><td>2025-06-23T16:34:20.218611Z</td><td>REFUND</td><td>196.9</td><td>1772.1</td><td>false</td><td>5557 North Pendale Street</td><td>6505555787</td><td>true</td><td>List(-1772.1, -196.9)</td><td>-1772.1</td><td>-196.9</td></tr><tr><td>10347</td><td>Peter Ferguson</td><td>S10_1949</td><td>30</td><td>6.2</td><td>-186.0</td><td>Medium</td><td>APAC</td><td>2004-11-29</td><td>COMPLETED</td><td>General</td><td>2025-06-23T16:34:20.218611Z</td><td>REFUND</td><td>18.6</td><td>167.4</td><td>false</td><td>636 St Kilda Road</td><td>03 9520 4555</td><td>true</td><td>List(-167.4, -18.6)</td><td>-167.4</td><td>-18.6</td></tr><tr><td>10357</td><td>Valarie Nelson</td><td>S10_1949</td><td>32</td><td>21.5</td><td>-688.0</td><td>Medium</td><td>NA</td><td>2004-12-10</td><td>COMPLETED</td><td>General</td><td>2025-06-23T16:34:20.218611Z</td><td>REFUND</td><td>68.8</td><td>619.2</td><td>false</td><td>5677 Strong St.</td><td>4155551450</td><td>true</td><td>List(-619.2, -68.8)</td><td>-619.2</td><td>-68.8</td></tr><tr><td>10381</td><td>Julie Brown</td><td>S10_1949</td><td>36</td><td>11.722222222222221</td><td>-422.0</td><td>Large</td><td>NA</td><td>2005-02-17</td><td>COMPLETED</td><td>General</td><td>2025-06-23T16:34:20.218611Z</td><td>REFUND</td><td>42.2</td><td>379.8</td><td>false</td><td>7734 Strong St.</td><td>6505551386</td><td>true</td><td>List(-379.8, -42.2)</td><td>-379.8</td><td>-42.2</td></tr><tr><td>10411</td><td>Jean Fresnisre</td><td>S10_1949</td><td>23</td><td>1.826086956521739</td><td>-42.0</td><td>Medium</td><td>NA</td><td>2005-05-01</td><td>COMPLETED</td><td>General</td><td>2025-06-23T16:34:20.218611Z</td><td>REFUND</td><td>4.2</td><td>37.8</td><td>false</td><td>43 rue St. Laurent</td><td>(514) 555-8054</td><td>true</td><td>List(-37.8, -4.2)</td><td>-37.8</td><td>-4.2</td></tr><tr><td>10424</td><td>Diego Freyre</td><td>S10_1949</td><td>50</td><td>33.38</td><td>-1669.0</td><td>Large</td><td>EMEA</td><td>2005-05-31</td><td>COMPLETED</td><td>General</td><td>2025-06-23T16:34:20.218611Z</td><td>REFUND</td><td>166.9</td><td>1502.1</td><td>false</td><td>C/ Moralzarzal, 86</td><td>(91) 555 94 44</td><td>true</td><td>List(-1502.1, -166.9)</td><td>-1502.1</td><td>-166.9</td></tr><tr><td>10134</td><td>Daniel Da Cunha</td><td>S10_2016</td><td>27</td><td>29.185185185185187</td><td>-788.0</td><td>Medium</td><td>EMEA</td><td>2003-07-01</td><td>COMPLETED</td><td>General</td><td>2025-06-23T16:34:20.218611Z</td><td>REFUND</td><td>78.80000000000001</td><td>709.2</td><td>false</td><td>27 rue du Colonel Pierre Avia</td><td>#ERROR!</td><td>true</td><td>List(-709.2, -78.80000000000001)</td><td>-709.2</td><td>-78.80000000000001</td></tr><tr><td>10168</td><td>Juri Hirano</td><td>S10_2016</td><td>27</td><td>12.481481481481481</td><td>-337.0</td><td>Medium</td><td>NA</td><td>2003-10-28</td><td>COMPLETED</td><td>General</td><td>2025-06-23T16:34:20.218611Z</td><td>REFUND</td><td>33.7</td><td>303.3</td><td>false</td><td>9408 Furth Circle</td><td>6505556809</td><td>true</td><td>List(-303.3, -33.7)</td><td>-303.3</td><td>-33.7</td></tr><tr><td>10180</td><td>Martine Rance</td><td>S10_2016</td><td>42</td><td>35.11904761904762</td><td>-1475.0</td><td>Medium</td><td>EMEA</td><td>2003-11-11</td><td>COMPLETED</td><td>General</td><td>2025-06-23T16:34:20.218611Z</td><td>REFUND</td><td>147.5</td><td>1327.5</td><td>false</td><td>184, chausse de Tournai</td><td>20.16.1555</td><td>true</td><td>List(-1327.5, -147.5)</td><td>-1327.5</td><td>-147.5</td></tr><tr><td>10188</td><td>Veysel Oeztan</td><td>S10_2016</td><td>38</td><td>46.973684210526315</td><td>-1785.0</td><td>Medium</td><td>EMEA</td><td>2003-11-18</td><td>COMPLETED</td><td>General</td><td>2025-06-23T16:34:20.218611Z</td><td>REFUND</td><td>178.5</td><td>1606.5</td><td>false</td><td>Drammen 121, PR 744 Sentrum</td><td>#ERROR!</td><td>true</td><td>List(-1606.5, -178.5)</td><td>-1606.5</td><td>-178.5</td></tr><tr><td>10201</td><td>Julie Murphy</td><td>S10_2016</td><td>24</td><td>7.5</td><td>-180.0</td><td>Medium</td><td>NA</td><td>2003-12-01</td><td>COMPLETED</td><td>General</td><td>2025-06-23T16:34:20.218611Z</td><td>REFUND</td><td>18.0</td><td>162.0</td><td>false</td><td>5557 North Pendale Street</td><td>6505555787</td><td>true</td><td>List(-162.0, -18.0)</td><td>-162.0</td><td>-18.0</td></tr><tr><td>10210</td><td>Mory Kentary</td><td>S10_2016</td><td>23</td><td>17.695652173913043</td><td>-407.0</td><td>Medium</td><td>Japan</td><td>2004-01-12</td><td>COMPLETED</td><td>General</td><td>2025-06-23T16:34:20.218611Z</td><td>REFUND</td><td>40.7</td><td>366.3</td><td>false</td><td>Dojima Avanza 4F, 1-6-20 Dojima, Kita-ku</td><td>#ERROR!</td><td>true</td><td>List(-366.3, -40.7)</td><td>-366.3</td><td>-40.7</td></tr><tr><td>10236</td><td>Rosa Hernandez</td><td>S10_2016</td><td>22</td><td>39.18181818181818</td><td>-862.0</td><td>Small</td><td>NA</td><td>2004-04-03</td><td>COMPLETED</td><td>General</td><td>2025-06-23T16:34:20.218611Z</td><td>REFUND</td><td>86.2</td><td>775.8</td><td>false</td><td>11328 Douglas Av.</td><td>2155559857</td><td>true</td><td>List(-775.8, -86.2)</td><td>-775.8</td><td>-86.2</td></tr><tr><td>10263</td><td>Julie King</td><td>S10_2016</td><td>40</td><td>46.45</td><td>-1858.0</td><td>Medium</td><td>NA</td><td>2004-06-28</td><td>COMPLETED</td><td>General</td><td>2025-06-23T16:34:20.218611Z</td><td>REFUND</td><td>185.8</td><td>1672.2</td><td>false</td><td>25593 South Bay Ln.</td><td>2035552570</td><td>true</td><td>List(-1672.2, -185.8)</td><td>-1672.2</td><td>-185.8</td></tr><tr><td>10285</td><td>Marta Hernandez</td><td>S10_2016</td><td>47</td><td>25.404255319148938</td><td>-1194.0</td><td>Medium</td><td>NA</td><td>2004-08-27</td><td>COMPLETED</td><td>General</td><td>2025-06-23T16:34:20.218611Z</td><td>REFUND</td><td>119.4</td><td>1074.6</td><td>false</td><td>39323 Spinnaker Dr.</td><td>6175558555</td><td>true</td><td>List(-1074.6, -119.4)</td><td>-1074.6</td><td>-119.4</td></tr><tr><td>10298</td><td>Carine Schmitt</td><td>S10_2016</td><td>39</td><td>16.41025641025641</td><td>-640.0</td><td>Medium</td><td>EMEA</td><td>2004-09-27</td><td>COMPLETED</td><td>General</td><td>2025-06-23T16:34:20.218611Z</td><td>REFUND</td><td>64.0</td><td>576.0</td><td>false</td><td>54, rue Royale</td><td>40.32.2555</td><td>true</td><td>List(-576.0, -64.0)</td><td>-576.0</td><td>-64.0</td></tr><tr><td>10329</td><td>Kwai Yu</td><td>S10_2016</td><td>20</td><td>30.15</td><td>-603.0</td><td>Medium</td><td>NA</td><td>2004-11-15</td><td>COMPLETED</td><td>General</td><td>2025-06-23T16:34:20.218611Z</td><td>REFUND</td><td>60.300000000000004</td><td>542.7</td><td>false</td><td>897 Long Airport Avenue</td><td>2125557818</td><td>true</td><td>List(-542.7, -60.300000000000004)</td><td>-542.7</td><td>-60.300000000000004</td></tr><tr><td>10339</td><td>Akiko Shimamura</td><td>S10_2016</td><td>40</td><td>47.975</td><td>-1919.0</td><td>Small</td><td>Japan</td><td>2004-11-23</td><td>COMPLETED</td><td>General</td><td>2025-06-23T16:34:20.218611Z</td><td>REFUND</td><td>191.9</td><td>1727.1</td><td>false</td><td>2-2-8 Roppongi</td><td>#ERROR!</td><td>true</td><td>List(-1727.1, -191.9)</td><td>-1727.1</td><td>-191.9</td></tr><tr><td>10361</td><td>Adrian Huxley</td><td>S10_2016</td><td>26</td><td>11.576923076923077</td><td>-301.0</td><td>Small</td><td>APAC</td><td>2004-12-17</td><td>COMPLETED</td><td>General</td><td>2025-06-23T16:34:20.218611Z</td><td>REFUND</td><td>30.1</td><td>270.9</td><td>false</td><td>Monitor Money Building, 815 Pacific Hwy</td><td>#ERROR!</td><td>true</td><td>List(-270.9, -30.1)</td><td>-270.9</td><td>-30.1</td></tr><tr><td>10417</td><td>Diego Freyre</td><td>S10_2016</td><td>45</td><td>13.688888888888888</td><td>-616.0</td><td>Medium</td><td>EMEA</td><td>2005-05-13</td><td>COMPLETED</td><td>General</td><td>2025-06-23T16:34:20.218611Z</td><td>REFUND</td><td>61.6</td><td>554.4</td><td>false</td><td>C/ Moralzarzal, 86</td><td>(91) 555 94 44</td><td>true</td><td>List(-554.4, -61.6)</td><td>-554.4</td><td>-61.6</td></tr><tr><td>10120</td><td>Peter Ferguson</td><td>S10_4698</td><td>46</td><td>6.8478260869565215</td><td>-315.0</td><td>Large</td><td>APAC</td><td>2003-04-29</td><td>COMPLETED</td><td>General</td><td>2025-06-23T16:34:20.218611Z</td><td>REFUND</td><td>31.5</td><td>283.5</td><td>false</td><td>636 St Kilda Road</td><td>03 9520 4555</td><td>true</td><td>List(-283.5, -31.5)</td><td>-283.5</td><td>-31.5</td></tr><tr><td>10145</td><td>Julie Young</td><td>S10_4698</td><td>33</td><td>3.0606060606060606</td><td>-101.0</td><td>Medium</td><td>NA</td><td>2003-08-25</td><td>COMPLETED</td><td>General</td><td>2025-06-23T16:34:20.218611Z</td><td>REFUND</td><td>10.100000000000001</td><td>90.9</td><td>false</td><td>78934 Hillside Dr.</td><td>6265557265</td><td>true</td><td>List(-90.9, -10.100000000000001)</td><td>-90.9</td><td>-10.100000000000001</td></tr><tr><td>10159</td><td>Julie Brown</td><td>S10_4698</td><td>22</td><td>16.545454545454547</td><td>-364.0</td><td>Medium</td><td>NA</td><td>2003-10-10</td><td>COMPLETED</td><td>General</td><td>2025-06-23T16:34:20.218611Z</td><td>REFUND</td><td>36.4</td><td>327.6</td><td>false</td><td>7734 Strong St.</td><td>6505551386</td><td>true</td><td>List(-327.6, -36.4)</td><td>-327.6</td><td>-36.4</td></tr><tr><td>10210</td><td>Mory Kentary</td><td>S10_4698</td><td>34</td><td>25.5</td><td>-867.0</td><td>Medium</td><td>Japan</td><td>2004-01-12</td><td>COMPLETED</td><td>General</td><td>2025-06-23T16:34:20.218611Z</td><td>REFUND</td><td>86.7</td><td>780.3</td><td>false</td><td>Dojima Avanza 4F, 1-6-20 Dojima, Kita-ku</td><td>#ERROR!</td><td>true</td><td>List(-780.3, -86.7)</td><td>-780.3</td><td>-86.7</td></tr><tr><td>10223</td><td>Peter Ferguson</td><td>S10_4698</td><td>49</td><td>15.46938775510204</td><td>-758.0</td><td>Large</td><td>APAC</td><td>2004-02-20</td><td>COMPLETED</td><td>General</td><td>2025-06-23T16:34:20.218611Z</td><td>REFUND</td><td>75.8</td><td>682.2</td><td>false</td><td>636 St Kilda Road</td><td>03 9520 4555</td><td>true</td><td>List(-682.2, -75.8)</td><td>-682.2</td><td>-75.8</td></tr><tr><td>10251</td><td>William Brown</td><td>S10_4698</td><td>43</td><td>36.93023255813954</td><td>-1588.0</td><td>Large</td><td>NA</td><td>2004-05-18</td><td>COMPLETED</td><td>General</td><td>2025-06-23T16:34:20.218611Z</td><td>REFUND</td><td>158.8</td><td>1429.2</td><td>false</td><td>7476 Moss Rd.</td><td>2015559350</td><td>true</td><td>List(-1429.2, -158.8)</td><td>-1429.2</td><td>-158.8</td></tr></tbody></table></div>"
      ]
     },
     "metadata": {
      "application/vnd.databricks.v1+output": {
       "addedWidgets": {},
       "aggData": [],
       "aggError": "",
       "aggOverflow": false,
       "aggSchema": [],
       "aggSeriesLimitReached": false,
       "aggType": "",
       "arguments": {},
       "columnCustomDisplayInfos": {},
       "data": [
        [
         10107,
         "Kwai Yu",
         "S10_1678",
         30,
         66.43333333333334,
         -1993.0,
         "Small",
         "NA",
         "2003-02-24",
         "COMPLETED",
         "General",
         "2025-06-23T16:34:20.218611Z",
         "REFUND",
         199.3,
         1793.7,
         "false",
         "897 Long Airport Avenue",
         "2125557818",
         true,
         [
          -1793.7,
          -199.3
         ],
         -1793.7,
         -199.3
        ],
        [
         10121,
         "Paul Henriot",
         "S10_1678",
         34,
         2.7058823529411766,
         -92.0,
         "Small",
         "EMEA",
         "2003-05-07",
         "COMPLETED",
         "General",
         "2025-06-23T16:34:20.218611Z",
         "REFUND",
         9.200000000000001,
         82.8,
         "false",
         "59 rue de l'Abbaye",
         "26.47.1555",
         true,
         [
          -82.8,
          -9.200000000000001
         ],
         -82.8,
         -9.200000000000001
        ],
        [
         10134,
         "Daniel Da Cunha",
         "S10_1678",
         41,
         14.0,
         -574.0,
         "Medium",
         "EMEA",
         "2003-07-01",
         "COMPLETED",
         "General",
         "2025-06-23T16:34:20.218611Z",
         "REFUND",
         57.400000000000006,
         516.6,
         "false",
         "27 rue du Colonel Pierre Avia",
         "#ERROR!",
         true,
         [
          -516.6,
          -57.400000000000006
         ],
         -516.6,
         -57.400000000000006
        ],
        [
         10145,
         "Julie Young",
         "S10_1678",
         45,
         13.844444444444445,
         -623.0,
         "Medium",
         "NA",
         "2003-08-25",
         "COMPLETED",
         "General",
         "2025-06-23T16:34:20.218611Z",
         "REFUND",
         62.300000000000004,
         560.7,
         "false",
         "78934 Hillside Dr.",
         "6265557265",
         true,
         [
          -560.7,
          -62.300000000000004
         ],
         -560.7,
         -62.300000000000004
        ],
        [
         10159,
         "Julie Brown",
         "S10_1678",
         49,
         9.020408163265307,
         -442.0,
         "Medium",
         "NA",
         "2003-10-10",
         "COMPLETED",
         "General",
         "2025-06-23T16:34:20.218611Z",
         "REFUND",
         44.2,
         397.8,
         "false",
         "7734 Strong St.",
         "6505551386",
         true,
         [
          -397.8,
          -44.2
         ],
         -397.8,
         -44.2
        ],
        [
         10180,
         "Martine Rance",
         "S10_1678",
         29,
         57.55172413793103,
         -1669.0,
         "Small",
         "EMEA",
         "2003-11-11",
         "COMPLETED",
         "General",
         "2025-06-23T16:34:20.218611Z",
         "REFUND",
         166.9,
         1502.1,
         "false",
         "184, chausse de Tournai",
         "20.16.1555",
         true,
         [
          -1502.1,
          -166.9
         ],
         -1502.1,
         -166.9
        ],
        [
         10211,
         "Dominique Perrier",
         "S10_1678",
         41,
         18.073170731707318,
         -741.0,
         "Medium",
         "EMEA",
         "2004-01-15",
         "COMPLETED",
         "General",
         "2025-06-23T16:34:20.218611Z",
         "REFUND",
         74.10000000000001,
         666.9,
         "false",
         "25, rue Lauriston",
         "(1) 47.55.6555",
         true,
         [
          -666.9,
          -74.10000000000001
         ],
         -666.9,
         -74.10000000000001
        ],
        [
         10275,
         "Janine Labrune",
         "S10_1678",
         45,
         4.955555555555556,
         -223.0,
         "Medium",
         "EMEA",
         "2004-07-23",
         "COMPLETED",
         "General",
         "2025-06-23T16:34:20.218611Z",
         "REFUND",
         22.3,
         200.7,
         "false",
         "67, rue des Cinquante Otages",
         "40.67.8555",
         true,
         [
          -200.7,
          -22.3
         ],
         -200.7,
         -22.3
        ],
        [
         10285,
         "Marta Hernandez",
         "S10_1678",
         36,
         18.13888888888889,
         -653.0,
         "Medium",
         "NA",
         "2004-08-27",
         "COMPLETED",
         "General",
         "2025-06-23T16:34:20.218611Z",
         "REFUND",
         65.3,
         587.7,
         "false",
         "39323 Spinnaker Dr.",
         "6175558555",
         true,
         [
          -587.7,
          -65.3
         ],
         -587.7,
         -65.3
        ],
        [
         10299,
         "Matti Karttunen",
         "S10_1678",
         23,
         57.30434782608695,
         -1318.0,
         "Small",
         "EMEA",
         "2004-09-30",
         "COMPLETED",
         "General",
         "2025-06-23T16:34:20.218611Z",
         "REFUND",
         131.8,
         1186.2,
         "false",
         "Keskuskatu 45",
         "90-224 8555",
         true,
         [
          -1186.2,
          -131.8
         ],
         -1186.2,
         -131.8
        ],
        [
         10329,
         "Kwai Yu",
         "S10_1678",
         42,
         14.476190476190476,
         -608.0,
         "Medium",
         "NA",
         "2004-11-15",
         "COMPLETED",
         "General",
         "2025-06-23T16:34:20.218611Z",
         "REFUND",
         60.800000000000004,
         547.2,
         "false",
         "897 Long Airport Avenue",
         "2125557818",
         true,
         [
          -547.2,
          -60.800000000000004
         ],
         -547.2,
         -60.800000000000004
        ],
        [
         10375,
         "Janine Labrune",
         "S10_1678",
         21,
         7.904761904761905,
         -166.0,
         "Small",
         "EMEA",
         "2005-02-03",
         "COMPLETED",
         "General",
         "2025-06-23T16:34:20.218611Z",
         "REFUND",
         16.6,
         149.4,
         "false",
         "67, rue des Cinquante Otages",
         "40.67.8555",
         true,
         [
          -149.4,
          -16.6
         ],
         -149.4,
         -16.6
        ],
        [
         10388,
         "Violeta Benitez",
         "S10_1678",
         42,
         15.166666666666666,
         -637.0,
         "Medium",
         "NA",
         "2005-03-03",
         "COMPLETED",
         "General",
         "2025-06-23T16:34:20.218611Z",
         "REFUND",
         63.7,
         573.3,
         "false",
         "1785 First Street",
         "5085552555",
         true,
         [
          -573.3,
          -63.7
         ],
         -573.3,
         -63.7
        ],
        [
         10417,
         "Diego Freyre",
         "S10_1678",
         66,
         11.090909090909092,
         -732.0,
         "Large",
         "EMEA",
         "2005-05-13",
         "COMPLETED",
         "General",
         "2025-06-23T16:34:20.218611Z",
         "REFUND",
         73.2,
         658.8,
         "false",
         "C/ Moralzarzal, 86",
         "(91) 555 94 44",
         true,
         [
          -658.8,
          -73.2
         ],
         -658.8,
         -73.2
        ],
        [
         10103,
         "Jonas Bergulfsen",
         "S10_1949",
         26,
         50.65384615384615,
         -1317.0,
         "Medium",
         "EMEA",
         "2003-01-29",
         "COMPLETED",
         "General",
         "2025-06-23T16:34:20.218611Z",
         "REFUND",
         131.70000000000002,
         1185.3,
         "false",
         "Erling Skakkes gate 78",
         "07-98 9555",
         true,
         [
          -1185.3,
          -131.70000000000002
         ],
         -1185.3,
         -131.70000000000002
        ],
        [
         10112,
         "Christina Berglund",
         "S10_1949",
         29,
         32.58620689655172,
         -945.0,
         "Large",
         "EMEA",
         "2003-03-24",
         "COMPLETED",
         "General",
         "2025-06-23T16:34:20.218611Z",
         "REFUND",
         94.5,
         850.5,
         "false",
         "BerguvsvÑgen 8",
         "0921-12 3555",
         true,
         [
          -850.5,
          -94.5
         ],
         -850.5,
         -94.5
        ],
        [
         10150,
         "Eric Natividad",
         "S10_1949",
         45,
         23.822222222222223,
         -1072.0,
         "Large",
         "Japan",
         "2003-09-19",
         "COMPLETED",
         "General",
         "2025-06-23T16:34:20.218611Z",
         "REFUND",
         107.2,
         964.8,
         "false",
         "Bronz Sok., Bronz Apt. 3/6 Tesvikiye",
         "#ERROR!",
         true,
         [
          -964.8,
          -107.2
         ],
         -964.8,
         -107.2
        ],
        [
         10174,
         "Tony Calaghan",
         "S10_1949",
         34,
         48.23529411764706,
         -1640.0,
         "Large",
         "APAC",
         "2003-11-06",
         "COMPLETED",
         "General",
         "2025-06-23T16:34:20.218611Z",
         "REFUND",
         164.0,
         1476.0,
         "false",
         "31 Duncan St. West End",
         "61-7-3844-6555",
         true,
         [
          -1476.0,
          -164.0
         ],
         -1476.0,
         -164.0
        ],
        [
         10206,
         "Yoshi Tannamuri",
         "S10_1949",
         47,
         13.574468085106384,
         -638.0,
         "Large",
         "NA",
         "2003-12-05",
         "COMPLETED",
         "General",
         "2025-06-23T16:34:20.218611Z",
         "REFUND",
         63.800000000000004,
         574.2,
         "false",
         "1900 Oak St.",
         "(604) 555-3392",
         true,
         [
          -574.2,
          -63.800000000000004
         ],
         -574.2,
         -63.800000000000004
        ],
        [
         10245,
         "Leslie Murphy",
         "S10_1949",
         34,
         32.05882352941177,
         -1090.0,
         "Medium",
         "NA",
         "2004-05-04",
         "COMPLETED",
         "General",
         "2025-06-23T16:34:20.218611Z",
         "REFUND",
         109.0,
         981.0,
         "false",
         "567 North Pendale Street",
         "2035559545",
         true,
         [
          -981.0,
          -109.0
         ],
         -981.0,
         -109.0
        ],
        [
         10258,
         "Akiko Shimamura",
         "S10_1949",
         32,
         30.65625,
         -981.0,
         "Large",
         "Japan",
         "2004-06-15",
         "COMPLETED",
         "General",
         "2025-06-23T16:34:20.218611Z",
         "REFUND",
         98.10000000000001,
         882.9,
         "false",
         "2-2-8 Roppongi",
         "#ERROR!",
         true,
         [
          -882.9,
          -98.10000000000001
         ],
         -882.9,
         -98.10000000000001
        ],
        [
         10291,
         "Maria Larsson",
         "S10_1949",
         37,
         8.702702702702704,
         -322.0,
         "Large",
         "EMEA",
         "2004-09-08",
         "COMPLETED",
         "General",
         "2025-06-23T16:34:20.218611Z",
         "REFUND",
         32.2,
         289.8,
         "false",
         "?kergatan 24",
         "0695-34 6555",
         true,
         [
          -289.8,
          -32.2
         ],
         -289.8,
         -32.2
        ],
        [
         10304,
         "Daniel Tonini",
         "S10_1949",
         47,
         34.95744680851064,
         -1643.0,
         "Large",
         "EMEA",
         "2004-10-11",
         "COMPLETED",
         "General",
         "2025-06-23T16:34:20.218611Z",
         "REFUND",
         164.3,
         1478.7,
         "false",
         "67, avenue de l'Europe",
         "30.59.8555",
         true,
         [
          -1478.7,
          -164.3
         ],
         -1478.7,
         -164.3
        ],
        [
         10312,
         "Valarie Nelson",
         "S10_1949",
         48,
         7.8125,
         -375.0,
         "Large",
         "NA",
         "2004-10-21",
         "COMPLETED",
         "General",
         "2025-06-23T16:34:20.218611Z",
         "REFUND",
         37.5,
         337.5,
         "false",
         "5677 Strong St.",
         "4155551450",
         true,
         [
          -337.5,
          -37.5
         ],
         -337.5,
         -37.5
        ],
        [
         10333,
         "Julie Murphy",
         "S10_1949",
         26,
         75.73076923076923,
         -1969.0,
         "Medium",
         "NA",
         "2004-11-18",
         "COMPLETED",
         "General",
         "2025-06-23T16:34:20.218611Z",
         "REFUND",
         196.9,
         1772.1,
         "false",
         "5557 North Pendale Street",
         "6505555787",
         true,
         [
          -1772.1,
          -196.9
         ],
         -1772.1,
         -196.9
        ],
        [
         10347,
         "Peter Ferguson",
         "S10_1949",
         30,
         6.2,
         -186.0,
         "Medium",
         "APAC",
         "2004-11-29",
         "COMPLETED",
         "General",
         "2025-06-23T16:34:20.218611Z",
         "REFUND",
         18.6,
         167.4,
         "false",
         "636 St Kilda Road",
         "03 9520 4555",
         true,
         [
          -167.4,
          -18.6
         ],
         -167.4,
         -18.6
        ],
        [
         10357,
         "Valarie Nelson",
         "S10_1949",
         32,
         21.5,
         -688.0,
         "Medium",
         "NA",
         "2004-12-10",
         "COMPLETED",
         "General",
         "2025-06-23T16:34:20.218611Z",
         "REFUND",
         68.8,
         619.2,
         "false",
         "5677 Strong St.",
         "4155551450",
         true,
         [
          -619.2,
          -68.8
         ],
         -619.2,
         -68.8
        ],
        [
         10381,
         "Julie Brown",
         "S10_1949",
         36,
         11.722222222222221,
         -422.0,
         "Large",
         "NA",
         "2005-02-17",
         "COMPLETED",
         "General",
         "2025-06-23T16:34:20.218611Z",
         "REFUND",
         42.2,
         379.8,
         "false",
         "7734 Strong St.",
         "6505551386",
         true,
         [
          -379.8,
          -42.2
         ],
         -379.8,
         -42.2
        ],
        [
         10411,
         "Jean Fresnisre",
         "S10_1949",
         23,
         1.826086956521739,
         -42.0,
         "Medium",
         "NA",
         "2005-05-01",
         "COMPLETED",
         "General",
         "2025-06-23T16:34:20.218611Z",
         "REFUND",
         4.2,
         37.8,
         "false",
         "43 rue St. Laurent",
         "(514) 555-8054",
         true,
         [
          -37.8,
          -4.2
         ],
         -37.8,
         -4.2
        ],
        [
         10424,
         "Diego Freyre",
         "S10_1949",
         50,
         33.38,
         -1669.0,
         "Large",
         "EMEA",
         "2005-05-31",
         "COMPLETED",
         "General",
         "2025-06-23T16:34:20.218611Z",
         "REFUND",
         166.9,
         1502.1,
         "false",
         "C/ Moralzarzal, 86",
         "(91) 555 94 44",
         true,
         [
          -1502.1,
          -166.9
         ],
         -1502.1,
         -166.9
        ],
        [
         10134,
         "Daniel Da Cunha",
         "S10_2016",
         27,
         29.185185185185187,
         -788.0,
         "Medium",
         "EMEA",
         "2003-07-01",
         "COMPLETED",
         "General",
         "2025-06-23T16:34:20.218611Z",
         "REFUND",
         78.80000000000001,
         709.2,
         "false",
         "27 rue du Colonel Pierre Avia",
         "#ERROR!",
         true,
         [
          -709.2,
          -78.80000000000001
         ],
         -709.2,
         -78.80000000000001
        ],
        [
         10168,
         "Juri Hirano",
         "S10_2016",
         27,
         12.481481481481481,
         -337.0,
         "Medium",
         "NA",
         "2003-10-28",
         "COMPLETED",
         "General",
         "2025-06-23T16:34:20.218611Z",
         "REFUND",
         33.7,
         303.3,
         "false",
         "9408 Furth Circle",
         "6505556809",
         true,
         [
          -303.3,
          -33.7
         ],
         -303.3,
         -33.7
        ],
        [
         10180,
         "Martine Rance",
         "S10_2016",
         42,
         35.11904761904762,
         -1475.0,
         "Medium",
         "EMEA",
         "2003-11-11",
         "COMPLETED",
         "General",
         "2025-06-23T16:34:20.218611Z",
         "REFUND",
         147.5,
         1327.5,
         "false",
         "184, chausse de Tournai",
         "20.16.1555",
         true,
         [
          -1327.5,
          -147.5
         ],
         -1327.5,
         -147.5
        ],
        [
         10188,
         "Veysel Oeztan",
         "S10_2016",
         38,
         46.973684210526315,
         -1785.0,
         "Medium",
         "EMEA",
         "2003-11-18",
         "COMPLETED",
         "General",
         "2025-06-23T16:34:20.218611Z",
         "REFUND",
         178.5,
         1606.5,
         "false",
         "Drammen 121, PR 744 Sentrum",
         "#ERROR!",
         true,
         [
          -1606.5,
          -178.5
         ],
         -1606.5,
         -178.5
        ],
        [
         10201,
         "Julie Murphy",
         "S10_2016",
         24,
         7.5,
         -180.0,
         "Medium",
         "NA",
         "2003-12-01",
         "COMPLETED",
         "General",
         "2025-06-23T16:34:20.218611Z",
         "REFUND",
         18.0,
         162.0,
         "false",
         "5557 North Pendale Street",
         "6505555787",
         true,
         [
          -162.0,
          -18.0
         ],
         -162.0,
         -18.0
        ],
        [
         10210,
         "Mory Kentary",
         "S10_2016",
         23,
         17.695652173913043,
         -407.0,
         "Medium",
         "Japan",
         "2004-01-12",
         "COMPLETED",
         "General",
         "2025-06-23T16:34:20.218611Z",
         "REFUND",
         40.7,
         366.3,
         "false",
         "Dojima Avanza 4F, 1-6-20 Dojima, Kita-ku",
         "#ERROR!",
         true,
         [
          -366.3,
          -40.7
         ],
         -366.3,
         -40.7
        ],
        [
         10236,
         "Rosa Hernandez",
         "S10_2016",
         22,
         39.18181818181818,
         -862.0,
         "Small",
         "NA",
         "2004-04-03",
         "COMPLETED",
         "General",
         "2025-06-23T16:34:20.218611Z",
         "REFUND",
         86.2,
         775.8,
         "false",
         "11328 Douglas Av.",
         "2155559857",
         true,
         [
          -775.8,
          -86.2
         ],
         -775.8,
         -86.2
        ],
        [
         10263,
         "Julie King",
         "S10_2016",
         40,
         46.45,
         -1858.0,
         "Medium",
         "NA",
         "2004-06-28",
         "COMPLETED",
         "General",
         "2025-06-23T16:34:20.218611Z",
         "REFUND",
         185.8,
         1672.2,
         "false",
         "25593 South Bay Ln.",
         "2035552570",
         true,
         [
          -1672.2,
          -185.8
         ],
         -1672.2,
         -185.8
        ],
        [
         10285,
         "Marta Hernandez",
         "S10_2016",
         47,
         25.404255319148938,
         -1194.0,
         "Medium",
         "NA",
         "2004-08-27",
         "COMPLETED",
         "General",
         "2025-06-23T16:34:20.218611Z",
         "REFUND",
         119.4,
         1074.6,
         "false",
         "39323 Spinnaker Dr.",
         "6175558555",
         true,
         [
          -1074.6,
          -119.4
         ],
         -1074.6,
         -119.4
        ],
        [
         10298,
         "Carine Schmitt",
         "S10_2016",
         39,
         16.41025641025641,
         -640.0,
         "Medium",
         "EMEA",
         "2004-09-27",
         "COMPLETED",
         "General",
         "2025-06-23T16:34:20.218611Z",
         "REFUND",
         64.0,
         576.0,
         "false",
         "54, rue Royale",
         "40.32.2555",
         true,
         [
          -576.0,
          -64.0
         ],
         -576.0,
         -64.0
        ],
        [
         10329,
         "Kwai Yu",
         "S10_2016",
         20,
         30.15,
         -603.0,
         "Medium",
         "NA",
         "2004-11-15",
         "COMPLETED",
         "General",
         "2025-06-23T16:34:20.218611Z",
         "REFUND",
         60.300000000000004,
         542.7,
         "false",
         "897 Long Airport Avenue",
         "2125557818",
         true,
         [
          -542.7,
          -60.300000000000004
         ],
         -542.7,
         -60.300000000000004
        ],
        [
         10339,
         "Akiko Shimamura",
         "S10_2016",
         40,
         47.975,
         -1919.0,
         "Small",
         "Japan",
         "2004-11-23",
         "COMPLETED",
         "General",
         "2025-06-23T16:34:20.218611Z",
         "REFUND",
         191.9,
         1727.1,
         "false",
         "2-2-8 Roppongi",
         "#ERROR!",
         true,
         [
          -1727.1,
          -191.9
         ],
         -1727.1,
         -191.9
        ],
        [
         10361,
         "Adrian Huxley",
         "S10_2016",
         26,
         11.576923076923077,
         -301.0,
         "Small",
         "APAC",
         "2004-12-17",
         "COMPLETED",
         "General",
         "2025-06-23T16:34:20.218611Z",
         "REFUND",
         30.1,
         270.9,
         "false",
         "Monitor Money Building, 815 Pacific Hwy",
         "#ERROR!",
         true,
         [
          -270.9,
          -30.1
         ],
         -270.9,
         -30.1
        ],
        [
         10417,
         "Diego Freyre",
         "S10_2016",
         45,
         13.688888888888888,
         -616.0,
         "Medium",
         "EMEA",
         "2005-05-13",
         "COMPLETED",
         "General",
         "2025-06-23T16:34:20.218611Z",
         "REFUND",
         61.6,
         554.4,
         "false",
         "C/ Moralzarzal, 86",
         "(91) 555 94 44",
         true,
         [
          -554.4,
          -61.6
         ],
         -554.4,
         -61.6
        ],
        [
         10120,
         "Peter Ferguson",
         "S10_4698",
         46,
         6.8478260869565215,
         -315.0,
         "Large",
         "APAC",
         "2003-04-29",
         "COMPLETED",
         "General",
         "2025-06-23T16:34:20.218611Z",
         "REFUND",
         31.5,
         283.5,
         "false",
         "636 St Kilda Road",
         "03 9520 4555",
         true,
         [
          -283.5,
          -31.5
         ],
         -283.5,
         -31.5
        ],
        [
         10145,
         "Julie Young",
         "S10_4698",
         33,
         3.0606060606060606,
         -101.0,
         "Medium",
         "NA",
         "2003-08-25",
         "COMPLETED",
         "General",
         "2025-06-23T16:34:20.218611Z",
         "REFUND",
         10.100000000000001,
         90.9,
         "false",
         "78934 Hillside Dr.",
         "6265557265",
         true,
         [
          -90.9,
          -10.100000000000001
         ],
         -90.9,
         -10.100000000000001
        ],
        [
         10159,
         "Julie Brown",
         "S10_4698",
         22,
         16.545454545454547,
         -364.0,
         "Medium",
         "NA",
         "2003-10-10",
         "COMPLETED",
         "General",
         "2025-06-23T16:34:20.218611Z",
         "REFUND",
         36.4,
         327.6,
         "false",
         "7734 Strong St.",
         "6505551386",
         true,
         [
          -327.6,
          -36.4
         ],
         -327.6,
         -36.4
        ],
        [
         10210,
         "Mory Kentary",
         "S10_4698",
         34,
         25.5,
         -867.0,
         "Medium",
         "Japan",
         "2004-01-12",
         "COMPLETED",
         "General",
         "2025-06-23T16:34:20.218611Z",
         "REFUND",
         86.7,
         780.3,
         "false",
         "Dojima Avanza 4F, 1-6-20 Dojima, Kita-ku",
         "#ERROR!",
         true,
         [
          -780.3,
          -86.7
         ],
         -780.3,
         -86.7
        ],
        [
         10223,
         "Peter Ferguson",
         "S10_4698",
         49,
         15.46938775510204,
         -758.0,
         "Large",
         "APAC",
         "2004-02-20",
         "COMPLETED",
         "General",
         "2025-06-23T16:34:20.218611Z",
         "REFUND",
         75.8,
         682.2,
         "false",
         "636 St Kilda Road",
         "03 9520 4555",
         true,
         [
          -682.2,
          -75.8
         ],
         -682.2,
         -75.8
        ],
        [
         10251,
         "William Brown",
         "S10_4698",
         43,
         36.93023255813954,
         -1588.0,
         "Large",
         "NA",
         "2004-05-18",
         "COMPLETED",
         "General",
         "2025-06-23T16:34:20.218611Z",
         "REFUND",
         158.8,
         1429.2,
         "false",
         "7476 Moss Rd.",
         "2015559350",
         true,
         [
          -1429.2,
          -158.8
         ],
         -1429.2,
         -158.8
        ]
       ],
       "datasetInfos": [],
       "dbfsResultPath": null,
       "isJsonSchema": true,
       "metadata": {},
       "overflow": false,
       "plotOptions": {
        "customPlotOptions": {},
        "displayType": "table",
        "pivotAggregation": null,
        "pivotColumns": null,
        "xColumns": null,
        "yColumns": null
       },
       "removedWidgets": [],
       "schema": [
        {
         "metadata": "{}",
         "name": "order_number",
         "type": "\"long\""
        },
        {
         "metadata": "{}",
         "name": "customer_name",
         "type": "\"string\""
        },
        {
         "metadata": "{}",
         "name": "product_code",
         "type": "\"string\""
        },
        {
         "metadata": "{}",
         "name": "quantity",
         "type": "\"integer\""
        },
        {
         "metadata": "{}",
         "name": "unit_price",
         "type": "\"double\""
        },
        {
         "metadata": "{}",
         "name": "total_amount",
         "type": "\"double\""
        },
        {
         "metadata": "{}",
         "name": "deal_size",
         "type": "\"string\""
        },
        {
         "metadata": "{}",
         "name": "territory",
         "type": "\"string\""
        },
        {
         "metadata": "{}",
         "name": "order_date",
         "type": "\"date\""
        },
        {
         "metadata": "{}",
         "name": "status",
         "type": "\"string\""
        },
        {
         "metadata": "{}",
         "name": "product_line",
         "type": "\"string\""
        },
        {
         "metadata": "{}",
         "name": "created_date",
         "type": "\"timestamp\""
        },
        {
         "metadata": "{}",
         "name": "transaction_type",
         "type": "\"string\""
        },
        {
         "metadata": "{}",
         "name": "restocking_fee",
         "type": "\"double\""
        },
        {
         "metadata": "{}",
         "name": "net_amount",
         "type": "\"double\""
        },
        {
         "metadata": "{}",
         "name": "is_large_order",
         "type": "\"string\""
        },
        {
         "metadata": "{}",
         "name": "address",
         "type": "\"string\""
        },
        {
         "metadata": "{}",
         "name": "phone_number",
         "type": "\"string\""
        },
        {
         "metadata": "{}",
         "name": "is_refund",
         "type": "\"boolean\""
        },
        {
         "metadata": "{}",
         "name": "refund_calculation",
         "type": "{\"type\":\"struct\",\"fields\":[{\"name\":\"final_amount\",\"type\":\"double\",\"nullable\":true,\"metadata\":{}},{\"name\":\"restocking_fee\",\"type\":\"double\",\"nullable\":true,\"metadata\":{}}]}"
        },
        {
         "metadata": "{}",
         "name": "calculated_final_amount",
         "type": "\"double\""
        },
        {
         "metadata": "{}",
         "name": "calculated_restocking_fee",
         "type": "\"double\""
        }
       ],
       "type": "table"
      }
     },
     "output_type": "display_data"
    },
    {
     "output_type": "stream",
     "name": "stderr",
     "output_type": "stream",
     "text": [
      "INFO:py4j.clientserver:Received command c on object id p0\n"
     ]
    }
   ],
   "source": [
    "# 8. Refund UDF with 10% Restocking Fee\n",
    "def calculate_refund_with_fee(original_amount, is_refund):\n",
    "    \"\"\"Calculate final refund amount with 10% restocking fee\"\"\"\n",
    "    if is_refund:\n",
    "        restocking_fee = float(original_amount) * 0.10\n",
    "        final_refund = float(original_amount) - restocking_fee\n",
    "        return final_refund, restocking_fee\n",
    "    return float(original_amount), 0.0\n",
    "\n",
    "calculate_refund_udf = udf(calculate_refund_with_fee, StructType([\n",
    "    StructField(\"final_amount\", DoubleType(), True),\n",
    "    StructField(\"restocking_fee\", DoubleType(), True)\n",
    "]))\n",
    "\n",
    "# Enhanced refund analysis\n",
    "refund_analysis = fact_transactions.withColumn(\n",
    "    \"is_refund\", col(\"transaction_type\") == \"REFUND\"\n",
    ").withColumn(\n",
    "    \"refund_calculation\", calculate_refund_udf(col(\"total_amount\"), col(\"is_refund\"))\n",
    ").select(\n",
    "    \"*\",\n",
    "    col(\"refund_calculation.final_amount\").alias(\"calculated_final_amount\"),\n",
    "    col(\"refund_calculation.restocking_fee\").alias(\"calculated_restocking_fee\")\n",
    ")\n",
    "\n",
    "logger.info(\"Refund UDF with 10% restocking fee implemented\")\n",
    "display(refund_analysis.filter(col(\"transaction_type\") == \"REFUND\").limit(50))\n"
   ]
  },
  {
   "cell_type": "code",
   "execution_count": 0,
   "metadata": {
    "application/vnd.databricks.v1+cell": {
     "cellMetadata": {
      "byteLimit": 2048000,
      "rowLimit": 10000
     },
     "inputWidgets": {},
     "nuid": "212f6f9c-acdb-4aa2-9ab2-ec8e9e21be15",
     "showTitle": false,
     "tableResultSettingsMap": {},
     "title": ""
    }
   },
   "outputs": [
    {
     "output_type": "stream",
     "name": "stderr",
     "output_type": "stream",
     "text": [
      "INFO:py4j.clientserver:Received command c on object id p0\nINFO:py4j.clientserver:Received command c on object id p0\nINFO:py4j.clientserver:Received command c on object id p0\nINFO:__main__:Fiscal Aggregations: 1 records\nINFO:py4j.clientserver:Received command c on object id p0\nINFO:py4j.clientserver:Received command c on object id p0\n"
     ]
    },
    {
     "output_type": "display_data",
     "data": {
      "text/html": [
       "<style scoped>\n",
       "  .table-result-container {\n",
       "    max-height: 300px;\n",
       "    overflow: auto;\n",
       "  }\n",
       "  table, th, td {\n",
       "    border: 1px solid black;\n",
       "    border-collapse: collapse;\n",
       "  }\n",
       "  th, td {\n",
       "    padding: 5px;\n",
       "  }\n",
       "  th {\n",
       "    text-align: left;\n",
       "  }\n",
       "</style><div class='table-result-container'><table class='table-result'><thead style='background-color: white'><tr><th>FISCAL_YEAR</th><th>FISCAL_QUARTER</th><th>FISCAL_MONTH_NAME</th><th>fiscal_sales</th><th>fiscal_orders</th><th>fiscal_avg_order</th><th>created_date</th></tr></thead><tbody><tr><td>null</td><td>null</td><td>null</td><td>1395467.0</td><td>1384</td><td>1008.2854046242775</td><td>2025-06-23T15:12:28.917427Z</td></tr></tbody></table></div>"
      ]
     },
     "metadata": {
      "application/vnd.databricks.v1+output": {
       "addedWidgets": {},
       "aggData": [],
       "aggError": "",
       "aggOverflow": false,
       "aggSchema": [],
       "aggSeriesLimitReached": false,
       "aggType": "",
       "arguments": {},
       "columnCustomDisplayInfos": {},
       "data": [
        [
         null,
         null,
         null,
         1395467.0,
         1384,
         1008.2854046242775,
         "2025-06-23T15:12:28.917427Z"
        ]
       ],
       "datasetInfos": [],
       "dbfsResultPath": null,
       "isJsonSchema": true,
       "metadata": {},
       "overflow": false,
       "plotOptions": {
        "customPlotOptions": {},
        "displayType": "table",
        "pivotAggregation": null,
        "pivotColumns": null,
        "xColumns": null,
        "yColumns": null
       },
       "removedWidgets": [],
       "schema": [
        {
         "metadata": "{}",
         "name": "FISCAL_YEAR",
         "type": "\"integer\""
        },
        {
         "metadata": "{}",
         "name": "FISCAL_QUARTER",
         "type": "\"integer\""
        },
        {
         "metadata": "{}",
         "name": "FISCAL_MONTH_NAME",
         "type": "\"string\""
        },
        {
         "metadata": "{}",
         "name": "fiscal_sales",
         "type": "\"double\""
        },
        {
         "metadata": "{}",
         "name": "fiscal_orders",
         "type": "\"long\""
        },
        {
         "metadata": "{}",
         "name": "fiscal_avg_order",
         "type": "\"double\""
        },
        {
         "metadata": "{}",
         "name": "created_date",
         "type": "\"timestamp\""
        }
       ],
       "type": "table"
      }
     },
     "output_type": "display_data"
    },
    {
     "output_type": "stream",
     "name": "stderr",
     "output_type": "stream",
     "text": [
      "INFO:py4j.clientserver:Received command c on object id p0\n"
     ]
    }
   ],
   "source": [
    "# 9. Fiscal Date Aggregations using Calendar Dimension\n",
    "fiscal_aggregations = fact_transactions.filter(col(\"transaction_type\") == \"SALE\") \\\n",
    "    .join(calendar_df, date_format(fact_transactions.order_date, \"yyyy-MM-dd\") == calendar_df.CALENDAR_DATE, \"left\") \\\n",
    "    .groupBy(\"FISCAL_YEAR\", \"FISCAL_QUARTER\", \"FISCAL_MONTH_NAME\") \\\n",
    "    .agg(\n",
    "        sum(\"net_amount\").alias(\"fiscal_sales\"),\n",
    "        count(\"order_number\").alias(\"fiscal_orders\"),\n",
    "        avg(\"net_amount\").alias(\"fiscal_avg_order\")\n",
    "    ).orderBy(\"FISCAL_YEAR\", \"FISCAL_QUARTER\") \\\n",
    "    .withColumn(\"created_date\", current_timestamp())\n",
    "\n",
    "logger.info(f\"Fiscal Aggregations: {fiscal_aggregations.count()} records\")\n",
    "display(fiscal_aggregations)\n"
   ]
  }
 ],
 "metadata": {
  "application/vnd.databricks.v1+notebook": {
   "computePreferences": null,
   "dashboards": [],
   "environmentMetadata": {
    "base_environment": "",
    "environment_version": "2"
   },
   "inputWidgetPreferences": null,
   "language": "python",
   "notebookMetadata": {
    "pythonIndentUnit": 4
   },
   "notebookName": "04_data_analytics",
   "widgets": {}
  },
  "language_info": {
   "name": "python"
  }
 },
 "nbformat": 4,
 "nbformat_minor": 0
}