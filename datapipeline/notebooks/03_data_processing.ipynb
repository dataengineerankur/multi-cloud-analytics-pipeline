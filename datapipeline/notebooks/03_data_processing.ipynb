{
 "cells": [
  {
   "cell_type": "markdown",
   "metadata": {
    "application/vnd.databricks.v1+cell": {
     "cellMetadata": {},
     "inputWidgets": {},
     "nuid": "d4b75ea3-7696-421f-8339-db817f06ecc5",
     "showTitle": false,
     "tableResultSettingsMap": {},
     "title": ""
    }
   },
   "source": [
    "# Data Processing Notebook\n",
    "\n",
    "This notebook performs data transformation, dimensional modeling, and analytics processing.\n",
    "\n",
    "## Steps:\n",
    "1. Load validated raw data\n",
    "2. Create dimensional model (facts and dimensions)\n",
    "3. Customer segmentation analysis\n",
    "4. Product performance analytics\n",
    "5. Generate business metrics\n",
    "6. Store processed data for analytics\n"
   ]
  },
  {
   "cell_type": "code",
   "execution_count": 0,
   "metadata": {
    "application/vnd.databricks.v1+cell": {
     "cellMetadata": {
      "byteLimit": 2048000,
      "rowLimit": 10000
     },
     "inputWidgets": {},
     "nuid": "4e373378-61ef-4918-a4fb-3c954c5d66e3",
     "showTitle": false,
     "tableResultSettingsMap": {},
     "title": ""
    }
   },
   "outputs": [
    {
     "output_type": "stream",
     "name": "stderr",
     "output_type": "stream",
     "text": [
      "INFO:__main__:Spark session initialized with Delta Lake and AWS S3 support\nINFO:py4j.clientserver:Python Server ready to receive messages\nINFO:py4j.clientserver:Received command c on object id p0\nINFO:py4j.clientserver:Received command c on object id p0\nINFO:py4j.clientserver:Received command c on object id p0\n"
     ]
    }
   ],
   "source": [
    "from pyspark.sql import SparkSession\n",
    "from pyspark.sql.functions import *\n",
    "from pyspark.sql.types import *\n",
    "import logging\n",
    "from datetime import datetime\n",
    "import json\n",
    "\n",
    "# Build the Spark Session using AWS Keys from Databricks Secrets\n",
    "spark = SparkSession.builder \\\n",
    "    .appName(\"PsychoBunny-DataIngestion\") \\\n",
    "    .config(\"spark.sql.extensions\", \"io.delta.sql.DeltaSparkSessionExtension\") \\\n",
    "    .config(\"spark.sql.catalog.spark_catalog\", \"org.apache.spark.sql.delta.catalog.DeltaCatalog\") \\\n",
    "    .config(\"spark.hadoop.fs.s3a.access.key\", dbutils.secrets.get(scope=\"aws-keys\", key=\"aws-access-key\")) \\\n",
    "    .config(\"spark.hadoop.fs.s3a.secret.key\", dbutils.secrets.get(scope=\"aws-keys\", key=\"aws-secret-key\")) \\\n",
    "    .config(\"spark.hadoop.fs.s3a.impl\", \"org.apache.hadoop.fs.s3a.S3AFileSystem\") \\\n",
    "    .config(\"spark.hadoop.fs.s3a.aws.credentials.provider\", \"org.apache.hadoop.fs.s3a.SimpleAWSCredentialsProvider\") \\\n",
    "    .getOrCreate()\n",
    "\n",
    "# Configure logging\n",
    "logging.basicConfig(level=logging.INFO)\n",
    "logger = logging.getLogger(__name__)\n",
    "\n",
    "logger.info(\"Spark session initialized with Delta Lake and AWS S3 support\")\n"
   ]
  },
  {
   "cell_type": "code",
   "execution_count": 0,
   "metadata": {
    "application/vnd.databricks.v1+cell": {
     "cellMetadata": {
      "byteLimit": 2048000,
      "rowLimit": 10000
     },
     "inputWidgets": {},
     "nuid": "c5a6e2b4-649c-4ef1-8e16-a7558f7170f1",
     "showTitle": false,
     "tableResultSettingsMap": {},
     "title": ""
    }
   },
   "outputs": [
    {
     "output_type": "stream",
     "name": "stderr",
     "output_type": "stream",
     "text": [
      "INFO:py4j.clientserver:Received command c on object id p0\n"
     ]
    }
   ],
   "source": [
    "# Configuration\n",
    "S3_BUCKET = \"psycho-bunny-data-lake\"\n",
    "RAW_DATA_PATH = \"s3://psycho-bunny-data-lake/raw-data/\"\n",
    "PROCESSED_DATA_PATH = f\"s3://{S3_BUCKET}/processed-data/\"\n",
    "config_path = \"/dbfs/FileStore/tables/pipeline_config.json\"\n",
    "\n",
    "# Load configuration\n",
    "with open(config_path, 'r') as f:\n",
    "    config = json.load(f)\n",
    "\n",
    "business_rules = config['business_rules']\n"
   ]
  },
  {
   "cell_type": "code",
   "execution_count": 0,
   "metadata": {
    "application/vnd.databricks.v1+cell": {
     "cellMetadata": {
      "byteLimit": 2048000,
      "rowLimit": 10000
     },
     "inputWidgets": {},
     "nuid": "f5d5add6-2dfe-4b99-868d-e35fc89e7af6",
     "showTitle": false,
     "tableResultSettingsMap": {},
     "title": ""
    }
   },
   "outputs": [],
   "source": [
    "access = dbutils.secrets.get(\"aws-keys\", key=\"aws-access-key\")\n",
    "secret = dbutils.secrets.get(\"aws-keys\", key=\"aws-secret-key\")\n",
    "\n",
    "spark.conf.set(\"fs.s3a.access.key\", access)\n",
    "spark.conf.set(\"fs.s3a.secret.key\", secret)\n",
    "spark.conf.set(\"fs.s3a.impl\",\"org.apache.hadoop.fs.s3a.S3AFileSystem\")    \n"
   ]
  },
  {
   "cell_type": "code",
   "execution_count": 0,
   "metadata": {
    "application/vnd.databricks.v1+cell": {
     "cellMetadata": {
      "byteLimit": 2048000,
      "rowLimit": 10000
     },
     "inputWidgets": {},
     "nuid": "a03358c9-70b5-491e-a60a-5dd89a6bde3b",
     "showTitle": false,
     "tableResultSettingsMap": {},
     "title": ""
    }
   },
   "outputs": [
    {
     "output_type": "stream",
     "name": "stderr",
     "output_type": "stream",
     "text": [
      "INFO:py4j.clientserver:Received command c on object id p1\nINFO:py4j.clientserver:Received command c on object id p0\n"
     ]
    },
    {
     "output_type": "execute_result",
     "data": {
      "text/plain": [
       "[FileInfo(path='s3://psycho-bunny-data-lake/raw-data/calendar/', name='calendar/', size=0, modificationTime=1750378984376),\n",
       " FileInfo(path='s3://psycho-bunny-data-lake/raw-data/customers/', name='customers/', size=0, modificationTime=1750378984376),\n",
       " FileInfo(path='s3://psycho-bunny-data-lake/raw-data/transactions/', name='transactions/', size=0, modificationTime=1750378984376)]"
      ]
     },
     "execution_count": 19,
     "metadata": {},
     "output_type": "execute_result"
    }
   ],
   "source": [
    "dbutils.fs.ls(\"s3://psycho-bunny-data-lake/raw-data/\")"
   ]
  },
  {
   "cell_type": "code",
   "execution_count": 0,
   "metadata": {
    "application/vnd.databricks.v1+cell": {
     "cellMetadata": {
      "byteLimit": 2048000,
      "rowLimit": 10000
     },
     "inputWidgets": {},
     "nuid": "28a9ddd6-3bf6-4de6-8cce-525926f68f12",
     "showTitle": false,
     "tableResultSettingsMap": {},
     "title": ""
    }
   },
   "outputs": [
    {
     "output_type": "stream",
     "name": "stderr",
     "output_type": "stream",
     "text": [
      "INFO:py4j.clientserver:Received command c on object id p0\nINFO:py4j.clientserver:Received command c on object id p0\nINFO:py4j.clientserver:Received command c on object id p0\nINFO:py4j.clientserver:Received command c on object id p0\nINFO:__main__:Raw data loaded successfully\nINFO:py4j.clientserver:Received command c on object id p0\nINFO:py4j.clientserver:Received command c on object id p0\nINFO:py4j.clientserver:Python Server ready to receive messages\nINFO:py4j.clientserver:Received command c on object id p0\nINFO:py4j.clientserver:Received command c on object id p0\nINFO:py4j.clientserver:Received command c on object id p0\nINFO:__main__:Customers: 2000, Transactions: 2823, Calendar: 6944\nINFO:py4j.clientserver:Received command c on object id p0\nINFO:py4j.clientserver:Received command c on object id p0\n"
     ]
    }
   ],
   "source": [
    "# Load raw data from Delta Lake\n",
    "try:\n",
    "    customers_df = spark.read.format(\"delta\").load(f\"{RAW_DATA_PATH}customers\")\n",
    "    transactions_df = spark.read.format(\"delta\").load(f\"{RAW_DATA_PATH}transactions\")\n",
    "    calendar_df = spark.read.format(\"delta\").load(f\"{RAW_DATA_PATH}calendar\")\n",
    "    \n",
    "    logger.info(\"Raw data loaded successfully\")\n",
    "    logger.info(f\"Customers: {customers_df.count()}, Transactions: {transactions_df.count()}, Calendar: {calendar_df.count()}\")\n",
    "except Exception as e:\n",
    "    logger.error(f\"Error loading raw data: {str(e)}\")\n",
    "    raise\n"
   ]
  },
  {
   "cell_type": "code",
   "execution_count": 0,
   "metadata": {
    "application/vnd.databricks.v1+cell": {
     "cellMetadata": {
      "byteLimit": 2048000,
      "rowLimit": 10000
     },
     "inputWidgets": {},
     "nuid": "cfe48344-419d-4c03-b343-5b92b94b410d",
     "showTitle": false,
     "tableResultSettingsMap": {},
     "title": ""
    }
   },
   "outputs": [
    {
     "output_type": "stream",
     "name": "stderr",
     "output_type": "stream",
     "text": [
      "INFO:py4j.clientserver:Received command c on object id p0\n"
     ]
    },
    {
     "output_type": "display_data",
     "data": {
      "text/html": [
       "<style scoped>\n",
       "  .table-result-container {\n",
       "    max-height: 300px;\n",
       "    overflow: auto;\n",
       "  }\n",
       "  table, th, td {\n",
       "    border: 1px solid black;\n",
       "    border-collapse: collapse;\n",
       "  }\n",
       "  th, td {\n",
       "    padding: 5px;\n",
       "  }\n",
       "  th {\n",
       "    text-align: left;\n",
       "  }\n",
       "</style><div class='table-result-container'><table class='table-result'><thead style='background-color: white'><tr><th>ORDERNUMBER</th><th>QUANTITYORDERED</th><th>ORDERLINENUMBER</th><th>TOTAL_AMOUNT</th><th>ORDERDATE</th><th>QTR_ID</th><th>MONTH_ID</th><th>YEAR_ID</th><th>PRODUCTCODE</th><th>CUSTOMERNAME</th><th>PHONE</th><th>ADDRESSLINE1</th><th>ADDRESSLINE2</th><th>CITY</th><th>STATE</th><th>POSTALCODE</th><th>COUNTRY</th><th>TERRITORY</th><th>CONTACTLASTNAME</th><th>CONTACTFIRSTNAME</th><th>DEALSIZE</th><th>source_file</th><th>ingestion_date</th><th>partition_date</th></tr></thead><tbody><tr><td>10107</td><td>30</td><td>2</td><td>-1993</td><td>2/24/2003 0:00</td><td>1</td><td>2</td><td>2021</td><td>S10_1678</td><td>Land of Toys Inc.</td><td>2125557818</td><td>897 Long Airport Avenue</td><td>null</td><td>NYC</td><td>NY</td><td>10022</td><td>USA</td><td>NA</td><td>Yu</td><td>Kwai</td><td>Small</td><td>de_shop_transactions_20230821.csv</td><td>2025-07-01T21:37:02.020173Z</td><td>2025-07-01</td></tr><tr><td>10121</td><td>34</td><td>5</td><td>-92</td><td>5/7/2003 0:00</td><td>2</td><td>5</td><td>2021</td><td>S10_1678</td><td>Reims Collectables</td><td>26.47.1555</td><td>59 rue de l'Abbaye</td><td>null</td><td>Reims</td><td>null</td><td>51100</td><td>France</td><td>EMEA</td><td>Henriot</td><td>Paul</td><td>Small</td><td>de_shop_transactions_20230821.csv</td><td>2025-07-01T21:37:02.020173Z</td><td>2025-07-01</td></tr><tr><td>10134</td><td>41</td><td>2</td><td>-574</td><td>7/1/2003 0:00</td><td>3</td><td>7</td><td>2024</td><td>S10_1678</td><td>Lyon Souveniers</td><td>#ERROR!</td><td>27 rue du Colonel Pierre Avia</td><td>null</td><td>Paris</td><td>null</td><td>75508</td><td>France</td><td>EMEA</td><td>Da Cunha</td><td>Daniel</td><td>Medium</td><td>de_shop_transactions_20230821.csv</td><td>2025-07-01T21:37:02.020173Z</td><td>2025-07-01</td></tr><tr><td>10145</td><td>45</td><td>6</td><td>-623</td><td>8/25/2003 0:00</td><td>3</td><td>8</td><td>2020</td><td>S10_1678</td><td>Toys4GrownUps.com</td><td>6265557265</td><td>78934 Hillside Dr.</td><td>null</td><td>Pasadena</td><td>CA</td><td>90003</td><td>USA</td><td>NA</td><td>Young</td><td>Julie</td><td>Medium</td><td>de_shop_transactions_20230821.csv</td><td>2025-07-01T21:37:02.020173Z</td><td>2025-07-01</td></tr><tr><td>10159</td><td>49</td><td>14</td><td>-442</td><td>10/10/2003 0:00</td><td>4</td><td>10</td><td>2022</td><td>S10_1678</td><td>Corporate Gift Ideas Co.</td><td>6505551386</td><td>7734 Strong St.</td><td>null</td><td>San Francisco</td><td>CA</td><td>null</td><td>USA</td><td>NA</td><td>Brown</td><td>Julie</td><td>Medium</td><td>de_shop_transactions_20230821.csv</td><td>2025-07-01T21:37:02.020173Z</td><td>2025-07-01</td></tr><tr><td>10168</td><td>36</td><td>1</td><td>1540</td><td>10/28/2003 0:00</td><td>4</td><td>10</td><td>2022</td><td>S10_1678</td><td>Technics Stores Inc.</td><td>6505556809</td><td>9408 Furth Circle</td><td>null</td><td>Burlingame</td><td>CA</td><td>94217</td><td>USA</td><td>NA</td><td>Hirano</td><td>Juri</td><td>Medium</td><td>de_shop_transactions_20230821.csv</td><td>2025-07-01T21:37:02.020173Z</td><td>2025-07-01</td></tr><tr><td>10180</td><td>29</td><td>9</td><td>-1669</td><td>11/11/2003 0:00</td><td>4</td><td>11</td><td>2023</td><td>S10_1678</td><td>Daedalus Designs Imports</td><td>20.16.1555</td><td>184, chausse de Tournai</td><td>null</td><td>Lille</td><td>null</td><td>59000</td><td>France</td><td>EMEA</td><td>Rance</td><td>Martine</td><td>Small</td><td>de_shop_transactions_20230821.csv</td><td>2025-07-01T21:37:02.020173Z</td><td>2025-07-01</td></tr><tr><td>10188</td><td>48</td><td>1</td><td>803</td><td>11/18/2003 0:00</td><td>4</td><td>11</td><td>2020</td><td>S10_1678</td><td>Herkku Gifts</td><td>#ERROR!</td><td>Drammen 121, PR 744 Sentrum</td><td>null</td><td>Bergen</td><td>null</td><td>N 5804</td><td>Norway</td><td>EMEA</td><td>Oeztan</td><td>Veysel</td><td>Medium</td><td>de_shop_transactions_20230821.csv</td><td>2025-07-01T21:37:02.020173Z</td><td>2025-07-01</td></tr><tr><td>10201</td><td>22</td><td>2</td><td>1341</td><td>12/1/2003 0:00</td><td>4</td><td>12</td><td>2022</td><td>S10_1678</td><td>Mini Wheels Co.</td><td>6505555787</td><td>5557 North Pendale Street</td><td>null</td><td>San Francisco</td><td>CA</td><td>null</td><td>USA</td><td>NA</td><td>Murphy</td><td>Julie</td><td>Small</td><td>de_shop_transactions_20230821.csv</td><td>2025-07-01T21:37:02.020173Z</td><td>2025-07-01</td></tr><tr><td>10211</td><td>41</td><td>14</td><td>-741</td><td>1/15/2004 0:00</td><td>1</td><td>1</td><td>2023</td><td>S10_1678</td><td>Auto Canal Petit</td><td>(1) 47.55.6555</td><td>25, rue Lauriston</td><td>null</td><td>Paris</td><td>null</td><td>75016</td><td>France</td><td>EMEA</td><td>Perrier</td><td>Dominique</td><td>Medium</td><td>de_shop_transactions_20230821.csv</td><td>2025-07-01T21:37:02.020173Z</td><td>2025-07-01</td></tr><tr><td>10223</td><td>37</td><td>1</td><td>508</td><td>2/20/2004 0:00</td><td>1</td><td>2</td><td>2021</td><td>S10_1678</td><td>Australian Collectors, Co.</td><td>03 9520 4555</td><td>636 St Kilda Road</td><td>Level 3</td><td>Melbourne</td><td>Victoria</td><td>3004</td><td>Australia</td><td>APAC</td><td>Ferguson</td><td>Peter</td><td>Medium</td><td>de_shop_transactions_20230821.csv</td><td>2025-07-01T21:37:02.020173Z</td><td>2025-07-01</td></tr><tr><td>10237</td><td>23</td><td>7</td><td>544</td><td>4/5/2004 0:00</td><td>2</td><td>4</td><td>2024</td><td>S10_1678</td><td>Vitachrome Inc.</td><td>2125551500</td><td>2678 Kingston Rd.</td><td>Suite 101</td><td>NYC</td><td>NY</td><td>10022</td><td>USA</td><td>NA</td><td>Frick</td><td>Michael</td><td>Small</td><td>de_shop_transactions_20230821.csv</td><td>2025-07-01T21:37:02.020173Z</td><td>2025-07-01</td></tr><tr><td>10251</td><td>28</td><td>2</td><td>1244</td><td>5/18/2004 0:00</td><td>2</td><td>5</td><td>2021</td><td>S10_1678</td><td>Tekni Collectables Inc.</td><td>2015559350</td><td>7476 Moss Rd.</td><td>null</td><td>Newark</td><td>NJ</td><td>94019</td><td>USA</td><td>NA</td><td>Brown</td><td>William</td><td>Medium</td><td>de_shop_transactions_20230821.csv</td><td>2025-07-01T21:37:02.020173Z</td><td>2025-07-01</td></tr><tr><td>10263</td><td>34</td><td>2</td><td>45</td><td>6/28/2004 0:00</td><td>2</td><td>6</td><td>2022</td><td>S10_1678</td><td>Gift Depot Inc.</td><td>2035552570</td><td>25593 South Bay Ln.</td><td>null</td><td>Bridgewater</td><td>CT</td><td>97562</td><td>USA</td><td>NA</td><td>King</td><td>Julie</td><td>Medium</td><td>de_shop_transactions_20230821.csv</td><td>2025-07-01T21:37:02.020173Z</td><td>2025-07-01</td></tr><tr><td>10275</td><td>45</td><td>1</td><td>-223</td><td>7/23/2004 0:00</td><td>3</td><td>7</td><td>2021</td><td>S10_1678</td><td>La Rochelle Gifts</td><td>40.67.8555</td><td>67, rue des Cinquante Otages</td><td>null</td><td>Nantes</td><td>null</td><td>44000</td><td>France</td><td>EMEA</td><td>Labrune</td><td>Janine</td><td>Medium</td><td>de_shop_transactions_20230821.csv</td><td>2025-07-01T21:37:02.020173Z</td><td>2025-07-01</td></tr><tr><td>10285</td><td>36</td><td>6</td><td>-653</td><td>8/27/2004 0:00</td><td>3</td><td>8</td><td>2021</td><td>S10_1678</td><td>Marta's Replicas Co.</td><td>6175558555</td><td>39323 Spinnaker Dr.</td><td>null</td><td>Cambridge</td><td>MA</td><td>51247</td><td>USA</td><td>NA</td><td>Hernandez</td><td>Marta</td><td>Medium</td><td>de_shop_transactions_20230821.csv</td><td>2025-07-01T21:37:02.020173Z</td><td>2025-07-01</td></tr><tr><td>10299</td><td>23</td><td>9</td><td>-1318</td><td>9/30/2004 0:00</td><td>3</td><td>9</td><td>2022</td><td>S10_1678</td><td>Toys of Finland, Co.</td><td>90-224 8555</td><td>Keskuskatu 45</td><td>null</td><td>Helsinki</td><td>null</td><td>21240</td><td>Finland</td><td>EMEA</td><td>Karttunen</td><td>Matti</td><td>Small</td><td>de_shop_transactions_20230821.csv</td><td>2025-07-01T21:37:02.020173Z</td><td>2025-07-01</td></tr><tr><td>10309</td><td>41</td><td>5</td><td>1362</td><td>10/15/2004 0:00</td><td>4</td><td>10</td><td>2022</td><td>S10_1678</td><td>Baane Mini Imports</td><td>07-98 9555</td><td>Erling Skakkes gate 78</td><td>null</td><td>Stavern</td><td>null</td><td>4110</td><td>Norway</td><td>EMEA</td><td>Bergulfsen</td><td>Jonas</td><td>Medium</td><td>de_shop_transactions_20230821.csv</td><td>2025-07-01T21:37:02.020173Z</td><td>2025-07-01</td></tr><tr><td>10318</td><td>46</td><td>1</td><td>1015</td><td>11/2/2004 0:00</td><td>4</td><td>11</td><td>2020</td><td>S10_1678</td><td>Diecast Classics Inc.</td><td>2155551555</td><td>7586 Pompton St.</td><td>null</td><td>Allentown</td><td>PA</td><td>70267</td><td>USA</td><td>NA</td><td>Yu</td><td>Kyung</td><td>Medium</td><td>de_shop_transactions_20230821.csv</td><td>2025-07-01T21:37:02.020173Z</td><td>2025-07-01</td></tr><tr><td>10329</td><td>42</td><td>1</td><td>-608</td><td>11/15/2004 0:00</td><td>4</td><td>11</td><td>2021</td><td>S10_1678</td><td>Land of Toys Inc.</td><td>2125557818</td><td>897 Long Airport Avenue</td><td>null</td><td>NYC</td><td>NY</td><td>10022</td><td>USA</td><td>NA</td><td>Yu</td><td>Kwai</td><td>Medium</td><td>de_shop_transactions_20230821.csv</td><td>2025-07-01T21:37:02.020173Z</td><td>2025-07-01</td></tr><tr><td>10341</td><td>41</td><td>9</td><td>1000</td><td>11/24/2004 0:00</td><td>4</td><td>11</td><td>2024</td><td>S10_1678</td><td>Salzburg Collectables</td><td>6562-9555</td><td>Geislweg 14</td><td>null</td><td>Salzburg</td><td>null</td><td>5020</td><td>Austria</td><td>EMEA</td><td>Pipps</td><td>Georg</td><td>Large</td><td>de_shop_transactions_20230821.csv</td><td>2025-07-01T21:37:02.020173Z</td><td>2025-07-01</td></tr><tr><td>10361</td><td>20</td><td>13</td><td>806</td><td>12/17/2004 0:00</td><td>4</td><td>12</td><td>2022</td><td>S10_1678</td><td>Souveniers And Things Co.</td><td>#ERROR!</td><td>Monitor Money Building, 815 Pacific Hwy</td><td>Level 6</td><td>Chatswood</td><td>NSW</td><td>2067</td><td>Australia</td><td>APAC</td><td>Huxley</td><td>Adrian</td><td>Small</td><td>de_shop_transactions_20230821.csv</td><td>2025-07-01T21:37:02.020173Z</td><td>2025-07-01</td></tr><tr><td>10375</td><td>21</td><td>12</td><td>-166</td><td>2/3/2005 0:00</td><td>1</td><td>2</td><td>2020</td><td>S10_1678</td><td>La Rochelle Gifts</td><td>40.67.8555</td><td>67, rue des Cinquante Otages</td><td>null</td><td>Nantes</td><td>null</td><td>44000</td><td>France</td><td>EMEA</td><td>Labrune</td><td>Janine</td><td>Small</td><td>de_shop_transactions_20230821.csv</td><td>2025-07-01T21:37:02.020173Z</td><td>2025-07-01</td></tr><tr><td>10388</td><td>42</td><td>4</td><td>-637</td><td>3/3/2005 0:00</td><td>1</td><td>3</td><td>2021</td><td>S10_1678</td><td>FunGiftIdeas.com</td><td>5085552555</td><td>1785 First Street</td><td>null</td><td>New Bedford</td><td>MA</td><td>50553</td><td>USA</td><td>NA</td><td>Benitez</td><td>Violeta</td><td>Medium</td><td>de_shop_transactions_20230821.csv</td><td>2025-07-01T21:37:02.020173Z</td><td>2025-07-01</td></tr><tr><td>10403</td><td>24</td><td>7</td><td>1994</td><td>4/8/2005 0:00</td><td>2</td><td>4</td><td>2024</td><td>S10_1678</td><td>UK Collectables, Ltd.</td><td>(171) 555-2282</td><td>Berkeley Gardens 12 Brewery</td><td>null</td><td>Liverpool</td><td>null</td><td>WX1 6LT</td><td>UK</td><td>EMEA</td><td>Devon</td><td>Elizabeth</td><td>Small</td><td>de_shop_transactions_20230821.csv</td><td>2025-07-01T21:37:02.020173Z</td><td>2025-07-01</td></tr><tr><td>10417</td><td>66</td><td>2</td><td>-732</td><td>5/13/2005 0:00</td><td>2</td><td>5</td><td>2020</td><td>S10_1678</td><td>Euro Shopping Channel</td><td>(91) 555 94 44</td><td>C/ Moralzarzal, 86</td><td>null</td><td>Madrid</td><td>null</td><td>28034</td><td>Spain</td><td>EMEA</td><td>Freyre</td><td>Diego</td><td>Large</td><td>de_shop_transactions_20230821.csv</td><td>2025-07-01T21:37:02.020173Z</td><td>2025-07-01</td></tr><tr><td>10103</td><td>26</td><td>11</td><td>-1317</td><td>1/29/2003 0:00</td><td>1</td><td>1</td><td>2021</td><td>S10_1949</td><td>Baane Mini Imports</td><td>07-98 9555</td><td>Erling Skakkes gate 78</td><td>null</td><td>Stavern</td><td>null</td><td>4110</td><td>Norway</td><td>EMEA</td><td>Bergulfsen</td><td>Jonas</td><td>Medium</td><td>de_shop_transactions_20230821.csv</td><td>2025-07-01T21:37:02.020173Z</td><td>2025-07-01</td></tr><tr><td>10112</td><td>29</td><td>1</td><td>-945</td><td>3/24/2003 0:00</td><td>1</td><td>3</td><td>2021</td><td>S10_1949</td><td>Volvo Model Replicas, Co</td><td>0921-12 3555</td><td>BerguvsvÑgen 8</td><td>null</td><td>Lule</td><td>null</td><td>S-958 22</td><td>Sweden</td><td>EMEA</td><td>Berglund</td><td>Christina</td><td>Large</td><td>de_shop_transactions_20230821.csv</td><td>2025-07-01T21:37:02.020173Z</td><td>2025-07-01</td></tr><tr><td>10126</td><td>38</td><td>11</td><td>1852</td><td>5/28/2003 0:00</td><td>2</td><td>5</td><td>2023</td><td>S10_1949</td><td>Corrida Auto Replicas, Ltd</td><td>(91) 555 22 82</td><td>C/ Araquil, 67</td><td>null</td><td>Madrid</td><td>null</td><td>28023</td><td>Spain</td><td>EMEA</td><td>Sommer</td><td>Mart°n</td><td>Large</td><td>de_shop_transactions_20230821.csv</td><td>2025-07-01T21:37:02.020173Z</td><td>2025-07-01</td></tr><tr><td>10140</td><td>37</td><td>11</td><td>1236</td><td>7/24/2003 0:00</td><td>3</td><td>7</td><td>2022</td><td>S10_1949</td><td>Technics Stores Inc.</td><td>6505556809</td><td>9408 Furth Circle</td><td>null</td><td>Burlingame</td><td>CA</td><td>94217</td><td>USA</td><td>NA</td><td>Hirano</td><td>Juri</td><td>Large</td><td>de_shop_transactions_20230821.csv</td><td>2025-07-01T21:37:02.020173Z</td><td>2025-07-01</td></tr><tr><td>10150</td><td>45</td><td>8</td><td>-1072</td><td>9/19/2003 0:00</td><td>3</td><td>9</td><td>2021</td><td>S10_1949</td><td>Dragon Souveniers, Ltd.</td><td>#ERROR!</td><td>Bronz Sok., Bronz Apt. 3/6 Tesvikiye</td><td>null</td><td>Singapore</td><td>null</td><td>79903</td><td>Singapore</td><td>Japan</td><td>Natividad</td><td>Eric</td><td>Large</td><td>de_shop_transactions_20230821.csv</td><td>2025-07-01T21:37:02.020173Z</td><td>2025-07-01</td></tr><tr><td>10163</td><td>21</td><td>1</td><td>1867</td><td>10/20/2003 0:00</td><td>4</td><td>10</td><td>2022</td><td>S10_1949</td><td>Classic Legends Inc.</td><td>2125558493</td><td>5905 Pompton St.</td><td>Suite 750</td><td>NYC</td><td>NY</td><td>10022</td><td>USA</td><td>NA</td><td>Hernandez</td><td>Maria</td><td>Medium</td><td>de_shop_transactions_20230821.csv</td><td>2025-07-01T21:37:02.020173Z</td><td>2025-07-01</td></tr><tr><td>10174</td><td>34</td><td>4</td><td>-1640</td><td>11/6/2003 0:00</td><td>4</td><td>11</td><td>2024</td><td>S10_1949</td><td>Australian Gift Network, Co</td><td>61-7-3844-6555</td><td>31 Duncan St. West End</td><td>null</td><td>South Brisbane</td><td>Queensland</td><td>4101</td><td>Australia</td><td>APAC</td><td>Calaghan</td><td>Tony</td><td>Large</td><td>de_shop_transactions_20230821.csv</td><td>2025-07-01T21:37:02.020173Z</td><td>2025-07-01</td></tr><tr><td>10183</td><td>23</td><td>8</td><td>626</td><td>11/13/2003 0:00</td><td>4</td><td>11</td><td>2020</td><td>S10_1949</td><td>Classic Gift Ideas, Inc</td><td>2155554695</td><td>782 First Street</td><td>null</td><td>Philadelphia</td><td>PA</td><td>71270</td><td>USA</td><td>NA</td><td>Cervantes</td><td>Francisca</td><td>Medium</td><td>de_shop_transactions_20230821.csv</td><td>2025-07-01T21:37:02.020173Z</td><td>2025-07-01</td></tr><tr><td>10194</td><td>42</td><td>11</td><td>1612</td><td>11/25/2003 0:00</td><td>4</td><td>11</td><td>2023</td><td>S10_1949</td><td>Saveley & Henriot, Co.</td><td>78.32.5555</td><td>2, rue du Commerce</td><td>null</td><td>Lyon</td><td>null</td><td>69004</td><td>France</td><td>EMEA</td><td>Saveley</td><td>Mary</td><td>Large</td><td>de_shop_transactions_20230821.csv</td><td>2025-07-01T21:37:02.020173Z</td><td>2025-07-01</td></tr><tr><td>10206</td><td>47</td><td>6</td><td>-638</td><td>12/5/2003 0:00</td><td>4</td><td>12</td><td>2023</td><td>S10_1949</td><td>Canadian Gift Exchange Network</td><td>(604) 555-3392</td><td>1900 Oak St.</td><td>null</td><td>Vancouver</td><td>BC</td><td>V3F 2K1</td><td>Canada</td><td>NA</td><td>Tannamuri</td><td>Yoshi</td><td>Large</td><td>de_shop_transactions_20230821.csv</td><td>2025-07-01T21:37:02.020173Z</td><td>2025-07-01</td></tr><tr><td>10215</td><td>35</td><td>3</td><td>1976</td><td>1/29/2004 0:00</td><td>1</td><td>1</td><td>2020</td><td>S10_1949</td><td>West Coast Collectables Co.</td><td>3105553722</td><td>3675 Furth Circle</td><td>null</td><td>Burbank</td><td>CA</td><td>94019</td><td>USA</td><td>NA</td><td>Thompson</td><td>Steve</td><td>Medium</td><td>de_shop_transactions_20230821.csv</td><td>2025-07-01T21:37:02.020173Z</td><td>2025-07-01</td></tr><tr><td>10228</td><td>29</td><td>2</td><td>407</td><td>3/10/2004 0:00</td><td>1</td><td>3</td><td>2023</td><td>S10_1949</td><td>Cambridge Collectables Co.</td><td>6175555555</td><td>4658 Baden Av.</td><td>null</td><td>Cambridge</td><td>MA</td><td>51247</td><td>USA</td><td>NA</td><td>Tseng</td><td>Kyung</td><td>Medium</td><td>de_shop_transactions_20230821.csv</td><td>2025-07-01T21:37:02.020173Z</td><td>2025-07-01</td></tr><tr><td>10245</td><td>34</td><td>9</td><td>-1090</td><td>5/4/2004 0:00</td><td>2</td><td>5</td><td>2020</td><td>S10_1949</td><td>Super Scale Inc.</td><td>2035559545</td><td>567 North Pendale Street</td><td>null</td><td>New Haven</td><td>CT</td><td>97823</td><td>USA</td><td>NA</td><td>Murphy</td><td>Leslie</td><td>Medium</td><td>de_shop_transactions_20230821.csv</td><td>2025-07-01T21:37:02.020173Z</td><td>2025-07-01</td></tr><tr><td>10258</td><td>32</td><td>6</td><td>-981</td><td>6/15/2004 0:00</td><td>2</td><td>6</td><td>2020</td><td>S10_1949</td><td>Tokyo Collectables, Ltd</td><td>#ERROR!</td><td>2-2-8 Roppongi</td><td>null</td><td>Minato-ku</td><td>Tokyo</td><td>106-0032</td><td>Japan</td><td>Japan</td><td>Shimamura</td><td>Akiko</td><td>Large</td><td>de_shop_transactions_20230821.csv</td><td>2025-07-01T21:37:02.020173Z</td><td>2025-07-01</td></tr><tr><td>10270</td><td>21</td><td>9</td><td>192</td><td>7/19/2004 0:00</td><td>3</td><td>7</td><td>2021</td><td>S10_1949</td><td>Souveniers And Things Co.</td><td>#ERROR!</td><td>Monitor Money Building, 815 Pacific Hwy</td><td>Level 6</td><td>Chatswood</td><td>NSW</td><td>2067</td><td>Australia</td><td>APAC</td><td>Huxley</td><td>Adrian</td><td>Medium</td><td>de_shop_transactions_20230821.csv</td><td>2025-07-01T21:37:02.020173Z</td><td>2025-07-01</td></tr><tr><td>10280</td><td>34</td><td>2</td><td>1253</td><td>8/17/2004 0:00</td><td>3</td><td>8</td><td>2022</td><td>S10_1949</td><td>Amica Models & Co.</td><td>011-4988555</td><td>Via Monte Bianco 34</td><td>null</td><td>Torino</td><td>null</td><td>10100</td><td>Italy</td><td>EMEA</td><td>Accorti</td><td>Paolo</td><td>Large</td><td>de_shop_transactions_20230821.csv</td><td>2025-07-01T21:37:02.020173Z</td><td>2025-07-01</td></tr><tr><td>10291</td><td>37</td><td>11</td><td>-322</td><td>9/8/2004 0:00</td><td>3</td><td>9</td><td>2021</td><td>S10_1949</td><td>Scandinavian Gift Ideas</td><td>0695-34 6555</td><td>?kergatan 24</td><td>null</td><td>Boras</td><td>null</td><td>S-844 67</td><td>Sweden</td><td>EMEA</td><td>Larsson</td><td>Maria</td><td>Large</td><td>de_shop_transactions_20230821.csv</td><td>2025-07-01T21:37:02.020173Z</td><td>2025-07-01</td></tr><tr><td>10304</td><td>47</td><td>6</td><td>-1643</td><td>10/11/2004 0:00</td><td>4</td><td>10</td><td>2020</td><td>S10_1949</td><td>Auto Assoc. & Cie.</td><td>30.59.8555</td><td>67, avenue de l'Europe</td><td>null</td><td>Versailles</td><td>null</td><td>78000</td><td>France</td><td>EMEA</td><td>Tonini</td><td>Daniel</td><td>Large</td><td>de_shop_transactions_20230821.csv</td><td>2025-07-01T21:37:02.020173Z</td><td>2025-07-01</td></tr><tr><td>10312</td><td>48</td><td>3</td><td>-375</td><td>10/21/2004 0:00</td><td>4</td><td>10</td><td>2020</td><td>S10_1949</td><td>Mini Gifts Distributors Ltd.</td><td>4155551450</td><td>5677 Strong St.</td><td>null</td><td>San Rafael</td><td>CA</td><td>97562</td><td>USA</td><td>NA</td><td>Nelson</td><td>Valarie</td><td>Large</td><td>de_shop_transactions_20230821.csv</td><td>2025-07-01T21:37:02.020173Z</td><td>2025-07-01</td></tr><tr><td>10322</td><td>40</td><td>1</td><td>651</td><td>11/4/2004 0:00</td><td>4</td><td>11</td><td>2021</td><td>S10_1949</td><td>Online Diecast Creations Co.</td><td>6035558647</td><td>2304 Long Airport Avenue</td><td>null</td><td>Nashua</td><td>NH</td><td>62005</td><td>USA</td><td>NA</td><td>Young</td><td>Valarie</td><td>Medium</td><td>de_shop_transactions_20230821.csv</td><td>2025-07-01T21:37:02.020173Z</td><td>2025-07-01</td></tr><tr><td>10333</td><td>26</td><td>3</td><td>-1969</td><td>11/18/2004 0:00</td><td>4</td><td>11</td><td>2024</td><td>S10_1949</td><td>Mini Wheels Co.</td><td>6505555787</td><td>5557 North Pendale Street</td><td>null</td><td>San Francisco</td><td>CA</td><td>null</td><td>USA</td><td>NA</td><td>Murphy</td><td>Julie</td><td>Medium</td><td>de_shop_transactions_20230821.csv</td><td>2025-07-01T21:37:02.020173Z</td><td>2025-07-01</td></tr><tr><td>10347</td><td>30</td><td>1</td><td>-186</td><td>11/29/2004 0:00</td><td>4</td><td>11</td><td>2020</td><td>S10_1949</td><td>Australian Collectors, Co.</td><td>03 9520 4555</td><td>636 St Kilda Road</td><td>Level 3</td><td>Melbourne</td><td>Victoria</td><td>3004</td><td>Australia</td><td>APAC</td><td>Ferguson</td><td>Peter</td><td>Medium</td><td>de_shop_transactions_20230821.csv</td><td>2025-07-01T21:37:02.020173Z</td><td>2025-07-01</td></tr><tr><td>10357</td><td>32</td><td>10</td><td>-688</td><td>12/10/2004 0:00</td><td>4</td><td>12</td><td>2021</td><td>S10_1949</td><td>Mini Gifts Distributors Ltd.</td><td>4155551450</td><td>5677 Strong St.</td><td>null</td><td>San Rafael</td><td>CA</td><td>97562</td><td>USA</td><td>NA</td><td>Nelson</td><td>Valarie</td><td>Medium</td><td>de_shop_transactions_20230821.csv</td><td>2025-07-01T21:37:02.020173Z</td><td>2025-07-01</td></tr><tr><td>10369</td><td>41</td><td>2</td><td>1085</td><td>1/20/2005 0:00</td><td>1</td><td>1</td><td>2022</td><td>S10_1949</td><td>Collectables For Less Inc.</td><td>6175558555</td><td>7825 Douglas Av.</td><td>null</td><td>Brickhaven</td><td>MA</td><td>58339</td><td>USA</td><td>NA</td><td>Nelson</td><td>Allen</td><td>Medium</td><td>de_shop_transactions_20230821.csv</td><td>2025-07-01T21:37:02.020173Z</td><td>2025-07-01</td></tr></tbody></table></div>"
      ]
     },
     "metadata": {
      "application/vnd.databricks.v1+output": {
       "addedWidgets": {},
       "aggData": [],
       "aggError": "",
       "aggOverflow": false,
       "aggSchema": [],
       "aggSeriesLimitReached": false,
       "aggType": "",
       "arguments": {},
       "columnCustomDisplayInfos": {},
       "data": [
        [
         10107,
         30,
         2,
         -1993,
         "2/24/2003 0:00",
         1,
         2,
         2021,
         "S10_1678",
         "Land of Toys Inc.",
         "2125557818",
         "897 Long Airport Avenue",
         null,
         "NYC",
         "NY",
         "10022",
         "USA",
         "NA",
         "Yu",
         "Kwai",
         "Small",
         "de_shop_transactions_20230821.csv",
         "2025-07-01T21:37:02.020173Z",
         "2025-07-01"
        ],
        [
         10121,
         34,
         5,
         -92,
         "5/7/2003 0:00",
         2,
         5,
         2021,
         "S10_1678",
         "Reims Collectables",
         "26.47.1555",
         "59 rue de l'Abbaye",
         null,
         "Reims",
         null,
         "51100",
         "France",
         "EMEA",
         "Henriot",
         "Paul",
         "Small",
         "de_shop_transactions_20230821.csv",
         "2025-07-01T21:37:02.020173Z",
         "2025-07-01"
        ],
        [
         10134,
         41,
         2,
         -574,
         "7/1/2003 0:00",
         3,
         7,
         2024,
         "S10_1678",
         "Lyon Souveniers",
         "#ERROR!",
         "27 rue du Colonel Pierre Avia",
         null,
         "Paris",
         null,
         "75508",
         "France",
         "EMEA",
         "Da Cunha",
         "Daniel",
         "Medium",
         "de_shop_transactions_20230821.csv",
         "2025-07-01T21:37:02.020173Z",
         "2025-07-01"
        ],
        [
         10145,
         45,
         6,
         -623,
         "8/25/2003 0:00",
         3,
         8,
         2020,
         "S10_1678",
         "Toys4GrownUps.com",
         "6265557265",
         "78934 Hillside Dr.",
         null,
         "Pasadena",
         "CA",
         "90003",
         "USA",
         "NA",
         "Young",
         "Julie",
         "Medium",
         "de_shop_transactions_20230821.csv",
         "2025-07-01T21:37:02.020173Z",
         "2025-07-01"
        ],
        [
         10159,
         49,
         14,
         -442,
         "10/10/2003 0:00",
         4,
         10,
         2022,
         "S10_1678",
         "Corporate Gift Ideas Co.",
         "6505551386",
         "7734 Strong St.",
         null,
         "San Francisco",
         "CA",
         null,
         "USA",
         "NA",
         "Brown",
         "Julie",
         "Medium",
         "de_shop_transactions_20230821.csv",
         "2025-07-01T21:37:02.020173Z",
         "2025-07-01"
        ],
        [
         10168,
         36,
         1,
         1540,
         "10/28/2003 0:00",
         4,
         10,
         2022,
         "S10_1678",
         "Technics Stores Inc.",
         "6505556809",
         "9408 Furth Circle",
         null,
         "Burlingame",
         "CA",
         "94217",
         "USA",
         "NA",
         "Hirano",
         "Juri",
         "Medium",
         "de_shop_transactions_20230821.csv",
         "2025-07-01T21:37:02.020173Z",
         "2025-07-01"
        ],
        [
         10180,
         29,
         9,
         -1669,
         "11/11/2003 0:00",
         4,
         11,
         2023,
         "S10_1678",
         "Daedalus Designs Imports",
         "20.16.1555",
         "184, chausse de Tournai",
         null,
         "Lille",
         null,
         "59000",
         "France",
         "EMEA",
         "Rance",
         "Martine",
         "Small",
         "de_shop_transactions_20230821.csv",
         "2025-07-01T21:37:02.020173Z",
         "2025-07-01"
        ],
        [
         10188,
         48,
         1,
         803,
         "11/18/2003 0:00",
         4,
         11,
         2020,
         "S10_1678",
         "Herkku Gifts",
         "#ERROR!",
         "Drammen 121, PR 744 Sentrum",
         null,
         "Bergen",
         null,
         "N 5804",
         "Norway",
         "EMEA",
         "Oeztan",
         "Veysel",
         "Medium",
         "de_shop_transactions_20230821.csv",
         "2025-07-01T21:37:02.020173Z",
         "2025-07-01"
        ],
        [
         10201,
         22,
         2,
         1341,
         "12/1/2003 0:00",
         4,
         12,
         2022,
         "S10_1678",
         "Mini Wheels Co.",
         "6505555787",
         "5557 North Pendale Street",
         null,
         "San Francisco",
         "CA",
         null,
         "USA",
         "NA",
         "Murphy",
         "Julie",
         "Small",
         "de_shop_transactions_20230821.csv",
         "2025-07-01T21:37:02.020173Z",
         "2025-07-01"
        ],
        [
         10211,
         41,
         14,
         -741,
         "1/15/2004 0:00",
         1,
         1,
         2023,
         "S10_1678",
         "Auto Canal Petit",
         "(1) 47.55.6555",
         "25, rue Lauriston",
         null,
         "Paris",
         null,
         "75016",
         "France",
         "EMEA",
         "Perrier",
         "Dominique",
         "Medium",
         "de_shop_transactions_20230821.csv",
         "2025-07-01T21:37:02.020173Z",
         "2025-07-01"
        ],
        [
         10223,
         37,
         1,
         508,
         "2/20/2004 0:00",
         1,
         2,
         2021,
         "S10_1678",
         "Australian Collectors, Co.",
         "03 9520 4555",
         "636 St Kilda Road",
         "Level 3",
         "Melbourne",
         "Victoria",
         "3004",
         "Australia",
         "APAC",
         "Ferguson",
         "Peter",
         "Medium",
         "de_shop_transactions_20230821.csv",
         "2025-07-01T21:37:02.020173Z",
         "2025-07-01"
        ],
        [
         10237,
         23,
         7,
         544,
         "4/5/2004 0:00",
         2,
         4,
         2024,
         "S10_1678",
         "Vitachrome Inc.",
         "2125551500",
         "2678 Kingston Rd.",
         "Suite 101",
         "NYC",
         "NY",
         "10022",
         "USA",
         "NA",
         "Frick",
         "Michael",
         "Small",
         "de_shop_transactions_20230821.csv",
         "2025-07-01T21:37:02.020173Z",
         "2025-07-01"
        ],
        [
         10251,
         28,
         2,
         1244,
         "5/18/2004 0:00",
         2,
         5,
         2021,
         "S10_1678",
         "Tekni Collectables Inc.",
         "2015559350",
         "7476 Moss Rd.",
         null,
         "Newark",
         "NJ",
         "94019",
         "USA",
         "NA",
         "Brown",
         "William",
         "Medium",
         "de_shop_transactions_20230821.csv",
         "2025-07-01T21:37:02.020173Z",
         "2025-07-01"
        ],
        [
         10263,
         34,
         2,
         45,
         "6/28/2004 0:00",
         2,
         6,
         2022,
         "S10_1678",
         "Gift Depot Inc.",
         "2035552570",
         "25593 South Bay Ln.",
         null,
         "Bridgewater",
         "CT",
         "97562",
         "USA",
         "NA",
         "King",
         "Julie",
         "Medium",
         "de_shop_transactions_20230821.csv",
         "2025-07-01T21:37:02.020173Z",
         "2025-07-01"
        ],
        [
         10275,
         45,
         1,
         -223,
         "7/23/2004 0:00",
         3,
         7,
         2021,
         "S10_1678",
         "La Rochelle Gifts",
         "40.67.8555",
         "67, rue des Cinquante Otages",
         null,
         "Nantes",
         null,
         "44000",
         "France",
         "EMEA",
         "Labrune",
         "Janine",
         "Medium",
         "de_shop_transactions_20230821.csv",
         "2025-07-01T21:37:02.020173Z",
         "2025-07-01"
        ],
        [
         10285,
         36,
         6,
         -653,
         "8/27/2004 0:00",
         3,
         8,
         2021,
         "S10_1678",
         "Marta's Replicas Co.",
         "6175558555",
         "39323 Spinnaker Dr.",
         null,
         "Cambridge",
         "MA",
         "51247",
         "USA",
         "NA",
         "Hernandez",
         "Marta",
         "Medium",
         "de_shop_transactions_20230821.csv",
         "2025-07-01T21:37:02.020173Z",
         "2025-07-01"
        ],
        [
         10299,
         23,
         9,
         -1318,
         "9/30/2004 0:00",
         3,
         9,
         2022,
         "S10_1678",
         "Toys of Finland, Co.",
         "90-224 8555",
         "Keskuskatu 45",
         null,
         "Helsinki",
         null,
         "21240",
         "Finland",
         "EMEA",
         "Karttunen",
         "Matti",
         "Small",
         "de_shop_transactions_20230821.csv",
         "2025-07-01T21:37:02.020173Z",
         "2025-07-01"
        ],
        [
         10309,
         41,
         5,
         1362,
         "10/15/2004 0:00",
         4,
         10,
         2022,
         "S10_1678",
         "Baane Mini Imports",
         "07-98 9555",
         "Erling Skakkes gate 78",
         null,
         "Stavern",
         null,
         "4110",
         "Norway",
         "EMEA",
         "Bergulfsen",
         "Jonas",
         "Medium",
         "de_shop_transactions_20230821.csv",
         "2025-07-01T21:37:02.020173Z",
         "2025-07-01"
        ],
        [
         10318,
         46,
         1,
         1015,
         "11/2/2004 0:00",
         4,
         11,
         2020,
         "S10_1678",
         "Diecast Classics Inc.",
         "2155551555",
         "7586 Pompton St.",
         null,
         "Allentown",
         "PA",
         "70267",
         "USA",
         "NA",
         "Yu",
         "Kyung",
         "Medium",
         "de_shop_transactions_20230821.csv",
         "2025-07-01T21:37:02.020173Z",
         "2025-07-01"
        ],
        [
         10329,
         42,
         1,
         -608,
         "11/15/2004 0:00",
         4,
         11,
         2021,
         "S10_1678",
         "Land of Toys Inc.",
         "2125557818",
         "897 Long Airport Avenue",
         null,
         "NYC",
         "NY",
         "10022",
         "USA",
         "NA",
         "Yu",
         "Kwai",
         "Medium",
         "de_shop_transactions_20230821.csv",
         "2025-07-01T21:37:02.020173Z",
         "2025-07-01"
        ],
        [
         10341,
         41,
         9,
         1000,
         "11/24/2004 0:00",
         4,
         11,
         2024,
         "S10_1678",
         "Salzburg Collectables",
         "6562-9555",
         "Geislweg 14",
         null,
         "Salzburg",
         null,
         "5020",
         "Austria",
         "EMEA",
         "Pipps",
         "Georg",
         "Large",
         "de_shop_transactions_20230821.csv",
         "2025-07-01T21:37:02.020173Z",
         "2025-07-01"
        ],
        [
         10361,
         20,
         13,
         806,
         "12/17/2004 0:00",
         4,
         12,
         2022,
         "S10_1678",
         "Souveniers And Things Co.",
         "#ERROR!",
         "Monitor Money Building, 815 Pacific Hwy",
         "Level 6",
         "Chatswood",
         "NSW",
         "2067",
         "Australia",
         "APAC",
         "Huxley",
         "Adrian",
         "Small",
         "de_shop_transactions_20230821.csv",
         "2025-07-01T21:37:02.020173Z",
         "2025-07-01"
        ],
        [
         10375,
         21,
         12,
         -166,
         "2/3/2005 0:00",
         1,
         2,
         2020,
         "S10_1678",
         "La Rochelle Gifts",
         "40.67.8555",
         "67, rue des Cinquante Otages",
         null,
         "Nantes",
         null,
         "44000",
         "France",
         "EMEA",
         "Labrune",
         "Janine",
         "Small",
         "de_shop_transactions_20230821.csv",
         "2025-07-01T21:37:02.020173Z",
         "2025-07-01"
        ],
        [
         10388,
         42,
         4,
         -637,
         "3/3/2005 0:00",
         1,
         3,
         2021,
         "S10_1678",
         "FunGiftIdeas.com",
         "5085552555",
         "1785 First Street",
         null,
         "New Bedford",
         "MA",
         "50553",
         "USA",
         "NA",
         "Benitez",
         "Violeta",
         "Medium",
         "de_shop_transactions_20230821.csv",
         "2025-07-01T21:37:02.020173Z",
         "2025-07-01"
        ],
        [
         10403,
         24,
         7,
         1994,
         "4/8/2005 0:00",
         2,
         4,
         2024,
         "S10_1678",
         "UK Collectables, Ltd.",
         "(171) 555-2282",
         "Berkeley Gardens 12 Brewery",
         null,
         "Liverpool",
         null,
         "WX1 6LT",
         "UK",
         "EMEA",
         "Devon",
         "Elizabeth",
         "Small",
         "de_shop_transactions_20230821.csv",
         "2025-07-01T21:37:02.020173Z",
         "2025-07-01"
        ],
        [
         10417,
         66,
         2,
         -732,
         "5/13/2005 0:00",
         2,
         5,
         2020,
         "S10_1678",
         "Euro Shopping Channel",
         "(91) 555 94 44",
         "C/ Moralzarzal, 86",
         null,
         "Madrid",
         null,
         "28034",
         "Spain",
         "EMEA",
         "Freyre",
         "Diego",
         "Large",
         "de_shop_transactions_20230821.csv",
         "2025-07-01T21:37:02.020173Z",
         "2025-07-01"
        ],
        [
         10103,
         26,
         11,
         -1317,
         "1/29/2003 0:00",
         1,
         1,
         2021,
         "S10_1949",
         "Baane Mini Imports",
         "07-98 9555",
         "Erling Skakkes gate 78",
         null,
         "Stavern",
         null,
         "4110",
         "Norway",
         "EMEA",
         "Bergulfsen",
         "Jonas",
         "Medium",
         "de_shop_transactions_20230821.csv",
         "2025-07-01T21:37:02.020173Z",
         "2025-07-01"
        ],
        [
         10112,
         29,
         1,
         -945,
         "3/24/2003 0:00",
         1,
         3,
         2021,
         "S10_1949",
         "Volvo Model Replicas, Co",
         "0921-12 3555",
         "BerguvsvÑgen 8",
         null,
         "Lule",
         null,
         "S-958 22",
         "Sweden",
         "EMEA",
         "Berglund",
         "Christina",
         "Large",
         "de_shop_transactions_20230821.csv",
         "2025-07-01T21:37:02.020173Z",
         "2025-07-01"
        ],
        [
         10126,
         38,
         11,
         1852,
         "5/28/2003 0:00",
         2,
         5,
         2023,
         "S10_1949",
         "Corrida Auto Replicas, Ltd",
         "(91) 555 22 82",
         "C/ Araquil, 67",
         null,
         "Madrid",
         null,
         "28023",
         "Spain",
         "EMEA",
         "Sommer",
         "Mart°n",
         "Large",
         "de_shop_transactions_20230821.csv",
         "2025-07-01T21:37:02.020173Z",
         "2025-07-01"
        ],
        [
         10140,
         37,
         11,
         1236,
         "7/24/2003 0:00",
         3,
         7,
         2022,
         "S10_1949",
         "Technics Stores Inc.",
         "6505556809",
         "9408 Furth Circle",
         null,
         "Burlingame",
         "CA",
         "94217",
         "USA",
         "NA",
         "Hirano",
         "Juri",
         "Large",
         "de_shop_transactions_20230821.csv",
         "2025-07-01T21:37:02.020173Z",
         "2025-07-01"
        ],
        [
         10150,
         45,
         8,
         -1072,
         "9/19/2003 0:00",
         3,
         9,
         2021,
         "S10_1949",
         "Dragon Souveniers, Ltd.",
         "#ERROR!",
         "Bronz Sok., Bronz Apt. 3/6 Tesvikiye",
         null,
         "Singapore",
         null,
         "79903",
         "Singapore",
         "Japan",
         "Natividad",
         "Eric",
         "Large",
         "de_shop_transactions_20230821.csv",
         "2025-07-01T21:37:02.020173Z",
         "2025-07-01"
        ],
        [
         10163,
         21,
         1,
         1867,
         "10/20/2003 0:00",
         4,
         10,
         2022,
         "S10_1949",
         "Classic Legends Inc.",
         "2125558493",
         "5905 Pompton St.",
         "Suite 750",
         "NYC",
         "NY",
         "10022",
         "USA",
         "NA",
         "Hernandez",
         "Maria",
         "Medium",
         "de_shop_transactions_20230821.csv",
         "2025-07-01T21:37:02.020173Z",
         "2025-07-01"
        ],
        [
         10174,
         34,
         4,
         -1640,
         "11/6/2003 0:00",
         4,
         11,
         2024,
         "S10_1949",
         "Australian Gift Network, Co",
         "61-7-3844-6555",
         "31 Duncan St. West End",
         null,
         "South Brisbane",
         "Queensland",
         "4101",
         "Australia",
         "APAC",
         "Calaghan",
         "Tony",
         "Large",
         "de_shop_transactions_20230821.csv",
         "2025-07-01T21:37:02.020173Z",
         "2025-07-01"
        ],
        [
         10183,
         23,
         8,
         626,
         "11/13/2003 0:00",
         4,
         11,
         2020,
         "S10_1949",
         "Classic Gift Ideas, Inc",
         "2155554695",
         "782 First Street",
         null,
         "Philadelphia",
         "PA",
         "71270",
         "USA",
         "NA",
         "Cervantes",
         "Francisca",
         "Medium",
         "de_shop_transactions_20230821.csv",
         "2025-07-01T21:37:02.020173Z",
         "2025-07-01"
        ],
        [
         10194,
         42,
         11,
         1612,
         "11/25/2003 0:00",
         4,
         11,
         2023,
         "S10_1949",
         "Saveley & Henriot, Co.",
         "78.32.5555",
         "2, rue du Commerce",
         null,
         "Lyon",
         null,
         "69004",
         "France",
         "EMEA",
         "Saveley",
         "Mary",
         "Large",
         "de_shop_transactions_20230821.csv",
         "2025-07-01T21:37:02.020173Z",
         "2025-07-01"
        ],
        [
         10206,
         47,
         6,
         -638,
         "12/5/2003 0:00",
         4,
         12,
         2023,
         "S10_1949",
         "Canadian Gift Exchange Network",
         "(604) 555-3392",
         "1900 Oak St.",
         null,
         "Vancouver",
         "BC",
         "V3F 2K1",
         "Canada",
         "NA",
         "Tannamuri",
         "Yoshi",
         "Large",
         "de_shop_transactions_20230821.csv",
         "2025-07-01T21:37:02.020173Z",
         "2025-07-01"
        ],
        [
         10215,
         35,
         3,
         1976,
         "1/29/2004 0:00",
         1,
         1,
         2020,
         "S10_1949",
         "West Coast Collectables Co.",
         "3105553722",
         "3675 Furth Circle",
         null,
         "Burbank",
         "CA",
         "94019",
         "USA",
         "NA",
         "Thompson",
         "Steve",
         "Medium",
         "de_shop_transactions_20230821.csv",
         "2025-07-01T21:37:02.020173Z",
         "2025-07-01"
        ],
        [
         10228,
         29,
         2,
         407,
         "3/10/2004 0:00",
         1,
         3,
         2023,
         "S10_1949",
         "Cambridge Collectables Co.",
         "6175555555",
         "4658 Baden Av.",
         null,
         "Cambridge",
         "MA",
         "51247",
         "USA",
         "NA",
         "Tseng",
         "Kyung",
         "Medium",
         "de_shop_transactions_20230821.csv",
         "2025-07-01T21:37:02.020173Z",
         "2025-07-01"
        ],
        [
         10245,
         34,
         9,
         -1090,
         "5/4/2004 0:00",
         2,
         5,
         2020,
         "S10_1949",
         "Super Scale Inc.",
         "2035559545",
         "567 North Pendale Street",
         null,
         "New Haven",
         "CT",
         "97823",
         "USA",
         "NA",
         "Murphy",
         "Leslie",
         "Medium",
         "de_shop_transactions_20230821.csv",
         "2025-07-01T21:37:02.020173Z",
         "2025-07-01"
        ],
        [
         10258,
         32,
         6,
         -981,
         "6/15/2004 0:00",
         2,
         6,
         2020,
         "S10_1949",
         "Tokyo Collectables, Ltd",
         "#ERROR!",
         "2-2-8 Roppongi",
         null,
         "Minato-ku",
         "Tokyo",
         "106-0032",
         "Japan",
         "Japan",
         "Shimamura",
         "Akiko",
         "Large",
         "de_shop_transactions_20230821.csv",
         "2025-07-01T21:37:02.020173Z",
         "2025-07-01"
        ],
        [
         10270,
         21,
         9,
         192,
         "7/19/2004 0:00",
         3,
         7,
         2021,
         "S10_1949",
         "Souveniers And Things Co.",
         "#ERROR!",
         "Monitor Money Building, 815 Pacific Hwy",
         "Level 6",
         "Chatswood",
         "NSW",
         "2067",
         "Australia",
         "APAC",
         "Huxley",
         "Adrian",
         "Medium",
         "de_shop_transactions_20230821.csv",
         "2025-07-01T21:37:02.020173Z",
         "2025-07-01"
        ],
        [
         10280,
         34,
         2,
         1253,
         "8/17/2004 0:00",
         3,
         8,
         2022,
         "S10_1949",
         "Amica Models & Co.",
         "011-4988555",
         "Via Monte Bianco 34",
         null,
         "Torino",
         null,
         "10100",
         "Italy",
         "EMEA",
         "Accorti",
         "Paolo",
         "Large",
         "de_shop_transactions_20230821.csv",
         "2025-07-01T21:37:02.020173Z",
         "2025-07-01"
        ],
        [
         10291,
         37,
         11,
         -322,
         "9/8/2004 0:00",
         3,
         9,
         2021,
         "S10_1949",
         "Scandinavian Gift Ideas",
         "0695-34 6555",
         "?kergatan 24",
         null,
         "Boras",
         null,
         "S-844 67",
         "Sweden",
         "EMEA",
         "Larsson",
         "Maria",
         "Large",
         "de_shop_transactions_20230821.csv",
         "2025-07-01T21:37:02.020173Z",
         "2025-07-01"
        ],
        [
         10304,
         47,
         6,
         -1643,
         "10/11/2004 0:00",
         4,
         10,
         2020,
         "S10_1949",
         "Auto Assoc. & Cie.",
         "30.59.8555",
         "67, avenue de l'Europe",
         null,
         "Versailles",
         null,
         "78000",
         "France",
         "EMEA",
         "Tonini",
         "Daniel",
         "Large",
         "de_shop_transactions_20230821.csv",
         "2025-07-01T21:37:02.020173Z",
         "2025-07-01"
        ],
        [
         10312,
         48,
         3,
         -375,
         "10/21/2004 0:00",
         4,
         10,
         2020,
         "S10_1949",
         "Mini Gifts Distributors Ltd.",
         "4155551450",
         "5677 Strong St.",
         null,
         "San Rafael",
         "CA",
         "97562",
         "USA",
         "NA",
         "Nelson",
         "Valarie",
         "Large",
         "de_shop_transactions_20230821.csv",
         "2025-07-01T21:37:02.020173Z",
         "2025-07-01"
        ],
        [
         10322,
         40,
         1,
         651,
         "11/4/2004 0:00",
         4,
         11,
         2021,
         "S10_1949",
         "Online Diecast Creations Co.",
         "6035558647",
         "2304 Long Airport Avenue",
         null,
         "Nashua",
         "NH",
         "62005",
         "USA",
         "NA",
         "Young",
         "Valarie",
         "Medium",
         "de_shop_transactions_20230821.csv",
         "2025-07-01T21:37:02.020173Z",
         "2025-07-01"
        ],
        [
         10333,
         26,
         3,
         -1969,
         "11/18/2004 0:00",
         4,
         11,
         2024,
         "S10_1949",
         "Mini Wheels Co.",
         "6505555787",
         "5557 North Pendale Street",
         null,
         "San Francisco",
         "CA",
         null,
         "USA",
         "NA",
         "Murphy",
         "Julie",
         "Medium",
         "de_shop_transactions_20230821.csv",
         "2025-07-01T21:37:02.020173Z",
         "2025-07-01"
        ],
        [
         10347,
         30,
         1,
         -186,
         "11/29/2004 0:00",
         4,
         11,
         2020,
         "S10_1949",
         "Australian Collectors, Co.",
         "03 9520 4555",
         "636 St Kilda Road",
         "Level 3",
         "Melbourne",
         "Victoria",
         "3004",
         "Australia",
         "APAC",
         "Ferguson",
         "Peter",
         "Medium",
         "de_shop_transactions_20230821.csv",
         "2025-07-01T21:37:02.020173Z",
         "2025-07-01"
        ],
        [
         10357,
         32,
         10,
         -688,
         "12/10/2004 0:00",
         4,
         12,
         2021,
         "S10_1949",
         "Mini Gifts Distributors Ltd.",
         "4155551450",
         "5677 Strong St.",
         null,
         "San Rafael",
         "CA",
         "97562",
         "USA",
         "NA",
         "Nelson",
         "Valarie",
         "Medium",
         "de_shop_transactions_20230821.csv",
         "2025-07-01T21:37:02.020173Z",
         "2025-07-01"
        ],
        [
         10369,
         41,
         2,
         1085,
         "1/20/2005 0:00",
         1,
         1,
         2022,
         "S10_1949",
         "Collectables For Less Inc.",
         "6175558555",
         "7825 Douglas Av.",
         null,
         "Brickhaven",
         "MA",
         "58339",
         "USA",
         "NA",
         "Nelson",
         "Allen",
         "Medium",
         "de_shop_transactions_20230821.csv",
         "2025-07-01T21:37:02.020173Z",
         "2025-07-01"
        ]
       ],
       "datasetInfos": [],
       "dbfsResultPath": null,
       "isJsonSchema": true,
       "metadata": {},
       "overflow": false,
       "plotOptions": {
        "customPlotOptions": {},
        "displayType": "table",
        "pivotAggregation": null,
        "pivotColumns": null,
        "xColumns": null,
        "yColumns": null
       },
       "removedWidgets": [],
       "schema": [
        {
         "metadata": "{}",
         "name": "ORDERNUMBER",
         "type": "\"integer\""
        },
        {
         "metadata": "{}",
         "name": "QUANTITYORDERED",
         "type": "\"integer\""
        },
        {
         "metadata": "{}",
         "name": "ORDERLINENUMBER",
         "type": "\"integer\""
        },
        {
         "metadata": "{}",
         "name": "TOTAL_AMOUNT",
         "type": "\"integer\""
        },
        {
         "metadata": "{}",
         "name": "ORDERDATE",
         "type": "\"string\""
        },
        {
         "metadata": "{}",
         "name": "QTR_ID",
         "type": "\"integer\""
        },
        {
         "metadata": "{}",
         "name": "MONTH_ID",
         "type": "\"integer\""
        },
        {
         "metadata": "{}",
         "name": "YEAR_ID",
         "type": "\"integer\""
        },
        {
         "metadata": "{}",
         "name": "PRODUCTCODE",
         "type": "\"string\""
        },
        {
         "metadata": "{}",
         "name": "CUSTOMERNAME",
         "type": "\"string\""
        },
        {
         "metadata": "{}",
         "name": "PHONE",
         "type": "\"string\""
        },
        {
         "metadata": "{}",
         "name": "ADDRESSLINE1",
         "type": "\"string\""
        },
        {
         "metadata": "{}",
         "name": "ADDRESSLINE2",
         "type": "\"string\""
        },
        {
         "metadata": "{}",
         "name": "CITY",
         "type": "\"string\""
        },
        {
         "metadata": "{}",
         "name": "STATE",
         "type": "\"string\""
        },
        {
         "metadata": "{}",
         "name": "POSTALCODE",
         "type": "\"string\""
        },
        {
         "metadata": "{}",
         "name": "COUNTRY",
         "type": "\"string\""
        },
        {
         "metadata": "{}",
         "name": "TERRITORY",
         "type": "\"string\""
        },
        {
         "metadata": "{}",
         "name": "CONTACTLASTNAME",
         "type": "\"string\""
        },
        {
         "metadata": "{}",
         "name": "CONTACTFIRSTNAME",
         "type": "\"string\""
        },
        {
         "metadata": "{}",
         "name": "DEALSIZE",
         "type": "\"string\""
        },
        {
         "metadata": "{}",
         "name": "source_file",
         "type": "\"string\""
        },
        {
         "metadata": "{}",
         "name": "ingestion_date",
         "type": "\"timestamp\""
        },
        {
         "metadata": "{}",
         "name": "partition_date",
         "type": "\"string\""
        }
       ],
       "type": "table"
      }
     },
     "output_type": "display_data"
    }
   ],
   "source": [
    "#Test Check\n",
    "display(transactions_df.limit(50))"
   ]
  },
  {
   "cell_type": "code",
   "execution_count": 0,
   "metadata": {
    "application/vnd.databricks.v1+cell": {
     "cellMetadata": {
      "byteLimit": 2048000,
      "rowLimit": 10000
     },
     "inputWidgets": {},
     "nuid": "734db095-8dce-4669-b3d9-5df49aae8994",
     "showTitle": false,
     "tableResultSettingsMap": {},
     "title": ""
    }
   },
   "outputs": [
    {
     "output_type": "stream",
     "name": "stderr",
     "output_type": "stream",
     "text": [
      "INFO:py4j.clientserver:Received command c on object id p0\nINFO:py4j.clientserver:Received command c on object id p0\nINFO:__main__:Created customer dimension with 2000 records\nINFO:py4j.clientserver:Received command c on object id p0\n"
     ]
    },
    {
     "output_type": "display_data",
     "data": {
      "text/html": [
       "<style scoped>\n",
       "  .table-result-container {\n",
       "    max-height: 300px;\n",
       "    overflow: auto;\n",
       "  }\n",
       "  table, th, td {\n",
       "    border: 1px solid black;\n",
       "    border-collapse: collapse;\n",
       "  }\n",
       "  th, td {\n",
       "    padding: 5px;\n",
       "  }\n",
       "  th {\n",
       "    text-align: left;\n",
       "  }\n",
       "</style><div class='table-result-container'><table class='table-result'><thead style='background-color: white'><tr><th>customer_key</th><th>first_name</th><th>last_name</th><th>full_name</th><th>email</th><th>company_name</th><th>address</th><th>city</th><th>state</th><th>postal_code</th><th>phone</th><th>created_date</th><th>updated_date</th></tr></thead><tbody><tr><td>aaron_kloska_aaron_kloska@kloska.net.au</td><td>Aaron</td><td>Kloska</td><td>Aaron Kloska</td><td>aaron_kloska@kloska.net.au</td><td>Radecker, H Philip Jr</td><td>423 S Navajo St #56</td><td>Brookhill</td><td>QLD</td><td>4816</td><td>07-9896-4827</td><td>2025-07-01T21:36:59.253098Z</td><td>2025-07-01T22:33:06.022711Z</td></tr><tr><td>abel_maclead_amaclead@gmail.com</td><td>Abel</td><td>Maclead</td><td>Abel Maclead</td><td>amaclead@gmail.com</td><td>Rangoni Of Florence</td><td>37275 St  Rt 17m M</td><td>Middle Island</td><td>NY</td><td>11953</td><td>631-335-3414</td><td>2025-07-01T21:36:59.253098Z</td><td>2025-07-01T22:33:06.022711Z</td></tr><tr><td>abraham_cratch_acratch@gmail.com</td><td>Abraham</td><td>Cratch</td><td>Abraham Cratch</td><td>acratch@gmail.com</td><td>Cavuto, John A</td><td>41 Benedict St</td><td>Aldborough Ward</td><td>null</td><td>IG2 7QG</td><td>01599-245408</td><td>2025-07-01T21:36:59.253098Z</td><td>2025-07-01T22:33:06.022711Z</td></tr><tr><td>adaline_galagher_adaline.galagher@galagher.com.au</td><td>Adaline</td><td>Galagher</td><td>Adaline Galagher</td><td>adaline.galagher@galagher.com.au</td><td>Debbie Reynolds Hotel</td><td>32716 N Michigan Ave #82</td><td>Barooga</td><td>NSW</td><td>3644</td><td>02-3225-1954</td><td>2025-07-01T21:36:59.253098Z</td><td>2025-07-01T22:33:06.022711Z</td></tr><tr><td>adela_echegoyen_adela.echegoyen@echegoyen.org</td><td>Adela</td><td>Echegoyen</td><td>Adela Echegoyen</td><td>adela.echegoyen@echegoyen.org</td><td>Fpa Corp</td><td>128 W Kellogg Dr</td><td>Burnaby</td><td>BC</td><td>V5B 4L5</td><td>604-571-8392</td><td>2025-07-01T21:36:59.253098Z</td><td>2025-07-01T22:33:06.022711Z</td></tr><tr><td>adelaide_ender_aender@gmail.com</td><td>Adelaide</td><td>Ender</td><td>Adelaide Ender</td><td>aender@gmail.com</td><td>Williams Design Group</td><td>175 N Central Ave</td><td>Greenslopes</td><td>QLD</td><td>4120</td><td>07-7538-5504</td><td>2025-07-01T21:36:59.253098Z</td><td>2025-07-01T22:33:06.022711Z</td></tr><tr><td>adelina_nabours_adelina_nabours@gmail.com</td><td>Adelina</td><td>Nabours</td><td>Adelina Nabours</td><td>adelina_nabours@gmail.com</td><td>Courtyard By Marriott</td><td>80 Pittsford Victor Rd #9</td><td>Cleveland</td><td>OH</td><td>44103</td><td>216-230-4892</td><td>2025-07-01T21:36:59.253098Z</td><td>2025-07-01T22:33:06.022711Z</td></tr><tr><td>adell_lipkin_adell.lipkin@lipkin.com</td><td>Adell</td><td>Lipkin</td><td>Adell Lipkin</td><td>adell.lipkin@lipkin.com</td><td>Systems Graph Inc Ab Dick Dlr</td><td>65 Mountain View Dr</td><td>Whippany</td><td>NJ</td><td>07981</td><td>973-654-1561</td><td>2025-07-01T21:36:59.253098Z</td><td>2025-07-01T22:33:06.022711Z</td></tr><tr><td>adelle_nitcher_anitcher@aol.com</td><td>Adelle</td><td>Nitcher</td><td>Adelle Nitcher</td><td>anitcher@aol.com</td><td>John J Mccarthy Agency Inc</td><td>10 Midway Dr</td><td>Thorold</td><td>ON</td><td>L2V 5C7</td><td>905-998-3758</td><td>2025-07-01T21:36:59.253098Z</td><td>2025-07-01T22:33:06.022711Z</td></tr><tr><td>adelle_schantini_adelle_schantini@yahoo.com</td><td>Adelle</td><td>Schantini</td><td>Adelle Schantini</td><td>adelle_schantini@yahoo.com</td><td>Creative Photography Inc</td><td>162 Grayson St</td><td>Greenlands Ward</td><td>null</td><td>FY2 0TD</td><td>01624-595660</td><td>2025-07-01T21:36:59.253098Z</td><td>2025-07-01T22:33:06.022711Z</td></tr><tr><td>adolph_cunningham_adolph_cunningham@hotmail.com</td><td>Adolph</td><td>Cunningham</td><td>Adolph Cunningham</td><td>adolph_cunningham@hotmail.com</td><td>Moorhead, Bridget Klein Esq</td><td>9874 Oakfield Rd</td><td>Redhill Ward</td><td>null</td><td>SR5 5PT</td><td>01731-429712</td><td>2025-07-01T21:36:59.253098Z</td><td>2025-07-01T22:33:06.022711Z</td></tr><tr><td>adolph_krivanec_akrivanec@hotmail.com</td><td>Adolph</td><td>Krivanec</td><td>Adolph Krivanec</td><td>akrivanec@hotmail.com</td><td>Sas Rubber Inc</td><td>6605 Federal St</td><td>Etobicoke</td><td>ON</td><td>M8Y 3L6</td><td>416-736-1436</td><td>2025-07-01T21:36:59.253098Z</td><td>2025-07-01T22:33:06.022711Z</td></tr><tr><td>adria_gilliam_adria_gilliam@cox.net</td><td>Adria</td><td>Gilliam</td><td>Adria Gilliam</td><td>adria_gilliam@cox.net</td><td>Brokers Marketplace</td><td>60 15th Ave</td><td>Hamilton</td><td>ON</td><td>L8N 2V6</td><td>905-563-9396</td><td>2025-07-01T21:36:59.253098Z</td><td>2025-07-01T22:33:06.022711Z</td></tr><tr><td>adrianna_poncio_adrianna@poncio.com.au</td><td>Adrianna</td><td>Poncio</td><td>Adrianna Poncio</td><td>adrianna@poncio.com.au</td><td>H T Communications Group Ltd</td><td>9 34th Ave #69</td><td>Bethania</td><td>QLD</td><td>4205</td><td>07-6113-9653</td><td>2025-07-01T21:36:59.253098Z</td><td>2025-07-01T22:33:06.022711Z</td></tr><tr><td>afton_wrinkle_awrinkle@wrinkle.org</td><td>Afton</td><td>Wrinkle</td><td>Afton Wrinkle</td><td>awrinkle@wrinkle.org</td><td>Super 8 Motel</td><td>652 5th Ave</td><td>Ottawa</td><td>ON</td><td>K1N 6S5</td><td>613-851-7883</td><td>2025-07-01T21:36:59.253098Z</td><td>2025-07-01T22:33:06.022711Z</td></tr><tr><td>agustin_lakatos_agustin.lakatos@hotmail.com</td><td>Agustin</td><td>Lakatos</td><td>Agustin Lakatos</td><td>agustin.lakatos@hotmail.com</td><td>Thrasher, John E Esq</td><td>23 E Wacker Dr #64</td><td>Becancour</td><td>QC</td><td>G9H 4T4</td><td>819-365-5394</td><td>2025-07-01T21:36:59.253098Z</td><td>2025-07-01T22:33:06.022711Z</td></tr><tr><td>ahmad_alsaqri_ahmad.alsaqri@yahoo.com</td><td>Ahmad</td><td>Alsaqri</td><td>Ahmad Alsaqri</td><td>ahmad.alsaqri@yahoo.com</td><td>Alliance Construction Co Inc</td><td>21 Pickwick St</td><td>Sutton cum Duckmanton</td><td>null</td><td>S44 5DS</td><td>01567-555570</td><td>2025-07-01T21:36:59.253098Z</td><td>2025-07-01T22:33:06.022711Z</td></tr><tr><td>ahmed_angalich_ahmed.angalich@angalich.com</td><td>Ahmed</td><td>Angalich</td><td>Ahmed Angalich</td><td>ahmed.angalich@angalich.com</td><td>Reese Plastics</td><td>2 W Beverly Blvd</td><td>Harrisburg</td><td>PA</td><td>17110</td><td>717-528-8996</td><td>2025-07-01T21:36:59.253098Z</td><td>2025-07-01T22:33:06.022711Z</td></tr><tr><td>aide_ghera_aide.ghera@ghera.com.au</td><td>Aide</td><td>Ghera</td><td>Aide Ghera</td><td>aide.ghera@ghera.com.au</td><td>Nathaniel Electronics</td><td>22 Livingston Ave</td><td>Rhodes</td><td>NSW</td><td>2138</td><td>02-3738-7508</td><td>2025-07-01T21:36:59.253098Z</td><td>2025-07-01T22:33:06.022711Z</td></tr><tr><td>aileen_klukken_aklukken@klukken.com</td><td>Aileen</td><td>Klukken</td><td>Aileen Klukken</td><td>aklukken@klukken.com</td><td>Stamper, Gerald Esq</td><td>8 Wilfong Ln</td><td>North York</td><td>ON</td><td>M2N 2T3</td><td>416-390-4510</td><td>2025-07-01T21:36:59.253098Z</td><td>2025-07-01T22:33:06.022711Z</td></tr><tr><td>aileen_menez_aileen_menez@menez.net.au</td><td>Aileen</td><td>Menez</td><td>Aileen Menez</td><td>aileen_menez@menez.net.au</td><td>Cuzzo, Michael J Esq</td><td>8 S Main St</td><td>Manjimup</td><td>WA</td><td>6258</td><td>08-1196-2822</td><td>2025-07-01T21:36:59.253098Z</td><td>2025-07-01T22:33:06.022711Z</td></tr><tr><td>ailene_friedman_ailene@yahoo.com</td><td>Ailene</td><td>Friedman</td><td>Ailene Friedman</td><td>ailene@yahoo.com</td><td>Spector Thread Co</td><td>479 Commerce Park</td><td>Enterprise</td><td>NB</td><td>E7G 1M2</td><td>506-907-7068</td><td>2025-07-01T21:36:59.253098Z</td><td>2025-07-01T22:33:06.022711Z</td></tr><tr><td>aimee_clozza_aimee_clozza@clozza.org</td><td>Aimee</td><td>Clozza</td><td>Aimee Clozza</td><td>aimee_clozza@clozza.org</td><td>Cdm Transportation</td><td>7 N Wacker Dr #42</td><td>Ottawa</td><td>ON</td><td>K1K 0K4</td><td>613-804-8102</td><td>2025-07-01T21:36:59.253098Z</td><td>2025-07-01T22:33:06.022711Z</td></tr><tr><td>aja_gehrett_aja_gehrett@hotmail.com</td><td>Aja</td><td>Gehrett</td><td>Aja Gehrett</td><td>aja_gehrett@hotmail.com</td><td>Stero Company</td><td>993 Washington Ave</td><td>Nutley</td><td>NJ</td><td>07110</td><td>973-544-2677</td><td>2025-07-01T21:36:59.253098Z</td><td>2025-07-01T22:33:06.022711Z</td></tr><tr><td>alaine_bergesen_alaine_bergesen@cox.net</td><td>Alaine</td><td>Bergesen</td><td>Alaine Bergesen</td><td>alaine_bergesen@cox.net</td><td>Hispanic Magazine</td><td>7667 S Hulen St #42</td><td>Yonkers</td><td>NY</td><td>10701</td><td>914-300-9193</td><td>2025-07-01T21:36:59.253098Z</td><td>2025-07-01T22:33:06.022711Z</td></tr><tr><td>alaine_raterman_alaine@hotmail.com</td><td>Alaine</td><td>Raterman</td><td>Alaine Raterman</td><td>alaine@hotmail.com</td><td>Putnam Co Inc</td><td>1 Milton St</td><td>Little Missenden</td><td>null</td><td>HP16 0DH</td><td>01927-151413</td><td>2025-07-01T21:36:59.253098Z</td><td>2025-07-01T22:33:06.022711Z</td></tr><tr><td>alana_blackmon_ablackmon@gmail.com</td><td>Alana</td><td>Blackmon</td><td>Alana Blackmon</td><td>ablackmon@gmail.com</td><td>Invest Financial Corp</td><td>96 Hook Rd</td><td>Scarborough</td><td>ON</td><td>M1B 2S5</td><td>416-386-8947</td><td>2025-07-01T21:36:59.253098Z</td><td>2025-07-01T22:33:06.022711Z</td></tr><tr><td>alayna_hoyal_alayna_hoyal@hotmail.com</td><td>Alayna</td><td>Hoyal</td><td>Alayna Hoyal</td><td>alayna_hoyal@hotmail.com</td><td>South Bldg Code Congres</td><td>70 Royal St</td><td>Banchory and Mid Deeside Ward</td><td>null</td><td>AB31 4AH</td><td>01964-720542</td><td>2025-07-01T21:36:59.253098Z</td><td>2025-07-01T22:33:06.022711Z</td></tr><tr><td>alba_mosseri_alba@gmail.com</td><td>Alba</td><td>Mosseri</td><td>Alba Mosseri</td><td>alba@gmail.com</td><td>Schwartzbard, Gail L Esq</td><td>4 Burnall St</td><td>Beeston West Ward</td><td>null</td><td>NG9 1AE</td><td>01543-198690</td><td>2025-07-01T21:36:59.253098Z</td><td>2025-07-01T22:33:06.022711Z</td></tr><tr><td>albert_sonier_albert.sonier@gmail.com</td><td>Albert</td><td>Sonier</td><td>Albert Sonier</td><td>albert.sonier@gmail.com</td><td>Quartzite Processing Inc</td><td>4 Brookcrest Dr #7786</td><td>Inverlaw</td><td>QLD</td><td>4610</td><td>07-9354-2612</td><td>2025-07-01T21:36:59.253098Z</td><td>2025-07-01T22:33:06.022711Z</td></tr></tbody></table></div>"
      ]
     },
     "metadata": {
      "application/vnd.databricks.v1+output": {
       "addedWidgets": {},
       "aggData": [],
       "aggError": "",
       "aggOverflow": false,
       "aggSchema": [],
       "aggSeriesLimitReached": false,
       "aggType": "",
       "arguments": {},
       "columnCustomDisplayInfos": {},
       "data": [
        [
         "aaron_kloska_aaron_kloska@kloska.net.au",
         "Aaron",
         "Kloska",
         "Aaron Kloska",
         "aaron_kloska@kloska.net.au",
         "Radecker, H Philip Jr",
         "423 S Navajo St #56",
         "Brookhill",
         "QLD",
         "4816",
         "07-9896-4827",
         "2025-07-01T21:36:59.253098Z",
         "2025-07-01T22:33:06.022711Z"
        ],
        [
         "abel_maclead_amaclead@gmail.com",
         "Abel",
         "Maclead",
         "Abel Maclead",
         "amaclead@gmail.com",
         "Rangoni Of Florence",
         "37275 St  Rt 17m M",
         "Middle Island",
         "NY",
         "11953",
         "631-335-3414",
         "2025-07-01T21:36:59.253098Z",
         "2025-07-01T22:33:06.022711Z"
        ],
        [
         "abraham_cratch_acratch@gmail.com",
         "Abraham",
         "Cratch",
         "Abraham Cratch",
         "acratch@gmail.com",
         "Cavuto, John A",
         "41 Benedict St",
         "Aldborough Ward",
         null,
         "IG2 7QG",
         "01599-245408",
         "2025-07-01T21:36:59.253098Z",
         "2025-07-01T22:33:06.022711Z"
        ],
        [
         "adaline_galagher_adaline.galagher@galagher.com.au",
         "Adaline",
         "Galagher",
         "Adaline Galagher",
         "adaline.galagher@galagher.com.au",
         "Debbie Reynolds Hotel",
         "32716 N Michigan Ave #82",
         "Barooga",
         "NSW",
         "3644",
         "02-3225-1954",
         "2025-07-01T21:36:59.253098Z",
         "2025-07-01T22:33:06.022711Z"
        ],
        [
         "adela_echegoyen_adela.echegoyen@echegoyen.org",
         "Adela",
         "Echegoyen",
         "Adela Echegoyen",
         "adela.echegoyen@echegoyen.org",
         "Fpa Corp",
         "128 W Kellogg Dr",
         "Burnaby",
         "BC",
         "V5B 4L5",
         "604-571-8392",
         "2025-07-01T21:36:59.253098Z",
         "2025-07-01T22:33:06.022711Z"
        ],
        [
         "adelaide_ender_aender@gmail.com",
         "Adelaide",
         "Ender",
         "Adelaide Ender",
         "aender@gmail.com",
         "Williams Design Group",
         "175 N Central Ave",
         "Greenslopes",
         "QLD",
         "4120",
         "07-7538-5504",
         "2025-07-01T21:36:59.253098Z",
         "2025-07-01T22:33:06.022711Z"
        ],
        [
         "adelina_nabours_adelina_nabours@gmail.com",
         "Adelina",
         "Nabours",
         "Adelina Nabours",
         "adelina_nabours@gmail.com",
         "Courtyard By Marriott",
         "80 Pittsford Victor Rd #9",
         "Cleveland",
         "OH",
         "44103",
         "216-230-4892",
         "2025-07-01T21:36:59.253098Z",
         "2025-07-01T22:33:06.022711Z"
        ],
        [
         "adell_lipkin_adell.lipkin@lipkin.com",
         "Adell",
         "Lipkin",
         "Adell Lipkin",
         "adell.lipkin@lipkin.com",
         "Systems Graph Inc Ab Dick Dlr",
         "65 Mountain View Dr",
         "Whippany",
         "NJ",
         "07981",
         "973-654-1561",
         "2025-07-01T21:36:59.253098Z",
         "2025-07-01T22:33:06.022711Z"
        ],
        [
         "adelle_nitcher_anitcher@aol.com",
         "Adelle",
         "Nitcher",
         "Adelle Nitcher",
         "anitcher@aol.com",
         "John J Mccarthy Agency Inc",
         "10 Midway Dr",
         "Thorold",
         "ON",
         "L2V 5C7",
         "905-998-3758",
         "2025-07-01T21:36:59.253098Z",
         "2025-07-01T22:33:06.022711Z"
        ],
        [
         "adelle_schantini_adelle_schantini@yahoo.com",
         "Adelle",
         "Schantini",
         "Adelle Schantini",
         "adelle_schantini@yahoo.com",
         "Creative Photography Inc",
         "162 Grayson St",
         "Greenlands Ward",
         null,
         "FY2 0TD",
         "01624-595660",
         "2025-07-01T21:36:59.253098Z",
         "2025-07-01T22:33:06.022711Z"
        ],
        [
         "adolph_cunningham_adolph_cunningham@hotmail.com",
         "Adolph",
         "Cunningham",
         "Adolph Cunningham",
         "adolph_cunningham@hotmail.com",
         "Moorhead, Bridget Klein Esq",
         "9874 Oakfield Rd",
         "Redhill Ward",
         null,
         "SR5 5PT",
         "01731-429712",
         "2025-07-01T21:36:59.253098Z",
         "2025-07-01T22:33:06.022711Z"
        ],
        [
         "adolph_krivanec_akrivanec@hotmail.com",
         "Adolph",
         "Krivanec",
         "Adolph Krivanec",
         "akrivanec@hotmail.com",
         "Sas Rubber Inc",
         "6605 Federal St",
         "Etobicoke",
         "ON",
         "M8Y 3L6",
         "416-736-1436",
         "2025-07-01T21:36:59.253098Z",
         "2025-07-01T22:33:06.022711Z"
        ],
        [
         "adria_gilliam_adria_gilliam@cox.net",
         "Adria",
         "Gilliam",
         "Adria Gilliam",
         "adria_gilliam@cox.net",
         "Brokers Marketplace",
         "60 15th Ave",
         "Hamilton",
         "ON",
         "L8N 2V6",
         "905-563-9396",
         "2025-07-01T21:36:59.253098Z",
         "2025-07-01T22:33:06.022711Z"
        ],
        [
         "adrianna_poncio_adrianna@poncio.com.au",
         "Adrianna",
         "Poncio",
         "Adrianna Poncio",
         "adrianna@poncio.com.au",
         "H T Communications Group Ltd",
         "9 34th Ave #69",
         "Bethania",
         "QLD",
         "4205",
         "07-6113-9653",
         "2025-07-01T21:36:59.253098Z",
         "2025-07-01T22:33:06.022711Z"
        ],
        [
         "afton_wrinkle_awrinkle@wrinkle.org",
         "Afton",
         "Wrinkle",
         "Afton Wrinkle",
         "awrinkle@wrinkle.org",
         "Super 8 Motel",
         "652 5th Ave",
         "Ottawa",
         "ON",
         "K1N 6S5",
         "613-851-7883",
         "2025-07-01T21:36:59.253098Z",
         "2025-07-01T22:33:06.022711Z"
        ],
        [
         "agustin_lakatos_agustin.lakatos@hotmail.com",
         "Agustin",
         "Lakatos",
         "Agustin Lakatos",
         "agustin.lakatos@hotmail.com",
         "Thrasher, John E Esq",
         "23 E Wacker Dr #64",
         "Becancour",
         "QC",
         "G9H 4T4",
         "819-365-5394",
         "2025-07-01T21:36:59.253098Z",
         "2025-07-01T22:33:06.022711Z"
        ],
        [
         "ahmad_alsaqri_ahmad.alsaqri@yahoo.com",
         "Ahmad",
         "Alsaqri",
         "Ahmad Alsaqri",
         "ahmad.alsaqri@yahoo.com",
         "Alliance Construction Co Inc",
         "21 Pickwick St",
         "Sutton cum Duckmanton",
         null,
         "S44 5DS",
         "01567-555570",
         "2025-07-01T21:36:59.253098Z",
         "2025-07-01T22:33:06.022711Z"
        ],
        [
         "ahmed_angalich_ahmed.angalich@angalich.com",
         "Ahmed",
         "Angalich",
         "Ahmed Angalich",
         "ahmed.angalich@angalich.com",
         "Reese Plastics",
         "2 W Beverly Blvd",
         "Harrisburg",
         "PA",
         "17110",
         "717-528-8996",
         "2025-07-01T21:36:59.253098Z",
         "2025-07-01T22:33:06.022711Z"
        ],
        [
         "aide_ghera_aide.ghera@ghera.com.au",
         "Aide",
         "Ghera",
         "Aide Ghera",
         "aide.ghera@ghera.com.au",
         "Nathaniel Electronics",
         "22 Livingston Ave",
         "Rhodes",
         "NSW",
         "2138",
         "02-3738-7508",
         "2025-07-01T21:36:59.253098Z",
         "2025-07-01T22:33:06.022711Z"
        ],
        [
         "aileen_klukken_aklukken@klukken.com",
         "Aileen",
         "Klukken",
         "Aileen Klukken",
         "aklukken@klukken.com",
         "Stamper, Gerald Esq",
         "8 Wilfong Ln",
         "North York",
         "ON",
         "M2N 2T3",
         "416-390-4510",
         "2025-07-01T21:36:59.253098Z",
         "2025-07-01T22:33:06.022711Z"
        ],
        [
         "aileen_menez_aileen_menez@menez.net.au",
         "Aileen",
         "Menez",
         "Aileen Menez",
         "aileen_menez@menez.net.au",
         "Cuzzo, Michael J Esq",
         "8 S Main St",
         "Manjimup",
         "WA",
         "6258",
         "08-1196-2822",
         "2025-07-01T21:36:59.253098Z",
         "2025-07-01T22:33:06.022711Z"
        ],
        [
         "ailene_friedman_ailene@yahoo.com",
         "Ailene",
         "Friedman",
         "Ailene Friedman",
         "ailene@yahoo.com",
         "Spector Thread Co",
         "479 Commerce Park",
         "Enterprise",
         "NB",
         "E7G 1M2",
         "506-907-7068",
         "2025-07-01T21:36:59.253098Z",
         "2025-07-01T22:33:06.022711Z"
        ],
        [
         "aimee_clozza_aimee_clozza@clozza.org",
         "Aimee",
         "Clozza",
         "Aimee Clozza",
         "aimee_clozza@clozza.org",
         "Cdm Transportation",
         "7 N Wacker Dr #42",
         "Ottawa",
         "ON",
         "K1K 0K4",
         "613-804-8102",
         "2025-07-01T21:36:59.253098Z",
         "2025-07-01T22:33:06.022711Z"
        ],
        [
         "aja_gehrett_aja_gehrett@hotmail.com",
         "Aja",
         "Gehrett",
         "Aja Gehrett",
         "aja_gehrett@hotmail.com",
         "Stero Company",
         "993 Washington Ave",
         "Nutley",
         "NJ",
         "07110",
         "973-544-2677",
         "2025-07-01T21:36:59.253098Z",
         "2025-07-01T22:33:06.022711Z"
        ],
        [
         "alaine_bergesen_alaine_bergesen@cox.net",
         "Alaine",
         "Bergesen",
         "Alaine Bergesen",
         "alaine_bergesen@cox.net",
         "Hispanic Magazine",
         "7667 S Hulen St #42",
         "Yonkers",
         "NY",
         "10701",
         "914-300-9193",
         "2025-07-01T21:36:59.253098Z",
         "2025-07-01T22:33:06.022711Z"
        ],
        [
         "alaine_raterman_alaine@hotmail.com",
         "Alaine",
         "Raterman",
         "Alaine Raterman",
         "alaine@hotmail.com",
         "Putnam Co Inc",
         "1 Milton St",
         "Little Missenden",
         null,
         "HP16 0DH",
         "01927-151413",
         "2025-07-01T21:36:59.253098Z",
         "2025-07-01T22:33:06.022711Z"
        ],
        [
         "alana_blackmon_ablackmon@gmail.com",
         "Alana",
         "Blackmon",
         "Alana Blackmon",
         "ablackmon@gmail.com",
         "Invest Financial Corp",
         "96 Hook Rd",
         "Scarborough",
         "ON",
         "M1B 2S5",
         "416-386-8947",
         "2025-07-01T21:36:59.253098Z",
         "2025-07-01T22:33:06.022711Z"
        ],
        [
         "alayna_hoyal_alayna_hoyal@hotmail.com",
         "Alayna",
         "Hoyal",
         "Alayna Hoyal",
         "alayna_hoyal@hotmail.com",
         "South Bldg Code Congres",
         "70 Royal St",
         "Banchory and Mid Deeside Ward",
         null,
         "AB31 4AH",
         "01964-720542",
         "2025-07-01T21:36:59.253098Z",
         "2025-07-01T22:33:06.022711Z"
        ],
        [
         "alba_mosseri_alba@gmail.com",
         "Alba",
         "Mosseri",
         "Alba Mosseri",
         "alba@gmail.com",
         "Schwartzbard, Gail L Esq",
         "4 Burnall St",
         "Beeston West Ward",
         null,
         "NG9 1AE",
         "01543-198690",
         "2025-07-01T21:36:59.253098Z",
         "2025-07-01T22:33:06.022711Z"
        ],
        [
         "albert_sonier_albert.sonier@gmail.com",
         "Albert",
         "Sonier",
         "Albert Sonier",
         "albert.sonier@gmail.com",
         "Quartzite Processing Inc",
         "4 Brookcrest Dr #7786",
         "Inverlaw",
         "QLD",
         "4610",
         "07-9354-2612",
         "2025-07-01T21:36:59.253098Z",
         "2025-07-01T22:33:06.022711Z"
        ]
       ],
       "datasetInfos": [],
       "dbfsResultPath": null,
       "isJsonSchema": true,
       "metadata": {},
       "overflow": false,
       "plotOptions": {
        "customPlotOptions": {},
        "displayType": "table",
        "pivotAggregation": null,
        "pivotColumns": null,
        "xColumns": null,
        "yColumns": null
       },
       "removedWidgets": [],
       "schema": [
        {
         "metadata": "{}",
         "name": "customer_key",
         "type": "\"string\""
        },
        {
         "metadata": "{}",
         "name": "first_name",
         "type": "\"string\""
        },
        {
         "metadata": "{}",
         "name": "last_name",
         "type": "\"string\""
        },
        {
         "metadata": "{}",
         "name": "full_name",
         "type": "\"string\""
        },
        {
         "metadata": "{}",
         "name": "email",
         "type": "\"string\""
        },
        {
         "metadata": "{}",
         "name": "company_name",
         "type": "\"string\""
        },
        {
         "metadata": "{}",
         "name": "address",
         "type": "\"string\""
        },
        {
         "metadata": "{}",
         "name": "city",
         "type": "\"string\""
        },
        {
         "metadata": "{}",
         "name": "state",
         "type": "\"string\""
        },
        {
         "metadata": "{}",
         "name": "postal_code",
         "type": "\"string\""
        },
        {
         "metadata": "{}",
         "name": "phone",
         "type": "\"string\""
        },
        {
         "metadata": "{}",
         "name": "created_date",
         "type": "\"timestamp\""
        },
        {
         "metadata": "{}",
         "name": "updated_date",
         "type": "\"timestamp\""
        }
       ],
       "type": "table"
      }
     },
     "output_type": "display_data"
    }
   ],
   "source": [
    "# Create customer dimension table\n",
    "dim_customer = customers_df.select(\n",
    "    col(\"customer_id\").alias(\"customer_key\"),\n",
    "    col(\"first_name\"),\n",
    "    col(\"last_name\"),\n",
    "    concat_ws(\" \", col(\"first_name\"), col(\"last_name\")).alias(\"full_name\"),\n",
    "    col(\"email\"),\n",
    "    col(\"company_name\"),\n",
    "    col(\"address\"),  \n",
    "    col(\"city\"),\n",
    "    col(\"state\"),\n",
    "    col(\"postal_code\"),  \n",
    "    col(\"phone1\").alias(\"phone\"),  \n",
    "    col(\"ingestion_date\").alias(\"created_date\"),\n",
    "    current_timestamp().alias(\"updated_date\")\n",
    ").dropDuplicates([\"customer_key\"])\n",
    "\n",
    "logger.info(f\"Created customer dimension with {dim_customer.count()} records\")\n",
    "display(dim_customer.limit(30))\n"
   ]
  },
  {
   "cell_type": "code",
   "execution_count": 0,
   "metadata": {
    "application/vnd.databricks.v1+cell": {
     "cellMetadata": {
      "byteLimit": 2048000,
      "rowLimit": 10000
     },
     "inputWidgets": {},
     "nuid": "48afbfda-5797-475e-96ea-b605e7192e01",
     "showTitle": false,
     "tableResultSettingsMap": {},
     "title": ""
    }
   },
   "outputs": [
    {
     "output_type": "stream",
     "name": "stderr",
     "output_type": "stream",
     "text": [
      "INFO:py4j.clientserver:Received command c on object id p1\nINFO:py4j.clientserver:Received command c on object id p0\nINFO:__main__:Created product dimension with 109 records\nINFO:py4j.clientserver:Received command c on object id p0\nINFO:py4j.clientserver:Received command c on object id p0\n"
     ]
    },
    {
     "output_type": "display_data",
     "data": {
      "text/html": [
       "<style scoped>\n",
       "  .table-result-container {\n",
       "    max-height: 300px;\n",
       "    overflow: auto;\n",
       "  }\n",
       "  table, th, td {\n",
       "    border: 1px solid black;\n",
       "    border-collapse: collapse;\n",
       "  }\n",
       "  th, td {\n",
       "    padding: 5px;\n",
       "  }\n",
       "  th {\n",
       "    text-align: left;\n",
       "  }\n",
       "</style><div class='table-result-container'><table class='table-result'><thead style='background-color: white'><tr><th>PRODUCTCODE</th><th>product_key</th><th>product_family</th><th>product_line</th><th>created_date</th></tr></thead><tbody><tr><td>S18_4600</td><td>S18_4600</td><td>S18</td><td>General</td><td>2025-07-01T22:33:18.787661Z</td></tr><tr><td>S18_1749</td><td>S18_1749</td><td>S18</td><td>General</td><td>2025-07-01T22:33:18.787661Z</td></tr><tr><td>S12_3891</td><td>S12_3891</td><td>S12</td><td>General</td><td>2025-07-01T22:33:18.787661Z</td></tr><tr><td>S18_2248</td><td>S18_2248</td><td>S18</td><td>General</td><td>2025-07-01T22:33:18.787661Z</td></tr><tr><td>S700_1138</td><td>S700_1138</td><td>S700</td><td>General</td><td>2025-07-01T22:33:18.787661Z</td></tr><tr><td>S32_1268</td><td>S32_1268</td><td>S32</td><td>General</td><td>2025-07-01T22:33:18.787661Z</td></tr><tr><td>S12_1099</td><td>S12_1099</td><td>S12</td><td>General</td><td>2025-07-01T22:33:18.787661Z</td></tr><tr><td>S18_2795</td><td>S18_2795</td><td>S18</td><td>General</td><td>2025-07-01T22:33:18.787661Z</td></tr><tr><td>S24_1937</td><td>S24_1937</td><td>S24</td><td>General</td><td>2025-07-01T22:33:18.787661Z</td></tr><tr><td>S32_3522</td><td>S32_3522</td><td>S32</td><td>General</td><td>2025-07-01T22:33:18.787661Z</td></tr><tr><td>S18_1097</td><td>S18_1097</td><td>S18</td><td>General</td><td>2025-07-01T22:33:18.787661Z</td></tr><tr><td>S18_1662</td><td>S18_1662</td><td>S18</td><td>General</td><td>2025-07-01T22:33:18.787661Z</td></tr><tr><td>S12_1666</td><td>S12_1666</td><td>S12</td><td>General</td><td>2025-07-01T22:33:18.787661Z</td></tr><tr><td>S24_3969</td><td>S24_3969</td><td>S24</td><td>General</td><td>2025-07-01T22:33:18.787661Z</td></tr><tr><td>S24_1578</td><td>S24_1578</td><td>S24</td><td>General</td><td>2025-07-01T22:33:18.787661Z</td></tr><tr><td>S24_4048</td><td>S24_4048</td><td>S24</td><td>General</td><td>2025-07-01T22:33:18.787661Z</td></tr><tr><td>S18_3320</td><td>S18_3320</td><td>S18</td><td>General</td><td>2025-07-01T22:33:18.787661Z</td></tr><tr><td>S24_3816</td><td>S24_3816</td><td>S24</td><td>General</td><td>2025-07-01T22:33:18.787661Z</td></tr><tr><td>S18_3136</td><td>S18_3136</td><td>S18</td><td>General</td><td>2025-07-01T22:33:18.787661Z</td></tr><tr><td>S32_2509</td><td>S32_2509</td><td>S32</td><td>General</td><td>2025-07-01T22:33:18.787661Z</td></tr><tr><td>S24_2887</td><td>S24_2887</td><td>S24</td><td>General</td><td>2025-07-01T22:33:18.787661Z</td></tr><tr><td>S24_3151</td><td>S24_3151</td><td>S24</td><td>General</td><td>2025-07-01T22:33:18.787661Z</td></tr><tr><td>S10_4757</td><td>S10_4757</td><td>S10</td><td>General</td><td>2025-07-01T22:33:18.787661Z</td></tr><tr><td>S18_4409</td><td>S18_4409</td><td>S18</td><td>General</td><td>2025-07-01T22:33:18.787661Z</td></tr><tr><td>S12_3990</td><td>S12_3990</td><td>S12</td><td>General</td><td>2025-07-01T22:33:18.787661Z</td></tr><tr><td>S24_3371</td><td>S24_3371</td><td>S24</td><td>General</td><td>2025-07-01T22:33:18.787661Z</td></tr><tr><td>S50_1514</td><td>S50_1514</td><td>S50</td><td>General</td><td>2025-07-01T22:33:18.787661Z</td></tr><tr><td>S700_3505</td><td>S700_3505</td><td>S700</td><td>General</td><td>2025-07-01T22:33:18.787661Z</td></tr><tr><td>S18_2949</td><td>S18_2949</td><td>S18</td><td>General</td><td>2025-07-01T22:33:18.787661Z</td></tr><tr><td>S10_4962</td><td>S10_4962</td><td>S10</td><td>General</td><td>2025-07-01T22:33:18.787661Z</td></tr></tbody></table></div>"
      ]
     },
     "metadata": {
      "application/vnd.databricks.v1+output": {
       "addedWidgets": {},
       "aggData": [],
       "aggError": "",
       "aggOverflow": false,
       "aggSchema": [],
       "aggSeriesLimitReached": false,
       "aggType": "",
       "arguments": {},
       "columnCustomDisplayInfos": {},
       "data": [
        [
         "S18_4600",
         "S18_4600",
         "S18",
         "General",
         "2025-07-01T22:33:18.787661Z"
        ],
        [
         "S18_1749",
         "S18_1749",
         "S18",
         "General",
         "2025-07-01T22:33:18.787661Z"
        ],
        [
         "S12_3891",
         "S12_3891",
         "S12",
         "General",
         "2025-07-01T22:33:18.787661Z"
        ],
        [
         "S18_2248",
         "S18_2248",
         "S18",
         "General",
         "2025-07-01T22:33:18.787661Z"
        ],
        [
         "S700_1138",
         "S700_1138",
         "S700",
         "General",
         "2025-07-01T22:33:18.787661Z"
        ],
        [
         "S32_1268",
         "S32_1268",
         "S32",
         "General",
         "2025-07-01T22:33:18.787661Z"
        ],
        [
         "S12_1099",
         "S12_1099",
         "S12",
         "General",
         "2025-07-01T22:33:18.787661Z"
        ],
        [
         "S18_2795",
         "S18_2795",
         "S18",
         "General",
         "2025-07-01T22:33:18.787661Z"
        ],
        [
         "S24_1937",
         "S24_1937",
         "S24",
         "General",
         "2025-07-01T22:33:18.787661Z"
        ],
        [
         "S32_3522",
         "S32_3522",
         "S32",
         "General",
         "2025-07-01T22:33:18.787661Z"
        ],
        [
         "S18_1097",
         "S18_1097",
         "S18",
         "General",
         "2025-07-01T22:33:18.787661Z"
        ],
        [
         "S18_1662",
         "S18_1662",
         "S18",
         "General",
         "2025-07-01T22:33:18.787661Z"
        ],
        [
         "S12_1666",
         "S12_1666",
         "S12",
         "General",
         "2025-07-01T22:33:18.787661Z"
        ],
        [
         "S24_3969",
         "S24_3969",
         "S24",
         "General",
         "2025-07-01T22:33:18.787661Z"
        ],
        [
         "S24_1578",
         "S24_1578",
         "S24",
         "General",
         "2025-07-01T22:33:18.787661Z"
        ],
        [
         "S24_4048",
         "S24_4048",
         "S24",
         "General",
         "2025-07-01T22:33:18.787661Z"
        ],
        [
         "S18_3320",
         "S18_3320",
         "S18",
         "General",
         "2025-07-01T22:33:18.787661Z"
        ],
        [
         "S24_3816",
         "S24_3816",
         "S24",
         "General",
         "2025-07-01T22:33:18.787661Z"
        ],
        [
         "S18_3136",
         "S18_3136",
         "S18",
         "General",
         "2025-07-01T22:33:18.787661Z"
        ],
        [
         "S32_2509",
         "S32_2509",
         "S32",
         "General",
         "2025-07-01T22:33:18.787661Z"
        ],
        [
         "S24_2887",
         "S24_2887",
         "S24",
         "General",
         "2025-07-01T22:33:18.787661Z"
        ],
        [
         "S24_3151",
         "S24_3151",
         "S24",
         "General",
         "2025-07-01T22:33:18.787661Z"
        ],
        [
         "S10_4757",
         "S10_4757",
         "S10",
         "General",
         "2025-07-01T22:33:18.787661Z"
        ],
        [
         "S18_4409",
         "S18_4409",
         "S18",
         "General",
         "2025-07-01T22:33:18.787661Z"
        ],
        [
         "S12_3990",
         "S12_3990",
         "S12",
         "General",
         "2025-07-01T22:33:18.787661Z"
        ],
        [
         "S24_3371",
         "S24_3371",
         "S24",
         "General",
         "2025-07-01T22:33:18.787661Z"
        ],
        [
         "S50_1514",
         "S50_1514",
         "S50",
         "General",
         "2025-07-01T22:33:18.787661Z"
        ],
        [
         "S700_3505",
         "S700_3505",
         "S700",
         "General",
         "2025-07-01T22:33:18.787661Z"
        ],
        [
         "S18_2949",
         "S18_2949",
         "S18",
         "General",
         "2025-07-01T22:33:18.787661Z"
        ],
        [
         "S10_4962",
         "S10_4962",
         "S10",
         "General",
         "2025-07-01T22:33:18.787661Z"
        ]
       ],
       "datasetInfos": [],
       "dbfsResultPath": null,
       "isJsonSchema": true,
       "metadata": {},
       "overflow": false,
       "plotOptions": {
        "customPlotOptions": {},
        "displayType": "table",
        "pivotAggregation": null,
        "pivotColumns": null,
        "xColumns": null,
        "yColumns": null
       },
       "removedWidgets": [],
       "schema": [
        {
         "metadata": "{}",
         "name": "PRODUCTCODE",
         "type": "\"string\""
        },
        {
         "metadata": "{}",
         "name": "product_key",
         "type": "\"string\""
        },
        {
         "metadata": "{}",
         "name": "product_family",
         "type": "\"string\""
        },
        {
         "metadata": "{}",
         "name": "product_line",
         "type": "\"string\""
        },
        {
         "metadata": "{}",
         "name": "created_date",
         "type": "\"timestamp\""
        }
       ],
       "type": "table"
      }
     },
     "output_type": "display_data"
    }
   ],
   "source": [
    "# extract product family from product code\n",
    "def extract_product_family(product_code):\n",
    "    if product_code and \"_\" in product_code:\n",
    "        return product_code.split(\"_\")[0]\n",
    "    return \"UNKNOWN\"\n",
    "\n",
    "extract_product_family_udf = udf(extract_product_family, StringType())\n",
    "\n",
    "# Create simple product dimension table\n",
    "dim_product = transactions_df.select(\"PRODUCTCODE\").distinct() \\\n",
    "    .withColumn(\"product_key\", col(\"PRODUCTCODE\")) \\\n",
    "    .withColumn(\"product_family\", extract_product_family_udf(col(\"PRODUCTCODE\"))) \\\n",
    "    .withColumn(\"product_line\", lit(\"General\")) \\\n",
    "    .withColumn(\"created_date\", current_timestamp())\n",
    "\n",
    "logger.info(f\"Created product dimension with {dim_product.count()} records\")\n",
    "display(dim_product.limit(30))\n"
   ]
  },
  {
   "cell_type": "code",
   "execution_count": 0,
   "metadata": {
    "application/vnd.databricks.v1+cell": {
     "cellMetadata": {
      "byteLimit": 2048000,
      "rowLimit": 10000
     },
     "inputWidgets": {},
     "nuid": "9af9cb23-6b8a-49c5-8de1-617e182d792b",
     "showTitle": false,
     "tableResultSettingsMap": {},
     "title": ""
    }
   },
   "outputs": [
    {
     "output_type": "stream",
     "name": "stderr",
     "output_type": "stream",
     "text": [
      "INFO:py4j.clientserver:Received command c on object id p0\nINFO:__main__:Created fact transactions with 2823 records\nINFO:py4j.clientserver:Received command c on object id p0\nINFO:py4j.clientserver:Received command c on object id p0\n"
     ]
    },
    {
     "output_type": "display_data",
     "data": {
      "text/html": [
       "<style scoped>\n",
       "  .table-result-container {\n",
       "    max-height: 300px;\n",
       "    overflow: auto;\n",
       "  }\n",
       "  table, th, td {\n",
       "    border: 1px solid black;\n",
       "    border-collapse: collapse;\n",
       "  }\n",
       "  th, td {\n",
       "    padding: 5px;\n",
       "  }\n",
       "  th {\n",
       "    text-align: left;\n",
       "  }\n",
       "</style><div class='table-result-container'><table class='table-result'><thead style='background-color: white'><tr><th>order_number</th><th>customer_name</th><th>address</th><th>phone_number</th><th>product_code</th><th>quantity</th><th>unit_price</th><th>total_amount</th><th>deal_size</th><th>territory</th><th>order_date</th><th>status</th><th>product_line</th><th>created_date</th><th>transaction_type</th><th>restocking_fee</th><th>net_amount</th><th>is_large_order</th></tr></thead><tbody><tr><td>10107</td><td>Kwai Yu</td><td>897 Long Airport Avenue</td><td>2125557818</td><td>S10_1678</td><td>30</td><td>66.43333333333334</td><td>-1993.0</td><td>Small</td><td>NA</td><td>2003-02-24</td><td>COMPLETED</td><td>General</td><td>2025-07-02T02:46:39.362186Z</td><td>REFUND</td><td>199.3</td><td>1793.7</td><td>false</td></tr><tr><td>10121</td><td>Paul Henriot</td><td>59 rue de l'Abbaye</td><td>26.47.1555</td><td>S10_1678</td><td>34</td><td>2.7058823529411766</td><td>-92.0</td><td>Small</td><td>EMEA</td><td>2003-05-07</td><td>COMPLETED</td><td>General</td><td>2025-07-02T02:46:39.362186Z</td><td>REFUND</td><td>9.200000000000001</td><td>82.8</td><td>false</td></tr><tr><td>10134</td><td>Daniel Da Cunha</td><td>27 rue du Colonel Pierre Avia</td><td>#ERROR!</td><td>S10_1678</td><td>41</td><td>14.0</td><td>-574.0</td><td>Medium</td><td>EMEA</td><td>2003-07-01</td><td>COMPLETED</td><td>General</td><td>2025-07-02T02:46:39.362186Z</td><td>REFUND</td><td>57.400000000000006</td><td>516.6</td><td>false</td></tr><tr><td>10145</td><td>Julie Young</td><td>78934 Hillside Dr.</td><td>6265557265</td><td>S10_1678</td><td>45</td><td>13.844444444444445</td><td>-623.0</td><td>Medium</td><td>NA</td><td>2003-08-25</td><td>COMPLETED</td><td>General</td><td>2025-07-02T02:46:39.362186Z</td><td>REFUND</td><td>62.300000000000004</td><td>560.7</td><td>false</td></tr><tr><td>10159</td><td>Julie Brown</td><td>7734 Strong St.</td><td>6505551386</td><td>S10_1678</td><td>49</td><td>9.020408163265307</td><td>-442.0</td><td>Medium</td><td>NA</td><td>2003-10-10</td><td>COMPLETED</td><td>General</td><td>2025-07-02T02:46:39.362186Z</td><td>REFUND</td><td>44.2</td><td>397.8</td><td>false</td></tr><tr><td>10168</td><td>Juri Hirano</td><td>9408 Furth Circle</td><td>6505556809</td><td>S10_1678</td><td>36</td><td>42.77777777777778</td><td>1540.0</td><td>Medium</td><td>NA</td><td>2003-10-28</td><td>COMPLETED</td><td>General</td><td>2025-07-02T02:46:39.362186Z</td><td>SALE</td><td>0.0</td><td>1540.0</td><td>false</td></tr><tr><td>10180</td><td>Martine Rance</td><td>184, chausse de Tournai</td><td>20.16.1555</td><td>S10_1678</td><td>29</td><td>57.55172413793103</td><td>-1669.0</td><td>Small</td><td>EMEA</td><td>2003-11-11</td><td>COMPLETED</td><td>General</td><td>2025-07-02T02:46:39.362186Z</td><td>REFUND</td><td>166.9</td><td>1502.1</td><td>false</td></tr><tr><td>10188</td><td>Veysel Oeztan</td><td>Drammen 121, PR 744 Sentrum</td><td>#ERROR!</td><td>S10_1678</td><td>48</td><td>16.729166666666668</td><td>803.0</td><td>Medium</td><td>EMEA</td><td>2003-11-18</td><td>COMPLETED</td><td>General</td><td>2025-07-02T02:46:39.362186Z</td><td>SALE</td><td>0.0</td><td>803.0</td><td>false</td></tr><tr><td>10201</td><td>Julie Murphy</td><td>5557 North Pendale Street</td><td>6505555787</td><td>S10_1678</td><td>22</td><td>60.95454545454545</td><td>1341.0</td><td>Small</td><td>NA</td><td>2003-12-01</td><td>COMPLETED</td><td>General</td><td>2025-07-02T02:46:39.362186Z</td><td>SALE</td><td>0.0</td><td>1341.0</td><td>false</td></tr><tr><td>10211</td><td>Dominique Perrier</td><td>25, rue Lauriston</td><td>(1) 47.55.6555</td><td>S10_1678</td><td>41</td><td>18.073170731707318</td><td>-741.0</td><td>Medium</td><td>EMEA</td><td>2004-01-15</td><td>COMPLETED</td><td>General</td><td>2025-07-02T02:46:39.362186Z</td><td>REFUND</td><td>74.10000000000001</td><td>666.9</td><td>false</td></tr><tr><td>10223</td><td>Peter Ferguson</td><td>636 St Kilda Road</td><td>03 9520 4555</td><td>S10_1678</td><td>37</td><td>13.72972972972973</td><td>508.0</td><td>Medium</td><td>APAC</td><td>2004-02-20</td><td>COMPLETED</td><td>General</td><td>2025-07-02T02:46:39.362186Z</td><td>SALE</td><td>0.0</td><td>508.0</td><td>false</td></tr><tr><td>10237</td><td>Michael Frick</td><td>2678 Kingston Rd.</td><td>2125551500</td><td>S10_1678</td><td>23</td><td>23.652173913043477</td><td>544.0</td><td>Small</td><td>NA</td><td>2004-04-05</td><td>COMPLETED</td><td>General</td><td>2025-07-02T02:46:39.362186Z</td><td>SALE</td><td>0.0</td><td>544.0</td><td>false</td></tr><tr><td>10251</td><td>William Brown</td><td>7476 Moss Rd.</td><td>2015559350</td><td>S10_1678</td><td>28</td><td>44.42857142857143</td><td>1244.0</td><td>Medium</td><td>NA</td><td>2004-05-18</td><td>COMPLETED</td><td>General</td><td>2025-07-02T02:46:39.362186Z</td><td>SALE</td><td>0.0</td><td>1244.0</td><td>false</td></tr><tr><td>10263</td><td>Julie King</td><td>25593 South Bay Ln.</td><td>2035552570</td><td>S10_1678</td><td>34</td><td>1.3235294117647058</td><td>45.0</td><td>Medium</td><td>NA</td><td>2004-06-28</td><td>COMPLETED</td><td>General</td><td>2025-07-02T02:46:39.362186Z</td><td>SALE</td><td>0.0</td><td>45.0</td><td>false</td></tr><tr><td>10275</td><td>Janine Labrune</td><td>67, rue des Cinquante Otages</td><td>40.67.8555</td><td>S10_1678</td><td>45</td><td>4.955555555555556</td><td>-223.0</td><td>Medium</td><td>EMEA</td><td>2004-07-23</td><td>COMPLETED</td><td>General</td><td>2025-07-02T02:46:39.362186Z</td><td>REFUND</td><td>22.3</td><td>200.7</td><td>false</td></tr><tr><td>10285</td><td>Marta Hernandez</td><td>39323 Spinnaker Dr.</td><td>6175558555</td><td>S10_1678</td><td>36</td><td>18.13888888888889</td><td>-653.0</td><td>Medium</td><td>NA</td><td>2004-08-27</td><td>COMPLETED</td><td>General</td><td>2025-07-02T02:46:39.362186Z</td><td>REFUND</td><td>65.3</td><td>587.7</td><td>false</td></tr><tr><td>10299</td><td>Matti Karttunen</td><td>Keskuskatu 45</td><td>90-224 8555</td><td>S10_1678</td><td>23</td><td>57.30434782608695</td><td>-1318.0</td><td>Small</td><td>EMEA</td><td>2004-09-30</td><td>COMPLETED</td><td>General</td><td>2025-07-02T02:46:39.362186Z</td><td>REFUND</td><td>131.8</td><td>1186.2</td><td>false</td></tr><tr><td>10309</td><td>Jonas Bergulfsen</td><td>Erling Skakkes gate 78</td><td>07-98 9555</td><td>S10_1678</td><td>41</td><td>33.21951219512195</td><td>1362.0</td><td>Medium</td><td>EMEA</td><td>2004-10-15</td><td>COMPLETED</td><td>General</td><td>2025-07-02T02:46:39.362186Z</td><td>SALE</td><td>0.0</td><td>1362.0</td><td>false</td></tr><tr><td>10318</td><td>Kyung Yu</td><td>7586 Pompton St.</td><td>2155551555</td><td>S10_1678</td><td>46</td><td>22.065217391304348</td><td>1015.0</td><td>Medium</td><td>NA</td><td>2004-11-02</td><td>COMPLETED</td><td>General</td><td>2025-07-02T02:46:39.362186Z</td><td>SALE</td><td>0.0</td><td>1015.0</td><td>false</td></tr><tr><td>10329</td><td>Kwai Yu</td><td>897 Long Airport Avenue</td><td>2125557818</td><td>S10_1678</td><td>42</td><td>14.476190476190476</td><td>-608.0</td><td>Medium</td><td>NA</td><td>2004-11-15</td><td>COMPLETED</td><td>General</td><td>2025-07-02T02:46:39.362186Z</td><td>REFUND</td><td>60.800000000000004</td><td>547.2</td><td>false</td></tr><tr><td>10341</td><td>Georg Pipps</td><td>Geislweg 14</td><td>6562-9555</td><td>S10_1678</td><td>41</td><td>24.390243902439025</td><td>1000.0</td><td>Large</td><td>EMEA</td><td>2004-11-24</td><td>COMPLETED</td><td>General</td><td>2025-07-02T02:46:39.362186Z</td><td>SALE</td><td>0.0</td><td>1000.0</td><td>false</td></tr><tr><td>10361</td><td>Adrian Huxley</td><td>Monitor Money Building, 815 Pacific Hwy</td><td>#ERROR!</td><td>S10_1678</td><td>20</td><td>40.3</td><td>806.0</td><td>Small</td><td>APAC</td><td>2004-12-17</td><td>COMPLETED</td><td>General</td><td>2025-07-02T02:46:39.362186Z</td><td>SALE</td><td>0.0</td><td>806.0</td><td>false</td></tr><tr><td>10375</td><td>Janine Labrune</td><td>67, rue des Cinquante Otages</td><td>40.67.8555</td><td>S10_1678</td><td>21</td><td>7.904761904761905</td><td>-166.0</td><td>Small</td><td>EMEA</td><td>2005-02-03</td><td>COMPLETED</td><td>General</td><td>2025-07-02T02:46:39.362186Z</td><td>REFUND</td><td>16.6</td><td>149.4</td><td>false</td></tr><tr><td>10388</td><td>Violeta Benitez</td><td>1785 First Street</td><td>5085552555</td><td>S10_1678</td><td>42</td><td>15.166666666666666</td><td>-637.0</td><td>Medium</td><td>NA</td><td>2005-03-03</td><td>COMPLETED</td><td>General</td><td>2025-07-02T02:46:39.362186Z</td><td>REFUND</td><td>63.7</td><td>573.3</td><td>false</td></tr><tr><td>10403</td><td>Elizabeth Devon</td><td>Berkeley Gardens 12 Brewery</td><td>(171) 555-2282</td><td>S10_1678</td><td>24</td><td>83.08333333333333</td><td>1994.0</td><td>Small</td><td>EMEA</td><td>2005-04-08</td><td>COMPLETED</td><td>General</td><td>2025-07-02T02:46:39.362186Z</td><td>SALE</td><td>0.0</td><td>1994.0</td><td>false</td></tr><tr><td>10417</td><td>Diego Freyre</td><td>C/ Moralzarzal, 86</td><td>(91) 555 94 44</td><td>S10_1678</td><td>66</td><td>11.090909090909092</td><td>-732.0</td><td>Large</td><td>EMEA</td><td>2005-05-13</td><td>COMPLETED</td><td>General</td><td>2025-07-02T02:46:39.362186Z</td><td>REFUND</td><td>73.2</td><td>658.8</td><td>false</td></tr><tr><td>10103</td><td>Jonas Bergulfsen</td><td>Erling Skakkes gate 78</td><td>07-98 9555</td><td>S10_1949</td><td>26</td><td>50.65384615384615</td><td>-1317.0</td><td>Medium</td><td>EMEA</td><td>2003-01-29</td><td>COMPLETED</td><td>General</td><td>2025-07-02T02:46:39.362186Z</td><td>REFUND</td><td>131.70000000000002</td><td>1185.3</td><td>false</td></tr><tr><td>10112</td><td>Christina Berglund</td><td>BerguvsvÑgen 8</td><td>0921-12 3555</td><td>S10_1949</td><td>29</td><td>32.58620689655172</td><td>-945.0</td><td>Large</td><td>EMEA</td><td>2003-03-24</td><td>COMPLETED</td><td>General</td><td>2025-07-02T02:46:39.362186Z</td><td>REFUND</td><td>94.5</td><td>850.5</td><td>false</td></tr><tr><td>10126</td><td>Mart°n Sommer</td><td>C/ Araquil, 67</td><td>(91) 555 22 82</td><td>S10_1949</td><td>38</td><td>48.73684210526316</td><td>1852.0</td><td>Large</td><td>EMEA</td><td>2003-05-28</td><td>COMPLETED</td><td>General</td><td>2025-07-02T02:46:39.362186Z</td><td>SALE</td><td>0.0</td><td>1852.0</td><td>false</td></tr><tr><td>10140</td><td>Juri Hirano</td><td>9408 Furth Circle</td><td>6505556809</td><td>S10_1949</td><td>37</td><td>33.4054054054054</td><td>1236.0</td><td>Large</td><td>NA</td><td>2003-07-24</td><td>COMPLETED</td><td>General</td><td>2025-07-02T02:46:39.362186Z</td><td>SALE</td><td>0.0</td><td>1236.0</td><td>false</td></tr></tbody></table></div>"
      ]
     },
     "metadata": {
      "application/vnd.databricks.v1+output": {
       "addedWidgets": {},
       "aggData": [],
       "aggError": "",
       "aggOverflow": false,
       "aggSchema": [],
       "aggSeriesLimitReached": false,
       "aggType": "",
       "arguments": {},
       "columnCustomDisplayInfos": {},
       "data": [
        [
         10107,
         "Kwai Yu",
         "897 Long Airport Avenue",
         "2125557818",
         "S10_1678",
         30,
         66.43333333333334,
         -1993.0,
         "Small",
         "NA",
         "2003-02-24",
         "COMPLETED",
         "General",
         "2025-07-02T02:46:39.362186Z",
         "REFUND",
         199.3,
         1793.7,
         "false"
        ],
        [
         10121,
         "Paul Henriot",
         "59 rue de l'Abbaye",
         "26.47.1555",
         "S10_1678",
         34,
         2.7058823529411766,
         -92.0,
         "Small",
         "EMEA",
         "2003-05-07",
         "COMPLETED",
         "General",
         "2025-07-02T02:46:39.362186Z",
         "REFUND",
         9.200000000000001,
         82.8,
         "false"
        ],
        [
         10134,
         "Daniel Da Cunha",
         "27 rue du Colonel Pierre Avia",
         "#ERROR!",
         "S10_1678",
         41,
         14.0,
         -574.0,
         "Medium",
         "EMEA",
         "2003-07-01",
         "COMPLETED",
         "General",
         "2025-07-02T02:46:39.362186Z",
         "REFUND",
         57.400000000000006,
         516.6,
         "false"
        ],
        [
         10145,
         "Julie Young",
         "78934 Hillside Dr.",
         "6265557265",
         "S10_1678",
         45,
         13.844444444444445,
         -623.0,
         "Medium",
         "NA",
         "2003-08-25",
         "COMPLETED",
         "General",
         "2025-07-02T02:46:39.362186Z",
         "REFUND",
         62.300000000000004,
         560.7,
         "false"
        ],
        [
         10159,
         "Julie Brown",
         "7734 Strong St.",
         "6505551386",
         "S10_1678",
         49,
         9.020408163265307,
         -442.0,
         "Medium",
         "NA",
         "2003-10-10",
         "COMPLETED",
         "General",
         "2025-07-02T02:46:39.362186Z",
         "REFUND",
         44.2,
         397.8,
         "false"
        ],
        [
         10168,
         "Juri Hirano",
         "9408 Furth Circle",
         "6505556809",
         "S10_1678",
         36,
         42.77777777777778,
         1540.0,
         "Medium",
         "NA",
         "2003-10-28",
         "COMPLETED",
         "General",
         "2025-07-02T02:46:39.362186Z",
         "SALE",
         0.0,
         1540.0,
         "false"
        ],
        [
         10180,
         "Martine Rance",
         "184, chausse de Tournai",
         "20.16.1555",
         "S10_1678",
         29,
         57.55172413793103,
         -1669.0,
         "Small",
         "EMEA",
         "2003-11-11",
         "COMPLETED",
         "General",
         "2025-07-02T02:46:39.362186Z",
         "REFUND",
         166.9,
         1502.1,
         "false"
        ],
        [
         10188,
         "Veysel Oeztan",
         "Drammen 121, PR 744 Sentrum",
         "#ERROR!",
         "S10_1678",
         48,
         16.729166666666668,
         803.0,
         "Medium",
         "EMEA",
         "2003-11-18",
         "COMPLETED",
         "General",
         "2025-07-02T02:46:39.362186Z",
         "SALE",
         0.0,
         803.0,
         "false"
        ],
        [
         10201,
         "Julie Murphy",
         "5557 North Pendale Street",
         "6505555787",
         "S10_1678",
         22,
         60.95454545454545,
         1341.0,
         "Small",
         "NA",
         "2003-12-01",
         "COMPLETED",
         "General",
         "2025-07-02T02:46:39.362186Z",
         "SALE",
         0.0,
         1341.0,
         "false"
        ],
        [
         10211,
         "Dominique Perrier",
         "25, rue Lauriston",
         "(1) 47.55.6555",
         "S10_1678",
         41,
         18.073170731707318,
         -741.0,
         "Medium",
         "EMEA",
         "2004-01-15",
         "COMPLETED",
         "General",
         "2025-07-02T02:46:39.362186Z",
         "REFUND",
         74.10000000000001,
         666.9,
         "false"
        ],
        [
         10223,
         "Peter Ferguson",
         "636 St Kilda Road",
         "03 9520 4555",
         "S10_1678",
         37,
         13.72972972972973,
         508.0,
         "Medium",
         "APAC",
         "2004-02-20",
         "COMPLETED",
         "General",
         "2025-07-02T02:46:39.362186Z",
         "SALE",
         0.0,
         508.0,
         "false"
        ],
        [
         10237,
         "Michael Frick",
         "2678 Kingston Rd.",
         "2125551500",
         "S10_1678",
         23,
         23.652173913043477,
         544.0,
         "Small",
         "NA",
         "2004-04-05",
         "COMPLETED",
         "General",
         "2025-07-02T02:46:39.362186Z",
         "SALE",
         0.0,
         544.0,
         "false"
        ],
        [
         10251,
         "William Brown",
         "7476 Moss Rd.",
         "2015559350",
         "S10_1678",
         28,
         44.42857142857143,
         1244.0,
         "Medium",
         "NA",
         "2004-05-18",
         "COMPLETED",
         "General",
         "2025-07-02T02:46:39.362186Z",
         "SALE",
         0.0,
         1244.0,
         "false"
        ],
        [
         10263,
         "Julie King",
         "25593 South Bay Ln.",
         "2035552570",
         "S10_1678",
         34,
         1.3235294117647058,
         45.0,
         "Medium",
         "NA",
         "2004-06-28",
         "COMPLETED",
         "General",
         "2025-07-02T02:46:39.362186Z",
         "SALE",
         0.0,
         45.0,
         "false"
        ],
        [
         10275,
         "Janine Labrune",
         "67, rue des Cinquante Otages",
         "40.67.8555",
         "S10_1678",
         45,
         4.955555555555556,
         -223.0,
         "Medium",
         "EMEA",
         "2004-07-23",
         "COMPLETED",
         "General",
         "2025-07-02T02:46:39.362186Z",
         "REFUND",
         22.3,
         200.7,
         "false"
        ],
        [
         10285,
         "Marta Hernandez",
         "39323 Spinnaker Dr.",
         "6175558555",
         "S10_1678",
         36,
         18.13888888888889,
         -653.0,
         "Medium",
         "NA",
         "2004-08-27",
         "COMPLETED",
         "General",
         "2025-07-02T02:46:39.362186Z",
         "REFUND",
         65.3,
         587.7,
         "false"
        ],
        [
         10299,
         "Matti Karttunen",
         "Keskuskatu 45",
         "90-224 8555",
         "S10_1678",
         23,
         57.30434782608695,
         -1318.0,
         "Small",
         "EMEA",
         "2004-09-30",
         "COMPLETED",
         "General",
         "2025-07-02T02:46:39.362186Z",
         "REFUND",
         131.8,
         1186.2,
         "false"
        ],
        [
         10309,
         "Jonas Bergulfsen",
         "Erling Skakkes gate 78",
         "07-98 9555",
         "S10_1678",
         41,
         33.21951219512195,
         1362.0,
         "Medium",
         "EMEA",
         "2004-10-15",
         "COMPLETED",
         "General",
         "2025-07-02T02:46:39.362186Z",
         "SALE",
         0.0,
         1362.0,
         "false"
        ],
        [
         10318,
         "Kyung Yu",
         "7586 Pompton St.",
         "2155551555",
         "S10_1678",
         46,
         22.065217391304348,
         1015.0,
         "Medium",
         "NA",
         "2004-11-02",
         "COMPLETED",
         "General",
         "2025-07-02T02:46:39.362186Z",
         "SALE",
         0.0,
         1015.0,
         "false"
        ],
        [
         10329,
         "Kwai Yu",
         "897 Long Airport Avenue",
         "2125557818",
         "S10_1678",
         42,
         14.476190476190476,
         -608.0,
         "Medium",
         "NA",
         "2004-11-15",
         "COMPLETED",
         "General",
         "2025-07-02T02:46:39.362186Z",
         "REFUND",
         60.800000000000004,
         547.2,
         "false"
        ],
        [
         10341,
         "Georg Pipps",
         "Geislweg 14",
         "6562-9555",
         "S10_1678",
         41,
         24.390243902439025,
         1000.0,
         "Large",
         "EMEA",
         "2004-11-24",
         "COMPLETED",
         "General",
         "2025-07-02T02:46:39.362186Z",
         "SALE",
         0.0,
         1000.0,
         "false"
        ],
        [
         10361,
         "Adrian Huxley",
         "Monitor Money Building, 815 Pacific Hwy",
         "#ERROR!",
         "S10_1678",
         20,
         40.3,
         806.0,
         "Small",
         "APAC",
         "2004-12-17",
         "COMPLETED",
         "General",
         "2025-07-02T02:46:39.362186Z",
         "SALE",
         0.0,
         806.0,
         "false"
        ],
        [
         10375,
         "Janine Labrune",
         "67, rue des Cinquante Otages",
         "40.67.8555",
         "S10_1678",
         21,
         7.904761904761905,
         -166.0,
         "Small",
         "EMEA",
         "2005-02-03",
         "COMPLETED",
         "General",
         "2025-07-02T02:46:39.362186Z",
         "REFUND",
         16.6,
         149.4,
         "false"
        ],
        [
         10388,
         "Violeta Benitez",
         "1785 First Street",
         "5085552555",
         "S10_1678",
         42,
         15.166666666666666,
         -637.0,
         "Medium",
         "NA",
         "2005-03-03",
         "COMPLETED",
         "General",
         "2025-07-02T02:46:39.362186Z",
         "REFUND",
         63.7,
         573.3,
         "false"
        ],
        [
         10403,
         "Elizabeth Devon",
         "Berkeley Gardens 12 Brewery",
         "(171) 555-2282",
         "S10_1678",
         24,
         83.08333333333333,
         1994.0,
         "Small",
         "EMEA",
         "2005-04-08",
         "COMPLETED",
         "General",
         "2025-07-02T02:46:39.362186Z",
         "SALE",
         0.0,
         1994.0,
         "false"
        ],
        [
         10417,
         "Diego Freyre",
         "C/ Moralzarzal, 86",
         "(91) 555 94 44",
         "S10_1678",
         66,
         11.090909090909092,
         -732.0,
         "Large",
         "EMEA",
         "2005-05-13",
         "COMPLETED",
         "General",
         "2025-07-02T02:46:39.362186Z",
         "REFUND",
         73.2,
         658.8,
         "false"
        ],
        [
         10103,
         "Jonas Bergulfsen",
         "Erling Skakkes gate 78",
         "07-98 9555",
         "S10_1949",
         26,
         50.65384615384615,
         -1317.0,
         "Medium",
         "EMEA",
         "2003-01-29",
         "COMPLETED",
         "General",
         "2025-07-02T02:46:39.362186Z",
         "REFUND",
         131.70000000000002,
         1185.3,
         "false"
        ],
        [
         10112,
         "Christina Berglund",
         "BerguvsvÑgen 8",
         "0921-12 3555",
         "S10_1949",
         29,
         32.58620689655172,
         -945.0,
         "Large",
         "EMEA",
         "2003-03-24",
         "COMPLETED",
         "General",
         "2025-07-02T02:46:39.362186Z",
         "REFUND",
         94.5,
         850.5,
         "false"
        ],
        [
         10126,
         "Mart°n Sommer",
         "C/ Araquil, 67",
         "(91) 555 22 82",
         "S10_1949",
         38,
         48.73684210526316,
         1852.0,
         "Large",
         "EMEA",
         "2003-05-28",
         "COMPLETED",
         "General",
         "2025-07-02T02:46:39.362186Z",
         "SALE",
         0.0,
         1852.0,
         "false"
        ],
        [
         10140,
         "Juri Hirano",
         "9408 Furth Circle",
         "6505556809",
         "S10_1949",
         37,
         33.4054054054054,
         1236.0,
         "Large",
         "NA",
         "2003-07-24",
         "COMPLETED",
         "General",
         "2025-07-02T02:46:39.362186Z",
         "SALE",
         0.0,
         1236.0,
         "false"
        ]
       ],
       "datasetInfos": [],
       "dbfsResultPath": null,
       "isJsonSchema": true,
       "metadata": {},
       "overflow": false,
       "plotOptions": {
        "customPlotOptions": {},
        "displayType": "table",
        "pivotAggregation": null,
        "pivotColumns": null,
        "xColumns": null,
        "yColumns": null
       },
       "removedWidgets": [],
       "schema": [
        {
         "metadata": "{}",
         "name": "order_number",
         "type": "\"long\""
        },
        {
         "metadata": "{}",
         "name": "customer_name",
         "type": "\"string\""
        },
        {
         "metadata": "{}",
         "name": "address",
         "type": "\"string\""
        },
        {
         "metadata": "{}",
         "name": "phone_number",
         "type": "\"string\""
        },
        {
         "metadata": "{}",
         "name": "product_code",
         "type": "\"string\""
        },
        {
         "metadata": "{}",
         "name": "quantity",
         "type": "\"integer\""
        },
        {
         "metadata": "{}",
         "name": "unit_price",
         "type": "\"double\""
        },
        {
         "metadata": "{}",
         "name": "total_amount",
         "type": "\"double\""
        },
        {
         "metadata": "{}",
         "name": "deal_size",
         "type": "\"string\""
        },
        {
         "metadata": "{}",
         "name": "territory",
         "type": "\"string\""
        },
        {
         "metadata": "{}",
         "name": "order_date",
         "type": "\"date\""
        },
        {
         "metadata": "{}",
         "name": "status",
         "type": "\"string\""
        },
        {
         "metadata": "{}",
         "name": "product_line",
         "type": "\"string\""
        },
        {
         "metadata": "{}",
         "name": "created_date",
         "type": "\"timestamp\""
        },
        {
         "metadata": "{}",
         "name": "transaction_type",
         "type": "\"string\""
        },
        {
         "metadata": "{}",
         "name": "restocking_fee",
         "type": "\"double\""
        },
        {
         "metadata": "{}",
         "name": "net_amount",
         "type": "\"double\""
        },
        {
         "metadata": "{}",
         "name": "is_large_order",
         "type": "\"string\""
        }
       ],
       "type": "table"
      }
     },
     "output_type": "display_data"
    }
   ],
   "source": [
    "from pyspark.sql.types import DoubleType\n",
    "\n",
    "BUSINESS_RULES = {\n",
    "    \"high_value_customer_threshold\": 10000,  # Customers who spent more than $10K\n",
    "    \"refund_restocking_fee_rate\": 0.10,      # 10% restocking fee on refunds\n",
    "    \"large_order_threshold\": 5000            # Orders above $5K are considered large\n",
    "}\n",
    "\n",
    "# Create fact table with business logic using actual DataFrame columns\n",
    "fact_transactions = transactions_df.select(\n",
    "    col(\"ORDERNUMBER\").cast(\"long\").alias(\"order_number\"),\n",
    "    concat_ws(\" \", col(\"CONTACTFIRSTNAME\"), col(\"CONTACTLASTNAME\")).alias(\"customer_name\"),\n",
    "    col(\"ADDRESSLINE1\").alias(\"address\"),\n",
    "    col(\"PHONE\").alias(\"phone_number\"),\n",
    "    col(\"PRODUCTCODE\").alias(\"product_code\"),\n",
    "    col(\"QUANTITYORDERED\").alias(\"quantity\"),\n",
    "    # Calculate unit price from total amount and quantity\n",
    "    (abs(col(\"TOTAL_AMOUNT\")) / col(\"QUANTITYORDERED\")).alias(\"unit_price\"),\n",
    "    col(\"TOTAL_AMOUNT\").cast(\"double\").alias(\"total_amount\"),  # Use absolute value since amounts are negative\n",
    "    col(\"DEALSIZE\").alias(\"deal_size\"),\n",
    "    col(\"TERRITORY\").alias(\"territory\"),\n",
    "    to_date(col(\"ORDERDATE\"), \"M/d/yyyy H:mm\").alias(\"order_date\"),  # Convert date format\n",
    "    # Set default status and product line\n",
    "    lit(\"COMPLETED\").alias(\"status\"),\n",
    "    lit(\"General\").alias(\"product_line\"),\n",
    "    current_timestamp().alias(\"created_date\")\n",
    ").withColumn(\n",
    "    # Business rule: Classify transaction type based on negative amounts (refunds)\n",
    "    \"transaction_type\",\n",
    "    when(col(\"TOTAL_AMOUNT\") < 0, \"REFUND\").otherwise(\"SALE\")\n",
    ").withColumn(\n",
    "    # Business rule: Calculate restocking fee for refunds (10% of amount)\n",
    "    \"restocking_fee\", \n",
    "    when(col(\"transaction_type\") == \"REFUND\", \n",
    "         abs(col(\"TOTAL_AMOUNT\")) * BUSINESS_RULES[\"refund_restocking_fee_rate\"])\n",
    "    .otherwise(0.0)\n",
    ").withColumn(\n",
    "    # Business rule: Calculate net amount after fees\n",
    "    \"net_amount\",\n",
    "    when(col(\"transaction_type\") == \"REFUND\", \n",
    "         abs(col(\"TOTAL_AMOUNT\")) - col(\"restocking_fee\"))\n",
    "    .otherwise(abs(col(\"TOTAL_AMOUNT\")))\n",
    ").withColumn(\n",
    "    # Business rule: Flag large orders (>$5K)\n",
    "    \"is_large_order\",\n",
    "    when(abs(col(\"TOTAL_AMOUNT\")) >= BUSINESS_RULES[\"large_order_threshold\"], 'true')\n",
    "    .otherwise('false')\n",
    ")\n",
    "\n",
    "logger.info(f\"Created fact transactions with {fact_transactions.count()} records\")\n",
    "display(fact_transactions.limit(30))\n",
    "\n",
    "\n"
   ]
  },
  {
   "cell_type": "code",
   "execution_count": 0,
   "metadata": {
    "application/vnd.databricks.v1+cell": {
     "cellMetadata": {
      "byteLimit": 2048000,
      "rowLimit": 10000
     },
     "inputWidgets": {},
     "nuid": "ce1b3376-c533-42c3-862f-3a86d7b408ce",
     "showTitle": false,
     "tableResultSettingsMap": {},
     "title": ""
    }
   },
   "outputs": [
    {
     "output_type": "stream",
     "name": "stderr",
     "output_type": "stream",
     "text": [
      "INFO:py4j.clientserver:Received command c on object id p1\nINFO:py4j.clientserver:Received command c on object id p0\n"
     ]
    },
    {
     "output_type": "stream",
     "name": "stdout",
     "output_type": "stream",
     "text": [
      "root\n |-- order_number: integer (nullable = true)\n |-- customer_name: string (nullable = true)\n |-- product_code: string (nullable = true)\n |-- quantity: integer (nullable = true)\n |-- unit_price: double (nullable = true)\n |-- total_amount: integer (nullable = true)\n |-- deal_size: string (nullable = true)\n |-- territory: string (nullable = true)\n |-- order_date: date (nullable = true)\n |-- status: string (nullable = false)\n |-- product_line: string (nullable = false)\n |-- created_date: timestamp (nullable = false)\n |-- transaction_type: string (nullable = false)\n |-- restocking_fee: double (nullable = true)\n |-- net_amount: double (nullable = true)\n |-- is_large_order: string (nullable = false)\n\nroot\n |-- product_code: string (nullable = true)\n |-- territory: string (nullable = true)\n |-- customer_key: string (nullable = true)\n |-- customer_name: string (nullable = true)\n |-- order_number: long (nullable = true)\n |-- total_amount: double (nullable = true)\n |-- status: string (nullable = true)\n |-- order_date: timestamp (nullable = true)\n |-- transaction_type: string (nullable = true)\n |-- restocking_fee: double (nullable = true)\n |-- net_amount: double (nullable = true)\n |-- is_large_order: string (nullable = true)\n |-- created_date: timestamp (nullable = true)\n\n"
     ]
    }
   ],
   "source": [
    "# Testing one example\n",
    "from pyspark.sql import functions as F\n",
    "\n",
    "#df=fact_transactions.filter(F.col('transaction_type') == 'REFUND')\n",
    "df=spark.read.format(\"delta\").load(f\"{PROCESSED_DATA_PATH}fact_transactions\")\n",
    "#display(df)\n",
    "fact_transactions.printSchema()\n",
    "df.printSchema()"
   ]
  },
  {
   "cell_type": "code",
   "execution_count": 0,
   "metadata": {
    "application/vnd.databricks.v1+cell": {
     "cellMetadata": {
      "byteLimit": 2048000,
      "rowLimit": 10000
     },
     "inputWidgets": {},
     "nuid": "e33223b4-7533-40fb-9a40-d6de99fcd28d",
     "showTitle": false,
     "tableResultSettingsMap": {},
     "title": ""
    }
   },
   "outputs": [
    {
     "output_type": "stream",
     "name": "stderr",
     "output_type": "stream",
     "text": [
      "INFO:py4j.clientserver:Received command c on object id p0\nINFO:py4j.clientserver:Received command c on object id p0\nINFO:__main__:Created customer segments with 91 customers\nINFO:py4j.clientserver:Received command c on object id p0\n"
     ]
    },
    {
     "output_type": "display_data",
     "data": {
      "text/html": [
       "<style scoped>\n",
       "  .table-result-container {\n",
       "    max-height: 300px;\n",
       "    overflow: auto;\n",
       "  }\n",
       "  table, th, td {\n",
       "    border: 1px solid black;\n",
       "    border-collapse: collapse;\n",
       "  }\n",
       "  th, td {\n",
       "    padding: 5px;\n",
       "  }\n",
       "  th {\n",
       "    text-align: left;\n",
       "  }\n",
       "</style><div class='table-result-container'><table class='table-result'><thead style='background-color: white'><tr><th>customer_name</th><th>total_spent</th><th>total_orders</th><th>avg_order_value</th><th>last_order_date</th><th>customer_segment</th><th>created_date</th></tr></thead><tbody><tr><td>Elizabeth Devon</td><td>17910.0</td><td>14</td><td>1279.2857142857142</td><td>2005-04-08</td><td>High Value</td><td>2025-07-01T22:50:16.00517Z</td></tr><tr><td>Maria Hernandez</td><td>12278.0</td><td>13</td><td>944.4615384615385</td><td>2004-11-21</td><td>High Value</td><td>2025-07-01T22:50:16.00517Z</td></tr><tr><td>Peter Ferguson</td><td>23679.0</td><td>25</td><td>947.16</td><td>2004-11-29</td><td>High Value</td><td>2025-07-01T22:50:16.00517Z</td></tr><tr><td>Sue Taylor</td><td>5743.0</td><td>7</td><td>820.4285714285714</td><td>2004-02-10</td><td>Regular</td><td>2025-07-01T22:50:16.00517Z</td></tr><tr><td>Paolo Accorti</td><td>15553.0</td><td>12</td><td>1296.0833333333333</td><td>2004-09-09</td><td>High Value</td><td>2025-07-01T22:50:16.00517Z</td></tr><tr><td>Eric Natividad</td><td>28614.0</td><td>23</td><td>1244.0869565217392</td><td>2003-10-22</td><td>High Value</td><td>2025-07-01T22:50:16.00517Z</td></tr><tr><td>Janine Labrune</td><td>24459.0</td><td>26</td><td>940.7307692307693</td><td>2005-05-31</td><td>High Value</td><td>2025-07-01T22:50:16.00517Z</td></tr><tr><td>Roland Keitel</td><td>9424.0</td><td>10</td><td>942.4</td><td>2004-11-05</td><td>Regular</td><td>2025-07-01T22:50:16.00517Z</td></tr><tr><td>Akiko Shimamura</td><td>14185.0</td><td>18</td><td>788.0555555555555</td><td>2005-04-22</td><td>High Value</td><td>2025-07-01T22:50:16.00517Z</td></tr><tr><td>Julie Brown</td><td>17400.0</td><td>16</td><td>1087.5</td><td>2005-02-23</td><td>High Value</td><td>2025-07-01T22:50:16.00517Z</td></tr><tr><td>Wing C Tam</td><td>16343.0</td><td>17</td><td>961.3529411764706</td><td>2005-01-07</td><td>High Value</td><td>2025-07-01T22:50:16.00517Z</td></tr><tr><td>Helen Bennett</td><td>18352.0</td><td>15</td><td>1223.4666666666667</td><td>2004-11-01</td><td>High Value</td><td>2025-07-01T22:50:16.00517Z</td></tr><tr><td>Victoria Ashworth</td><td>26695.0</td><td>27</td><td>988.7037037037037</td><td>2004-11-17</td><td>High Value</td><td>2025-07-01T22:50:16.00517Z</td></tr><tr><td>Veysel Oeztan</td><td>17887.0</td><td>17</td><td>1052.1764705882354</td><td>2004-09-03</td><td>High Value</td><td>2025-07-01T22:50:16.00517Z</td></tr><tr><td>Carine Schmitt</td><td>1372.0</td><td>1</td><td>1372.0</td><td>2004-11-25</td><td>Regular</td><td>2025-07-01T22:50:16.00517Z</td></tr><tr><td>Mart°n Sommer</td><td>16669.0</td><td>15</td><td>1111.2666666666667</td><td>2004-11-01</td><td>High Value</td><td>2025-07-01T22:50:16.00517Z</td></tr><tr><td>Marie Bertrand</td><td>7156.0</td><td>11</td><td>650.5454545454545</td><td>2004-11-20</td><td>Regular</td><td>2025-07-01T22:50:16.00517Z</td></tr><tr><td>Francisca Cervantes</td><td>7530.0</td><td>9</td><td>836.6666666666666</td><td>2004-10-14</td><td>Regular</td><td>2025-07-01T22:50:16.00517Z</td></tr><tr><td>Julie Murphy</td><td>9147.0</td><td>9</td><td>1016.3333333333334</td><td>2004-11-18</td><td>Regular</td><td>2025-07-01T22:50:16.00517Z</td></tr><tr><td>Kwai Yu</td><td>29965.0</td><td>24</td><td>1248.5416666666667</td><td>2004-11-15</td><td>High Value</td><td>2025-07-01T22:50:16.00517Z</td></tr><tr><td>Jan Klaeboe</td><td>7929.0</td><td>9</td><td>881.0</td><td>2004-08-21</td><td>Regular</td><td>2025-07-01T22:50:16.00517Z</td></tr><tr><td>Leslie Murphy</td><td>10549.0</td><td>11</td><td>959.0</td><td>2004-05-04</td><td>High Value</td><td>2025-07-01T22:50:16.00517Z</td></tr><tr><td>Sean Connery</td><td>9590.0</td><td>12</td><td>799.1666666666666</td><td>2005-05-09</td><td>Regular</td><td>2025-07-01T22:50:16.00517Z</td></tr><tr><td>Michael Chandler</td><td>4041.0</td><td>5</td><td>808.2</td><td>2004-01-09</td><td>Regular</td><td>2025-07-01T22:50:16.00517Z</td></tr><tr><td>William Brown</td><td>8858.0</td><td>9</td><td>984.2222222222222</td><td>2005-04-03</td><td>Regular</td><td>2025-07-01T22:50:16.00517Z</td></tr><tr><td>Paul Henriot</td><td>20489.0</td><td>21</td><td>975.6666666666666</td><td>2005-03-30</td><td>High Value</td><td>2025-07-01T22:50:16.00517Z</td></tr><tr><td>Michael Holz</td><td>15011.0</td><td>14</td><td>1072.2142857142858</td><td>2004-08-30</td><td>High Value</td><td>2025-07-01T22:50:16.00517Z</td></tr><tr><td>Valarie Nelson</td><td>96701.0</td><td>95</td><td>1017.9052631578948</td><td>2005-05-29</td><td>High Value</td><td>2025-07-01T22:50:16.00517Z</td></tr><tr><td>Rosa Hernandez</td><td>6262.0</td><td>8</td><td>782.75</td><td>2004-11-17</td><td>Regular</td><td>2025-07-01T22:50:16.00517Z</td></tr><tr><td>Michael Frick</td><td>9884.0</td><td>11</td><td>898.5454545454545</td><td>2004-11-05</td><td>Regular</td><td>2025-07-01T22:50:16.00517Z</td></tr><tr><td>Dan Lewis</td><td>8184.0</td><td>8</td><td>1023.0</td><td>2004-12-04</td><td>Regular</td><td>2025-07-01T22:50:16.00517Z</td></tr><tr><td>Martine Rance</td><td>10230.0</td><td>10</td><td>1023.0</td><td>2004-02-21</td><td>High Value</td><td>2025-07-01T22:50:16.00517Z</td></tr><tr><td>Daniel Tonini</td><td>7048.0</td><td>10</td><td>704.8</td><td>2004-10-11</td><td>Regular</td><td>2025-07-01T22:50:16.00517Z</td></tr><tr><td>Adrian Huxley</td><td>31249.0</td><td>27</td><td>1157.3703703703704</td><td>2005-05-29</td><td>High Value</td><td>2025-07-01T22:50:16.00517Z</td></tr><tr><td>Allen Nelson</td><td>13033.0</td><td>13</td><td>1002.5384615384615</td><td>2005-01-20</td><td>High Value</td><td>2025-07-01T22:50:16.00517Z</td></tr><tr><td>Georg Pipps</td><td>13790.0</td><td>15</td><td>919.3333333333334</td><td>2005-05-17</td><td>High Value</td><td>2025-07-01T22:50:16.00517Z</td></tr><tr><td>Tony Calaghan</td><td>6135.0</td><td>7</td><td>876.4285714285714</td><td>2005-02-02</td><td>Regular</td><td>2025-07-01T22:50:16.00517Z</td></tr><tr><td>Kyung Tseng</td><td>4067.0</td><td>6</td><td>677.8333333333334</td><td>2004-05-08</td><td>Regular</td><td>2025-07-01T22:50:16.00517Z</td></tr><tr><td>Frederique Citeaux</td><td>4529.0</td><td>7</td><td>647.0</td><td>2005-04-14</td><td>Regular</td><td>2025-07-01T22:50:16.00517Z</td></tr><tr><td>Daniel Da Cunha</td><td>8678.0</td><td>10</td><td>867.8</td><td>2005-03-17</td><td>Regular</td><td>2025-07-01T22:50:16.00517Z</td></tr><tr><td>Matti Karttunen</td><td>7060.0</td><td>9</td><td>784.4444444444445</td><td>2005-02-09</td><td>Regular</td><td>2025-07-01T22:50:16.00517Z</td></tr><tr><td>Jeff Young</td><td>18188.0</td><td>20</td><td>909.4</td><td>2004-12-01</td><td>High Value</td><td>2025-07-01T22:50:16.00517Z</td></tr><tr><td>Pirkko Koskitalo</td><td>12616.0</td><td>15</td><td>841.0666666666667</td><td>2005-01-31</td><td>High Value</td><td>2025-07-01T22:50:16.00517Z</td></tr><tr><td>Sue King</td><td>22394.0</td><td>21</td><td>1066.3809523809523</td><td>2004-11-29</td><td>High Value</td><td>2025-07-01T22:50:16.00517Z</td></tr><tr><td>Diego Freyre</td><td>131216.0</td><td>129</td><td>1017.1782945736434</td><td>2005-05-31</td><td>High Value</td><td>2025-07-01T22:50:16.00517Z</td></tr><tr><td>Kyung Yu</td><td>17030.0</td><td>15</td><td>1135.3333333333333</td><td>2005-05-30</td><td>High Value</td><td>2025-07-01T22:50:16.00517Z</td></tr><tr><td>Jesus Fernandez</td><td>6816.0</td><td>6</td><td>1136.0</td><td>2003-11-07</td><td>Regular</td><td>2025-07-01T22:50:16.00517Z</td></tr><tr><td>Maria Larsson</td><td>19559.0</td><td>20</td><td>977.95</td><td>2005-03-03</td><td>High Value</td><td>2025-07-01T22:50:16.00517Z</td></tr><tr><td>Laurence Lebihan</td><td>11979.0</td><td>10</td><td>1197.9</td><td>2005-01-06</td><td>High Value</td><td>2025-07-01T22:50:16.00517Z</td></tr><tr><td>Yoshi Tannamuri</td><td>5246.0</td><td>6</td><td>874.3333333333334</td><td>2004-10-22</td><td>Regular</td><td>2025-07-01T22:50:16.00517Z</td></tr><tr><td>Leslie Taylor</td><td>3320.0</td><td>4</td><td>830.0</td><td>2004-12-03</td><td>Regular</td><td>2025-07-01T22:50:16.00517Z</td></tr><tr><td>Maurizio Moroni</td><td>19643.0</td><td>16</td><td>1227.6875</td><td>2005-05-10</td><td>High Value</td><td>2025-07-01T22:50:16.00517Z</td></tr><tr><td>Kee Kuo</td><td>6069.0</td><td>7</td><td>867.0</td><td>2004-11-03</td><td>Regular</td><td>2025-07-01T22:50:16.00517Z</td></tr><tr><td>Marta Hernandez</td><td>14332.0</td><td>16</td><td>895.75</td><td>2004-10-13</td><td>High Value</td><td>2025-07-01T22:50:16.00517Z</td></tr><tr><td>Annette Roulet</td><td>11801.0</td><td>11</td><td>1072.8181818181818</td><td>2005-03-28</td><td>High Value</td><td>2025-07-01T22:50:16.00517Z</td></tr><tr><td>Catherine Dewey</td><td>13895.0</td><td>11</td><td>1263.1818181818182</td><td>2005-05-30</td><td>High Value</td><td>2025-07-01T22:50:16.00517Z</td></tr><tr><td>Anna O'Hara</td><td>20651.0</td><td>23</td><td>897.8695652173913</td><td>2005-03-09</td><td>High Value</td><td>2025-07-01T22:50:16.00517Z</td></tr><tr><td>Juri Hirano</td><td>23261.0</td><td>20</td><td>1163.05</td><td>2005-01-05</td><td>High Value</td><td>2025-07-01T22:50:16.00517Z</td></tr><tr><td>Violeta Benitez</td><td>17027.0</td><td>14</td><td>1216.2142857142858</td><td>2005-03-03</td><td>High Value</td><td>2025-07-01T22:50:16.00517Z</td></tr><tr><td>Dean Cassidy</td><td>10408.0</td><td>9</td><td>1156.4444444444443</td><td>2004-09-16</td><td>High Value</td><td>2025-07-01T22:50:16.00517Z</td></tr><tr><td>Arnold Cruz</td><td>8710.0</td><td>10</td><td>871.0</td><td>2004-11-16</td><td>Regular</td><td>2025-07-01T22:50:16.00517Z</td></tr><tr><td>Jose Pedro Roel</td><td>12888.0</td><td>9</td><td>1432.0</td><td>2004-10-06</td><td>High Value</td><td>2025-07-01T22:50:16.00517Z</td></tr><tr><td>Wendy Victorino</td><td>18868.0</td><td>21</td><td>898.4761904761905</td><td>2005-04-23</td><td>High Value</td><td>2025-07-01T22:50:16.00517Z</td></tr><tr><td>Valarie Young</td><td>18526.0</td><td>18</td><td>1029.2222222222222</td><td>2004-11-04</td><td>High Value</td><td>2025-07-01T22:50:16.00517Z</td></tr><tr><td>Dominique Perrier</td><td>8831.0</td><td>12</td><td>735.9166666666666</td><td>2005-04-07</td><td>Regular</td><td>2025-07-01T22:50:16.00517Z</td></tr><tr><td>Julie King</td><td>11014.0</td><td>12</td><td>917.8333333333334</td><td>2005-05-05</td><td>High Value</td><td>2025-07-01T22:50:16.00517Z</td></tr><tr><td>Ann Brown</td><td>13193.0</td><td>12</td><td>1099.4166666666667</td><td>2004-12-03</td><td>High Value</td><td>2025-07-01T22:50:16.00517Z</td></tr><tr><td>Steve Thompson</td><td>6820.0</td><td>6</td><td>1136.6666666666667</td><td>2004-01-29</td><td>Regular</td><td>2025-07-01T22:50:16.00517Z</td></tr><tr><td>Giovanni Rovelli</td><td>25325.0</td><td>25</td><td>1013.0</td><td>2004-11-12</td><td>High Value</td><td>2025-07-01T22:50:16.00517Z</td></tr><tr><td>Jean Fresnisre</td><td>15381.0</td><td>11</td><td>1398.2727272727273</td><td>2005-05-01</td><td>High Value</td><td>2025-07-01T22:50:16.00517Z</td></tr><tr><td>Eduardo Saavedra</td><td>13992.0</td><td>14</td><td>999.4285714285714</td><td>2004-11-24</td><td>High Value</td><td>2025-07-01T22:50:16.00517Z</td></tr><tr><td>Henriette Pfalzheim</td><td>6564.0</td><td>9</td><td>729.3333333333334</td><td>2004-10-16</td><td>Regular</td><td>2025-07-01T22:50:16.00517Z</td></tr><tr><td>Miguel Barajas</td><td>11453.0</td><td>11</td><td>1041.1818181818182</td><td>2004-09-10</td><td>High Value</td><td>2025-07-01T22:50:16.00517Z</td></tr><tr><td>Palle Ibsen</td><td>16594.0</td><td>17</td><td>976.1176470588235</td><td>2004-10-22</td><td>High Value</td><td>2025-07-01T22:50:16.00517Z</td></tr><tr><td>Sue Frick</td><td>17030.0</td><td>16</td><td>1064.375</td><td>2005-04-22</td><td>High Value</td><td>2025-07-01T22:50:16.00517Z</td></tr><tr><td>Pascale Cartrain</td><td>1163.0</td><td>2</td><td>581.5</td><td>2004-11-22</td><td>Regular</td><td>2025-07-01T22:50:16.00517Z</td></tr><tr><td>Valarie Franco</td><td>11128.0</td><td>8</td><td>1391.0</td><td>2004-04-26</td><td>High Value</td><td>2025-07-01T22:50:16.00517Z</td></tr><tr><td>Elizabeth Lincoln</td><td>8736.0</td><td>11</td><td>794.1818181818181</td><td>2004-08-20</td><td>Regular</td><td>2025-07-01T22:50:16.00517Z</td></tr><tr><td>Kalle Suominen</td><td>14053.0</td><td>13</td><td>1081.0</td><td>2005-01-06</td><td>High Value</td><td>2025-07-01T22:50:16.00517Z</td></tr><tr><td>Mory Kentary</td><td>9772.0</td><td>8</td><td>1221.5</td><td>2004-04-13</td><td>Regular</td><td>2025-07-01T22:50:16.00517Z</td></tr><tr><td>Roland Mendel</td><td>6066.0</td><td>5</td><td>1213.2</td><td>2005-03-10</td><td>Regular</td><td>2025-07-01T22:50:16.00517Z</td></tr><tr><td>Christina Berglund</td><td>8663.0</td><td>10</td><td>866.3</td><td>2004-11-19</td><td>Regular</td><td>2025-07-01T22:50:16.00517Z</td></tr><tr><td>Jytte Petersen</td><td>23216.0</td><td>20</td><td>1160.8</td><td>2005-04-15</td><td>High Value</td><td>2025-07-01T22:50:16.00517Z</td></tr><tr><td>Jonas Bergulfsen</td><td>7689.0</td><td>15</td><td>512.6</td><td>2004-11-05</td><td>Regular</td><td>2025-07-01T22:50:16.00517Z</td></tr><tr><td>Steve Frick</td><td>16590.0</td><td>16</td><td>1036.875</td><td>2004-10-15</td><td>High Value</td><td>2025-07-01T22:50:16.00517Z</td></tr><tr><td>Mary Saveley</td><td>17910.0</td><td>20</td><td>895.5</td><td>2004-03-02</td><td>High Value</td><td>2025-07-01T22:50:16.00517Z</td></tr><tr><td>Michael Donnermeyer</td><td>4095.0</td><td>5</td><td>819.0</td><td>2004-09-15</td><td>Regular</td><td>2025-07-01T22:50:16.00517Z</td></tr><tr><td>Thomas Hardy</td><td>5520.0</td><td>6</td><td>920.0</td><td>2003-11-14</td><td>Regular</td><td>2025-07-01T22:50:16.00517Z</td></tr><tr><td>Julie Young</td><td>17477.0</td><td>16</td><td>1092.3125</td><td>2005-01-12</td><td>High Value</td><td>2025-07-01T22:50:16.00517Z</td></tr><tr><td>Valarie Thompson</td><td>14043.0</td><td>14</td><td>1003.0714285714286</td><td>2004-02-26</td><td>High Value</td><td>2025-07-01T22:50:16.00517Z</td></tr><tr><td>Juri Yoshido</td><td>15028.0</td><td>13</td><td>1156.0</td><td>2005-05-06</td><td>High Value</td><td>2025-07-01T22:50:16.00517Z</td></tr></tbody></table></div>"
      ]
     },
     "metadata": {
      "application/vnd.databricks.v1+output": {
       "addedWidgets": {},
       "aggData": [],
       "aggError": "",
       "aggOverflow": false,
       "aggSchema": [],
       "aggSeriesLimitReached": false,
       "aggType": "",
       "arguments": {},
       "columnCustomDisplayInfos": {},
       "data": [
        [
         "Elizabeth Devon",
         17910.0,
         14,
         1279.2857142857142,
         "2005-04-08",
         "High Value",
         "2025-07-01T22:50:16.00517Z"
        ],
        [
         "Maria Hernandez",
         12278.0,
         13,
         944.4615384615385,
         "2004-11-21",
         "High Value",
         "2025-07-01T22:50:16.00517Z"
        ],
        [
         "Peter Ferguson",
         23679.0,
         25,
         947.16,
         "2004-11-29",
         "High Value",
         "2025-07-01T22:50:16.00517Z"
        ],
        [
         "Sue Taylor",
         5743.0,
         7,
         820.4285714285714,
         "2004-02-10",
         "Regular",
         "2025-07-01T22:50:16.00517Z"
        ],
        [
         "Paolo Accorti",
         15553.0,
         12,
         1296.0833333333333,
         "2004-09-09",
         "High Value",
         "2025-07-01T22:50:16.00517Z"
        ],
        [
         "Eric Natividad",
         28614.0,
         23,
         1244.0869565217392,
         "2003-10-22",
         "High Value",
         "2025-07-01T22:50:16.00517Z"
        ],
        [
         "Janine Labrune",
         24459.0,
         26,
         940.7307692307693,
         "2005-05-31",
         "High Value",
         "2025-07-01T22:50:16.00517Z"
        ],
        [
         "Roland Keitel",
         9424.0,
         10,
         942.4,
         "2004-11-05",
         "Regular",
         "2025-07-01T22:50:16.00517Z"
        ],
        [
         "Akiko Shimamura",
         14185.0,
         18,
         788.0555555555555,
         "2005-04-22",
         "High Value",
         "2025-07-01T22:50:16.00517Z"
        ],
        [
         "Julie Brown",
         17400.0,
         16,
         1087.5,
         "2005-02-23",
         "High Value",
         "2025-07-01T22:50:16.00517Z"
        ],
        [
         "Wing C Tam",
         16343.0,
         17,
         961.3529411764706,
         "2005-01-07",
         "High Value",
         "2025-07-01T22:50:16.00517Z"
        ],
        [
         "Helen Bennett",
         18352.0,
         15,
         1223.4666666666667,
         "2004-11-01",
         "High Value",
         "2025-07-01T22:50:16.00517Z"
        ],
        [
         "Victoria Ashworth",
         26695.0,
         27,
         988.7037037037037,
         "2004-11-17",
         "High Value",
         "2025-07-01T22:50:16.00517Z"
        ],
        [
         "Veysel Oeztan",
         17887.0,
         17,
         1052.1764705882354,
         "2004-09-03",
         "High Value",
         "2025-07-01T22:50:16.00517Z"
        ],
        [
         "Carine Schmitt",
         1372.0,
         1,
         1372.0,
         "2004-11-25",
         "Regular",
         "2025-07-01T22:50:16.00517Z"
        ],
        [
         "Mart°n Sommer",
         16669.0,
         15,
         1111.2666666666667,
         "2004-11-01",
         "High Value",
         "2025-07-01T22:50:16.00517Z"
        ],
        [
         "Marie Bertrand",
         7156.0,
         11,
         650.5454545454545,
         "2004-11-20",
         "Regular",
         "2025-07-01T22:50:16.00517Z"
        ],
        [
         "Francisca Cervantes",
         7530.0,
         9,
         836.6666666666666,
         "2004-10-14",
         "Regular",
         "2025-07-01T22:50:16.00517Z"
        ],
        [
         "Julie Murphy",
         9147.0,
         9,
         1016.3333333333334,
         "2004-11-18",
         "Regular",
         "2025-07-01T22:50:16.00517Z"
        ],
        [
         "Kwai Yu",
         29965.0,
         24,
         1248.5416666666667,
         "2004-11-15",
         "High Value",
         "2025-07-01T22:50:16.00517Z"
        ],
        [
         "Jan Klaeboe",
         7929.0,
         9,
         881.0,
         "2004-08-21",
         "Regular",
         "2025-07-01T22:50:16.00517Z"
        ],
        [
         "Leslie Murphy",
         10549.0,
         11,
         959.0,
         "2004-05-04",
         "High Value",
         "2025-07-01T22:50:16.00517Z"
        ],
        [
         "Sean Connery",
         9590.0,
         12,
         799.1666666666666,
         "2005-05-09",
         "Regular",
         "2025-07-01T22:50:16.00517Z"
        ],
        [
         "Michael Chandler",
         4041.0,
         5,
         808.2,
         "2004-01-09",
         "Regular",
         "2025-07-01T22:50:16.00517Z"
        ],
        [
         "William Brown",
         8858.0,
         9,
         984.2222222222222,
         "2005-04-03",
         "Regular",
         "2025-07-01T22:50:16.00517Z"
        ],
        [
         "Paul Henriot",
         20489.0,
         21,
         975.6666666666666,
         "2005-03-30",
         "High Value",
         "2025-07-01T22:50:16.00517Z"
        ],
        [
         "Michael Holz",
         15011.0,
         14,
         1072.2142857142858,
         "2004-08-30",
         "High Value",
         "2025-07-01T22:50:16.00517Z"
        ],
        [
         "Valarie Nelson",
         96701.0,
         95,
         1017.9052631578948,
         "2005-05-29",
         "High Value",
         "2025-07-01T22:50:16.00517Z"
        ],
        [
         "Rosa Hernandez",
         6262.0,
         8,
         782.75,
         "2004-11-17",
         "Regular",
         "2025-07-01T22:50:16.00517Z"
        ],
        [
         "Michael Frick",
         9884.0,
         11,
         898.5454545454545,
         "2004-11-05",
         "Regular",
         "2025-07-01T22:50:16.00517Z"
        ],
        [
         "Dan Lewis",
         8184.0,
         8,
         1023.0,
         "2004-12-04",
         "Regular",
         "2025-07-01T22:50:16.00517Z"
        ],
        [
         "Martine Rance",
         10230.0,
         10,
         1023.0,
         "2004-02-21",
         "High Value",
         "2025-07-01T22:50:16.00517Z"
        ],
        [
         "Daniel Tonini",
         7048.0,
         10,
         704.8,
         "2004-10-11",
         "Regular",
         "2025-07-01T22:50:16.00517Z"
        ],
        [
         "Adrian Huxley",
         31249.0,
         27,
         1157.3703703703704,
         "2005-05-29",
         "High Value",
         "2025-07-01T22:50:16.00517Z"
        ],
        [
         "Allen Nelson",
         13033.0,
         13,
         1002.5384615384615,
         "2005-01-20",
         "High Value",
         "2025-07-01T22:50:16.00517Z"
        ],
        [
         "Georg Pipps",
         13790.0,
         15,
         919.3333333333334,
         "2005-05-17",
         "High Value",
         "2025-07-01T22:50:16.00517Z"
        ],
        [
         "Tony Calaghan",
         6135.0,
         7,
         876.4285714285714,
         "2005-02-02",
         "Regular",
         "2025-07-01T22:50:16.00517Z"
        ],
        [
         "Kyung Tseng",
         4067.0,
         6,
         677.8333333333334,
         "2004-05-08",
         "Regular",
         "2025-07-01T22:50:16.00517Z"
        ],
        [
         "Frederique Citeaux",
         4529.0,
         7,
         647.0,
         "2005-04-14",
         "Regular",
         "2025-07-01T22:50:16.00517Z"
        ],
        [
         "Daniel Da Cunha",
         8678.0,
         10,
         867.8,
         "2005-03-17",
         "Regular",
         "2025-07-01T22:50:16.00517Z"
        ],
        [
         "Matti Karttunen",
         7060.0,
         9,
         784.4444444444445,
         "2005-02-09",
         "Regular",
         "2025-07-01T22:50:16.00517Z"
        ],
        [
         "Jeff Young",
         18188.0,
         20,
         909.4,
         "2004-12-01",
         "High Value",
         "2025-07-01T22:50:16.00517Z"
        ],
        [
         "Pirkko Koskitalo",
         12616.0,
         15,
         841.0666666666667,
         "2005-01-31",
         "High Value",
         "2025-07-01T22:50:16.00517Z"
        ],
        [
         "Sue King",
         22394.0,
         21,
         1066.3809523809523,
         "2004-11-29",
         "High Value",
         "2025-07-01T22:50:16.00517Z"
        ],
        [
         "Diego Freyre",
         131216.0,
         129,
         1017.1782945736434,
         "2005-05-31",
         "High Value",
         "2025-07-01T22:50:16.00517Z"
        ],
        [
         "Kyung Yu",
         17030.0,
         15,
         1135.3333333333333,
         "2005-05-30",
         "High Value",
         "2025-07-01T22:50:16.00517Z"
        ],
        [
         "Jesus Fernandez",
         6816.0,
         6,
         1136.0,
         "2003-11-07",
         "Regular",
         "2025-07-01T22:50:16.00517Z"
        ],
        [
         "Maria Larsson",
         19559.0,
         20,
         977.95,
         "2005-03-03",
         "High Value",
         "2025-07-01T22:50:16.00517Z"
        ],
        [
         "Laurence Lebihan",
         11979.0,
         10,
         1197.9,
         "2005-01-06",
         "High Value",
         "2025-07-01T22:50:16.00517Z"
        ],
        [
         "Yoshi Tannamuri",
         5246.0,
         6,
         874.3333333333334,
         "2004-10-22",
         "Regular",
         "2025-07-01T22:50:16.00517Z"
        ],
        [
         "Leslie Taylor",
         3320.0,
         4,
         830.0,
         "2004-12-03",
         "Regular",
         "2025-07-01T22:50:16.00517Z"
        ],
        [
         "Maurizio Moroni",
         19643.0,
         16,
         1227.6875,
         "2005-05-10",
         "High Value",
         "2025-07-01T22:50:16.00517Z"
        ],
        [
         "Kee Kuo",
         6069.0,
         7,
         867.0,
         "2004-11-03",
         "Regular",
         "2025-07-01T22:50:16.00517Z"
        ],
        [
         "Marta Hernandez",
         14332.0,
         16,
         895.75,
         "2004-10-13",
         "High Value",
         "2025-07-01T22:50:16.00517Z"
        ],
        [
         "Annette Roulet",
         11801.0,
         11,
         1072.8181818181818,
         "2005-03-28",
         "High Value",
         "2025-07-01T22:50:16.00517Z"
        ],
        [
         "Catherine Dewey",
         13895.0,
         11,
         1263.1818181818182,
         "2005-05-30",
         "High Value",
         "2025-07-01T22:50:16.00517Z"
        ],
        [
         "Anna O'Hara",
         20651.0,
         23,
         897.8695652173913,
         "2005-03-09",
         "High Value",
         "2025-07-01T22:50:16.00517Z"
        ],
        [
         "Juri Hirano",
         23261.0,
         20,
         1163.05,
         "2005-01-05",
         "High Value",
         "2025-07-01T22:50:16.00517Z"
        ],
        [
         "Violeta Benitez",
         17027.0,
         14,
         1216.2142857142858,
         "2005-03-03",
         "High Value",
         "2025-07-01T22:50:16.00517Z"
        ],
        [
         "Dean Cassidy",
         10408.0,
         9,
         1156.4444444444443,
         "2004-09-16",
         "High Value",
         "2025-07-01T22:50:16.00517Z"
        ],
        [
         "Arnold Cruz",
         8710.0,
         10,
         871.0,
         "2004-11-16",
         "Regular",
         "2025-07-01T22:50:16.00517Z"
        ],
        [
         "Jose Pedro Roel",
         12888.0,
         9,
         1432.0,
         "2004-10-06",
         "High Value",
         "2025-07-01T22:50:16.00517Z"
        ],
        [
         "Wendy Victorino",
         18868.0,
         21,
         898.4761904761905,
         "2005-04-23",
         "High Value",
         "2025-07-01T22:50:16.00517Z"
        ],
        [
         "Valarie Young",
         18526.0,
         18,
         1029.2222222222222,
         "2004-11-04",
         "High Value",
         "2025-07-01T22:50:16.00517Z"
        ],
        [
         "Dominique Perrier",
         8831.0,
         12,
         735.9166666666666,
         "2005-04-07",
         "Regular",
         "2025-07-01T22:50:16.00517Z"
        ],
        [
         "Julie King",
         11014.0,
         12,
         917.8333333333334,
         "2005-05-05",
         "High Value",
         "2025-07-01T22:50:16.00517Z"
        ],
        [
         "Ann Brown",
         13193.0,
         12,
         1099.4166666666667,
         "2004-12-03",
         "High Value",
         "2025-07-01T22:50:16.00517Z"
        ],
        [
         "Steve Thompson",
         6820.0,
         6,
         1136.6666666666667,
         "2004-01-29",
         "Regular",
         "2025-07-01T22:50:16.00517Z"
        ],
        [
         "Giovanni Rovelli",
         25325.0,
         25,
         1013.0,
         "2004-11-12",
         "High Value",
         "2025-07-01T22:50:16.00517Z"
        ],
        [
         "Jean Fresnisre",
         15381.0,
         11,
         1398.2727272727273,
         "2005-05-01",
         "High Value",
         "2025-07-01T22:50:16.00517Z"
        ],
        [
         "Eduardo Saavedra",
         13992.0,
         14,
         999.4285714285714,
         "2004-11-24",
         "High Value",
         "2025-07-01T22:50:16.00517Z"
        ],
        [
         "Henriette Pfalzheim",
         6564.0,
         9,
         729.3333333333334,
         "2004-10-16",
         "Regular",
         "2025-07-01T22:50:16.00517Z"
        ],
        [
         "Miguel Barajas",
         11453.0,
         11,
         1041.1818181818182,
         "2004-09-10",
         "High Value",
         "2025-07-01T22:50:16.00517Z"
        ],
        [
         "Palle Ibsen",
         16594.0,
         17,
         976.1176470588235,
         "2004-10-22",
         "High Value",
         "2025-07-01T22:50:16.00517Z"
        ],
        [
         "Sue Frick",
         17030.0,
         16,
         1064.375,
         "2005-04-22",
         "High Value",
         "2025-07-01T22:50:16.00517Z"
        ],
        [
         "Pascale Cartrain",
         1163.0,
         2,
         581.5,
         "2004-11-22",
         "Regular",
         "2025-07-01T22:50:16.00517Z"
        ],
        [
         "Valarie Franco",
         11128.0,
         8,
         1391.0,
         "2004-04-26",
         "High Value",
         "2025-07-01T22:50:16.00517Z"
        ],
        [
         "Elizabeth Lincoln",
         8736.0,
         11,
         794.1818181818181,
         "2004-08-20",
         "Regular",
         "2025-07-01T22:50:16.00517Z"
        ],
        [
         "Kalle Suominen",
         14053.0,
         13,
         1081.0,
         "2005-01-06",
         "High Value",
         "2025-07-01T22:50:16.00517Z"
        ],
        [
         "Mory Kentary",
         9772.0,
         8,
         1221.5,
         "2004-04-13",
         "Regular",
         "2025-07-01T22:50:16.00517Z"
        ],
        [
         "Roland Mendel",
         6066.0,
         5,
         1213.2,
         "2005-03-10",
         "Regular",
         "2025-07-01T22:50:16.00517Z"
        ],
        [
         "Christina Berglund",
         8663.0,
         10,
         866.3,
         "2004-11-19",
         "Regular",
         "2025-07-01T22:50:16.00517Z"
        ],
        [
         "Jytte Petersen",
         23216.0,
         20,
         1160.8,
         "2005-04-15",
         "High Value",
         "2025-07-01T22:50:16.00517Z"
        ],
        [
         "Jonas Bergulfsen",
         7689.0,
         15,
         512.6,
         "2004-11-05",
         "Regular",
         "2025-07-01T22:50:16.00517Z"
        ],
        [
         "Steve Frick",
         16590.0,
         16,
         1036.875,
         "2004-10-15",
         "High Value",
         "2025-07-01T22:50:16.00517Z"
        ],
        [
         "Mary Saveley",
         17910.0,
         20,
         895.5,
         "2004-03-02",
         "High Value",
         "2025-07-01T22:50:16.00517Z"
        ],
        [
         "Michael Donnermeyer",
         4095.0,
         5,
         819.0,
         "2004-09-15",
         "Regular",
         "2025-07-01T22:50:16.00517Z"
        ],
        [
         "Thomas Hardy",
         5520.0,
         6,
         920.0,
         "2003-11-14",
         "Regular",
         "2025-07-01T22:50:16.00517Z"
        ],
        [
         "Julie Young",
         17477.0,
         16,
         1092.3125,
         "2005-01-12",
         "High Value",
         "2025-07-01T22:50:16.00517Z"
        ],
        [
         "Valarie Thompson",
         14043.0,
         14,
         1003.0714285714286,
         "2004-02-26",
         "High Value",
         "2025-07-01T22:50:16.00517Z"
        ],
        [
         "Juri Yoshido",
         15028.0,
         13,
         1156.0,
         "2005-05-06",
         "High Value",
         "2025-07-01T22:50:16.00517Z"
        ]
       ],
       "datasetInfos": [],
       "dbfsResultPath": null,
       "isJsonSchema": true,
       "metadata": {},
       "overflow": false,
       "plotOptions": {
        "customPlotOptions": {},
        "displayType": "table",
        "pivotAggregation": null,
        "pivotColumns": null,
        "xColumns": null,
        "yColumns": null
       },
       "removedWidgets": [],
       "schema": [
        {
         "metadata": "{}",
         "name": "customer_name",
         "type": "\"string\""
        },
        {
         "metadata": "{}",
         "name": "total_spent",
         "type": "\"double\""
        },
        {
         "metadata": "{}",
         "name": "total_orders",
         "type": "\"long\""
        },
        {
         "metadata": "{}",
         "name": "avg_order_value",
         "type": "\"double\""
        },
        {
         "metadata": "{}",
         "name": "last_order_date",
         "type": "\"date\""
        },
        {
         "metadata": "{}",
         "name": "customer_segment",
         "type": "\"string\""
        },
        {
         "metadata": "{}",
         "name": "created_date",
         "type": "\"timestamp\""
        }
       ],
       "type": "table"
      }
     },
     "output_type": "display_data"
    }
   ],
   "source": [
    "# Customer segmentation based on spending\n",
    "customer_segments = fact_transactions.filter(col(\"transaction_type\") == \"SALE\") \\\n",
    "    .groupBy(\"customer_name\") \\\n",
    "    .agg(\n",
    "        sum(\"net_amount\").alias(\"total_spent\"),\n",
    "        count(\"order_number\").alias(\"total_orders\"),\n",
    "        avg(\"net_amount\").alias(\"avg_order_value\"),\n",
    "        max(\"order_date\").alias(\"last_order_date\")\n",
    "    ).withColumn(\n",
    "        # Business rule: Customer value segmentation\n",
    "        \"customer_segment\",\n",
    "        when(col(\"total_spent\") >= BUSINESS_RULES[\"high_value_customer_threshold\"], \"High Value\")\n",
    "        .otherwise(\"Regular\")\n",
    "    ).withColumn(\"created_date\", current_timestamp())\n",
    "\n",
    "logger.info(f\"Created customer segments with {customer_segments.count()} customers\")\n",
    "display(customer_segments)"
   ]
  },
  {
   "cell_type": "code",
   "execution_count": 0,
   "metadata": {
    "application/vnd.databricks.v1+cell": {
     "cellMetadata": {
      "byteLimit": 2048000,
      "rowLimit": 10000
     },
     "inputWidgets": {},
     "nuid": "b050e9d9-c9d2-4466-a865-93993ab0521a",
     "showTitle": false,
     "tableResultSettingsMap": {},
     "title": ""
    }
   },
   "outputs": [
    {
     "output_type": "stream",
     "name": "stderr",
     "output_type": "stream",
     "text": [
      "INFO:py4j.clientserver:Received command c on object id p0\nINFO:py4j.clientserver:Received command c on object id p0\nINFO:py4j.clientserver:Received command c on object id p0\nINFO:py4j.clientserver:Received command c on object id p0\nINFO:py4j.clientserver:Received command c on object id p0\nINFO:py4j.clientserver:Received command c on object id p0\nINFO:py4j.clientserver:Received command c on object id p0\nINFO:py4j.clientserver:Received command c on object id p0\nINFO:py4j.clientserver:Received command c on object id p0\nINFO:py4j.clientserver:Received command c on object id p0\nINFO:__main__:All processed data stored in Delta Lake successfully\n"
     ]
    }
   ],
   "source": [
    "# Store processed data in Delta Lake\n",
    "try:\n",
    "    # Store customer dimension\n",
    "    dim_customer.write \\\n",
    "        .format(\"delta\") \\\n",
    "        .mode(\"overwrite\") \\\n",
    "        .option(\"mergeSchema\", \"true\") \\\n",
    "        .save(f\"{PROCESSED_DATA_PATH}dim_customer\")\n",
    "    \n",
    "    # Store product dimension\n",
    "    dim_product.write \\\n",
    "        .format(\"delta\") \\\n",
    "        .mode(\"overwrite\") \\\n",
    "        .option(\"mergeSchema\", \"true\") \\\n",
    "        .save(f\"{PROCESSED_DATA_PATH}dim_product\")\n",
    "    \n",
    "    # Store fact transactions\n",
    "    fact_transactions.write \\\n",
    "        .format(\"delta\") \\\n",
    "        .mode(\"overwrite\") \\\n",
    "        .option(\"mergeSchema\", \"true\") \\\n",
    "        .save(f\"{PROCESSED_DATA_PATH}fact_transactions\")\n",
    "    \n",
    "    # Store customer segments\n",
    "    customer_segments.write \\\n",
    "        .format(\"delta\") \\\n",
    "        .mode(\"overwrite\") \\\n",
    "        .option(\"mergeSchema\", \"true\") \\\n",
    "        .save(f\"{PROCESSED_DATA_PATH}customer_segments\")\n",
    "    \n",
    "    logger.info(\"All processed data stored in Delta Lake successfully\")\n",
    "    \n",
    "except Exception as e:\n",
    "    logger.error(f\"Error storing processed data: {str(e)}\")\n",
    "    raise\n"
   ]
  },
  {
   "cell_type": "code",
   "execution_count": 0,
   "metadata": {
    "application/vnd.databricks.v1+cell": {
     "cellMetadata": {
      "byteLimit": 2048000,
      "rowLimit": 10000
     },
     "inputWidgets": {},
     "nuid": "b39c5869-40f4-4077-ad4b-f1ae35dc5e2d",
     "showTitle": false,
     "tableResultSettingsMap": {},
     "title": ""
    }
   },
   "outputs": [
    {
     "output_type": "stream",
     "name": "stderr",
     "output_type": "stream",
     "text": [
      "INFO:py4j.clientserver:Received command c on object id p0\nINFO:py4j.clientserver:Received command c on object id p0\n"
     ]
    },
    {
     "output_type": "execute_result",
     "data": {
      "text/plain": [
       "91"
      ]
     },
     "execution_count": 32,
     "metadata": {},
     "output_type": "execute_result"
    }
   ],
   "source": [
    "#test\n",
    "df=spark.read.format(\"delta\").load(f\"{PROCESSED_DATA_PATH}customer_segments\")\n",
    "df.count()"
   ]
  },
  {
   "cell_type": "code",
   "execution_count": 0,
   "metadata": {
    "application/vnd.databricks.v1+cell": {
     "cellMetadata": {
      "byteLimit": 2048000,
      "rowLimit": 10000
     },
     "inputWidgets": {},
     "nuid": "cf750335-4dac-4fba-8ed1-fcad5204eff4",
     "showTitle": false,
     "tableResultSettingsMap": {},
     "title": ""
    }
   },
   "outputs": [
    {
     "output_type": "stream",
     "name": "stderr",
     "output_type": "stream",
     "text": [
      "INFO:py4j.clientserver:Received command c on object id p0\nINFO:py4j.clientserver:Received command c on object id p0\nINFO:py4j.clientserver:Received command c on object id p0\nINFO:py4j.clientserver:Received command c on object id p0\nINFO:py4j.clientserver:Received command c on object id p0\nINFO:py4j.clientserver:Received command c on object id p0\nINFO:py4j.clientserver:Received command c on object id p0\nINFO:py4j.clientserver:Received command c on object id p0\nINFO:py4j.clientserver:Received command c on object id p0\nINFO:py4j.clientserver:Received command c on object id p0\nINFO:py4j.clientserver:Received command c on object id p0\nINFO:py4j.clientserver:Received command c on object id p0\nINFO:py4j.clientserver:Received command c on object id p0\nINFO:py4j.clientserver:Received command c on object id p0\nINFO:py4j.clientserver:Received command c on object id p0\nINFO:py4j.clientserver:Received command c on object id p0\nINFO:py4j.clientserver:Received command c on object id p0\nINFO:py4j.clientserver:Received command c on object id p0\nINFO:py4j.clientserver:Received command c on object id p0\nINFO:py4j.clientserver:Received command c on object id p0\nINFO:py4j.clientserver:Received command c on object id p0\nINFO:py4j.clientserver:Received command c on object id p0\nINFO:py4j.clientserver:Received command c on object id p0\nINFO:py4j.clientserver:Received command c on object id p0\nINFO:py4j.clientserver:Received command c on object id p0\nINFO:py4j.clientserver:Received command c on object id p0\nINFO:py4j.clientserver:Received command c on object id p0\nINFO:py4j.clientserver:Received command c on object id p0\nINFO:py4j.clientserver:Received command c on object id p0\nINFO:py4j.clientserver:Received command c on object id p0\nINFO:py4j.clientserver:Received command c on object id p0\nINFO:py4j.clientserver:Received command c on object id p0\nINFO:py4j.clientserver:Received command c on object id p0\nINFO:py4j.clientserver:Received command c on object id p0\nINFO:py4j.clientserver:Received command c on object id p0\nINFO:py4j.clientserver:Received command c on object id p0\nINFO:py4j.clientserver:Received command c on object id p0\nINFO:py4j.clientserver:Received command c on object id p0\nINFO:py4j.clientserver:Received command c on object id p0\nINFO:py4j.clientserver:Received command c on object id p0\nINFO:py4j.clientserver:Received command c on object id p0\nINFO:py4j.clientserver:Received command c on object id p0\nINFO:py4j.clientserver:Received command c on object id p0\nINFO:py4j.clientserver:Received command c on object id p0\nINFO:py4j.clientserver:Received command c on object id p0\nINFO:py4j.clientserver:Received command c on object id p0\nINFO:py4j.clientserver:Received command c on object id p0\nINFO:py4j.clientserver:Received command c on object id p0\nINFO:py4j.clientserver:Received command c on object id p0\nINFO:py4j.clientserver:Received command c on object id p0\nINFO:py4j.clientserver:Received command c on object id p0\nINFO:py4j.clientserver:Received command c on object id p0\nINFO:py4j.clientserver:Received command c on object id p0\nINFO:py4j.clientserver:Received command c on object id p0\nINFO:py4j.clientserver:Received command c on object id p0\nINFO:py4j.clientserver:Received command c on object id p0\nINFO:py4j.clientserver:Received command c on object id p0\nINFO:py4j.clientserver:Received command c on object id p0\nINFO:py4j.clientserver:Received command c on object id p0\nINFO:py4j.clientserver:Received command c on object id p0\nINFO:py4j.clientserver:Received command c on object id p0\nINFO:py4j.clientserver:Received command c on object id p0\nINFO:py4j.clientserver:Received command c on object id p0\nINFO:py4j.clientserver:Received command c on object id p0\nINFO:py4j.clientserver:Received command c on object id p0\nINFO:py4j.clientserver:Received command c on object id p0\nINFO:py4j.clientserver:Received command c on object id p0\nINFO:py4j.clientserver:Received command c on object id p0\nINFO:py4j.clientserver:Received command c on object id p0\nINFO:py4j.clientserver:Received command c on object id p0\nINFO:py4j.clientserver:Received command c on object id p0\nINFO:py4j.clientserver:Received command c on object id p0\nINFO:py4j.clientserver:Received command c on object id p0\nINFO:py4j.clientserver:Received command c on object id p0\nINFO:py4j.clientserver:Received command c on object id p0\nINFO:py4j.clientserver:Received command c on object id p0\nINFO:py4j.clientserver:Received command c on object id p0\nINFO:py4j.clientserver:Received command c on object id p0\nINFO:py4j.clientserver:Received command c on object id p0\nINFO:py4j.clientserver:Received command c on object id p0\nINFO:py4j.clientserver:Received command c on object id p0\nINFO:py4j.clientserver:Received command c on object id p0\nINFO:__main__:Successfully loaded 2000 records to Redshift table dim_customer\nINFO:py4j.clientserver:Received command c on object id p0\nINFO:py4j.clientserver:Received command c on object id p0\nINFO:py4j.clientserver:Received command c on object id p0\nINFO:py4j.clientserver:Received command c on object id p0\nINFO:py4j.clientserver:Received command c on object id p0\nINFO:py4j.clientserver:Received command c on object id p0\nINFO:py4j.clientserver:Received command c on object id p0\nINFO:py4j.clientserver:Received command c on object id p0\nINFO:py4j.clientserver:Received command c on object id p0\nINFO:py4j.clientserver:Received command c on object id p0\nINFO:py4j.clientserver:Received command c on object id p0\nINFO:py4j.clientserver:Received command c on object id p0\nINFO:py4j.clientserver:Received command c on object id p0\nINFO:py4j.clientserver:Received command c on object id p0\nINFO:py4j.clientserver:Received command c on object id p0\nINFO:py4j.clientserver:Received command c on object id p0\nINFO:py4j.clientserver:Received command c on object id p0\nINFO:py4j.clientserver:Received command c on object id p0\nINFO:py4j.clientserver:Received command c on object id p0\nINFO:py4j.clientserver:Received command c on object id p0\nINFO:py4j.clientserver:Received command c on object id p0\nINFO:py4j.clientserver:Received command c on object id p0\nINFO:py4j.clientserver:Received command c on object id p0\nINFO:py4j.clientserver:Received command c on object id p0\nINFO:py4j.clientserver:Received command c on object id p0\nINFO:py4j.clientserver:Received command c on object id p0\nINFO:py4j.clientserver:Received command c on object id p0\nINFO:py4j.clientserver:Received command c on object id p0\nINFO:py4j.clientserver:Received command c on object id p0\nINFO:py4j.clientserver:Received command c on object id p0\nINFO:py4j.clientserver:Received command c on object id p0\nINFO:py4j.clientserver:Received command c on object id p0\nINFO:py4j.clientserver:Received command c on object id p0\nINFO:py4j.clientserver:Received command c on object id p0\nINFO:py4j.clientserver:Received command c on object id p0\nINFO:py4j.clientserver:Received command c on object id p0\nINFO:py4j.clientserver:Received command c on object id p0\nINFO:py4j.clientserver:Received command c on object id p0\nINFO:py4j.clientserver:Received command c on object id p0\nINFO:py4j.clientserver:Received command c on object id p0\nINFO:py4j.clientserver:Received command c on object id p0\nINFO:py4j.clientserver:Received command c on object id p0\nINFO:py4j.clientserver:Received command c on object id p0\nINFO:py4j.clientserver:Received command c on object id p0\nINFO:py4j.clientserver:Received command c on object id p0\nINFO:py4j.clientserver:Received command c on object id p0\nINFO:py4j.clientserver:Received command c on object id p0\nINFO:py4j.clientserver:Received command c on object id p0\nINFO:py4j.clientserver:Received command c on object id p0\nINFO:py4j.clientserver:Received command c on object id p0\nINFO:py4j.clientserver:Received command c on object id p0\nINFO:py4j.clientserver:Received command c on object id p0\nINFO:py4j.clientserver:Received command c on object id p0\nINFO:py4j.clientserver:Received command c on object id p0\nINFO:py4j.clientserver:Received command c on object id p0\nINFO:py4j.clientserver:Received command c on object id p0\nINFO:py4j.clientserver:Received command c on object id p0\nINFO:py4j.clientserver:Received command c on object id p0\nINFO:py4j.clientserver:Received command c on object id p0\nINFO:py4j.clientserver:Received command c on object id p0\nINFO:py4j.clientserver:Received command c on object id p0\nINFO:py4j.clientserver:Received command c on object id p0\nINFO:py4j.clientserver:Received command c on object id p0\nINFO:py4j.clientserver:Received command c on object id p0\nINFO:py4j.clientserver:Received command c on object id p0\nINFO:py4j.clientserver:Received command c on object id p0\nINFO:py4j.clientserver:Received command c on object id p0\nINFO:py4j.clientserver:Received command c on object id p0\nINFO:py4j.clientserver:Received command c on object id p0\nINFO:py4j.clientserver:Received command c on object id p0\nINFO:py4j.clientserver:Received command c on object id p0\nINFO:py4j.clientserver:Received command c on object id p0\nINFO:py4j.clientserver:Received command c on object id p0\nINFO:py4j.clientserver:Received command c on object id p0\nINFO:py4j.clientserver:Received command c on object id p0\nINFO:py4j.clientserver:Received command c on object id p0\nINFO:py4j.clientserver:Received command c on object id p0\nINFO:py4j.clientserver:Received command c on object id p0\nINFO:py4j.clientserver:Received command c on object id p0\nINFO:py4j.clientserver:Received command c on object id p0\nINFO:py4j.clientserver:Received command c on object id p0\nINFO:py4j.clientserver:Received command c on object id p0\nINFO:py4j.clientserver:Received command c on object id p0\nINFO:py4j.clientserver:Received command c on object id p0\nINFO:py4j.clientserver:Received command c on object id p0\nINFO:py4j.clientserver:Received command c on object id p0\nINFO:py4j.clientserver:Received command c on object id p0\nINFO:py4j.clientserver:Received command c on object id p0\nINFO:py4j.clientserver:Received command c on object id p0\nINFO:py4j.clientserver:Received command c on object id p0\nINFO:py4j.clientserver:Received command c on object id p0\nINFO:py4j.clientserver:Received command c on object id p0\nINFO:py4j.clientserver:Received command c on object id p0\nINFO:py4j.clientserver:Received command c on object id p0\nINFO:py4j.clientserver:Received command c on object id p0\nINFO:py4j.clientserver:Received command c on object id p0\nINFO:py4j.clientserver:Received command c on object id p0\nINFO:py4j.clientserver:Received command c on object id p0\nINFO:py4j.clientserver:Received command c on object id p0\nINFO:py4j.clientserver:Received command c on object id p0\nINFO:py4j.clientserver:Received command c on object id p0\nINFO:py4j.clientserver:Received command c on object id p0\nINFO:py4j.clientserver:Received command c on object id p0\nINFO:py4j.clientserver:Received command c on object id p0\nINFO:py4j.clientserver:Received command c on object id p0\nINFO:py4j.clientserver:Received command c on object id p0\nINFO:py4j.clientserver:Received command c on object id p0\nINFO:py4j.clientserver:Received command c on object id p0\nINFO:py4j.clientserver:Received command c on object id p0\nINFO:py4j.clientserver:Received command c on object id p0\nINFO:py4j.clientserver:Received command c on object id p0\nINFO:py4j.clientserver:Received command c on object id p0\nINFO:py4j.clientserver:Received command c on object id p0\nINFO:py4j.clientserver:Received command c on object id p0\nINFO:py4j.clientserver:Received command c on object id p0\nINFO:py4j.clientserver:Received command c on object id p0\nINFO:py4j.clientserver:Received command c on object id p0\nINFO:py4j.clientserver:Received command c on object id p0\nINFO:py4j.clientserver:Received command c on object id p0\nINFO:py4j.clientserver:Received command c on object id p0\nINFO:py4j.clientserver:Received command c on object id p0\nINFO:py4j.clientserver:Received command c on object id p0\nINFO:py4j.clientserver:Received command c on object id p0\nINFO:py4j.clientserver:Received command c on object id p0\nINFO:py4j.clientserver:Received command c on object id p0\nINFO:py4j.clientserver:Received command c on object id p0\nINFO:py4j.clientserver:Received command c on object id p0\nINFO:py4j.clientserver:Received command c on object id p0\nINFO:py4j.clientserver:Received command c on object id p0\nINFO:py4j.clientserver:Received command c on object id p0\nINFO:py4j.clientserver:Received command c on object id p0\nINFO:py4j.clientserver:Received command c on object id p0\nINFO:py4j.clientserver:Received command c on object id p0\nINFO:py4j.clientserver:Received command c on object id p0\nINFO:py4j.clientserver:Received command c on object id p0\nINFO:py4j.clientserver:Received command c on object id p0\nINFO:py4j.clientserver:Received command c on object id p0\nINFO:py4j.clientserver:Received command c on object id p0\nINFO:py4j.clientserver:Received command c on object id p0\nINFO:py4j.clientserver:Received command c on object id p0\nINFO:py4j.clientserver:Received command c on object id p0\nINFO:py4j.clientserver:Received command c on object id p0\nINFO:py4j.clientserver:Received command c on object id p0\nINFO:__main__:Successfully loaded 2823 records to Redshift table fact_transactions\nINFO:py4j.clientserver:Received command c on object id p0\nINFO:py4j.clientserver:Received command c on object id p0\nINFO:py4j.clientserver:Received command c on object id p0\nINFO:py4j.clientserver:Received command c on object id p0\nINFO:py4j.clientserver:Received command c on object id p0\nINFO:py4j.clientserver:Received command c on object id p0\nINFO:py4j.clientserver:Received command c on object id p0\nINFO:py4j.clientserver:Received command c on object id p0\nINFO:py4j.clientserver:Received command c on object id p0\nINFO:py4j.clientserver:Received command c on object id p0\nINFO:py4j.clientserver:Received command c on object id p0\nINFO:py4j.clientserver:Received command c on object id p0\nINFO:py4j.clientserver:Received command c on object id p0\nINFO:__main__:Successfully loaded 91 records to Redshift table customer_segments\nINFO:__main__:All data successfully loaded to Redshift\n"
     ]
    }
   ],
   "source": [
    "# Load to Redshift\n",
    "import psycopg2\n",
    "from pyspark.sql import DataFrameWriter\n",
    "\n",
    "def load_to_redshift(df, table_name, redshift_config):\n",
    "    \"\"\"Load DataFrame to Redshift\"\"\"\n",
    "    try:\n",
    "        # Convert Spark DataFrame to Pandas for easier Redshift loading\n",
    "        pandas_df = df.toPandas()\n",
    "        \n",
    "        # Connect to Redshift\n",
    "        conn = psycopg2.connect(\n",
    "            host=redshift_config[\"host\"],\n",
    "            port=redshift_config[\"port\"],\n",
    "            database=redshift_config[\"database\"],\n",
    "            user=redshift_config[\"user\"],\n",
    "            password=redshift_config[\"password\"]\n",
    "        )\n",
    "        \n",
    "        cursor = conn.cursor()\n",
    "        \n",
    "        # Create table if not exists (simplified schema)\n",
    "        if table_name == \"dim_customer\":\n",
    "            cursor.execute(f\"\"\"\n",
    "                CREATE TABLE IF NOT EXISTS {table_name} (\n",
    "                    customer_key VARCHAR(500),\n",
    "                    first_name VARCHAR(100),\n",
    "                    last_name VARCHAR(100),\n",
    "                    full_name VARCHAR(200),\n",
    "                    email VARCHAR(200),\n",
    "                    company_name VARCHAR(200),\n",
    "                    address VARCHAR(500),\n",
    "                    city VARCHAR(100),\n",
    "                    state VARCHAR(50),\n",
    "                    postal_code VARCHAR(20),\n",
    "                    phone VARCHAR(50),\n",
    "                    created_date TIMESTAMP,\n",
    "                    updated_date TIMESTAMP\n",
    "                );\n",
    "            \"\"\")\n",
    "        elif table_name == \"fact_transactions\":\n",
    "            cursor.execute(f\"\"\"\n",
    "                CREATE TABLE IF NOT EXISTS {table_name} (\n",
    "                    order_number BIGINT,\n",
    "                    customer_name VARCHAR(200),\n",
    "                    address VARCHAR(500),\n",
    "                    phone_number VARCHAR(50),\n",
    "                    product_code VARCHAR(50),\n",
    "                    quantity INTEGER,\n",
    "                    unit_price DECIMAL(10,2),\n",
    "                    total_amount DECIMAL(12,2),\n",
    "                    deal_size VARCHAR(50),\n",
    "                    territory VARCHAR(50),\n",
    "                    order_date DATE,\n",
    "                    status VARCHAR(50),\n",
    "                    product_line VARCHAR(100),\n",
    "                    created_date TIMESTAMP,\n",
    "                    transaction_type VARCHAR(20),\n",
    "                    restocking_fee DECIMAL(10,2),\n",
    "                    net_amount DECIMAL(12,2),\n",
    "                    is_large_order BOOLEAN\n",
    "                );\n",
    "            \"\"\")\n",
    "        elif table_name == \"customer_segments\":\n",
    "            cursor.execute(f\"\"\"\n",
    "                CREATE TABLE IF NOT EXISTS {table_name} (\n",
    "                    customer_name VARCHAR(200),\n",
    "                    total_spent DECIMAL(12,2),\n",
    "                    total_orders INTEGER,\n",
    "                    avg_order_value DECIMAL(10,2),\n",
    "                    last_order_date DATE,\n",
    "                    customer_segment VARCHAR(50),\n",
    "                    created_date TIMESTAMP\n",
    "                );\n",
    "            \"\"\")\n",
    "        \n",
    "        # Clear existing data\n",
    "        cursor.execute(f\"DELETE FROM {table_name};\")\n",
    "        \n",
    "        # Insert new data\n",
    "        for _, row in pandas_df.iterrows():\n",
    "            placeholders = ', '.join(['%s'] * len(row))\n",
    "            columns = ', '.join(pandas_df.columns)\n",
    "            sql = f\"INSERT INTO {table_name} ({columns}) VALUES ({placeholders})\"\n",
    "            cursor.execute(sql, tuple(row))\n",
    "        \n",
    "        conn.commit()\n",
    "        cursor.close()\n",
    "        conn.close()\n",
    "        \n",
    "        logger.info(f\"Successfully loaded {len(pandas_df)} records to Redshift table {table_name}\")\n",
    "        \n",
    "    except Exception as e:\n",
    "        logger.error(f\"Error loading to Redshift table {table_name}: {str(e)}\")\n",
    "        raise\n",
    "\n",
    "# Redshift configuration (using secrets)\n",
    "try:\n",
    "    redshift_config = {\n",
    "        \"host\": \"psycho-bunny-workgroup.499897076142.us-east-1.redshift-serverless.amazonaws.com\",\n",
    "        \"port\": \"5439\",\n",
    "        \"database\": \"dev\",\n",
    "        \"user\": \"admin\",\n",
    "        \"password\": \"Tata!8237552399\"\n",
    "    }\n",
    "    \n",
    "    # Load key tables to Redshift\n",
    "    load_to_redshift(dim_customer, \"dim_customer\", redshift_config)\n",
    "    load_to_redshift(fact_transactions, \"fact_transactions\", redshift_config)\n",
    "    load_to_redshift(customer_segments, \"customer_segments\", redshift_config)\n",
    "    \n",
    "    logger.info(\"All data successfully loaded to Redshift\")\n",
    "    \n",
    "except Exception as e:\n",
    "    logger.warning(f\"Redshift loading failed (this is optional): {str(e)}\")\n",
    "    logger.info(\"Continuing without Redshift - data is still available in Delta Lake\")\n"
   ]
  },
  {
   "cell_type": "code",
   "execution_count": 0,
   "metadata": {
    "application/vnd.databricks.v1+cell": {
     "cellMetadata": {
      "byteLimit": 2048000,
      "rowLimit": 10000
     },
     "inputWidgets": {},
     "nuid": "fb34f0e6-7fed-415b-87b4-1343349a5d21",
     "showTitle": false,
     "tableResultSettingsMap": {},
     "title": ""
    }
   },
   "outputs": [
    {
     "output_type": "stream",
     "name": "stderr",
     "output_type": "stream",
     "text": [
      "INFO:py4j.clientserver:Received command c on object id p0\nINFO:py4j.clientserver:Received command c on object id p0\nINFO:py4j.clientserver:Received command c on object id p0\nINFO:py4j.clientserver:Received command c on object id p0\nINFO:py4j.clientserver:Received command c on object id p0\nINFO:py4j.clientserver:Received command c on object id p0\nINFO:py4j.clientserver:Received command c on object id p0\nINFO:py4j.clientserver:Received command c on object id p0\nINFO:py4j.clientserver:Received command c on object id p0\nINFO:py4j.clientserver:Received command c on object id p0\nINFO:py4j.clientserver:Received command c on object id p0\nINFO:py4j.clientserver:Received command c on object id p0\nINFO:py4j.clientserver:Received command c on object id p0\nINFO:py4j.clientserver:Received command c on object id p0\nINFO:py4j.clientserver:Received command c on object id p0\nINFO:py4j.clientserver:Received command c on object id p0\nINFO:py4j.clientserver:Received command c on object id p0\nINFO:py4j.clientserver:Received command c on object id p0\nINFO:py4j.clientserver:Received command c on object id p0\nINFO:py4j.clientserver:Received command c on object id p0\nINFO:py4j.clientserver:Received command c on object id p0\nINFO:py4j.clientserver:Received command c on object id p0\nINFO:py4j.clientserver:Received command c on object id p0\nINFO:py4j.clientserver:Received command c on object id p0\nINFO:py4j.clientserver:Received command c on object id p0\nINFO:py4j.clientserver:Received command c on object id p0\nINFO:py4j.clientserver:Received command c on object id p0\nINFO:py4j.clientserver:Received command c on object id p0\nINFO:py4j.clientserver:Received command c on object id p0\nINFO:py4j.clientserver:Received command c on object id p0\nINFO:py4j.clientserver:Received command c on object id p0\nINFO:py4j.clientserver:Received command c on object id p0\nINFO:py4j.clientserver:Received command c on object id p0\nINFO:py4j.clientserver:Received command c on object id p0\nINFO:py4j.clientserver:Received command c on object id p0\nINFO:py4j.clientserver:Received command c on object id p0\nINFO:py4j.clientserver:Received command c on object id p0\nINFO:py4j.clientserver:Received command c on object id p0\nINFO:py4j.clientserver:Received command c on object id p0\nINFO:py4j.clientserver:Received command c on object id p0\nINFO:py4j.clientserver:Received command c on object id p0\nINFO:py4j.clientserver:Received command c on object id p0\nINFO:py4j.clientserver:Received command c on object id p0\nINFO:py4j.clientserver:Received command c on object id p0\nINFO:py4j.clientserver:Received command c on object id p0\nINFO:py4j.clientserver:Received command c on object id p0\nINFO:py4j.clientserver:Received command c on object id p0\nINFO:py4j.clientserver:Received command c on object id p0\nINFO:py4j.clientserver:Received command c on object id p0\nINFO:py4j.clientserver:Received command c on object id p0\nINFO:py4j.clientserver:Received command c on object id p0\nINFO:py4j.clientserver:Received command c on object id p0\nINFO:py4j.clientserver:Received command c on object id p0\nINFO:py4j.clientserver:Received command c on object id p0\nINFO:py4j.clientserver:Received command c on object id p0\nINFO:py4j.clientserver:Received command c on object id p0\nINFO:py4j.clientserver:Received command c on object id p0\nINFO:py4j.clientserver:Received command c on object id p0\nINFO:py4j.clientserver:Received command c on object id p0\nINFO:py4j.clientserver:Received command c on object id p0\nINFO:py4j.clientserver:Received command c on object id p0\nINFO:py4j.clientserver:Received command c on object id p0\nINFO:py4j.clientserver:Received command c on object id p0\nINFO:py4j.clientserver:Received command c on object id p0\nINFO:py4j.clientserver:Received command c on object id p0\nINFO:py4j.clientserver:Received command c on object id p0\nINFO:py4j.clientserver:Received command c on object id p0\nINFO:py4j.clientserver:Received command c on object id p0\nINFO:py4j.clientserver:Received command c on object id p0\nINFO:py4j.clientserver:Received command c on object id p0\nINFO:py4j.clientserver:Received command c on object id p0\nINFO:py4j.clientserver:Received command c on object id p0\nINFO:py4j.clientserver:Received command c on object id p0\nINFO:py4j.clientserver:Received command c on object id p0\nINFO:py4j.clientserver:Received command c on object id p0\nINFO:py4j.clientserver:Received command c on object id p0\nINFO:py4j.clientserver:Received command c on object id p0\nINFO:py4j.clientserver:Received command c on object id p0\nINFO:py4j.clientserver:Received command c on object id p0\nINFO:py4j.clientserver:Received command c on object id p0\nINFO:py4j.clientserver:Received command c on object id p0\nINFO:py4j.clientserver:Received command c on object id p0\nINFO:py4j.clientserver:Received command c on object id p0\nINFO:py4j.clientserver:Received command c on object id p0\nINFO:py4j.clientserver:Received command c on object id p0\nINFO:py4j.clientserver:Received command c on object id p0\nINFO:py4j.clientserver:Received command c on object id p0\nINFO:py4j.clientserver:Received command c on object id p0\nINFO:py4j.clientserver:Received command c on object id p0\nINFO:py4j.clientserver:Received command c on object id p0\nINFO:py4j.clientserver:Received command c on object id p0\nINFO:py4j.clientserver:Received command c on object id p0\nINFO:py4j.clientserver:Received command c on object id p0\nINFO:py4j.clientserver:Received command c on object id p0\nINFO:py4j.clientserver:Received command c on object id p0\nINFO:py4j.clientserver:Received command c on object id p0\nINFO:py4j.clientserver:Received command c on object id p0\nINFO:py4j.clientserver:Received command c on object id p0\nINFO:py4j.clientserver:Received command c on object id p0\nINFO:py4j.clientserver:Received command c on object id p0\nINFO:py4j.clientserver:Received command c on object id p0\nINFO:py4j.clientserver:Received command c on object id p0\nINFO:py4j.clientserver:Received command c on object id p0\nINFO:py4j.clientserver:Received command c on object id p0\nINFO:py4j.clientserver:Received command c on object id p0\nINFO:py4j.clientserver:Received command c on object id p0\nINFO:py4j.clientserver:Received command c on object id p0\nINFO:py4j.clientserver:Received command c on object id p0\nINFO:py4j.clientserver:Received command c on object id p0\nINFO:py4j.clientserver:Received command c on object id p0\nINFO:py4j.clientserver:Received command c on object id p0\nINFO:py4j.clientserver:Received command c on object id p0\nINFO:py4j.clientserver:Received command c on object id p0\nINFO:py4j.clientserver:Received command c on object id p0\nINFO:py4j.clientserver:Received command c on object id p0\nINFO:py4j.clientserver:Received command c on object id p0\nINFO:py4j.clientserver:Received command c on object id p0\nINFO:py4j.clientserver:Received command c on object id p0\nINFO:py4j.clientserver:Received command c on object id p0\nINFO:py4j.clientserver:Received command c on object id p0\nINFO:py4j.clientserver:Received command c on object id p0\nINFO:py4j.clientserver:Received command c on object id p0\nINFO:py4j.clientserver:Received command c on object id p0\nINFO:py4j.clientserver:Received command c on object id p0\nINFO:py4j.clientserver:Received command c on object id p0\nINFO:py4j.clientserver:Received command c on object id p0\nINFO:py4j.clientserver:Received command c on object id p0\nINFO:py4j.clientserver:Received command c on object id p0\nINFO:py4j.clientserver:Received command c on object id p0\nINFO:py4j.clientserver:Received command c on object id p0\nINFO:py4j.clientserver:Received command c on object id p0\nINFO:py4j.clientserver:Received command c on object id p0\nINFO:py4j.clientserver:Received command c on object id p0\nINFO:py4j.clientserver:Received command c on object id p0\nINFO:py4j.clientserver:Received command c on object id p0\nINFO:py4j.clientserver:Received command c on object id p0\nINFO:py4j.clientserver:Received command c on object id p0\nINFO:py4j.clientserver:Received command c on object id p0\nINFO:py4j.clientserver:Received command c on object id p0\nINFO:py4j.clientserver:Received command c on object id p0\nINFO:py4j.clientserver:Received command c on object id p0\nINFO:py4j.clientserver:Received command c on object id p0\nINFO:py4j.clientserver:Received command c on object id p0\nINFO:py4j.clientserver:Received command c on object id p0\nINFO:py4j.clientserver:Received command c on object id p0\nINFO:py4j.clientserver:Received command c on object id p0\nINFO:py4j.clientserver:Received command c on object id p0\nINFO:py4j.clientserver:Received command c on object id p0\nINFO:py4j.clientserver:Received command c on object id p0\nINFO:py4j.clientserver:Received command c on object id p0\nINFO:py4j.clientserver:Received command c on object id p0\nINFO:py4j.clientserver:Received command c on object id p0\nINFO:py4j.clientserver:Received command c on object id p0\nINFO:py4j.clientserver:Received command c on object id p0\nINFO:py4j.clientserver:Received command c on object id p0\nINFO:py4j.clientserver:Received command c on object id p0\nINFO:py4j.clientserver:Received command c on object id p0\nINFO:py4j.clientserver:Received command c on object id p0\nINFO:py4j.clientserver:Received command c on object id p0\nINFO:py4j.clientserver:Received command c on object id p0\nINFO:py4j.clientserver:Received command c on object id p0\nINFO:py4j.clientserver:Received command c on object id p0\nINFO:py4j.clientserver:Received command c on object id p0\nINFO:py4j.clientserver:Received command c on object id p0\nINFO:py4j.clientserver:Received command c on object id p0\nINFO:py4j.clientserver:Received command c on object id p0\nINFO:py4j.clientserver:Received command c on object id p0\nINFO:py4j.clientserver:Received command c on object id p0\nINFO:py4j.clientserver:Received command c on object id p0\nINFO:py4j.clientserver:Received command c on object id p0\nINFO:py4j.clientserver:Received command c on object id p0\nINFO:py4j.clientserver:Received command c on object id p0\nINFO:py4j.clientserver:Received command c on object id p0\nINFO:py4j.clientserver:Received command c on object id p0\nINFO:py4j.clientserver:Received command c on object id p0\nINFO:py4j.clientserver:Received command c on object id p0\nINFO:py4j.clientserver:Received command c on object id p0\nINFO:py4j.clientserver:Received command c on object id p0\nINFO:py4j.clientserver:Received command c on object id p0\nINFO:py4j.clientserver:Received command c on object id p0\nINFO:py4j.clientserver:Received command c on object id p0\nINFO:py4j.clientserver:Received command c on object id p0\nINFO:py4j.clientserver:Received command c on object id p0\nINFO:py4j.clientserver:Received command c on object id p0\nINFO:py4j.clientserver:Received command c on object id p0\nINFO:py4j.clientserver:Received command c on object id p0\nINFO:py4j.clientserver:Received command c on object id p0\nINFO:py4j.clientserver:Received command c on object id p0\nINFO:py4j.clientserver:Received command c on object id p0\nINFO:py4j.clientserver:Received command c on object id p0\nINFO:py4j.clientserver:Received command c on object id p0\nINFO:py4j.clientserver:Received command c on object id p0\nINFO:py4j.clientserver:Received command c on object id p0\nINFO:py4j.clientserver:Received command c on object id p0\nINFO:py4j.clientserver:Received command c on object id p0\nINFO:py4j.clientserver:Received command c on object id p0\nINFO:py4j.clientserver:Received command c on object id p0\nINFO:py4j.clientserver:Received command c on object id p0\nINFO:py4j.clientserver:Received command c on object id p0\nINFO:py4j.clientserver:Received command c on object id p0\nINFO:py4j.clientserver:Received command c on object id p0\nINFO:py4j.clientserver:Received command c on object id p0\nINFO:py4j.clientserver:Received command c on object id p0\nINFO:py4j.clientserver:Received command c on object id p0\nINFO:py4j.clientserver:Received command c on object id p0\nINFO:py4j.clientserver:Received command c on object id p0\nINFO:py4j.clientserver:Received command c on object id p0\nINFO:py4j.clientserver:Received command c on object id p0\nINFO:py4j.clientserver:Received command c on object id p0\nINFO:py4j.clientserver:Received command c on object id p0\nINFO:py4j.clientserver:Received command c on object id p0\nINFO:py4j.clientserver:Received command c on object id p0\nINFO:py4j.clientserver:Received command c on object id p0\nINFO:py4j.clientserver:Received command c on object id p0\nINFO:py4j.clientserver:Received command c on object id p0\nINFO:py4j.clientserver:Received command c on object id p0\nINFO:py4j.clientserver:Received command c on object id p0\nINFO:py4j.clientserver:Received command c on object id p0\nINFO:py4j.clientserver:Received command c on object id p0\nINFO:py4j.clientserver:Received command c on object id p0\nINFO:py4j.clientserver:Received command c on object id p0\nINFO:py4j.clientserver:Received command c on object id p0\nINFO:py4j.clientserver:Received command c on object id p0\nINFO:py4j.clientserver:Received command c on object id p0\nINFO:py4j.clientserver:Received command c on object id p0\nINFO:py4j.clientserver:Received command c on object id p0\nINFO:py4j.clientserver:Received command c on object id p0\nINFO:py4j.clientserver:Received command c on object id p0\nINFO:py4j.clientserver:Received command c on object id p0\nINFO:py4j.clientserver:Received command c on object id p0\nINFO:py4j.clientserver:Received command c on object id p0\nINFO:py4j.clientserver:Received command c on object id p0\nINFO:py4j.clientserver:Received command c on object id p0\nINFO:py4j.clientserver:Received command c on object id p0\nINFO:py4j.clientserver:Received command c on object id p0\nINFO:py4j.clientserver:Received command c on object id p0\nINFO:py4j.clientserver:Received command c on object id p0\nINFO:py4j.clientserver:Received command c on object id p0\nINFO:py4j.clientserver:Received command c on object id p0\nINFO:py4j.clientserver:Received command c on object id p0\nINFO:py4j.clientserver:Received command c on object id p0\nINFO:py4j.clientserver:Received command c on object id p0\nINFO:py4j.clientserver:Received command c on object id p0\nINFO:py4j.clientserver:Received command c on object id p0\nINFO:py4j.clientserver:Received command c on object id p0\nINFO:py4j.clientserver:Received command c on object id p0\nINFO:py4j.clientserver:Received command c on object id p0\nINFO:py4j.clientserver:Received command c on object id p0\nINFO:py4j.clientserver:Received command c on object id p0\nINFO:py4j.clientserver:Received command c on object id p0\nINFO:py4j.clientserver:Received command c on object id p0\nINFO:py4j.clientserver:Received command c on object id p0\nINFO:py4j.clientserver:Received command c on object id p0\nINFO:py4j.clientserver:Received command c on object id p0\nINFO:py4j.clientserver:Received command c on object id p0\nINFO:py4j.clientserver:Received command c on object id p0\nINFO:py4j.clientserver:Received command c on object id p0\nINFO:py4j.clientserver:Received command c on object id p0\nINFO:py4j.clientserver:Received command c on object id p0\nINFO:py4j.clientserver:Received command c on object id p0\nINFO:py4j.clientserver:Received command c on object id p0\nINFO:py4j.clientserver:Received command c on object id p0\nINFO:py4j.clientserver:Received command c on object id p0\nINFO:py4j.clientserver:Received command c on object id p0\nINFO:py4j.clientserver:Received command c on object id p0\nINFO:py4j.clientserver:Received command c on object id p0\nINFO:py4j.clientserver:Received command c on object id p0\nINFO:py4j.clientserver:Received command c on object id p0\nINFO:py4j.clientserver:Received command c on object id p0\nINFO:py4j.clientserver:Received command c on object id p0\nINFO:py4j.clientserver:Received command c on object id p0\nINFO:py4j.clientserver:Received command c on object id p0\nINFO:py4j.clientserver:Received command c on object id p0\nINFO:py4j.clientserver:Received command c on object id p0\nINFO:py4j.clientserver:Received command c on object id p0\nINFO:py4j.clientserver:Received command c on object id p0\nINFO:py4j.clientserver:Received command c on object id p0\nINFO:py4j.clientserver:Received command c on object id p0\nINFO:py4j.clientserver:Received command c on object id p0\nINFO:py4j.clientserver:Received command c on object id p0\nINFO:py4j.clientserver:Received command c on object id p0\nINFO:py4j.clientserver:Received command c on object id p0\nINFO:py4j.clientserver:Received command c on object id p0\nINFO:py4j.clientserver:Received command c on object id p0\nINFO:py4j.clientserver:Received command c on object id p0\nINFO:py4j.clientserver:Received command c on object id p0\nINFO:py4j.clientserver:Received command c on object id p0\nINFO:py4j.clientserver:Received command c on object id p0\nINFO:py4j.clientserver:Received command c on object id p0\nINFO:py4j.clientserver:Received command c on object id p0\nINFO:py4j.clientserver:Received command c on object id p0\nINFO:py4j.clientserver:Received command c on object id p0\nINFO:py4j.clientserver:Received command c on object id p0\nINFO:py4j.clientserver:Received command c on object id p0\nINFO:py4j.clientserver:Received command c on object id p0\nINFO:py4j.clientserver:Received command c on object id p0\nINFO:py4j.clientserver:Received command c on object id p0\nINFO:py4j.clientserver:Received command c on object id p0\nINFO:py4j.clientserver:Received command c on object id p0\nINFO:py4j.clientserver:Received command c on object id p0\nINFO:py4j.clientserver:Received command c on object id p0\nINFO:py4j.clientserver:Received command c on object id p0\nINFO:__main__:Successfully loaded dim_product (109 records) and dim_calendar (6944 records) to Redshift\nINFO:__main__:All dimension tables loaded to Redshift successfully\n"
     ]
    }
   ],
   "source": [
    "# Load additional dimension tables to Redshift (dim_product and dim_calendar)\n",
    "def load_additional_dimensions_to_redshift(redshift_config):\n",
    "    \"\"\"Load dim_product and dim_calendar to Redshift\"\"\"\n",
    "    try:\n",
    "        # Connect to Redshift\n",
    "        conn = psycopg2.connect(\n",
    "        host= \"psycho-bunny-workgroup.499897076142.us-east-1.redshift-serverless.amazonaws.com\",\n",
    "        port=\"5439\",\n",
    "        database= \"dev\",\n",
    "        user= \"admin\",\n",
    "        password= \"Tata!8237552399\"\n",
    "        )\n",
    "        \n",
    "        cursor = conn.cursor()\n",
    "        \n",
    "        # Create dim_product table schema matching the DataFrame\n",
    "        cursor.execute(\"\"\"\n",
    "            CREATE TABLE IF NOT EXISTS dim_product (\n",
    "                PRODUCTCODE VARCHAR(50),\n",
    "                product_key VARCHAR(50),\n",
    "                product_family VARCHAR(100),\n",
    "                product_line VARCHAR(100),\n",
    "                created_date TIMESTAMP\n",
    "            );\n",
    "        \"\"\")\n",
    "        \n",
    "        # Create dim_calendar table schema (using calendar_df columns)\n",
    "        cursor.execute(\"\"\"\n",
    "            CREATE TABLE IF NOT EXISTS dim_calendar (\n",
    "                date_key DATE,\n",
    "                year INTEGER,\n",
    "                month INTEGER,\n",
    "                day INTEGER,\n",
    "                quarter INTEGER,\n",
    "                day_of_week INTEGER,\n",
    "                month_name VARCHAR(20),\n",
    "                day_name VARCHAR(20),\n",
    "                created_date TIMESTAMP\n",
    "            );\n",
    "        \"\"\")\n",
    "        \n",
    "        # Clear existing data\n",
    "        cursor.execute(\"DELETE FROM dim_product;\")\n",
    "        cursor.execute(\"DELETE FROM dim_calendar;\")\n",
    "        \n",
    "        # Load dim_product data\n",
    "        dim_product_pandas = dim_product.toPandas()\n",
    "        for _, row in dim_product_pandas.iterrows():\n",
    "            cursor.execute(\"\"\"\n",
    "                INSERT INTO dim_product (PRODUCTCODE, product_key, product_family, product_line, created_date) \n",
    "                VALUES (%s, %s, %s, %s, %s)\n",
    "            \"\"\", (row['PRODUCTCODE'], row['product_key'], row['product_family'], row['product_line'], row['created_date']))\n",
    "        \n",
    "        # Create simple calendar dimension from calendar_df\n",
    "        dim_calendar = calendar_df.select(\n",
    "            col(\"CALENDAR_DATE\").alias(\"date_key\"),\n",
    "            year(col(\"CALENDAR_DATE\")).alias(\"year\"),\n",
    "            month(col(\"CALENDAR_DATE\")).alias(\"month\"),\n",
    "            dayofmonth(col(\"CALENDAR_DATE\")).alias(\"day\"),\n",
    "            quarter(col(\"CALENDAR_DATE\")).alias(\"quarter\"),\n",
    "            dayofweek(col(\"CALENDAR_DATE\")).alias(\"day_of_week\"),\n",
    "            date_format(col(\"CALENDAR_DATE\"), \"MMMM\").alias(\"month_name\"),\n",
    "            date_format(col(\"CALENDAR_DATE\"), \"EEEE\").alias(\"day_name\"),\n",
    "            current_timestamp().alias(\"created_date\")\n",
    "        )\n",
    "        \n",
    "        # Load dim_calendar data\n",
    "        dim_calendar_pandas = dim_calendar.toPandas()\n",
    "        for _, row in dim_calendar_pandas.iterrows():\n",
    "            cursor.execute(\"\"\"\n",
    "                INSERT INTO dim_calendar (date_key, year, month, day, quarter, day_of_week, month_name, day_name, created_date) \n",
    "                VALUES (%s, %s, %s, %s, %s, %s, %s, %s, %s)\n",
    "            \"\"\", (row['date_key'], row['year'], row['month'], row['day'], row['quarter'], row['day_of_week'], row['month_name'], row['day_name'], row['created_date']))\n",
    "        \n",
    "        conn.commit()\n",
    "        cursor.close()\n",
    "        conn.close()\n",
    "        \n",
    "        logger.info(f\"Successfully loaded dim_product ({len(dim_product_pandas)} records) and dim_calendar ({len(dim_calendar_pandas)} records) to Redshift\")\n",
    "        \n",
    "    except Exception as e:\n",
    "        logger.error(f\"Error loading additional dimensions to Redshift: {str(e)}\")\n",
    "        raise\n",
    "\n",
    "# Load additional dimension tables\n",
    "try:\n",
    "    load_additional_dimensions_to_redshift(redshift_config)\n",
    "    logger.info(\"All dimension tables loaded to Redshift successfully\")\n",
    "    \n",
    "except Exception as e:\n",
    "    logger.warning(f\"Additional dimension loading failed (this is optional): {str(e)}\")\n",
    "    logger.info(\"Main data tables are still available in Redshift and Delta Lake\")\n"
   ]
  },
  {
   "cell_type": "code",
   "execution_count": 0,
   "metadata": {
    "application/vnd.databricks.v1+cell": {
     "cellMetadata": {
      "byteLimit": 2048000,
      "rowLimit": 10000
     },
     "inputWidgets": {},
     "nuid": "ced81597-eb66-4b9f-a201-b540c7f99e30",
     "showTitle": false,
     "tableResultSettingsMap": {},
     "title": ""
    }
   },
   "outputs": [
    {
     "output_type": "stream",
     "name": "stdout",
     "output_type": "stream",
     "text": [
      "============================================================\nDATA PROCESSING COMPLETED SUCCESSFULLY\n============================================================\n"
     ]
    },
    {
     "output_type": "stream",
     "name": "stderr",
     "output_type": "stream",
     "text": [
      "INFO:py4j.clientserver:Received command c on object id p0\nINFO:py4j.clientserver:Received command c on object id p0\n"
     ]
    },
    {
     "output_type": "stream",
     "name": "stdout",
     "output_type": "stream",
     "text": [
      "\uD83D\uDCCA Customer Dimension: 2000 records\n"
     ]
    },
    {
     "output_type": "stream",
     "name": "stderr",
     "output_type": "stream",
     "text": [
      "INFO:py4j.clientserver:Received command c on object id p0\n"
     ]
    },
    {
     "output_type": "stream",
     "name": "stdout",
     "output_type": "stream",
     "text": [
      "\uD83D\uDCE6 Product Dimension: 109 records\n"
     ]
    },
    {
     "output_type": "stream",
     "name": "stderr",
     "output_type": "stream",
     "text": [
      "INFO:py4j.clientserver:Received command c on object id p0\n"
     ]
    },
    {
     "output_type": "stream",
     "name": "stdout",
     "output_type": "stream",
     "text": [
      "\uD83D\uDCB0 Fact Transactions: 2823 records\n"
     ]
    },
    {
     "output_type": "stream",
     "name": "stderr",
     "output_type": "stream",
     "text": [
      "INFO:py4j.clientserver:Received command c on object id p0\nINFO:py4j.clientserver:Received command c on object id p0\n"
     ]
    },
    {
     "output_type": "stream",
     "name": "stdout",
     "output_type": "stream",
     "text": [
      "\uD83D\uDC65 Customer Segments: 1 customers\n\n\uD83D\uDD27 Business Rules Applied:\n• High-value customer threshold: $10,000\n• Refund restocking fee: 10.0%\n• Large order threshold: $5,000\n\n\uD83D\uDCC8 Customer Segments:\n"
     ]
    },
    {
     "output_type": "stream",
     "name": "stderr",
     "output_type": "stream",
     "text": [
      "INFO:py4j.clientserver:Received command c on object id p0\nINFO:py4j.clientserver:Received command c on object id p0\n"
     ]
    },
    {
     "output_type": "stream",
     "name": "stdout",
     "output_type": "stream",
     "text": [
      "+----------------+-----+\n|customer_segment|count|\n+----------------+-----+\n|      High Value|    1|\n+----------------+-----+\n\n\n\uD83D\uDCB3 Transaction Types:\n"
     ]
    },
    {
     "output_type": "stream",
     "name": "stderr",
     "output_type": "stream",
     "text": [
      "INFO:py4j.clientserver:Received command c on object id p0\n"
     ]
    },
    {
     "output_type": "stream",
     "name": "stdout",
     "output_type": "stream",
     "text": [
      "+----------------+-----+\n|transaction_type|count|\n+----------------+-----+\n|            SALE| 2823|\n+----------------+-----+\n\n\n\uD83C\uDF0D Sales by Territory:\n"
     ]
    },
    {
     "output_type": "stream",
     "name": "stderr",
     "output_type": "stream",
     "text": [
      "INFO:py4j.clientserver:Received command c on object id p0\nINFO:py4j.clientserver:Received command c on object id p0\nINFO:py4j.java_gateway:Callback Server Shutting Down\nINFO:py4j.clientserver:Closing down clientserver connection\n"
     ]
    },
    {
     "output_type": "stream",
     "name": "stdout",
     "output_type": "stream",
     "text": [
      "+---------+-------------+\n|territory|total_revenue|\n+---------+-------------+\n|   Medium|     138400.0|\n|    Small|     128200.0|\n|    Large|      15700.0|\n+---------+-------------+\n\n✅ Data available in Delta Lake and Redshift (if configured)\n\uD83D\uDCC1 Delta Lake location: s3://psycho-bunny-data-lake/processed-data/\n"
     ]
    },
    {
     "output_type": "stream",
     "name": "stderr",
     "output_type": "stream",
     "text": [
      "INFO:py4j.clientserver:Received command c on object id p0\nINFO:py4j.clientserver:Received command c on object id p0\nINFO:py4j.clientserver:Received command c on object id p0\nINFO:py4j.clientserver:Received command c on object id p0\nINFO:py4j.clientserver:Received command c on object id p0\nINFO:py4j.clientserver:Received command c on object id p0\nINFO:py4j.clientserver:Received command c on object id p0\nINFO:py4j.clientserver:Received command c on object id p0\nINFO:py4j.clientserver:Received command c on object id p0\nINFO:py4j.clientserver:Received command c on object id p0\nINFO:py4j.clientserver:Received command c on object id p0\nINFO:py4j.clientserver:Received command c on object id p0\nINFO:py4j.clientserver:Received command c on object id p0\nINFO:py4j.clientserver:Received command c on object id p0\nINFO:py4j.clientserver:Received command c on object id p0\nINFO:py4j.clientserver:Received command c on object id p0\nINFO:py4j.clientserver:Received command c on object id p0\nINFO:py4j.clientserver:Received command c on object id p0\nINFO:py4j.clientserver:Received command c on object id p0\nINFO:py4j.clientserver:Received command c on object id p0\nINFO:py4j.clientserver:Received command c on object id p0\nINFO:py4j.clientserver:Received command c on object id p0\nINFO:py4j.clientserver:Received command c on object id p0\nINFO:py4j.clientserver:Received command c on object id p0\nINFO:py4j.clientserver:Received command c on object id p0\nINFO:py4j.clientserver:Received command c on object id p0\nINFO:py4j.clientserver:Received command c on object id p0\nINFO:py4j.clientserver:Received command c on object id p0\nINFO:py4j.clientserver:Received command c on object id p0\nINFO:py4j.clientserver:Received command c on object id p0\nINFO:py4j.clientserver:Received command c on object id p0\nINFO:py4j.clientserver:Received command c on object id p0\nINFO:py4j.clientserver:Received command c on object id p0\nINFO:py4j.clientserver:Received command c on object id p0\nINFO:py4j.clientserver:Received command c on object id p0\nINFO:py4j.clientserver:Received command c on object id p0\nINFO:py4j.clientserver:Received command c on object id p0\nINFO:py4j.clientserver:Received command c on object id p0\nINFO:py4j.clientserver:Received command c on object id p0\nINFO:py4j.clientserver:Received command c on object id p0\nINFO:py4j.clientserver:Received command c on object id p0\nINFO:py4j.clientserver:Received command c on object id p0\nINFO:py4j.clientserver:Received command c on object id p0\nINFO:py4j.clientserver:Received command c on object id p0\nINFO:py4j.clientserver:Received command c on object id p0\nINFO:py4j.clientserver:Received command c on object id p0\nINFO:py4j.clientserver:Received command c on object id p0\nINFO:py4j.clientserver:Received command c on object id p0\nINFO:py4j.clientserver:Received command c on object id p0\nINFO:py4j.clientserver:Received command c on object id p0\nINFO:py4j.clientserver:Received command c on object id p0\nINFO:py4j.clientserver:Received command c on object id p0\nINFO:py4j.clientserver:Received command c on object id p0\nINFO:py4j.clientserver:Received command c on object id p0\nINFO:py4j.clientserver:Received command c on object id p0\nINFO:py4j.clientserver:Received command c on object id p0\nINFO:py4j.clientserver:Received command c on object id p0\nINFO:py4j.clientserver:Received command c on object id p0\nINFO:py4j.clientserver:Received command c on object id p0\nINFO:py4j.clientserver:Received command c on object id p0\nINFO:py4j.clientserver:Received command c on object id p0\nINFO:py4j.clientserver:Received command c on object id p0\nINFO:py4j.clientserver:Received command c on object id p0\nINFO:py4j.clientserver:Received command c on object id p0\nINFO:py4j.clientserver:Received command c on object id p0\nINFO:py4j.clientserver:Received command c on object id p0\nINFO:py4j.clientserver:Received command c on object id p0\nINFO:py4j.clientserver:Received command c on object id p0\nINFO:py4j.clientserver:Received command c on object id p0\nINFO:py4j.clientserver:Received command c on object id p0\nINFO:py4j.clientserver:Received command c on object id p0\nINFO:py4j.clientserver:Received command c on object id p0\nINFO:py4j.clientserver:Received command c on object id p0\nINFO:py4j.clientserver:Received command c on object id p0\nINFO:py4j.clientserver:Received command c on object id p0\nINFO:py4j.clientserver:Received command c on object id p0\nINFO:py4j.clientserver:Received command c on object id p0\nINFO:py4j.clientserver:Received command c on object id p0\nINFO:py4j.clientserver:Received command c on object id p0\nINFO:py4j.clientserver:Received command c on object id p0\nINFO:py4j.clientserver:Received command c on object id p0\nINFO:py4j.clientserver:Received command c on object id p0\nINFO:py4j.clientserver:Received command c on object id p0\nINFO:py4j.clientserver:Received command c on object id p0\nINFO:py4j.clientserver:Received command c on object id p0\nINFO:py4j.clientserver:Received command c on object id p0\nINFO:py4j.clientserver:Received command c on object id p0\nINFO:py4j.clientserver:Received command c on object id p0\nINFO:py4j.clientserver:Received command c on object id p0\nINFO:py4j.clientserver:Received command c on object id p0\nINFO:py4j.clientserver:Received command c on object id p0\nINFO:py4j.clientserver:Received command c on object id p0\nINFO:py4j.clientserver:Received command c on object id p0\nINFO:py4j.clientserver:Received command c on object id p0\nINFO:py4j.clientserver:Received command c on object id p0\nINFO:py4j.clientserver:Received command c on object id p0\nINFO:py4j.clientserver:Received command c on object id p0\nINFO:py4j.clientserver:Received command c on object id p0\nINFO:py4j.clientserver:Received command c on object id p0\nINFO:py4j.clientserver:Received command c on object id p0\nINFO:py4j.clientserver:Received command c on object id p0\nINFO:py4j.clientserver:Received command c on object id p0\nINFO:py4j.clientserver:Received command c on object id p0\nINFO:py4j.clientserver:Received command c on object id p0\nINFO:py4j.clientserver:Received command c on object id p0\nINFO:py4j.clientserver:Received command c on object id p0\nINFO:py4j.clientserver:Received command c on object id p0\nINFO:py4j.clientserver:Received command c on object id p0\nINFO:py4j.clientserver:Received command c on object id p0\nINFO:py4j.clientserver:Received command c on object id p0\nINFO:py4j.clientserver:Received command c on object id p0\nINFO:py4j.clientserver:Received command c on object id p0\nINFO:py4j.clientserver:Received command c on object id p0\nINFO:py4j.clientserver:Received command c on object id p0\nINFO:py4j.clientserver:Received command c on object id p0\nINFO:py4j.clientserver:Received command c on object id p0\nINFO:py4j.clientserver:Received command c on object id p0\nINFO:py4j.clientserver:Received command c on object id p0\nINFO:py4j.clientserver:Received command c on object id p0\nINFO:py4j.clientserver:Received command c on object id p0\nINFO:py4j.clientserver:Received command c on object id p0\nINFO:py4j.clientserver:Received command c on object id p0\nINFO:py4j.clientserver:Received command c on object id p0\nINFO:py4j.clientserver:Received command c on object id p0\nINFO:py4j.clientserver:Received command c on object id p0\nINFO:py4j.clientserver:Received command c on object id p0\nINFO:py4j.clientserver:Received command c on object id p0\nINFO:py4j.clientserver:Received command c on object id p0\nINFO:py4j.clientserver:Received command c on object id p0\nINFO:py4j.clientserver:Received command c on object id p0\nINFO:py4j.clientserver:Received command c on object id p0\nINFO:py4j.clientserver:Received command c on object id p0\nINFO:py4j.clientserver:Received command c on object id p0\nINFO:py4j.clientserver:Received command c on object id p0\nINFO:py4j.clientserver:Received command c on object id p0\nINFO:py4j.clientserver:Received command c on object id p0\nINFO:py4j.clientserver:Received command c on object id p0\nINFO:py4j.clientserver:Received command c on object id p0\nINFO:py4j.clientserver:Received command c on object id p0\nINFO:py4j.clientserver:Received command c on object id p0\nINFO:py4j.clientserver:Received command c on object id p0\nINFO:py4j.clientserver:Received command c on object id p0\nINFO:py4j.clientserver:Received command c on object id p0\nINFO:py4j.clientserver:Received command c on object id p0\nINFO:py4j.clientserver:Received command c on object id p0\nINFO:py4j.clientserver:Received command c on object id p0\nINFO:py4j.clientserver:Received command c on object id p0\nINFO:py4j.clientserver:Received command c on object id p0\nINFO:py4j.clientserver:Received command c on object id p0\nINFO:py4j.clientserver:Received command c on object id p0\nINFO:py4j.clientserver:Received command c on object id p0\nINFO:py4j.clientserver:Received command c on object id p0\nINFO:py4j.clientserver:Received command c on object id p0\nINFO:py4j.clientserver:Received command c on object id p0\nINFO:py4j.clientserver:Received command c on object id p0\nINFO:py4j.clientserver:Received command c on object id p0\nINFO:py4j.clientserver:Received command c on object id p0\nINFO:py4j.clientserver:Received command c on object id p0\nINFO:py4j.clientserver:Received command c on object id p0\nINFO:py4j.clientserver:Received command c on object id p0\nINFO:py4j.clientserver:Received command c on object id p0\nINFO:py4j.clientserver:Received command c on object id p0\nINFO:py4j.clientserver:Received command c on object id p0\nINFO:py4j.clientserver:Received command c on object id p0\nINFO:py4j.clientserver:Received command c on object id p0\nINFO:py4j.clientserver:Received command c on object id p0\nINFO:py4j.clientserver:Received command c on object id p0\nINFO:py4j.clientserver:Received command c on object id p0\nINFO:py4j.clientserver:Received command c on object id p0\nINFO:py4j.clientserver:Received command c on object id p0\nINFO:py4j.clientserver:Received command c on object id p0\nINFO:py4j.clientserver:Received command c on object id p0\nINFO:py4j.clientserver:Received command c on object id p0\nINFO:py4j.clientserver:Received command c on object id p0\nINFO:py4j.clientserver:Received command c on object id p0\nINFO:py4j.clientserver:Received command c on object id p0\nINFO:py4j.clientserver:Received command c on object id p0\nINFO:py4j.clientserver:Received command c on object id p0\nINFO:py4j.clientserver:Received command c on object id p0\nINFO:py4j.clientserver:Received command c on object id p0\nINFO:py4j.clientserver:Received command c on object id p0\nINFO:py4j.clientserver:Received command c on object id p0\nINFO:py4j.clientserver:Received command c on object id p0\nINFO:py4j.clientserver:Received command c on object id p0\nINFO:py4j.clientserver:Received command c on object id p0\nINFO:py4j.clientserver:Received command c on object id p0\nINFO:py4j.clientserver:Received command c on object id p0\nINFO:py4j.clientserver:Received command c on object id p0\nINFO:py4j.clientserver:Received command c on object id p0\nINFO:py4j.clientserver:Received command c on object id p0\nINFO:py4j.clientserver:Received command c on object id p0\nINFO:py4j.clientserver:Received command c on object id p0\nINFO:py4j.clientserver:Received command c on object id p0\nINFO:py4j.clientserver:Received command c on object id p0\nINFO:py4j.clientserver:Received command c on object id p0\nINFO:py4j.clientserver:Received command c on object id p0\nINFO:py4j.clientserver:Received command c on object id p0\nINFO:py4j.clientserver:Received command c on object id p0\nINFO:py4j.clientserver:Received command c on object id p0\nINFO:py4j.clientserver:Received command c on object id p0\nINFO:py4j.clientserver:Received command c on object id p0\nINFO:py4j.clientserver:Received command c on object id p0\nINFO:py4j.clientserver:Received command c on object id p0\nINFO:py4j.clientserver:Received command c on object id p0\nINFO:py4j.clientserver:Received command c on object id p0\nINFO:py4j.clientserver:Received command c on object id p0\nINFO:py4j.clientserver:Received command c on object id p0\nINFO:py4j.clientserver:Received command c on object id p0\nINFO:py4j.clientserver:Received command c on object id p0\nINFO:py4j.clientserver:Received command c on object id p0\nINFO:py4j.clientserver:Received command c on object id p0\nINFO:py4j.clientserver:Received command c on object id p0\nINFO:py4j.clientserver:Received command c on object id p0\nINFO:py4j.clientserver:Received command c on object id p0\nINFO:py4j.clientserver:Received command c on object id p0\nINFO:py4j.clientserver:Received command c on object id p0\nINFO:py4j.clientserver:Received command c on object id p0\nINFO:py4j.clientserver:Received command c on object id p0\nINFO:py4j.clientserver:Received command c on object id p0\nINFO:py4j.clientserver:Received command c on object id p0\nINFO:py4j.clientserver:Received command c on object id p0\nINFO:py4j.clientserver:Received command c on object id p0\nINFO:py4j.clientserver:Received command c on object id p0\nINFO:py4j.clientserver:Received command c on object id p0\nINFO:py4j.clientserver:Received command c on object id p0\nINFO:py4j.clientserver:Received command c on object id p0\nINFO:py4j.clientserver:Received command c on object id p0\nINFO:py4j.clientserver:Received command c on object id p0\nINFO:py4j.clientserver:Received command c on object id p0\nINFO:py4j.clientserver:Received command c on object id p0\nINFO:py4j.clientserver:Received command c on object id p0\nINFO:py4j.clientserver:Received command c on object id p0\nINFO:py4j.clientserver:Received command c on object id p0\nINFO:py4j.clientserver:Received command c on object id p0\nINFO:py4j.clientserver:Received command c on object id p0\nINFO:py4j.clientserver:Received command c on object id p0\nINFO:py4j.clientserver:Received command c on object id p0\nINFO:py4j.clientserver:Received command c on object id p0\nINFO:py4j.clientserver:Received command c on object id p0\nINFO:py4j.clientserver:Received command c on object id p0\nINFO:py4j.clientserver:Received command c on object id p0\nINFO:py4j.clientserver:Received command c on object id p0\nINFO:py4j.clientserver:Received command c on object id p0\nINFO:py4j.clientserver:Received command c on object id p0\nINFO:py4j.clientserver:Received command c on object id p0\nINFO:py4j.clientserver:Received command c on object id p0\nINFO:py4j.clientserver:Received command c on object id p0\nINFO:py4j.clientserver:Received command c on object id p0\nINFO:py4j.clientserver:Received command c on object id p0\nINFO:py4j.clientserver:Received command c on object id p0\nINFO:py4j.clientserver:Received command c on object id p0\nINFO:py4j.clientserver:Received command c on object id p0\nINFO:py4j.clientserver:Received command c on object id p0\nINFO:py4j.clientserver:Received command c on object id p0\nINFO:py4j.clientserver:Received command c on object id p0\nINFO:py4j.clientserver:Received command c on object id p0\nINFO:py4j.clientserver:Received command c on object id p0\nINFO:py4j.clientserver:Received command c on object id p0\nINFO:py4j.clientserver:Received command c on object id p0\nINFO:py4j.clientserver:Received command c on object id p0\nINFO:py4j.clientserver:Received command c on object id p0\nINFO:py4j.clientserver:Received command c on object id p0\nINFO:py4j.clientserver:Received command c on object id p0\nINFO:py4j.clientserver:Received command c on object id p0\nINFO:py4j.clientserver:Received command c on object id p0\nINFO:py4j.clientserver:Received command c on object id p0\nINFO:py4j.clientserver:Received command c on object id p0\nINFO:py4j.clientserver:Received command c on object id p0\nINFO:py4j.clientserver:Received command c on object id p0\nINFO:py4j.clientserver:Received command c on object id p0\nINFO:py4j.clientserver:Received command c on object id p0\nINFO:py4j.clientserver:Received command c on object id p0\nINFO:py4j.clientserver:Received command c on object id p0\nINFO:py4j.clientserver:Received command c on object id p0\nINFO:py4j.clientserver:Received command c on object id p0\nINFO:py4j.clientserver:Received command c on object id p0\nINFO:py4j.clientserver:Received command c on object id p0\nINFO:py4j.clientserver:Received command c on object id p0\nINFO:py4j.clientserver:Received command c on object id p0\nINFO:py4j.clientserver:Received command c on object id p0\nINFO:py4j.clientserver:Received command c on object id p0\nINFO:py4j.clientserver:Received command c on object id p0\nINFO:py4j.clientserver:Received command c on object id p0\nINFO:py4j.clientserver:Received command c on object id p0\nINFO:py4j.clientserver:Received command c on object id p0\nINFO:py4j.clientserver:Received command c on object id p0\nINFO:py4j.clientserver:Received command c on object id p0\nINFO:py4j.clientserver:Received command c on object id p0\nINFO:py4j.clientserver:Received command c on object id p0\nINFO:py4j.clientserver:Received command c on object id p0\nINFO:py4j.clientserver:Received command c on object id p0\nINFO:py4j.clientserver:Received command c on object id p0\nINFO:py4j.clientserver:Received command c on object id p0\nINFO:py4j.clientserver:Received command c on object id p0\nINFO:py4j.clientserver:Received command c on object id p0\nINFO:py4j.clientserver:Received command c on object id p0\nINFO:py4j.clientserver:Received command c on object id p0\nINFO:py4j.clientserver:Received command c on object id p0\nINFO:py4j.clientserver:Received command c on object id p0\nINFO:py4j.clientserver:Received command c on object id p0\nINFO:py4j.clientserver:Received command c on object id p0\nINFO:py4j.clientserver:Received command c on object id p0\nINFO:py4j.clientserver:Received command c on object id p0\nINFO:py4j.clientserver:Received command c on object id p0\nINFO:py4j.clientserver:Received command c on object id p0\nINFO:py4j.clientserver:Received command c on object id p0\nINFO:py4j.clientserver:Received command c on object id p0\nINFO:py4j.clientserver:Received command c on object id p0\nINFO:py4j.clientserver:Received command c on object id p0\nINFO:py4j.clientserver:Received command c on object id p0\nINFO:py4j.clientserver:Received command c on object id p0\nINFO:py4j.clientserver:Received command c on object id p0\nINFO:py4j.clientserver:Received command c on object id p0\nINFO:py4j.clientserver:Received command c on object id p0\nINFO:py4j.clientserver:Received command c on object id p0\nINFO:py4j.clientserver:Received command c on object id p0\nINFO:py4j.clientserver:Received command c on object id p0\nINFO:py4j.clientserver:Received command c on object id p0\nINFO:py4j.clientserver:Received command c on object id p0\nINFO:py4j.clientserver:Received command c on object id p0\nINFO:py4j.clientserver:Received command c on object id p0\nINFO:py4j.clientserver:Received command c on object id p0\nINFO:py4j.clientserver:Received command c on object id p0\nINFO:py4j.clientserver:Received command c on object id p0\nINFO:py4j.clientserver:Received command c on object id p0\nINFO:py4j.clientserver:Received command c on object id p0\nINFO:py4j.clientserver:Received command c on object id p0\nINFO:py4j.clientserver:Received command c on object id p0\nINFO:py4j.clientserver:Received command c on object id p0\nINFO:py4j.clientserver:Received command c on object id p0\nINFO:py4j.clientserver:Received command c on object id p0\nINFO:py4j.clientserver:Received command c on object id p0\nINFO:py4j.clientserver:Received command c on object id p0\nINFO:py4j.clientserver:Received command c on object id p0\nINFO:py4j.clientserver:Received command c on object id p0\nINFO:py4j.clientserver:Received command c on object id p0\nINFO:py4j.clientserver:Received command c on object id p0\nINFO:py4j.clientserver:Received command c on object id p0\nINFO:py4j.clientserver:Received command c on object id p0\nINFO:py4j.clientserver:Received command c on object id p0\nINFO:py4j.clientserver:Received command c on object id p0\nINFO:py4j.clientserver:Received command c on object id p0\nINFO:py4j.clientserver:Received command c on object id p0\nINFO:py4j.clientserver:Received command c on object id p0\nINFO:py4j.clientserver:Received command c on object id p0\nINFO:py4j.clientserver:Received command c on object id p0\nINFO:py4j.clientserver:Received command c on object id p0\nINFO:py4j.clientserver:Received command c on object id p0\nINFO:py4j.clientserver:Received command c on object id p0\nINFO:py4j.clientserver:Received command c on object id p0\nINFO:py4j.clientserver:Received command c on object id p0\nINFO:py4j.clientserver:Received command c on object id p0\nINFO:py4j.clientserver:Received command c on object id p0\nINFO:py4j.clientserver:Received command c on object id p0\nINFO:py4j.clientserver:Received command c on object id p0\nINFO:py4j.clientserver:Received command c on object id p0\nINFO:py4j.clientserver:Received command c on object id p0\nINFO:py4j.clientserver:Received command c on object id p0\nINFO:py4j.clientserver:Received command c on object id p0\nINFO:py4j.clientserver:Received command c on object id p0\nINFO:py4j.clientserver:Received command c on object id p0\nINFO:py4j.clientserver:Received command c on object id p0\nINFO:py4j.clientserver:Received command c on object id p0\nINFO:py4j.clientserver:Received command c on object id p0\nINFO:py4j.clientserver:Received command c on object id p0\nINFO:py4j.clientserver:Received command c on object id p0\nINFO:py4j.clientserver:Received command c on object id p0\nINFO:py4j.clientserver:Received command c on object id p0\nINFO:py4j.clientserver:Received command c on object id p0\nINFO:py4j.clientserver:Received command c on object id p0\nINFO:py4j.clientserver:Received command c on object id p0\nINFO:py4j.clientserver:Received command c on object id p0\nINFO:py4j.clientserver:Received command c on object id p0\nINFO:py4j.clientserver:Received command c on object id p0\nINFO:py4j.clientserver:Received command c on object id p0\nINFO:py4j.clientserver:Received command c on object id p0\nINFO:py4j.clientserver:Received command c on object id p0\nINFO:py4j.clientserver:Received command c on object id p0\nINFO:py4j.clientserver:Received command c on object id p0\nINFO:py4j.clientserver:Received command c on object id p0\nINFO:py4j.clientserver:Received command c on object id p0\nINFO:py4j.clientserver:Received command c on object id p0\nINFO:py4j.clientserver:Received command c on object id p0\nINFO:py4j.clientserver:Received command c on object id p0\nINFO:py4j.clientserver:Received command c on object id p0\nINFO:py4j.clientserver:Received command c on object id p0\nINFO:py4j.clientserver:Received command c on object id p0\nINFO:py4j.clientserver:Received command c on object id p0\nINFO:py4j.clientserver:Received command c on object id p0\nINFO:py4j.clientserver:Received command c on object id p0\nINFO:py4j.clientserver:Received command c on object id p0\nINFO:py4j.clientserver:Received command c on object id p0\nINFO:py4j.clientserver:Received command c on object id p0\nINFO:py4j.clientserver:Received command c on object id p0\nINFO:py4j.clientserver:Received command c on object id p0\nINFO:py4j.clientserver:Received command c on object id p0\nINFO:py4j.clientserver:Received command c on object id p0\nINFO:py4j.clientserver:Received command c on object id p0\nINFO:py4j.clientserver:Received command c on object id p0\nINFO:py4j.clientserver:Received command c on object id p0\nINFO:py4j.clientserver:Received command c on object id p0\nINFO:py4j.clientserver:Received command c on object id p0\nINFO:py4j.clientserver:Received command c on object id p0\nINFO:py4j.clientserver:Received command c on object id p0\nINFO:py4j.clientserver:Received command c on object id p0\nINFO:py4j.clientserver:Received command c on object id p0\nINFO:py4j.clientserver:Received command c on object id p0\nINFO:py4j.clientserver:Received command c on object id p0\nINFO:py4j.clientserver:Received command c on object id p0\nINFO:py4j.clientserver:Received command c on object id p0\nINFO:py4j.clientserver:Received command c on object id p0\nINFO:py4j.clientserver:Received command c on object id p0\nINFO:py4j.clientserver:Received command c on object id p0\nINFO:py4j.clientserver:Received command c on object id p0\nINFO:py4j.clientserver:Received command c on object id p0\nINFO:py4j.clientserver:Received command c on object id p0\nINFO:py4j.clientserver:Received command c on object id p0\nINFO:py4j.clientserver:Received command c on object id p0\nINFO:py4j.clientserver:Received command c on object id p0\nINFO:py4j.clientserver:Received command c on object id p0\nINFO:py4j.clientserver:Received command c on object id p0\nINFO:py4j.clientserver:Received command c on object id p0\nINFO:py4j.clientserver:Received command c on object id p0\nINFO:py4j.clientserver:Received command c on object id p0\nINFO:py4j.clientserver:Received command c on object id p0\nINFO:py4j.clientserver:Received command c on object id p0\nINFO:py4j.clientserver:Received command c on object id p0\nINFO:py4j.clientserver:Received command c on object id p0\nINFO:py4j.clientserver:Received command c on object id p0\nINFO:py4j.clientserver:Received command c on object id p0\nINFO:py4j.clientserver:Received command c on object id p0\nIN\n\n*** WARNING: max output size exceeded, skipping output. ***\n\n0\nINFO:py4j.clientserver:Received command c on object id p0\nINFO:py4j.clientserver:Received command c on object id p0\nINFO:py4j.clientserver:Received command c on object id p0\nINFO:py4j.clientserver:Received command c on object id p0\nINFO:py4j.clientserver:Received command c on object id p0\nINFO:py4j.clientserver:Received command c on object id p0\nINFO:py4j.clientserver:Received command c on object id p0\nINFO:py4j.clientserver:Received command c on object id p0\nINFO:py4j.clientserver:Received command c on object id p0\nINFO:py4j.clientserver:Received command c on object id p0\nINFO:py4j.clientserver:Received command c on object id p0\nINFO:py4j.clientserver:Received command c on object id p0\nINFO:py4j.clientserver:Received command c on object id p0\nINFO:py4j.clientserver:Received command c on object id p0\nINFO:py4j.clientserver:Received command c on object id p0\nINFO:py4j.clientserver:Received command c on object id p0\nINFO:py4j.clientserver:Received command c on object id p0\nINFO:py4j.clientserver:Received command c on object id p0\nINFO:py4j.clientserver:Received command c on object id p0\nINFO:py4j.clientserver:Received command c on object id p0\nINFO:py4j.clientserver:Received command c on object id p0\nINFO:py4j.clientserver:Received command c on object id p0\nINFO:py4j.clientserver:Received command c on object id p0\nINFO:py4j.clientserver:Received command c on object id p0\nINFO:py4j.clientserver:Received command c on object id p0\nINFO:py4j.clientserver:Received command c on object id p0\nINFO:py4j.clientserver:Received command c on object id p0\nINFO:py4j.clientserver:Received command c on object id p0\nINFO:py4j.clientserver:Received command c on object id p0\nINFO:py4j.clientserver:Received command c on object id p0\nINFO:py4j.clientserver:Received command c on object id p0\nINFO:py4j.clientserver:Received command c on object id p0\nINFO:py4j.clientserver:Received command c on object id p0\nINFO:py4j.clientserver:Received command c on object id p0\nINFO:py4j.clientserver:Received command c on object id p0\nINFO:py4j.clientserver:Received command c on object id p0\nINFO:py4j.clientserver:Received command c on object id p0\nINFO:py4j.clientserver:Received command c on object id p0\nINFO:py4j.clientserver:Received command c on object id p0\nINFO:py4j.clientserver:Received command c on object id p0\nINFO:py4j.clientserver:Received command c on object id p0\nINFO:py4j.clientserver:Received command c on object id p0\nINFO:py4j.clientserver:Received command c on object id p0\nINFO:py4j.clientserver:Received command c on object id p0\nINFO:py4j.clientserver:Received command c on object id p0\nINFO:py4j.clientserver:Received command c on object id p0\nINFO:py4j.clientserver:Received command c on object id p0\nINFO:py4j.clientserver:Received command c on object id p0\nINFO:py4j.clientserver:Received command c on object id p0\nINFO:py4j.clientserver:Received command c on object id p0\nINFO:py4j.clientserver:Received command c on object id p0\nINFO:py4j.clientserver:Received command c on object id p0\nINFO:py4j.clientserver:Received command c on object id p0\nINFO:py4j.clientserver:Received command c on object id p0\nINFO:py4j.clientserver:Received command c on object id p0\nINFO:py4j.clientserver:Received command c on object id p0\nINFO:py4j.clientserver:Received command c on object id p0\nINFO:py4j.clientserver:Received command c on object id p0\nINFO:py4j.clientserver:Received command c on object id p0\nINFO:py4j.clientserver:Received command c on object id p0\nINFO:py4j.clientserver:Received command c on object id p0\nINFO:py4j.clientserver:Received command c on object id p0\nINFO:py4j.clientserver:Received command c on object id p0\nINFO:py4j.clientserver:Received command c on object id p0\nINFO:py4j.clientserver:Received command c on object id p0\nINFO:py4j.clientserver:Received command c on object id p0\nINFO:py4j.clientserver:Received command c on object id p0\nINFO:py4j.clientserver:Received command c on object id p0\nINFO:py4j.clientserver:Received command c on object id p0\nINFO:py4j.clientserver:Received command c on object id p0\nINFO:py4j.clientserver:Received command c on object id p0\nINFO:py4j.clientserver:Received command c on object id p0\nINFO:py4j.clientserver:Received command c on object id p0\nINFO:py4j.clientserver:Received command c on object id p0\nINFO:py4j.clientserver:Received command c on object id p0\nINFO:py4j.clientserver:Received command c on object id p0\nINFO:py4j.clientserver:Received command c on object id p0\nINFO:py4j.clientserver:Received command c on object id p0\nINFO:py4j.clientserver:Received command c on object id p0\nINFO:py4j.clientserver:Received command c on object id p0\nINFO:py4j.clientserver:Received command c on object id p0\nINFO:py4j.clientserver:Received command c on object id p0\nINFO:py4j.clientserver:Received command c on object id p0\nINFO:py4j.clientserver:Received command c on object id p0\nINFO:py4j.clientserver:Received command c on object id p0\nINFO:py4j.clientserver:Received command c on object id p0\nINFO:py4j.clientserver:Received command c on object id p0\nINFO:py4j.clientserver:Received command c on object id p0\nINFO:py4j.clientserver:Received command c on object id p0\nINFO:py4j.clientserver:Received command c on object id p0\nINFO:py4j.clientserver:Received command c on object id p0\nINFO:py4j.clientserver:Received command c on object id p0\nINFO:py4j.clientserver:Received command c on object id p0\nINFO:py4j.clientserver:Received command c on object id p0\nINFO:py4j.clientserver:Received command c on object id p0\nINFO:py4j.clientserver:Received command c on object id p0\nINFO:py4j.clientserver:Received command c on object id p0\nINFO:py4j.clientserver:Received command c on object id p0\nINFO:py4j.clientserver:Received command c on object id p0\nINFO:py4j.clientserver:Received command c on object id p0\nINFO:py4j.clientserver:Received command c on object id p0\nINFO:py4j.clientserver:Received command c on object id p0\nINFO:py4j.clientserver:Received command c on object id p0\nINFO:py4j.clientserver:Received command c on object id p0\nINFO:py4j.clientserver:Received command c on object id p0\nINFO:py4j.clientserver:Received command c on object id p0\nINFO:py4j.clientserver:Received command c on object id p0\nINFO:py4j.clientserver:Received command c on object id p0\nINFO:py4j.clientserver:Received command c on object id p0\nINFO:py4j.clientserver:Received command c on object id p0\nINFO:py4j.clientserver:Received command c on object id p0\nINFO:py4j.clientserver:Received command c on object id p0\nINFO:py4j.clientserver:Received command c on object id p0\nINFO:py4j.clientserver:Received command c on object id p0\nINFO:py4j.clientserver:Received command c on object id p0\nINFO:py4j.clientserver:Received command c on object id p0\nINFO:py4j.clientserver:Received command c on object id p0\nINFO:py4j.clientserver:Received command c on object id p0\nINFO:py4j.clientserver:Received command c on object id p0\nINFO:py4j.clientserver:Received command c on object id p0\nINFO:py4j.clientserver:Received command c on object id p0\nINFO:py4j.clientserver:Received command c on object id p0\nINFO:py4j.clientserver:Received command c on object id p0\nINFO:py4j.clientserver:Received command c on object id p0\nINFO:py4j.clientserver:Received command c on object id p0\nINFO:py4j.clientserver:Received command c on object id p0\nINFO:py4j.clientserver:Received command c on object id p0\nINFO:py4j.clientserver:Received command c on object id p0\nINFO:py4j.clientserver:Received command c on object id p0\nINFO:py4j.clientserver:Received command c on object id p0\nINFO:py4j.clientserver:Received command c on object id p0\nINFO:py4j.clientserver:Received command c on object id p0\nINFO:py4j.clientserver:Received command c on object id p0\nINFO:py4j.clientserver:Received command c on object id p0\nINFO:py4j.clientserver:Received command c on object id p0\nINFO:py4j.clientserver:Received command c on object id p0\nINFO:py4j.clientserver:Received command c on object id p0\nINFO:py4j.clientserver:Received command c on object id p0\nINFO:py4j.clientserver:Received command c on object id p0\nINFO:py4j.clientserver:Received command c on object id p0\nINFO:py4j.clientserver:Received command c on object id p0\nINFO:py4j.clientserver:Received command c on object id p0\nINFO:py4j.clientserver:Received command c on object id p0\nINFO:py4j.clientserver:Received command c on object id p0\nINFO:py4j.clientserver:Received command c on object id p0\nINFO:py4j.clientserver:Received command c on object id p0\nINFO:py4j.clientserver:Received command c on object id p0\nINFO:py4j.clientserver:Received command c on object id p0\nINFO:py4j.clientserver:Received command c on object id p0\nINFO:py4j.clientserver:Received command c on object id p0\nINFO:py4j.clientserver:Received command c on object id p0\nINFO:py4j.clientserver:Received command c on object id p0\nINFO:py4j.clientserver:Received command c on object id p0\nINFO:py4j.clientserver:Received command c on object id p0\nINFO:py4j.clientserver:Received command c on object id p0\nINFO:py4j.clientserver:Received command c on object id p0\nINFO:py4j.clientserver:Received command c on object id p0\nINFO:py4j.clientserver:Received command c on object id p0\nINFO:py4j.clientserver:Received command c on object id p0\nINFO:py4j.clientserver:Received command c on object id p0\nINFO:py4j.clientserver:Received command c on object id p0\nINFO:py4j.clientserver:Received command c on object id p0\nINFO:py4j.clientserver:Received command c on object id p0\nINFO:py4j.clientserver:Received command c on object id p0\nINFO:py4j.clientserver:Received command c on object id p0\nINFO:py4j.clientserver:Received command c on object id p0\nINFO:py4j.clientserver:Received command c on object id p0\nINFO:py4j.clientserver:Received command c on object id p0\nINFO:py4j.clientserver:Received command c on object id p0\nINFO:py4j.clientserver:Received command c on object id p0\nINFO:py4j.clientserver:Received command c on object id p0\nINFO:py4j.clientserver:Received command c on object id p0\nINFO:py4j.clientserver:Received command c on object id p0\nINFO:py4j.clientserver:Received command c on object id p0\nINFO:py4j.clientserver:Received command c on object id p0\nINFO:py4j.clientserver:Received command c on object id p0\nINFO:py4j.clientserver:Received command c on object id p0\nINFO:py4j.clientserver:Received command c on object id p0\nINFO:py4j.clientserver:Received command c on object id p0\nINFO:py4j.clientserver:Received command c on object id p0\nINFO:py4j.clientserver:Received command c on object id p0\nINFO:py4j.clientserver:Received command c on object id p0\nINFO:py4j.clientserver:Received command c on object id p0\nINFO:py4j.clientserver:Received command c on object id p0\nINFO:py4j.clientserver:Received command c on object id p0\nINFO:py4j.clientserver:Received command c on object id p0\nINFO:py4j.clientserver:Received command c on object id p0\nINFO:py4j.clientserver:Received command c on object id p0\nINFO:py4j.clientserver:Received command c on object id p0\nINFO:py4j.clientserver:Received command c on object id p0\nINFO:py4j.clientserver:Received command c on object id p0\nINFO:py4j.clientserver:Received command c on object id p0\nINFO:py4j.clientserver:Received command c on object id p0\nINFO:py4j.clientserver:Received command c on object id p0\nINFO:py4j.clientserver:Received command c on object id p0\nINFO:py4j.clientserver:Received command c on object id p0\nINFO:py4j.clientserver:Received command c on object id p0\nINFO:py4j.clientserver:Received command c on object id p0\nINFO:py4j.clientserver:Received command c on object id p0\nINFO:py4j.clientserver:Received command c on object id p0\nINFO:py4j.clientserver:Received command c on object id p0\nINFO:py4j.clientserver:Received command c on object id p0\nINFO:py4j.clientserver:Received command c on object id p0\nINFO:py4j.clientserver:Received command c on object id p0\nINFO:py4j.clientserver:Received command c on object id p0\nINFO:py4j.clientserver:Received command c on object id p0\nINFO:py4j.clientserver:Received command c on object id p0\nINFO:py4j.clientserver:Received command c on object id p0\nINFO:py4j.clientserver:Received command c on object id p0\nINFO:py4j.clientserver:Received command c on object id p0\nINFO:py4j.clientserver:Received command c on object id p0\nINFO:py4j.clientserver:Received command c on object id p0\nINFO:py4j.clientserver:Received command c on object id p0\nINFO:py4j.clientserver:Received command c on object id p0\nINFO:py4j.clientserver:Received command c on object id p0\nINFO:py4j.clientserver:Received command c on object id p0\nINFO:py4j.clientserver:Received command c on object id p0\nINFO:py4j.clientserver:Received command c on object id p0\nINFO:py4j.clientserver:Received command c on object id p0\nINFO:py4j.clientserver:Received command c on object id p0\nINFO:py4j.clientserver:Received command c on object id p0\nINFO:py4j.clientserver:Received command c on object id p0\nINFO:py4j.clientserver:Received command c on object id p0\nINFO:py4j.clientserver:Received command c on object id p0\nINFO:py4j.clientserver:Received command c on object id p0\nINFO:py4j.clientserver:Received command c on object id p0\nINFO:py4j.clientserver:Received command c on object id p0\nINFO:py4j.clientserver:Received command c on object id p0\nINFO:py4j.clientserver:Received command c on object id p0\nINFO:py4j.clientserver:Received command c on object id p0\nINFO:py4j.clientserver:Received command c on object id p0\nINFO:py4j.clientserver:Received command c on object id p0\nINFO:py4j.clientserver:Received command c on object id p0\nINFO:py4j.clientserver:Received command c on object id p0\nINFO:py4j.clientserver:Received command c on object id p0\nINFO:py4j.clientserver:Received command c on object id p0\nINFO:py4j.clientserver:Received command c on object id p0\nINFO:py4j.clientserver:Received command c on object id p0\nINFO:py4j.clientserver:Received command c on object id p0\nINFO:py4j.clientserver:Received command c on object id p0\nINFO:py4j.clientserver:Received command c on object id p0\nINFO:py4j.clientserver:Received command c on object id p0\nINFO:py4j.clientserver:Received command c on object id p0\nINFO:py4j.clientserver:Received command c on object id p0\nINFO:py4j.clientserver:Received command c on object id p0\nINFO:py4j.clientserver:Received command c on object id p0\nINFO:py4j.clientserver:Received command c on object id p0\nINFO:py4j.clientserver:Received command c on object id p0\nINFO:py4j.clientserver:Received command c on object id p0\nINFO:py4j.clientserver:Received command c on object id p0\nINFO:py4j.clientserver:Received command c on object id p0\nINFO:py4j.clientserver:Received command c on object id p0\nINFO:py4j.clientserver:Received command c on object id p0\nINFO:py4j.clientserver:Received command c on object id p0\nINFO:py4j.clientserver:Received command c on object id p0\nINFO:py4j.clientserver:Received command c on object id p0\nINFO:py4j.clientserver:Received command c on object id p0\nINFO:py4j.clientserver:Received command c on object id p0\nINFO:py4j.clientserver:Received command c on object id p0\nINFO:py4j.clientserver:Received command c on object id p0\nINFO:py4j.clientserver:Received command c on object id p0\nINFO:py4j.clientserver:Received command c on object id p0\nINFO:py4j.clientserver:Received command c on object id p0\nINFO:py4j.clientserver:Received command c on object id p0\nINFO:py4j.clientserver:Received command c on object id p0\nINFO:py4j.clientserver:Received command c on object id p0\nINFO:py4j.clientserver:Received command c on object id p0\nINFO:py4j.clientserver:Received command c on object id p0\nINFO:py4j.clientserver:Received command c on object id p0\nINFO:py4j.clientserver:Received command c on object id p0\nINFO:py4j.clientserver:Received command c on object id p0\nINFO:py4j.clientserver:Received command c on object id p0\nINFO:py4j.clientserver:Received command c on object id p0\nINFO:py4j.clientserver:Received command c on object id p0\nINFO:py4j.clientserver:Received command c on object id p0\nINFO:py4j.clientserver:Received command c on object id p0\nINFO:py4j.clientserver:Received command c on object id p0\nINFO:py4j.clientserver:Received command c on object id p0\nINFO:py4j.clientserver:Received command c on object id p0\nINFO:py4j.clientserver:Received command c on object id p0\nINFO:py4j.clientserver:Received command c on object id p0\nINFO:py4j.clientserver:Received command c on object id p0\nINFO:py4j.clientserver:Received command c on object id p0\nINFO:py4j.clientserver:Received command c on object id p0\nINFO:py4j.clientserver:Received command c on object id p0\nINFO:py4j.clientserver:Received command c on object id p0\nINFO:py4j.clientserver:Received command c on object id p0\nINFO:py4j.clientserver:Received command c on object id p0\nINFO:py4j.clientserver:Received command c on object id p0\nINFO:py4j.clientserver:Received command c on object id p0\nINFO:py4j.clientserver:Received command c on object id p0\nINFO:py4j.clientserver:Received command c on object id p0\nINFO:py4j.clientserver:Received command c on object id p0\nINFO:py4j.clientserver:Received command c on object id p0\nINFO:py4j.clientserver:Received command c on object id p0\nINFO:py4j.clientserver:Received command c on object id p0\nINFO:py4j.clientserver:Received command c on object id p0\nINFO:py4j.clientserver:Received command c on object id p0\nINFO:py4j.clientserver:Received command c on object id p0\nINFO:py4j.clientserver:Received command c on object id p0\nINFO:py4j.clientserver:Received command c on object id p0\nINFO:py4j.clientserver:Received command c on object id p0\nINFO:py4j.clientserver:Received command c on object id p0\nINFO:py4j.clientserver:Received command c on object id p0\nINFO:py4j.clientserver:Received command c on object id p0\nINFO:py4j.clientserver:Received command c on object id p0\nINFO:py4j.clientserver:Received command c on object id p0\nINFO:py4j.clientserver:Received command c on object id p0\nINFO:py4j.clientserver:Received command c on object id p0\nINFO:py4j.clientserver:Received command c on object id p0\nINFO:py4j.clientserver:Received command c on object id p0\nINFO:py4j.clientserver:Received command c on object id p0\nINFO:py4j.clientserver:Received command c on object id p0\nINFO:py4j.clientserver:Received command c on object id p0\nINFO:py4j.clientserver:Received command c on object id p0\nINFO:py4j.clientserver:Received command c on object id p0\nINFO:py4j.clientserver:Received command c on object id p0\nINFO:py4j.clientserver:Received command c on object id p0\nINFO:py4j.clientserver:Received command c on object id p0\nINFO:py4j.clientserver:Received command c on object id p0\nINFO:py4j.clientserver:Received command c on object id p0\nINFO:py4j.clientserver:Received command c on object id p0\nINFO:py4j.clientserver:Received command c on object id p0\nINFO:py4j.clientserver:Received command c on object id p0\nINFO:py4j.clientserver:Received command c on object id p0\nINFO:py4j.clientserver:Received command c on object id p0\nINFO:py4j.clientserver:Received command c on object id p0\nINFO:py4j.clientserver:Received command c on object id p0\nINFO:py4j.clientserver:Received command c on object id p0\nINFO:py4j.clientserver:Received command c on object id p0\nINFO:py4j.clientserver:Received command c on object id p0\nINFO:py4j.clientserver:Received command c on object id p0\nINFO:py4j.clientserver:Received command c on object id p0\nINFO:py4j.clientserver:Received command c on object id p0\nINFO:py4j.clientserver:Received command c on object id p0\nINFO:py4j.clientserver:Received command c on object id p0\nINFO:py4j.clientserver:Received command c on object id p0\nINFO:py4j.clientserver:Received command c on object id p0\nINFO:py4j.clientserver:Received command c on object id p0\nINFO:py4j.clientserver:Received command c on object id p0\nINFO:py4j.clientserver:Received command c on object id p0\nINFO:py4j.clientserver:Received command c on object id p0\nINFO:py4j.clientserver:Received command c on object id p0\nINFO:py4j.clientserver:Received command c on object id p0\nINFO:py4j.clientserver:Received command c on object id p0\nINFO:py4j.clientserver:Received command c on object id p0\nINFO:py4j.clientserver:Received command c on object id p0\nINFO:py4j.clientserver:Received command c on object id p0\nINFO:py4j.clientserver:Received command c on object id p0\nINFO:py4j.clientserver:Received command c on object id p0\nINFO:py4j.clientserver:Received command c on object id p0\nINFO:py4j.clientserver:Received command c on object id p0\nINFO:py4j.clientserver:Received command c on object id p0\nINFO:py4j.clientserver:Received command c on object id p0\nINFO:py4j.clientserver:Received command c on object id p0\nINFO:py4j.clientserver:Received command c on object id p0\nINFO:py4j.clientserver:Received command c on object id p0\nINFO:py4j.clientserver:Received command c on object id p0\nINFO:py4j.clientserver:Received command c on object id p0\nINFO:py4j.clientserver:Received command c on object id p0\nINFO:py4j.clientserver:Received command c on object id p0\nINFO:py4j.clientserver:Received command c on object id p0\nINFO:py4j.clientserver:Received command c on object id p0\nINFO:py4j.clientserver:Received command c on object id p0\nINFO:py4j.clientserver:Received command c on object id p0\nINFO:py4j.clientserver:Received command c on object id p0\nINFO:py4j.clientserver:Received command c on object id p0\nINFO:py4j.clientserver:Received command c on object id p0\nINFO:py4j.clientserver:Received command c on object id p0\nINFO:py4j.clientserver:Received command c on object id p0\nINFO:py4j.clientserver:Received command c on object id p0\nINFO:py4j.clientserver:Received command c on object id p0\nINFO:py4j.clientserver:Received command c on object id p0\nINFO:py4j.clientserver:Received command c on object id p0\nINFO:py4j.clientserver:Received command c on object id p0\nINFO:py4j.clientserver:Received command c on object id p0\nINFO:py4j.clientserver:Received command c on object id p0\nINFO:py4j.clientserver:Received command c on object id p0\nINFO:py4j.clientserver:Received command c on object id p0\nINFO:py4j.clientserver:Received command c on object id p0\nINFO:py4j.clientserver:Received command c on object id p0\nINFO:py4j.clientserver:Received command c on object id p0\nINFO:py4j.clientserver:Received command c on object id p0\nINFO:py4j.clientserver:Received command c on object id p0\nINFO:py4j.clientserver:Received command c on object id p0\nINFO:py4j.clientserver:Received command c on object id p0\nINFO:py4j.clientserver:Received command c on object id p0\nINFO:py4j.clientserver:Received command c on object id p0\nINFO:py4j.clientserver:Received command c on object id p0\nINFO:py4j.clientserver:Received command c on object id p0\nINFO:py4j.clientserver:Received command c on object id p0\nINFO:py4j.clientserver:Received command c on object id p0\nINFO:py4j.clientserver:Received command c on object id p0\nINFO:py4j.clientserver:Received command c on object id p0\nINFO:py4j.clientserver:Received command c on object id p0\nINFO:py4j.clientserver:Received command c on object id p0\nINFO:py4j.clientserver:Received command c on object id p0\nINFO:py4j.clientserver:Received command c on object id p0\nINFO:py4j.clientserver:Received command c on object id p0\nINFO:py4j.clientserver:Received command c on object id p0\nINFO:py4j.clientserver:Received command c on object id p0\nINFO:py4j.clientserver:Received command c on object id p0\nINFO:py4j.clientserver:Received command c on object id p0\nINFO:py4j.clientserver:Received command c on object id p0\nINFO:py4j.clientserver:Received command c on object id p0\nINFO:py4j.clientserver:Received command c on object id p0\nINFO:py4j.clientserver:Received command c on object id p0\nINFO:py4j.clientserver:Received command c on object id p0\nINFO:py4j.clientserver:Received command c on object id p0\nINFO:py4j.clientserver:Received command c on object id p0\nINFO:py4j.clientserver:Received command c on object id p0\nINFO:py4j.clientserver:Received command c on object id p0\nINFO:py4j.clientserver:Received command c on object id p0\nINFO:py4j.clientserver:Received command c on object id p0\nINFO:py4j.clientserver:Received command c on object id p0\nINFO:py4j.clientserver:Received command c on object id p0\nINFO:py4j.clientserver:Received command c on object id p0\nINFO:py4j.clientserver:Received command c on object id p0\nINFO:py4j.clientserver:Received command c on object id p0\nINFO:py4j.clientserver:Received command c on object id p0\nINFO:py4j.clientserver:Received command c on object id p0\nINFO:py4j.clientserver:Received command c on object id p0\nINFO:py4j.clientserver:Received command c on object id p0\nINFO:py4j.clientserver:Received command c on object id p0\nINFO:py4j.clientserver:Received command c on object id p0\nINFO:py4j.clientserver:Received command c on object id p0\nINFO:py4j.clientserver:Received command c on object id p0\nINFO:py4j.clientserver:Received command c on object id p0\nINFO:py4j.clientserver:Received command c on object id p0\nINFO:py4j.clientserver:Received command c on object id p0\nINFO:py4j.clientserver:Received command c on object id p0\n"
     ]
    }
   ],
   "source": [
    "# Data Processing Summary\n",
    "print(\"=\" * 60)\n",
    "print(\"DATA PROCESSING COMPLETED SUCCESSFULLY\")\n",
    "print(\"=\" * 60)\n",
    "\n",
    "print(f\"Customer Dimension: {dim_customer.count()} records\")\n",
    "print(f\"Product Dimension: {dim_product.count()} records\") \n",
    "print(f\"Fact Transactions: {fact_transactions.count()} records\")\n",
    "print(f\"Customer Segments: {customer_segments.count()} customers\")\n",
    "\n",
    "print(\"\\n\uD83D\uDD27 Business Rules Applied:\")\n",
    "print(f\"• High-value customer threshold: ${BUSINESS_RULES['high_value_customer_threshold']:,}\")\n",
    "print(f\"• Refund restocking fee: {BUSINESS_RULES['refund_restocking_fee_rate']*100}%\")\n",
    "print(f\"• Large order threshold: ${BUSINESS_RULES['large_order_threshold']:,}\")\n",
    "\n",
    "print(\"\\nCustomer Segments:\")\n",
    "customer_segments.groupBy(\"customer_segment\").count().show()\n",
    "\n",
    "print(\"\\nTransaction Types:\")\n",
    "fact_transactions.groupBy(\"transaction_type\").count().show()\n",
    "\n",
    "print(\"\\nSales by Territory:\")\n",
    "fact_transactions.filter(col(\"transaction_type\") == \"SALE\") \\\n",
    "    .groupBy(\"territory\") \\\n",
    "    .agg(sum(\"net_amount\").alias(\"total_revenue\")) \\\n",
    "    .orderBy(desc(\"total_revenue\")) \\\n",
    "    .show()\n",
    "\n",
    "print(\"Data available in Delta Lake and Redshift\")\n",
    "print(f\"Delta Lake location: {PROCESSED_DATA_PATH}\")\n",
    "\n"
   ]
  },
  {
   "cell_type": "code",
   "execution_count": 0,
   "metadata": {
    "application/vnd.databricks.v1+cell": {
     "cellMetadata": {
      "byteLimit": 2048000,
      "rowLimit": 10000
     },
     "inputWidgets": {},
     "nuid": "12170880-c2a0-4b09-a067-e1246b6354b4",
     "showTitle": false,
     "tableResultSettingsMap": {},
     "title": ""
    }
   },
   "outputs": [],
   "source": [
    "# Load processed data from Delta Lake\n",
    "try:\n",
    "    fact_transactions = spark.read.format(\"delta\").load(f\"{PROCESSED_DATA_PATH}fact_transactions\")\n",
    "    dim_customer = spark.read.format(\"delta\").load(f\"{PROCESSED_DATA_PATH}dim_customer\")\n",
    "    dim_product = spark.read.format(\"delta\").load(f\"{PROCESSED_DATA_PATH}dim_product\")\n",
    "    calendar_df = spark.read.format(\"delta\").load(f\"{RAW_DATA_PATH}calendar\")\n",
    "    \n",
    "    logger.info(f\"Loaded data: {fact_transactions.count()} transactions, {dim_customer.count()} customers\")\n",
    "    \n",
    "except Exception as e:\n",
    "    logger.error(f\"❌ Error loading data: {str(e)}\")\n",
    "    raise\n"
   ]
  }
 ],
 "metadata": {
  "application/vnd.databricks.v1+notebook": {
   "computePreferences": null,
   "dashboards": [],
   "environmentMetadata": {
    "base_environment": "",
    "environment_version": "2"
   },
   "inputWidgetPreferences": null,
   "language": "python",
   "notebookMetadata": {
    "mostRecentlyExecutedCommandWithImplicitDF": {
     "commandId": 4602431009519120,
     "dataframes": [
      "_sqldf"
     ]
    },
    "pythonIndentUnit": 4
   },
   "notebookName": "03_data_processing",
   "widgets": {}
  },
  "language_info": {
   "name": "python"
  }
 },
 "nbformat": 4,
 "nbformat_minor": 0
}